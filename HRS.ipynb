{
 "cells": [
  {
   "cell_type": "markdown",
   "id": "2cc06681-73a0-4f6d-b7a4-0ee71e3eaa84",
   "metadata": {},
   "source": [
    "# Astrobrowser - Herschel Reference Survey\n",
    "\n",
    "Explore the HiPS maps available for the galaxies in the HRS and compute aperture photometry."
   ]
  },
  {
   "cell_type": "markdown",
   "id": "41ed600e-fa52-4ba8-8cf1-ca38e9edf1e8",
   "metadata": {},
   "source": [
    "# 1. Initialisation"
   ]
  },
  {
   "cell_type": "code",
   "execution_count": 1,
   "id": "61292891-5bd2-4ff5-96a7-0b8607b89eb3",
   "metadata": {},
   "outputs": [],
   "source": [
    "%matplotlib ipympl\n",
    "import os\n",
    "import numpy as np\n",
    "from matplotlib import pyplot as plt\n",
    "from matplotlib.backends.backend_pdf import PdfPages\n",
    "from astropy.coordinates import SkyCoord\n",
    "from astropy.wcs import WCS\n",
    "from astropy.table import Table\n",
    "from astropy import units as u\n",
    "from scripts import astrobrowser\n",
    "from photutils.aperture import SkyEllipticalAperture\n",
    "import importlib"
   ]
  },
  {
   "cell_type": "markdown",
   "id": "a496e0d3-55b5-467d-bc3b-992fbd0af11e",
   "metadata": {},
   "source": [
    "## Read input catalogue"
   ]
  },
  {
   "cell_type": "code",
   "execution_count": 2,
   "id": "00b6a76f-f702-4163-b15e-3ff74c352a8e",
   "metadata": {},
   "outputs": [],
   "source": [
    "HRS_catalogue = Table.read('HRS/cortese_2014_table2.vot')"
   ]
  },
  {
   "cell_type": "code",
   "execution_count": 3,
   "id": "93999831-c2ea-4457-8830-47f8c25fd0bf",
   "metadata": {},
   "outputs": [
    {
     "data": {
      "text/html": [
       "<div><i>Table length=323</i>\n",
       "<table id=\"table139718446251840\" class=\"table-striped table-bordered table-condensed\">\n",
       "<thead><tr><th>HRS</th><th>CGCG</th><th>VCC</th><th>UGC</th><th>NGC</th><th>IC</th><th>R.A.__J.2000_</th><th>Dec__J.2000_</th><th>Type</th><th>FLAG_100</th><th>F_100</th><th>sigma_100</th><th>FLAG_160</th><th>F_160</th><th>sigma_160</th><th>a</th><th>b</th><th>P.A.</th><th>Proposal_ID</th></tr></thead>\n",
       "<thead><tr><th></th><th></th><th></th><th></th><th></th><th></th><th>hms</th><th>dms</th><th></th><th></th><th>Jy</th><th>Jy</th><th></th><th>Jy</th><th>Jy</th><th>arcsec</th><th>arcsec</th><th>deg</th><th></th></tr></thead>\n",
       "<thead><tr><th>int16</th><th>str7</th><th>int16</th><th>int16</th><th>int16</th><th>int16</th><th>str11</th><th>str11</th><th>int16</th><th>int16</th><th>float32</th><th>float32</th><th>int16</th><th>float32</th><th>float32</th><th>float32</th><th>float32</th><th>float32</th><th>str29</th></tr></thead>\n",
       "<tr><td>1</td><td>123-035</td><td>0</td><td>0</td><td>0</td><td>0</td><td>10:17:39.66</td><td>+22:48:35.9</td><td>13</td><td>1</td><td>0.748</td><td>0.169</td><td>1</td><td>0.932</td><td>0.079</td><td>48.0</td><td>40.0</td><td>-10.0</td><td>OT1_lcortese_1</td></tr>\n",
       "<tr><td>2</td><td>124-004</td><td>0</td><td>5588</td><td>0</td><td>0</td><td>10:20:57.13</td><td>+25:21:53.4</td><td>5</td><td>1</td><td>2.439</td><td>0.227</td><td>1</td><td>2.808</td><td>0.179</td><td>47.0</td><td>45.0</td><td>40.0</td><td>OT1_lcortese_1</td></tr>\n",
       "<tr><td>3</td><td>94-026</td><td>0</td><td>5617</td><td>3226</td><td>0</td><td>10:23:27.01</td><td>+19:53:54.7</td><td>0</td><td>0</td><td>0.0</td><td>0.0</td><td>2</td><td>0.846</td><td>0.087</td><td>39.0</td><td>39.0</td><td>15.0</td><td>GT1_lspinogl_2</td></tr>\n",
       "<tr><td>4</td><td>94-028</td><td>0</td><td>5620</td><td>3227</td><td>0</td><td>10:23:30.58</td><td>+19:51:54.2</td><td>3</td><td>2</td><td>17.589</td><td>1.104</td><td>2</td><td>22.675</td><td>1.165</td><td>100.0</td><td>84.0</td><td>-25.0</td><td>GT1_lspinogl_2/OT2_aalonsoh_2</td></tr>\n",
       "<tr><td>5</td><td>94-052</td><td>0</td><td>0</td><td>0</td><td>610</td><td>10:26:28.37</td><td>+20:13:41.5</td><td>7</td><td>1</td><td>4.502</td><td>0.331</td><td>1</td><td>5.563</td><td>0.528</td><td>81.0</td><td>48.0</td><td>28.0</td><td>OT1_lcortese_1</td></tr>\n",
       "<tr><td>6</td><td>154-016</td><td>0</td><td>5662</td><td>0</td><td>0</td><td>10:27:01.16</td><td>+28:38:21.9</td><td>5</td><td>1</td><td>0.275</td><td>0.14</td><td>1</td><td>0.483</td><td>0.085</td><td>62.0</td><td>22.0</td><td>-30.0</td><td>OT1_lcortese_1</td></tr>\n",
       "<tr><td>...</td><td>...</td><td>...</td><td>...</td><td>...</td><td>...</td><td>...</td><td>...</td><td>...</td><td>...</td><td>...</td><td>...</td><td>...</td><td>...</td><td>...</td><td>...</td><td>...</td><td>...</td><td>...</td></tr>\n",
       "<tr><td>318</td><td>47-070</td><td>0</td><td>9328</td><td>5645</td><td>0</td><td>14:30:39.35</td><td>+07:16:30.3</td><td>9</td><td>1</td><td>4.998</td><td>0.406</td><td>1</td><td>6.331</td><td>0.483</td><td>101.0</td><td>63.0</td><td>-75.0</td><td>OT1_lcortese_1</td></tr>\n",
       "<tr><td>319</td><td>75-064</td><td>0</td><td>9353</td><td>5669</td><td>0</td><td>14:32:43.88</td><td>+09:53:30.5</td><td>8</td><td>1</td><td>6.923</td><td>0.996</td><td>1</td><td>8.145</td><td>1.192</td><td>167.0</td><td>118.0</td><td>61.0</td><td>OT1_lcortese_1</td></tr>\n",
       "<tr><td>320</td><td>47-090</td><td>0</td><td>9363</td><td>5668</td><td>0</td><td>14:33:24.34</td><td>+04:27:01.6</td><td>9</td><td>1</td><td>7.735</td><td>2.205</td><td>1</td><td>10.256</td><td>1.478</td><td>152.0</td><td>145.0</td><td>17.0</td><td>OT1_lcortese_1</td></tr>\n",
       "<tr><td>321</td><td>47-123</td><td>0</td><td>9427</td><td>5692</td><td>0</td><td>14:38:18.12</td><td>+03:24:37.2</td><td>5</td><td>1</td><td>2.942</td><td>0.17</td><td>1</td><td>3.164</td><td>0.179</td><td>50.0</td><td>33.0</td><td>40.0</td><td>OT1_lcortese_1</td></tr>\n",
       "<tr><td>322</td><td>47-127</td><td>0</td><td>9436</td><td>5701</td><td>0</td><td>14:39:11.06</td><td>+05:21:48.8</td><td>3</td><td>1</td><td>1.453</td><td>1.035</td><td>1</td><td>1.859</td><td>1.201</td><td>124.0</td><td>120.0</td><td>-90.0</td><td>OT1_lcortese_1</td></tr>\n",
       "<tr><td>323</td><td>48-004</td><td>0</td><td>9483</td><td>0</td><td>1048</td><td>14:42:57.88</td><td>+04:53:24.5</td><td>5</td><td>1</td><td>5.689</td><td>0.391</td><td>1</td><td>7.547</td><td>0.575</td><td>101.0</td><td>47.0</td><td>-17.0</td><td>OT1_lcortese_1</td></tr>\n",
       "</table></div>"
      ],
      "text/plain": [
       "<Table length=323>\n",
       " HRS    CGCG   VCC   UGC   NGC    IC  ...  F_160  sigma_160    a       b      P.A.           Proposal_ID         \n",
       "                                      ...    Jy       Jy     arcsec  arcsec   deg                                \n",
       "int16   str7  int16 int16 int16 int16 ... float32  float32  float32 float32 float32             str29            \n",
       "----- ------- ----- ----- ----- ----- ... ------- --------- ------- ------- ------- -----------------------------\n",
       "    1 123-035     0     0     0     0 ...   0.932     0.079    48.0    40.0   -10.0                OT1_lcortese_1\n",
       "    2 124-004     0  5588     0     0 ...   2.808     0.179    47.0    45.0    40.0                OT1_lcortese_1\n",
       "    3  94-026     0  5617  3226     0 ...   0.846     0.087    39.0    39.0    15.0                GT1_lspinogl_2\n",
       "    4  94-028     0  5620  3227     0 ...  22.675     1.165   100.0    84.0   -25.0 GT1_lspinogl_2/OT2_aalonsoh_2\n",
       "    5  94-052     0     0     0   610 ...   5.563     0.528    81.0    48.0    28.0                OT1_lcortese_1\n",
       "    6 154-016     0  5662     0     0 ...   0.483     0.085    62.0    22.0   -30.0                OT1_lcortese_1\n",
       "  ...     ...   ...   ...   ...   ... ...     ...       ...     ...     ...     ...                           ...\n",
       "  318  47-070     0  9328  5645     0 ...   6.331     0.483   101.0    63.0   -75.0                OT1_lcortese_1\n",
       "  319  75-064     0  9353  5669     0 ...   8.145     1.192   167.0   118.0    61.0                OT1_lcortese_1\n",
       "  320  47-090     0  9363  5668     0 ...  10.256     1.478   152.0   145.0    17.0                OT1_lcortese_1\n",
       "  321  47-123     0  9427  5692     0 ...   3.164     0.179    50.0    33.0    40.0                OT1_lcortese_1\n",
       "  322  47-127     0  9436  5701     0 ...   1.859     1.201   124.0   120.0   -90.0                OT1_lcortese_1\n",
       "  323  48-004     0  9483     0  1048 ...   7.547     0.575   101.0    47.0   -17.0                OT1_lcortese_1"
      ]
     },
     "execution_count": 3,
     "metadata": {},
     "output_type": "execute_result"
    }
   ],
   "source": [
    "HRS_catalogue"
   ]
  },
  {
   "cell_type": "markdown",
   "id": "a9807077-5eca-4728-a40f-ab90a1e0134a",
   "metadata": {},
   "source": [
    "# 2. Aperture photometry"
   ]
  },
  {
   "cell_type": "markdown",
   "id": "61e939e9-89d2-4738-ba66-ebae74045d5e",
   "metadata": {},
   "source": [
    "Consider only the first $n$ galaxies (for debugging)"
   ]
  },
  {
   "cell_type": "code",
   "execution_count": 4,
   "id": "74a50386-3020-4aa5-aaae-720a42897a37",
   "metadata": {},
   "outputs": [
    {
     "name": "stdout",
     "output_type": "stream",
     "text": [
      "Considering the first 10 galaxies\n"
     ]
    }
   ],
   "source": [
    "n = len(HRS_catalogue)\n",
    "n = 10\n",
    "print(f'Considering the first {n} galaxies')"
   ]
  },
  {
   "cell_type": "code",
   "execution_count": 5,
   "id": "7addde79-1d55-47fc-97c6-d4d4a1409113",
   "metadata": {
    "tags": []
   },
   "outputs": [
    {
     "name": "stdout",
     "output_type": "stream",
     "text": [
      "> Downloading HRS-1:\n",
      "http://localhost:4000/api/cutout?radiusasec=96.0&pxsizeasec=2.0&radeg=154.41525&decdeg=22.80997222222222&hipsbaseuri=http://skies.esac.esa.int/Herschel/PACS160\n",
      "0.020132677743670793 0.002300069042970157\n",
      "0.02013225034504303 0.0015962231741387465\n",
      "area = 1507.96, mean(0.0215) - bg (0.0201) = 0.00133 +- 0.0016\n",
      "flux = 0.912 +- 1.09 (32.4)\n",
      "catalogue 0.932 0.079 0.9781636032920453\n"
     ]
    },
    {
     "name": "stderr",
     "output_type": "stream",
     "text": [
      "WARNING: File may have been truncated: actual file length (76608) is smaller than the expected size (77760) [astropy.io.fits.file]\n"
     ]
    },
    {
     "name": "stdout",
     "output_type": "stream",
     "text": [
      "> Downloading HRS-2:\n",
      "http://localhost:4000/api/cutout?radiusasec=94.0&pxsizeasec=2.0&radeg=155.23804166666665&decdeg=25.364833333333333&hipsbaseuri=http://skies.esac.esa.int/Herschel/PACS160\n",
      "0.018665887365723062 0.002065903189266343\n",
      "0.018614324339165652 0.001461277969501305\n",
      "area = 1661.12, mean(0.0227) - bg (0.0186) = 0.00406 +- 0.00146\n",
      "flux = 3 +- 1.08 (37.7)\n",
      "catalogue 2.808 0.179 1.0687790362191212\n",
      "> Downloading HRS-3:\n",
      "http://localhost:4000/api/cutout?radiusasec=78.0&pxsizeasec=2.0&radeg=155.86254166666663&decdeg=19.898527777777776&hipsbaseuri=http://skies.esac.esa.int/Herschel/PACS160\n",
      "0.022365454384800077 0.00272625009748945\n",
      "0.022136228926025542 0.0017889961838879545\n",
      "area = 1194.59, mean(0.0222) - bg (0.0221) = 8.08e-05 +- 0.00179\n",
      "flux = 0.0447 +- 0.99 (26.5)\n",
      "catalogue 0.846 0.087 0.05283312883877898\n"
     ]
    },
    {
     "name": "stderr",
     "output_type": "stream",
     "text": [
      "WARNING: File may have been truncated: actual file length (73568) is smaller than the expected size (74880) [astropy.io.fits.file]\n",
      "WARNING: File may have been truncated: actual file length (51552) is smaller than the expected size (51840) [astropy.io.fits.file]\n"
     ]
    },
    {
     "name": "stdout",
     "output_type": "stream",
     "text": [
      "> Downloading HRS-4:\n",
      "http://localhost:4000/api/cutout?radiusasec=200.0&pxsizeasec=2.0&radeg=155.87741666666665&decdeg=19.865055555555557&hipsbaseuri=http://skies.esac.esa.int/Herschel/PACS160\n",
      "0.02181892458139672 0.002572536999031441\n",
      "0.021614508338388502 0.001772304936870584\n",
      "area = 6597.34, mean(0.0284) - bg (0.0216) = 0.00681 +- 0.00177\n",
      "flux = 20.8 +- 5.42 (188)\n",
      "catalogue 22.675 1.165 0.9178142514587978\n",
      "> Downloading HRS-5:\n",
      "http://localhost:4000/api/cutout?radiusasec=162.0&pxsizeasec=2.0&radeg=156.6182083333333&decdeg=20.228194444444444&hipsbaseuri=http://skies.esac.esa.int/Herschel/PACS160\n",
      "0.019301775503616468 0.003341268284676204\n",
      "0.019245709566438375 0.00229900979487013\n",
      "area = 3053.63, mean(0.0233) - bg (0.0192) = 0.00401 +- 0.0023\n",
      "flux = 5.66 +- 3.24 (71)\n",
      "catalogue 5.563 0.528 1.0180567567425878\n"
     ]
    },
    {
     "name": "stderr",
     "output_type": "stream",
     "text": [
      "WARNING: File may have been truncated: actual file length (322880) is smaller than the expected size (325440) [astropy.io.fits.file]\n",
      "WARNING: File may have been truncated: actual file length (212832) is smaller than the expected size (213120) [astropy.io.fits.file]\n"
     ]
    },
    {
     "name": "stdout",
     "output_type": "stream",
     "text": [
      "> Downloading HRS-6:\n",
      "http://localhost:4000/api/cutout?radiusasec=124.0&pxsizeasec=2.0&radeg=156.7548333333333&decdeg=28.639416666666666&hipsbaseuri=http://skies.esac.esa.int/Herschel/PACS160\n",
      "0.022292428435353808 0.000981101258884877\n",
      "0.022274669651237616 0.0006863795932521443\n",
      "area = 1071.28, mean(0.0235) - bg (0.0223) = 0.00119 +- 0.000686\n",
      "flux = 0.552 +- 0.318 (25.1)\n",
      "catalogue 0.483 0.085 1.1430657786882608\n",
      "> Downloading HRS-7:\n",
      "http://localhost:4000/api/cutout?radiusasec=96.0&pxsizeasec=2.0&radeg=156.82662499999998&decdeg=28.50738888888889&hipsbaseuri=http://skies.esac.esa.int/Herschel/PACS160\n",
      "0.02286965242582422 0.0027857320323266856\n",
      "0.022841541158256044 0.002076394073869165\n",
      "area = 1130.97, mean(0.0295) - bg (0.0228) = 0.00667 +- 0.00208\n",
      "flux = 3.27 +- 1.02 (33.4)\n",
      "catalogue 2.843 0.151 1.149113820025933\n"
     ]
    },
    {
     "name": "stderr",
     "output_type": "stream",
     "text": [
      "WARNING: File may have been truncated: actual file length (125888) is smaller than the expected size (126720) [astropy.io.fits.file]\n",
      "WARNING: File may have been truncated: actual file length (76608) is smaller than the expected size (77760) [astropy.io.fits.file]\n"
     ]
    },
    {
     "name": "stdout",
     "output_type": "stream",
     "text": [
      "> Downloading HRS-8:\n",
      "http://localhost:4000/api/cutout?radiusasec=420.0&pxsizeasec=2.0&radeg=157.33299999999997&decdeg=29.491444444444447&hipsbaseuri=http://skies.esac.esa.int/Herschel/PACS160\n",
      "0.02289583691920761 0.0016108505959904033\n",
      "0.022891152698972322 0.0010405264114447844\n",
      "area = 10885.62, mean(0.0242) - bg (0.0229) = 0.00131 +- 0.00104\n",
      "flux = 6.12 +- 4.86 (263)\n",
      "catalogue 4.641 1.041 1.317665013468188\n",
      "> Downloading HRS-9:\n",
      "http://localhost:4000/api/cutout?radiusasec=164.0&pxsizeasec=2.0&radeg=158.23104166666664&decdeg=28.51172222222222&hipsbaseuri=http://skies.esac.esa.int/Herschel/PACS160\n",
      "0.022111642654761825 0.0027535572716487246\n",
      "0.022094640307461035 0.0019090094451077464\n",
      "area = 4701.39, mean(0.0231) - bg (0.0221) = 0.000983 +- 0.00191\n",
      "flux = 2 +- 3.88 (108)\n",
      "catalogue 3.037 0.523 0.6586810305236698\n",
      "> Downloading HRS-10:\n",
      "http://localhost:4000/api/cutout?radiusasec=112.0&pxsizeasec=2.0&radeg=158.62424999999996&decdeg=35.25677777777778&hipsbaseuri=http://skies.esac.esa.int/Herschel/PACS160\n",
      "0.018621477649816656 0.0023989384185032735\n",
      "0.01857697746705372 0.0016457654017622582\n",
      "area = 1891.24, mean(0.0198) - bg (0.0186) = 0.00124 +- 0.00165\n",
      "flux = 0.943 +- 1.25 (37.5)\n",
      "catalogue 0.788 0.094 1.1969844895915123\n"
     ]
    },
    {
     "name": "stderr",
     "output_type": "stream",
     "text": [
      "WARNING: File may have been truncated: actual file length (218048) is smaller than the expected size (218880) [astropy.io.fits.file]\n",
      "WARNING: File may have been truncated: actual file length (103232) is smaller than the expected size (103680) [astropy.io.fits.file]\n"
     ]
    }
   ],
   "source": [
    "def find_bg(data):\n",
    "    p16, p50 = np.nanpercentile(data, [16, 50])\n",
    "    mu0 = p50\n",
    "    sigma0 = p50 - p16\n",
    "    weight = np.exp(-.5 * ((data - mu0) / sigma0)**2)\n",
    "    total_weight = np.nansum(weight)\n",
    "    mu1 = np.nansum(weight * data) / total_weight\n",
    "    sigma1 = np.nansum(weight * data**2) / total_weight\n",
    "    sigma1 = np.sqrt(sigma1 - mu1**2)\n",
    "    print(mu0, sigma0)\n",
    "    print(mu1, sigma1)\n",
    "    #ivar = 1/sigma1**2 - 1/sigma0**2\n",
    "    #mu = (mu1/sigma1**2 - mu0/sigma0**2) / ivar\n",
    "    #print(mu, np.sqrt(1/ivar))\n",
    "    #return mu, np.sqrt(1/ivar)\n",
    "    return mu1, sigma1\n",
    "    \n",
    "\n",
    "importlib.reload(astrobrowser)\n",
    "band = 'PACS160'\n",
    "hips_service_url = 'http://skies.esac.esa.int/Herschel/PACS160'\n",
    "beam = (2.85 * u.arcsec)**2\n",
    "skymap_units = u.Jy / beam\n",
    "\n",
    "pixel_arcsec = 2.\n",
    "pixel_area = (pixel_arcsec * u.arcsec)**2  # cos(DEC) due to Mercator projection added below\n",
    "unit_conversion = (skymap_units * pixel_area).to_value(u.Jy)\n",
    "\n",
    "with PdfPages(os.path.join('HRS', f'{band}_maps.pdf')) as pdf:\n",
    "    flux_Jy = []\n",
    "    flux_err_Jy = []\n",
    "    for galaxy in HRS_catalogue[:n]:\n",
    "    \n",
    "        position = SkyCoord(galaxy['R.A.__J.2000_'], galaxy['Dec__J.2000_'],  unit=(u.hourangle, u.deg))\n",
    "        radius_arcsec = 2 * galaxy['a']\n",
    "        print(f\"> Downloading HRS-{galaxy['HRS']}:\")\n",
    "        header, data = astrobrowser.get_cutout(hips_service_url, position.ra.deg, position.dec.deg, radius_arcsec, pixel_arcsec)\n",
    "        if header is None:\n",
    "            flux_Jy.append(np.nan)\n",
    "            flux_err_Jy.append(np.nan)\n",
    "            continue\n",
    "        wcs = WCS(header)\n",
    "\n",
    "        aperture = SkyEllipticalAperture(position, a=galaxy['a']*u.arcsec, b=galaxy['b']*u.arcsec, theta=-galaxy['P.A.']*u.deg)  # Why do I have to invert PA?\n",
    "        pixel_aperture = aperture.to_pixel(wcs)\n",
    "        pixel_aperture.positions = [np.array(data.shape) / 2]  # dirty fix\n",
    "\n",
    "        flux = pixel_aperture.do_photometry(data)[0][0]\n",
    "        mean = flux / pixel_aperture.area\n",
    "        bg, bg_err = find_bg(data)\n",
    "\n",
    "        corrected_flux = flux - bg*pixel_aperture.area\n",
    "        corrected_flux *= unit_conversion * np.cos(position.dec)\n",
    "        flux_err = bg_err * pixel_aperture.area * unit_conversion * np.cos(position.dec)\n",
    "        print(f'area = {pixel_aperture.area:.2f}, mean({mean:.3g}) - bg ({bg:.3g}) = {mean-bg:.3g} +- {bg_err:.3g}')\n",
    "        print(f'flux = {corrected_flux:.3g} +- {flux_err:.3g} ({flux:.3g})')\n",
    "        print('catalogue', galaxy['F_160'], galaxy['sigma_160'], corrected_flux/galaxy['F_160'])\n",
    "        flux_Jy.append(corrected_flux)\n",
    "        flux_err_Jy.append(flux_err)\n",
    "        \n",
    "        plt.figure()\n",
    "        plt.title(f\"HRS-{galaxy['HRS']} {band}: ${corrected_flux:.3g} \\pm {flux_err:.3g}\\ ({galaxy['F_160']:.3g} \\pm {galaxy['sigma_160']:.3g})$ Jy\")\n",
    "        im = plt.imshow(data, interpolation='nearest', origin='lower', vmin=bg-bg_err, vmax=mean+bg_err, cmap='terrain')\n",
    "        plt.contour(data, levels=[mean], colors=['k'])\n",
    "        pixel_aperture.plot(color='w')\n",
    "        cb = plt.colorbar(im)\n",
    "        cb.ax.axhline(mean, c='w')\n",
    "        cb.ax.axhline(mean, c='k')\n",
    "        cb.ax.axhline(bg + bg_err, c='w', ls=':')\n",
    "        cb.ax.axhline(bg, c='w', ls='--')\n",
    "        cb.ax.axhline(bg - bg_err, c='w', ls=':')\n",
    "        pdf.savefig()\n",
    "        plt.close()"
   ]
  },
  {
   "cell_type": "code",
   "execution_count": 6,
   "id": "0773ad5c-fd1a-4e15-b047-db430557122e",
   "metadata": {},
   "outputs": [],
   "source": [
    "n = len(flux_Jy)\n",
    "with PdfPages(os.path.join('HRS', f'{band}_summary.pdf')) as pdf:\n",
    "    plt.figure()\n",
    "    plt.errorbar(HRS_catalogue['F_160'][:n], flux_Jy, flux_err_Jy, HRS_catalogue['sigma_160'][:n], fmt='none', alpha=.2)\n",
    "    plt.grid(alpha=.2)\n",
    "    x = [np.min(HRS_catalogue['F_160']), np.max(HRS_catalogue['F_160'])]\n",
    "    plt.plot(x, x, 'k:')\n",
    "    plt.xscale('log')\n",
    "    plt.yscale('log')\n",
    "    plt.ylim(x)\n",
    "    plt.title(band)\n",
    "    plt.ylabel('flux measured from HiPS map [Jy]')\n",
    "    plt.xlabel('HRS flux [Jy]')\n",
    "    pdf.savefig()\n",
    "    plt.close()\n",
    "\n",
    "    plt.figure()\n",
    "    x = np.array(flux_Jy / HRS_catalogue['F_160'][:n])\n",
    "    p16, p50, p84 = np.nanpercentile(x.data, [16, 50, 84])\n",
    "    plt.hist(x, bins=np.logspace(-1, 1, 50), density=False, alpha=.5)\n",
    "    plt.axvline(p50, c='k', ls='--', label=f'[{p16:.3g}, {p50:.3g}, {p84:.3g}]')\n",
    "    plt.axvline(p16, c='k', ls=':')\n",
    "    plt.axvline(p84, c='k', ls=':')\n",
    "    plt.xscale('log')\n",
    "    plt.grid(alpha=.2)\n",
    "    plt.title(band)\n",
    "    plt.xlabel('HiPS / HRS')\n",
    "    plt.ylabel('number of galaxies')\n",
    "    #plt.ylabel('probability')\n",
    "    plt.legend()\n",
    "    pdf.savefig()\n",
    "    plt.close()\n",
    "    \n",
    "    plt.figure()\n",
    "    x = np.array((flux_Jy - HRS_catalogue['F_160'][:n]) / flux_err_Jy)\n",
    "    mu = np.nanmean(x)\n",
    "    sigma = np.nanstd(x)\n",
    "    p16, p50, p84 = np.nanpercentile(x.data, [16, 50, 84])\n",
    "    plt.axvline(p16, c='b', ls=':')\n",
    "    plt.axvline(p50, c='b', ls='--')\n",
    "    plt.axvline(p84, c='b', ls=':')\n",
    "    plt.hist(x, bins=np.linspace(-5, 5, 50), density=False, label=f'HiPS error: [{p16:.3g}, {p50:.3g}, {p84:.3g}]', alpha=.5)\n",
    "    x = np.array((flux_Jy - HRS_catalogue['F_160'][:n]) / HRS_catalogue['sigma_160'][:n])\n",
    "    mu = np.nanmean(x)\n",
    "    sigma = np.nanstd(x)\n",
    "    p16, p50, p84 = np.nanpercentile(x.data, [16, 50, 84])\n",
    "    plt.axvline(p16, c='r', ls=':')\n",
    "    plt.axvline(p50, c='r', ls='--')\n",
    "    plt.axvline(p84, c='r', ls=':')\n",
    "    plt.hist(x, bins=np.linspace(-5, 5, 50), density=False, label=f'HRS error: [{p16:.3g}, {p50:.3g}, {p84:.3g}]', alpha=.5)\n",
    "    plt.grid(alpha=.2)\n",
    "    plt.title(band)\n",
    "    plt.xlabel('(HiPS - HRS) / error')\n",
    "    plt.ylabel('number of galaxies')\n",
    "    plt.legend()\n",
    "    pdf.savefig()\n",
    "    plt.close()"
   ]
  },
  {
   "cell_type": "markdown",
   "id": "81267a49-26c0-4757-a5ed-603d07a7adf1",
   "metadata": {},
   "source": [
    "# -- OLD STUFF --"
   ]
  },
  {
   "cell_type": "code",
   "execution_count": 7,
   "id": "729450ea-4b47-4b55-b97f-6d9d99cc0161",
   "metadata": {},
   "outputs": [
    {
     "ename": "TypeError",
     "evalue": "exceptions must derive from BaseException",
     "output_type": "error",
     "traceback": [
      "\u001b[0;31m---------------------------------------------------------------------------\u001b[0m",
      "\u001b[0;31mTypeError\u001b[0m                                 Traceback (most recent call last)",
      "\u001b[0;32m/tmp/ipykernel_110321/2000373827.py\u001b[0m in \u001b[0;36m<module>\u001b[0;34m\u001b[0m\n\u001b[0;32m----> 1\u001b[0;31m \u001b[0;32mraise\u001b[0m \u001b[0;34m-\u001b[0m\u001b[0;36m1\u001b[0m  \u001b[0;31m# STOP HERE\u001b[0m\u001b[0;34m\u001b[0m\u001b[0;34m\u001b[0m\u001b[0m\n\u001b[0m",
      "\u001b[0;31mTypeError\u001b[0m: exceptions must derive from BaseException"
     ]
    }
   ],
   "source": [
    "raise -1  # STOP HERE"
   ]
  },
  {
   "cell_type": "code",
   "execution_count": null,
   "id": "ab9a04f5-2215-4587-812d-bd5cf84fd5ee",
   "metadata": {},
   "outputs": [],
   "source": [
    "names = [f'HRS-{ID:03d}' for ID in HRS_catalogue['HRS']]"
   ]
  },
  {
   "cell_type": "code",
   "execution_count": null,
   "id": "5ee5d528-00a3-4289-bd15-1368fa168410",
   "metadata": {},
   "outputs": [],
   "source": [
    "positions = SkyCoord(HRS_catalogue['R.A.__J.2000_'], HRS_catalogue['Dec__J.2000_'],  unit=(u.hourangle, u.deg))"
   ]
  },
  {
   "cell_type": "code",
   "execution_count": null,
   "id": "9de6cba1-66cd-4d39-adb6-1ff66dd365b9",
   "metadata": {},
   "outputs": [],
   "source": [
    "catalogue = Table([names,\n",
    "                   positions.ra.deg,\n",
    "                   positions.dec.deg,\n",
    "                   2 * HRS_catalogue['a'],\n",
    "                   2.85 * np.ones(len(HRS_catalogue))\n",
    "                  ], names=['ID', 'RA', 'DEC', 'RADIUS_ARCSEC', 'PIXEL_SIZE_ARCSEC'])"
   ]
  },
  {
   "cell_type": "code",
   "execution_count": null,
   "id": "6048648f-4b79-40a2-89e9-d4677caf4df1",
   "metadata": {},
   "outputs": [],
   "source": [
    "catalogue"
   ]
  },
  {
   "cell_type": "markdown",
   "id": "8096a7ad-38c3-451c-be6e-00bfc112351e",
   "metadata": {},
   "source": [
    "# 2. Explore available skymaps"
   ]
  },
  {
   "cell_type": "markdown",
   "id": "95d2a9ac-2395-40a1-af0d-dc9fec79b185",
   "metadata": {},
   "source": [
    "Select the maps for this galaxy:"
   ]
  },
  {
   "cell_type": "code",
   "execution_count": null,
   "id": "56e36b83-16c4-421a-87f3-47c3389915bd",
   "metadata": {},
   "outputs": [],
   "source": [
    "importlib.reload(astrobrowser)\n",
    "x = astrobrowser.DataExplorer(catalogue, 'ESAVO/P/HERSCHEL/PACS160')"
   ]
  },
  {
   "cell_type": "code",
   "execution_count": null,
   "id": "f659a935-b303-4aae-a5a1-037efcb22b68",
   "metadata": {},
   "outputs": [],
   "source": [
    "galaxy = HRS_catalogue[x.galaxy_index]\n",
    "position = SkyCoord(galaxy['R.A.__J.2000_'], galaxy['Dec__J.2000_'],  unit=(u.hourangle, u.deg))\n",
    "aperture = SkyEllipticalAperture(position, a=galaxy['a']*u.arcsec, b=galaxy['b']*u.arcsec, theta=-galaxy['P.A.']*u.deg)  # Why do I have to invert PA?\n",
    "pixel_aperture = aperture.to_pixel(x.wcs)\n",
    "pixel_aperture.positions = [np.array(x.data.shape) / 2]  # dirty fix\n",
    "pixel_aperture.plot(x.ax1)"
   ]
  },
  {
   "cell_type": "code",
   "execution_count": null,
   "id": "b094e335-8a31-4253-9ed6-929bc5dede45",
   "metadata": {},
   "outputs": [],
   "source": [
    "flux = pixel_aperture.do_photometry(x.data)[0][0]\n",
    "mean = flux / pixel_aperture.area\n",
    "source_mask = np.nanmedian(x.data)\n",
    "source_mask += np.sqrt(np.nanmean((x.data - source_mask)**2))\n",
    "x.ax1.contour(x.data, levels=[source_mask], colors=['y'])\n",
    "\n",
    "bg = np.nanmedian(x.data[x.data < source_mask])\n",
    "#bg_err = np.sqrt(np.nanmean((bg - x.data[x.data < bg])**2))\n",
    "bg_err = bg - np.nanmedian(x.data[x.data < bg])\n",
    "x.ax1_cb.axhline(source_mask, c='y')\n",
    "x.ax1_cb.axhline(bg+bg_err, c='k', ls=':')\n",
    "x.ax1_cb.axhline(bg, c='k')\n",
    "x.ax1_cb.axhline(bg-bg_err, c='k', ls=':')\n",
    "\n",
    "#scale = (3.2/catalogue[x.galaxy_index]['PIXEL_SIZE_ARCSEC'])**2\n",
    "scale = 1\n",
    "corrected_flux = flux - bg*pixel_aperture.area\n",
    "print(f'area = {pixel_aperture.area:.2f}, mean({mean:.3g}) - bg ({bg:.3g}) = {mean-bg:.3g} +- {bg_err:.3g}')\n",
    "print(f'flux = {corrected_flux:.3g} +- {bg_err*pixel_aperture.area:.3g} ({flux:.3g})')\n",
    "#print(f'masked = {np.sum(x.data[x.data > source_mask]) - bg*np.count_nonzero(x.data > source_mask):.3g} ({np.sum(x.data[x.data > source_mask]):.3g})')\n",
    "#print(f'scaled = {corrected_flux*scale:.3g} +- {bg_err*(pixel_aperture.area)*scale:.3g}')\n",
    "print('catalogue', galaxy['F_160'], galaxy['sigma_160'], corrected_flux*scale/galaxy['F_160'])"
   ]
  },
  {
   "cell_type": "code",
   "execution_count": null,
   "id": "58d83db7-8e3d-4ee0-ba9d-0403781c9852",
   "metadata": {},
   "outputs": [],
   "source": [
    "pixel_aperture.area, pixel_aperture.area_overlap(x.data)"
   ]
  },
  {
   "cell_type": "code",
   "execution_count": null,
   "id": "ab05c9f6-068e-4ec5-aa06-4572d5e1f521",
   "metadata": {},
   "outputs": [],
   "source": [
    "aperture.positions, pixel_aperture.positions*2, x.data.shape"
   ]
  },
  {
   "cell_type": "code",
   "execution_count": null,
   "id": "2cb22773-27d1-4862-8a82-a1a37e3b6a83",
   "metadata": {},
   "outputs": [],
   "source": [
    "galaxy"
   ]
  },
  {
   "cell_type": "code",
   "execution_count": null,
   "id": "e943bd19-6c7a-4ad4-9d60-464484d9970a",
   "metadata": {},
   "outputs": [],
   "source": [
    "x.header"
   ]
  },
  {
   "cell_type": "code",
   "execution_count": null,
   "id": "95e59115-de78-4087-acae-aca40b39b72c",
   "metadata": {},
   "outputs": [],
   "source": [
    "x.header['CDELT1']*3600"
   ]
  },
  {
   "cell_type": "code",
   "execution_count": null,
   "id": "51030436-fa31-4990-8507-c5e7e6b2033e",
   "metadata": {},
   "outputs": [],
   "source": []
  }
 ],
 "metadata": {
  "kernelspec": {
   "display_name": "Python 3 (ipykernel)",
   "language": "python",
   "name": "python3"
  },
  "language_info": {
   "codemirror_mode": {
    "name": "ipython",
    "version": 3
   },
   "file_extension": ".py",
   "mimetype": "text/x-python",
   "name": "python",
   "nbconvert_exporter": "python",
   "pygments_lexer": "ipython3",
   "version": "3.8.10"
  }
 },
 "nbformat": 4,
 "nbformat_minor": 5
}
