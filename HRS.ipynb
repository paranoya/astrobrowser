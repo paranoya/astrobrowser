{
 "cells": [
  {
   "cell_type": "markdown",
   "id": "2cc06681-73a0-4f6d-b7a4-0ee71e3eaa84",
   "metadata": {},
   "source": [
    "# Astrobrowser - Herschel Reference Survey\n",
    "\n",
    "Explore the HiPS maps available for the galaxies in the HRS and compute aperture photometry."
   ]
  },
  {
   "cell_type": "markdown",
   "id": "41ed600e-fa52-4ba8-8cf1-ca38e9edf1e8",
   "metadata": {},
   "source": [
    "# 1. Initialisation"
   ]
  },
  {
   "cell_type": "markdown",
   "id": "ab3a2ff3-0d02-4f83-880b-afeca2bd3c0c",
   "metadata": {},
   "source": [
    "## System setup"
   ]
  },
  {
   "cell_type": "markdown",
   "id": "e1a0c2fc-41ee-468c-aa65-d8a5c988a893",
   "metadata": {},
   "source": [
    "External libraries"
   ]
  },
  {
   "cell_type": "code",
   "execution_count": null,
   "id": "61292891-5bd2-4ff5-96a7-0b8607b89eb3",
   "metadata": {},
   "outputs": [],
   "source": [
    "#%matplotlib ipympl\n",
    "import os\n",
    "import numpy as np\n",
    "from scipy import special\n",
    "from matplotlib import pyplot as plt\n",
    "from matplotlib import colors\n",
    "from matplotlib.ticker import AutoMinorLocator\n",
    "from matplotlib.backends.backend_pdf import PdfPages\n",
    "from astropy.coordinates import SkyCoord\n",
    "from astropy.wcs import WCS\n",
    "from astropy.table import Table, QTable, hstack\n",
    "from astropy import units as u\n",
    "from astropy import constants as c\n",
    "from scripts import astrobrowser"
   ]
  },
  {
   "cell_type": "code",
   "execution_count": null,
   "id": "a3478502-66cf-459f-bf54-03a86d753428",
   "metadata": {},
   "outputs": [],
   "source": [
    "#%load_ext autoreload\n",
    "#%autoreload 2"
   ]
  },
  {
   "cell_type": "markdown",
   "id": "bb2fac8e-f47e-41be-ab0d-1479221dc6ca",
   "metadata": {},
   "source": [
    "Utility functions"
   ]
  },
  {
   "cell_type": "code",
   "execution_count": null,
   "id": "584db613-78cf-4baf-9d8b-d78079980c41",
   "metadata": {},
   "outputs": [],
   "source": [
    "def new_figure(fig_name, figsize=(10, 5), nrows=1, ncols=1, sharex='col', sharey='row', gridspec_kw={'hspace': 0, 'wspace': 0}, suptitle=True):\n",
    "    plt.close(fig_name)\n",
    "    fig = plt.figure(fig_name, figsize=figsize)\n",
    "    axes = fig.subplots(nrows=nrows, ncols=ncols, squeeze=False,\n",
    "                        sharex=sharex, sharey=sharey,\n",
    "                        gridspec_kw=gridspec_kw\n",
    "                       )\n",
    "    fig.set_tight_layout(True)\n",
    "    for ax in axes.flat:\n",
    "        ax.xaxis.set_minor_locator(AutoMinorLocator())\n",
    "        ax.yaxis.set_minor_locator(AutoMinorLocator())\n",
    "        ax.tick_params(which='both', bottom=True, top=True, left=True, right=True)\n",
    "        ax.tick_params(which='major', direction='inout', length=8, grid_alpha=.3)\n",
    "        ax.tick_params(which='minor', direction='in', length=2, grid_alpha=.1)\n",
    "        ax.grid(True, which='both')\n",
    "\n",
    "    if suptitle is True:\n",
    "        fig.suptitle(fig_name)\n",
    "    elif suptitle is not False and suptitle is not None:\n",
    "        fig.suptitle(suptitle)\n",
    "    \n",
    "    return fig, axes"
   ]
  },
  {
   "cell_type": "code",
   "execution_count": null,
   "id": "c3663f56-74e8-49ad-a50b-9f7cec465a3b",
   "metadata": {},
   "outputs": [],
   "source": [
    "def test_dir(dir_name):\n",
    "    if not os.path.isdir(dir_name):\n",
    "        print(f'>> WARNING: Creating directory \"{dir_name}\"')\n",
    "        os.makedirs(dir_name)\n",
    "    return(dir_name)"
   ]
  },
  {
   "cell_type": "markdown",
   "id": "e500eb26-0181-4dc7-a001-f3f22bb08617",
   "metadata": {},
   "source": [
    "Directories"
   ]
  },
  {
   "cell_type": "code",
   "execution_count": null,
   "id": "cebb84f6-4696-4791-91ff-abfce7fd0310",
   "metadata": {},
   "outputs": [],
   "source": [
    "input_dir = 'HRS'\n",
    "output_dir = test_dir(os.path.join(input_dir, 'output'))\n",
    "maps_dir = test_dir(os.path.join(output_dir, 'maps'))"
   ]
  },
  {
   "cell_type": "markdown",
   "id": "a496e0d3-55b5-467d-bc3b-992fbd0af11e",
   "metadata": {},
   "source": [
    "## Read HRS catalogues"
   ]
  },
  {
   "cell_type": "code",
   "execution_count": null,
   "id": "42552734-81fb-4399-a9bd-b75fde71bd7f",
   "metadata": {},
   "outputs": [],
   "source": [
    "HRS_optical_UV_catalogue = Table.read(os.path.join(input_dir, 'Optical_UV_cortese_2012', 'table1.dat'), format='ascii.commented_header')\n",
    "HRS_optical_UV_photometry = Table.read(os.path.join(input_dir, 'Optical_UV_cortese_2012', 'table2.dat'), format='ascii.commented_header')"
   ]
  },
  {
   "cell_type": "code",
   "execution_count": null,
   "id": "0c815be2-30e7-42a6-8c62-fe50471889e0",
   "metadata": {},
   "outputs": [],
   "source": [
    "HRS_optical_UV_catalogue"
   ]
  },
  {
   "cell_type": "code",
   "execution_count": null,
   "id": "bba30b7b-7c4b-4ffe-b6b3-cb23753e12f8",
   "metadata": {},
   "outputs": [],
   "source": [
    "HRS_optical_UV_photometry"
   ]
  },
  {
   "cell_type": "code",
   "execution_count": null,
   "id": "00b6a76f-f702-4163-b15e-3ff74c352a8e",
   "metadata": {},
   "outputs": [],
   "source": [
    "HRS_PACS_catalogue = QTable.read(os.path.join(input_dir, 'PACS_cortese_2014_table2.vot'))\n",
    "HRS_PACS_catalogue"
   ]
  },
  {
   "cell_type": "code",
   "execution_count": null,
   "id": "f023f516-f9aa-41a0-8272-f308166db1a5",
   "metadata": {},
   "outputs": [],
   "source": [
    "HRS_SPIRE_catalogue = QTable.read(os.path.join(input_dir, 'SPIRE_ciesla_2012', 'HRS_PHOTOMETRY_v2.1'), format='ascii.commented_header')\n",
    "HRS_SPIRE_catalogue['Ra'].unit = u.deg\n",
    "HRS_SPIRE_catalogue['Dec'].unit = u.deg\n",
    "HRS_SPIRE_catalogue['a'].unit = u.arcsec\n",
    "HRS_SPIRE_catalogue['b'].unit = u.arcsec\n",
    "HRS_SPIRE_catalogue['pa'].unit = u.deg\n",
    "HRS_SPIRE_catalogue['S250'].unit = u.mJy\n",
    "HRS_SPIRE_catalogue['S350'].unit = u.mJy\n",
    "HRS_SPIRE_catalogue['S500'].unit = u.mJy\n",
    "HRS_SPIRE_catalogue['err_tot250'].unit = u.mJy\n",
    "HRS_SPIRE_catalogue['err_tot350'].unit = u.mJy\n",
    "HRS_SPIRE_catalogue['err_tot500'].unit = u.mJy\n",
    "HRS_SPIRE_catalogue"
   ]
  },
  {
   "cell_type": "markdown",
   "id": "a9807077-5eca-4728-a40f-ab90a1e0134a",
   "metadata": {},
   "source": [
    "# 2. Aperture photometry"
   ]
  },
  {
   "cell_type": "code",
   "execution_count": null,
   "id": "d947747e-8ade-4e23-802e-d1f45efb629d",
   "metadata": {
    "tags": []
   },
   "outputs": [],
   "source": [
    "class HiPS_skymap(object):\n",
    "    \n",
    "    def __init__(self, hips_service_url, units, beam=None):\n",
    "        '''Intensity map in Hierarchical Progressive Survey (HiPS) format'''\n",
    "        \n",
    "        print(f'> {hips_service_url}')\n",
    "        self.url = hips_service_url\n",
    "        self.properties = astrobrowser.get_hips_proprties(hips_service_url)\n",
    "        if self.properties is None:\n",
    "            print('  ERROR: HiPS properties not available!')\n",
    "            raise -1\n",
    "        if 'hips_pixel_scale' in self.properties:\n",
    "            self.hips_pixel = float(self.properties['hips_pixel_scale']) * u.deg\n",
    "        else:\n",
    "            print('  ERROR: HiPS pixel size not available!')\n",
    "            raise -1\n",
    "\n",
    "        if beam is None:\n",
    "            if 's_pixel_scale' in self.properties:\n",
    "                original_pixel = float(self.properties['s_pixel_scale']) * u.deg\n",
    "                self.beam = original_pixel**2\n",
    "            else:\n",
    "                self.beam = self.hips_pixel**2\n",
    "                print(f'  WARNING: original pixel size not available! using HiPS size = {self.hips_pixel.to_value(u.arcsec)} arcsec')\n",
    "        else:\n",
    "            self.beam = beam\n",
    "            original_pixel_beam = np.sqrt(beam)\n",
    "            if 's_pixel_scale' in self.properties:\n",
    "                original_pixel_properties = float(self.properties['s_pixel_scale']) * u.deg\n",
    "                if not u.isclose(original_pixel_beam, original_pixel_properties):\n",
    "                    print(f'  WARNING: {original_pixel_beam} is different from {original_pixel_properties} ({original_pixel_properties.to(original_pixel_beam.unit)})')\n",
    "\n",
    "        self.intensity_units = units\n",
    "        if u.get_physical_type(units) == 'spectral flux density':\n",
    "            self.intensity_units = units / self.beam\n",
    "        \n",
    "        print(f'  HiPS pixel = {self.hips_pixel.to(u.arcsec):.4f}, original = {np.sqrt(self.beam).to(u.arcsec):.4f}',\n",
    "              f'; units = {self.intensity_units.to(u.uJy/u.arcsec**2):.2f} = {self.intensity_units.to(u.MJy/u.sr):.4f}')\n",
    "\n",
    "            \n",
    "    def add_band(self, band, catalogue, output_dir='.', overwrite_table=True, overwrite_files=False):\n",
    "        '''Create a Table with fluxes and errors for the requested band.'''\n",
    "    \n",
    "        if f'{band}_flux' in catalogue.colnames:\n",
    "            if overwrite_table:\n",
    "                print(f'WARNING: overwriting {band}')\n",
    "            else:\n",
    "                print(f'ERROR: cannot overwrite {band}!')\n",
    "                raise -1  # TODO: raise proper exception\n",
    "        results = QTable(names=[f'{band}_flux', f'{band}_flux_error'], units=[u.mJy, u.mJy], masked=True)\n",
    "    \n",
    "        with PdfPages(os.path.join(output_dir, f'{band}_maps.pdf')) as pdf:\n",
    "            for galaxy in catalogue:\n",
    "                position = SkyCoord(galaxy['ra'], galaxy['dec'])\n",
    "                cutout_file = os.path.join(maps_dir, f\"{galaxy['ID']}_{band}.fits\")\n",
    "                fig = plt.figure(figsize=(12, 4))\n",
    "                flux, flux_err = astrobrowser.aperture_photometry(self, position, galaxy['a'], galaxy['b'], galaxy['pa'],\n",
    "                                                                  cutout_file=cutout_file, overwrite=overwrite_files, fig=fig)\n",
    "                results.add_row([flux, flux_err])\n",
    "                title = f\"{galaxy['ID']} {band} flux: ${flux.to_value(u.mJy):.3g} \\pm {flux_err.to_value(u.mJy):.3g}$\"\n",
    "                if f'{band}_true_flux' in galaxy.colnames:\n",
    "                    true_flux = galaxy[f'{band}_true_flux'].to_value(u.mJy)\n",
    "                    true_err = galaxy[f'{band}_true_err'].to_value(u.mJy)\n",
    "                    title += f\" (${true_flux:.3g} \\pm {true_err:.3g}$) mJy\"\n",
    "                print('  galaxy', title)\n",
    "                fig.suptitle(title)\n",
    "                plt.tight_layout()\n",
    "                pdf.savefig()\n",
    "                plt.close()\n",
    "\n",
    "        catalogue[f'{band}_flux'] = results[f'{band}_flux']\n",
    "        catalogue[f'{band}_flux_error'] = results[f'{band}_flux_error']\n",
    "        catalogue.write(os.path.join(output_dir, f'{band}_photometry.fits'), overwrite=True)\n",
    "\n",
    "        return catalogue"
   ]
  },
  {
   "cell_type": "markdown",
   "id": "2e2089ab-a2e1-4a98-a3bf-22552792b33c",
   "metadata": {},
   "source": [
    "## GALEX"
   ]
  },
  {
   "cell_type": "code",
   "execution_count": null,
   "id": "9c9508b6-4996-481a-9975-0d226c080f5c",
   "metadata": {},
   "outputs": [],
   "source": [
    "GALEX_catalogue = QTable()\n",
    "\n",
    "GALEX_catalogue.add_column([f'HRS-{int(i)}' for i in HRS_optical_UV_catalogue['HRS']], name='ID')\n",
    "\n",
    "coords = SkyCoord(HRS_optical_UV_catalogue['R.A.'], HRS_optical_UV_catalogue['Dec.'], unit=[u.hourangle, u.deg])\n",
    "GALEX_catalogue.add_column(coords.ra, name='ra')\n",
    "GALEX_catalogue.add_column(coords.dec, name='dec')\n",
    "\n",
    "GALEX_catalogue.add_column(HRS_optical_UV_catalogue['D_25']/2 * u.arcmin, name='a')\n",
    "GALEX_catalogue.add_column(GALEX_catalogue['a'] * (1 - HRS_optical_UV_photometry['e']), name='b')\n",
    "GALEX_catalogue.add_column(HRS_optical_UV_photometry['PA'] * u.deg, name='pa')\n",
    "\n",
    "#FUV\n",
    "\n",
    "GALEX_catalogue.add_column(3631*u.Jy *\n",
    "                           10**(-.4 * np.array(np.where(HRS_optical_UV_photometry['FUV_D25'] == '...', 'nan', HRS_optical_UV_photometry['FUV_D25'])).astype(float)),\n",
    "                           name='FUV_true_flux')\n",
    "GALEX_catalogue.add_column(GALEX_catalogue['FUV_true_flux'] * (\n",
    "    1 - 10**(-.4 * np.array(np.where(HRS_optical_UV_photometry['eFUV_D25'] == '...', 'nan', HRS_optical_UV_photometry['eFUV_D25'])).astype(float))), name='FUV_true_err')\n",
    "\n",
    "#NUV\n",
    "\n",
    "GALEX_catalogue.add_column(3631*u.Jy *\n",
    "                           10**(-.4 * np.array(np.where(HRS_optical_UV_photometry['NUV_D25'] == '...', 'nan', HRS_optical_UV_photometry['NUV_D25'])).astype(float)),\n",
    "                           name='NUV_true_flux')\n",
    "GALEX_catalogue.add_column(GALEX_catalogue['NUV_true_flux'] * (\n",
    "    1 - 10**(-.4 * np.array(np.where(HRS_optical_UV_photometry['eNUV_D25'] == '...', 'nan', HRS_optical_UV_photometry['eNUV_D25'])).astype(float))), name='NUV_true_err')\n",
    "\n",
    "GALEX_catalogue"
   ]
  },
  {
   "cell_type": "code",
   "execution_count": null,
   "id": "da130aeb-259f-4aff-b788-8ce566dbf3b9",
   "metadata": {},
   "outputs": [],
   "source": [
    "units_I_nu = 3631*u.Jy * np.power(10, -0.4*18.82) / (1.5 * u.arcsec)**2\n",
    "#beam = None\n",
    "beam = (1.5 * u.arcsec)**2\n",
    "#beam = (4.2 * u.arcsec)**2\n",
    "GALEX_FUV = HiPS_skymap('https://alasky.cds.unistra.fr/GALEX/GALEXGR6_7_FUV', units_I_nu, beam)\n",
    "\n",
    "units_I_nu = 3631*u.Jy * np.power(10, -0.4*20.08) / (1.5 * u.arcsec)**2\n",
    "#beam = (5.3 * u.arcsec)**2\n",
    "GALEX_NUV = HiPS_skymap('https://alasky.cds.unistra.fr/GALEX/GALEXGR6_7_NUV', units_I_nu, beam)"
   ]
  },
  {
   "cell_type": "code",
   "execution_count": null,
   "id": "227576f1-c616-4306-8d71-7eedfc930766",
   "metadata": {},
   "outputs": [],
   "source": [
    "GALEX_output = GALEX_catalogue\n",
    "GALEX_output = GALEX_FUV.add_band('FUV', GALEX_output, output_dir)\n",
    "GALEX_output = GALEX_NUV.add_band('NUV', GALEX_output, output_dir)"
   ]
  },
  {
   "cell_type": "markdown",
   "id": "147e30f8-dedb-474a-85b9-c92fb4ca094a",
   "metadata": {},
   "source": [
    "## SDSS"
   ]
  },
  {
   "cell_type": "code",
   "execution_count": null,
   "id": "7ce266e0-eadc-4ba3-9094-c90cdf9a6e64",
   "metadata": {},
   "outputs": [],
   "source": [
    "SDSS_catalogue = QTable()\n",
    "\n",
    "SDSS_catalogue.add_column([f'HRS-{int(i)}' for i in HRS_optical_UV_catalogue['HRS']], name='ID')\n",
    "\n",
    "coords = SkyCoord(HRS_optical_UV_catalogue['R.A.'], HRS_optical_UV_catalogue['Dec.'], unit=[u.hourangle, u.deg])\n",
    "SDSS_catalogue.add_column(coords.ra, name='ra')\n",
    "SDSS_catalogue.add_column(coords.dec, name='dec')\n",
    "\n",
    "SDSS_catalogue.add_column(HRS_optical_UV_catalogue['D_25']/2 * u.arcmin, name='a')\n",
    "SDSS_catalogue.add_column(SDSS_catalogue['a'] * (1 - HRS_optical_UV_photometry['e']), name='b')\n",
    "SDSS_catalogue.add_column(HRS_optical_UV_photometry['PA'] * u.deg, name='pa')\n",
    "\n",
    "for band in ['g', 'r', 'i']:\n",
    "    SDSS_catalogue.add_column(\n",
    "        3631*u.Jy * 10**(-.4 * np.array(\n",
    "            np.where(HRS_optical_UV_photometry[f'{band}_D25'] == '...', 'nan', HRS_optical_UV_photometry[f'{band}_D25'])\n",
    "        ).astype(float)), name=f'{band}_true_flux')\n",
    "    SDSS_catalogue.add_column(SDSS_catalogue[f'{band}_true_flux'] * (\n",
    "        1 - 10**(-.4 * np.array(np.where(HRS_optical_UV_photometry[f'{band}_D25'] == '...', 'nan', HRS_optical_UV_photometry[f'e{band}_D25'])).astype(float))), name=f'{band}_true_err')\n",
    "\n",
    "SDSS_catalogue"
   ]
  },
  {
   "cell_type": "code",
   "execution_count": null,
   "id": "db98fe28-d4ee-4380-9490-e8bf731f5801",
   "metadata": {},
   "outputs": [],
   "source": [
    "nanomaggies = 3.631e-6*u.Jy\n",
    "#beam = None # use pixel scale\n",
    "beam = (0.39564 * u.arcsec)**2\n",
    "#beam = (0.40248 * u.arcsec)**2\n",
    "#SDSS_u = HiPS_skymap('https://alasky.cds.unistra.fr/SDSS/DR9/band-u', nanomaggies, beam)\n",
    "SDSS_g = HiPS_skymap('https://alasky.cds.unistra.fr/SDSS/DR9/band-g', nanomaggies, beam)\n",
    "SDSS_r = HiPS_skymap('https://alasky.cds.unistra.fr/SDSS/DR9/band-r', nanomaggies, beam)\n",
    "SDSS_i = HiPS_skymap('https://alasky.cds.unistra.fr/SDSS/DR9/band-i', nanomaggies, beam)\n",
    "#SDSS_z = HiPS_skymap('https://alasky.cds.unistra.fr/SDSS/DR9/band-z', nanomaggies, beam)"
   ]
  },
  {
   "cell_type": "code",
   "execution_count": null,
   "id": "96f7ead6-9f5d-44a2-9d1c-3d8a2f4f31b1",
   "metadata": {},
   "outputs": [],
   "source": [
    "#SDSS_output = SDSS_catalogue[177:179]\n",
    "SDSS_output = SDSS_catalogue\n",
    "SDSS_output = SDSS_g.add_band('g', SDSS_output, output_dir)\n",
    "SDSS_output = SDSS_r.add_band('r', SDSS_output, output_dir)\n",
    "SDSS_output = SDSS_i.add_band('i', SDSS_output, output_dir)"
   ]
  },
  {
   "cell_type": "markdown",
   "id": "c97ad257-2d87-4ef9-92c8-fa36e0c8c80f",
   "metadata": {},
   "source": [
    "## Herschel"
   ]
  },
  {
   "cell_type": "code",
   "execution_count": null,
   "id": "8fb673ee-97a1-447e-b058-9b129c7b3c17",
   "metadata": {},
   "outputs": [],
   "source": [
    "PACS_catalogue = QTable()#names=['ra', 'dec_deg', 'a', 'b', 'pa'], units=[u.hourangle, u.deg, u.arcsec, u.arcsec, u.deg])\n",
    "\n",
    "PACS_catalogue.add_column([f'HRS-{i}' for i in HRS_PACS_catalogue['HRS']], name='ID')\n",
    "\n",
    "coords = SkyCoord(HRS_PACS_catalogue['R.A.__J.2000_'], HRS_PACS_catalogue['Dec__J.2000_'], unit=[u.hourangle, u.deg])\n",
    "PACS_catalogue.add_column(coords.ra, name='ra')\n",
    "PACS_catalogue.add_column(coords.dec, name='dec')\n",
    "PACS_catalogue.add_column(HRS_PACS_catalogue['a'])\n",
    "PACS_catalogue.add_column(HRS_PACS_catalogue['b'])\n",
    "PACS_catalogue.add_column(HRS_PACS_catalogue['P.A.'], name='pa')\n",
    "\n",
    "PACS_catalogue.add_column(HRS_PACS_catalogue['F_100'], name='PACS100_true_flux')\n",
    "PACS_catalogue.add_column(HRS_PACS_catalogue['sigma_100'], name='PACS100_true_err')\n",
    "PACS_catalogue.add_column(HRS_PACS_catalogue['F_160'], name='PACS160_true_flux')\n",
    "PACS_catalogue.add_column(HRS_PACS_catalogue['sigma_160'], name='PACS160_true_err')\n",
    "\n",
    "PACS_catalogue"
   ]
  },
  {
   "cell_type": "code",
   "execution_count": null,
   "id": "db9f11e1-c5c2-4e18-825c-e548004e3d5e",
   "metadata": {},
   "outputs": [],
   "source": [
    "Herschel_PACS100 = HiPS_skymap('http://skies.esac.esa.int/Herschel/PACS100', u.Jy)\n",
    "Herschel_PACS160 = HiPS_skymap('http://skies.esac.esa.int/Herschel/PACS160', u.Jy)"
   ]
  },
  {
   "cell_type": "code",
   "execution_count": null,
   "id": "73d14ce6-72c3-41bc-ac39-f44cf3821cb4",
   "metadata": {
    "tags": []
   },
   "outputs": [],
   "source": [
    "PACS_output = PACS_catalogue\n",
    "\n",
    "PACS_output = Herschel_PACS100.add_band('PACS100', PACS_output, output_dir)\n",
    "PACS_output = Herschel_PACS160.add_band('PACS160', PACS_output, output_dir)"
   ]
  },
  {
   "cell_type": "code",
   "execution_count": null,
   "id": "38ac8688-ecec-4121-b91f-70b13e5b1730",
   "metadata": {
    "tags": []
   },
   "outputs": [],
   "source": [
    "SPIRE_catalogue = QTable()#names=['ra', 'dec_deg', 'a', 'b', 'pa'], units=[u.hourangle, u.deg, u.arcsec, u.arcsec, u.deg])\n",
    "\n",
    "SPIRE_catalogue.add_column([f'HRS-{i}' for i in HRS_SPIRE_catalogue['HRS_1']], name='ID')\n",
    "\n",
    "coords = SkyCoord(HRS_SPIRE_catalogue['Ra'], HRS_SPIRE_catalogue['Dec'])\n",
    "SPIRE_catalogue.add_column(coords.ra, name='ra')\n",
    "SPIRE_catalogue.add_column(coords.dec, name='dec')\n",
    "SPIRE_catalogue.add_column(HRS_SPIRE_catalogue['a'])\n",
    "SPIRE_catalogue.add_column(HRS_SPIRE_catalogue['b'])\n",
    "SPIRE_catalogue.add_column(HRS_SPIRE_catalogue['pa'])\n",
    "\n",
    "SPIRE_catalogue.add_column(HRS_SPIRE_catalogue['S250'], name='SPIRE250_true_flux')\n",
    "SPIRE_catalogue.add_column(HRS_SPIRE_catalogue['err_tot250'], name='SPIRE250_true_err')\n",
    "SPIRE_catalogue.add_column(HRS_SPIRE_catalogue['S350'], name='SPIRE350_true_flux')\n",
    "SPIRE_catalogue.add_column(HRS_SPIRE_catalogue['err_tot350'], name='SPIRE350_true_err')\n",
    "SPIRE_catalogue.add_column(HRS_SPIRE_catalogue['S500'], name='SPIRE500_true_flux')\n",
    "SPIRE_catalogue.add_column(HRS_SPIRE_catalogue['err_tot500'], name='SPIRE500_true_err')\n",
    "\n",
    "SPIRE_catalogue"
   ]
  },
  {
   "cell_type": "code",
   "execution_count": null,
   "id": "eaad45c2-da0c-4ab1-b0f0-9763ab19c1df",
   "metadata": {},
   "outputs": [],
   "source": [
    "Herschel_SPIRE250 = HiPS_skymap('http://skies.esac.esa.int/Herschel/SPIRE250', u.MJy/u.sr)\n",
    "Herschel_SPIRE350 = HiPS_skymap('http://skies.esac.esa.int/Herschel/SPIRE350', u.MJy/u.sr)\n",
    "Herschel_SPIRE500 = HiPS_skymap('http://skies.esac.esa.int/Herschel/SPIRE500', u.MJy/u.sr)"
   ]
  },
  {
   "cell_type": "code",
   "execution_count": null,
   "id": "df38945b-419d-42fc-8fe9-f19df99f0144",
   "metadata": {},
   "outputs": [],
   "source": [
    "SPIRE_output = SPIRE_catalogue\n",
    "\n",
    "SPIRE_output = Herschel_SPIRE250.add_band('SPIRE250', SPIRE_output, output_dir)\n",
    "SPIRE_output = Herschel_SPIRE350.add_band('SPIRE350', SPIRE_output, output_dir)\n",
    "SPIRE_output = Herschel_SPIRE500.add_band('SPIRE500', SPIRE_output, output_dir)"
   ]
  },
  {
   "cell_type": "markdown",
   "id": "f8071eb1-0843-47e3-b5fe-61b82fcfbc52",
   "metadata": {},
   "source": [
    "# 3. Compare to official HRS catalogues"
   ]
  },
  {
   "cell_type": "markdown",
   "id": "a13ec518-8dd2-4414-b8da-e8780ba352eb",
   "metadata": {},
   "source": [
    "## Flux ratio in each band"
   ]
  },
  {
   "cell_type": "code",
   "execution_count": null,
   "id": "bd009b4d-7e81-4716-8b03-2d762cdc80e9",
   "metadata": {},
   "outputs": [],
   "source": [
    "def plot_band_fluxes(axes, band, output_dir):\n",
    "    '''Plot one-to-one flux comparison for a single band'''\n",
    "    \n",
    "    t = QTable.read(os.path.join(output_dir, f'{band}_photometry.fits'))\n",
    "    HiPS_flux = t[f'{band}_flux'].to_value(u.mJy)\n",
    "    HiPS_error = t[f'{band}_flux_error'].to_value(u.mJy)\n",
    "    HRS_flux = t[f'{band}_true_flux'].to_value(u.mJy)\n",
    "    HRS_error = t[f'{band}_true_err'].to_value(u.mJy)\n",
    "    good = (HiPS_error > 0)\n",
    "    good &= (HiPS_flux > 0)\n",
    "    good &= (HRS_error > 0)\n",
    "    SN_threshold = np.nanpercentile(HiPS_flux[good] / HiPS_error[good], 50)\n",
    "    high_SN = good & (HiPS_flux > SN_threshold*HiPS_error)\n",
    "    print(len(HiPS_flux), len(HiPS_flux[good]), len(HiPS_flux[high_SN]))\n",
    "    \n",
    "    ax = axes[0]\n",
    "    #ax.errorbar(x, y, dy, dx, fmt='none', alpha=.4, label=f'{band}: {np.count_nonzero(good)} valid measurements')\n",
    "    #ax.errorbar(x, y, dy, dx, fmt='none', alpha=.4, label=f'{band}')\n",
    "    x = np.array(HRS_flux[good])\n",
    "    y = np.array(HiPS_flux[good])\n",
    "    dx = np.array(HRS_error[good])\n",
    "    dy = np.array(HiPS_error[good])\n",
    "    errorbars = ax.errorbar(x, y/x, dy/y, dx, fmt='none', alpha=.3, label=f'{band}')\n",
    "    \n",
    "    points, = ax.plot(HRS_flux[high_SN], HiPS_flux[high_SN]/HRS_flux[high_SN], 'k.', alpha=.3, label=f'S/N > {SN_threshold:.2f}')\n",
    "\n",
    "    p16, p50, p84 = np.nanpercentile(y/x, [16, 50, 84])\n",
    "    median = ax.axhline(p50, c='k', ls=':', label=f'median = {p50:.2f}')\n",
    "    band = ax.axhspan(p16, p84, color='k', alpha=.2, label=f'{p16:.2f} - {p84:.2f}')\n",
    "    \n",
    "    #ax.axhline(1, c='k', ls=':')\n",
    "    ax.legend(handles=[errorbars, points, median, band], fontsize='x-small')\n",
    "    #x = [np.min(HRS_flux[good]), np.max(HRS_flux[good])]\n",
    "    #ax.plot(x, x, 'k:')\n",
    "    ax.set_yscale('log')\n",
    "    #ax.set_ylabel('HiPS flux [mJy]')\n",
    "    #ax.set_ylim(.8*x[0], 1.2*x[1])\n",
    "    ax.set_ylabel('HiPS flux / HRS flux')\n",
    "    ax.set_ylim(.25, 4.5)\n",
    "    \n",
    "def plot_fluxes(instrument, bands, output_dir):\n",
    "    '''Plot one-to-one flux comparison for a number of bands'''\n",
    "\n",
    "    fig, axes = new_figure(instrument, nrows=len(bands), figsize=(4, 2*len(bands)+1))\n",
    "    \n",
    "    for row, band in enumerate(bands):\n",
    "        plot_band_fluxes(axes[row], band, output_dir)\n",
    "    \n",
    "    axes[-1, 0].set_xlabel('flux in HRS catalogue [mJy]')\n",
    "    axes[-1, 0].set_xscale('log')\n",
    "    fig.savefig(os.path.join(output_dir, f'{instrument}_flux.pdf'))"
   ]
  },
  {
   "cell_type": "code",
   "execution_count": null,
   "id": "5d37b62e-cd8b-4236-8168-354c380c2b7c",
   "metadata": {},
   "outputs": [],
   "source": [
    "plot_fluxes('GALEX', ['FUV', 'NUV'], output_dir)"
   ]
  },
  {
   "cell_type": "code",
   "execution_count": null,
   "id": "d6d8fc0c-af56-4637-a3a0-3225cd2c2f7b",
   "metadata": {},
   "outputs": [],
   "source": [
    "plot_fluxes('SDSS', ['g', 'r', 'i'], output_dir)"
   ]
  },
  {
   "cell_type": "code",
   "execution_count": null,
   "id": "1cdf3497-ab13-44c9-9fac-c2ad118931cd",
   "metadata": {},
   "outputs": [],
   "source": [
    "plot_fluxes('Herschel-PACS', ['PACS100', 'PACS160'], output_dir)"
   ]
  },
  {
   "cell_type": "code",
   "execution_count": null,
   "id": "4d2f3e75-4eda-41b5-9eea-e69309ba1a2e",
   "metadata": {},
   "outputs": [],
   "source": [
    "plot_fluxes('Herschel-SPIRE', ['SPIRE250', 'SPIRE350', 'SPIRE500'], output_dir)"
   ]
  },
  {
   "cell_type": "markdown",
   "id": "27d10e33-020b-4273-92b9-15bf7fa344c5",
   "metadata": {},
   "source": [
    "## Probability distributions"
   ]
  },
  {
   "cell_type": "code",
   "execution_count": null,
   "id": "e5d4b880-1503-495c-9b07-51b2fcef3bd2",
   "metadata": {},
   "outputs": [],
   "source": [
    "def plot_distribution(axes, band, colour, linestyle, x, labels=True, print_table_row=True):\n",
    "    '''Plot histogram and cumulative distribution'''\n",
    "\n",
    "    p1, p16, p50, p84, p99 = np.nanpercentile(x, [1, 16, 50, 84, 99])\n",
    "    mu = p50\n",
    "    var = ((p84 - p16) / 2)**2\n",
    "    if print_table_row:\n",
    "        print(f'{band} & {p1:.2f} & {p16:.2f} & {p50:.2f} & {p84:.2f} & {p99:.2f}\\\\\\\\')\n",
    "    #bins = np.linspace(.5, 1.5, 41)\n",
    "    bins = np.linspace(p16 - 4*(p50-p16), p84 + 4*(p84-p50), 30)\n",
    "    #bins = np.nanpercentile(x, np.linspace(1, 99, 10))\n",
    "    x_bins = (bins[1:] + bins[:-1]) / 2\n",
    "\n",
    "    ax = axes[0]\n",
    "    if labels:\n",
    "        ax.set_ylabel('cumulative fraction')\n",
    "    ax.plot(np.sort(x), np.arange(x.size)/x.size, c=colour, ls=linestyle, label=band)\n",
    "            #label=f'$p_{{[16, 50, 84]}}$ = [{p16:.3g}, {p50:.3g}, {p84:.3g}]')\n",
    "    #ax.axvline(p16, c=colour, ls=':')\n",
    "    #ax.axvline(p50, c=colour, ls='--')\n",
    "    #ax.axvline(p84, c=colour, ls=':')\n",
    "    #ax.plot(bins, .5 + .5*special.erf((bins-mu)/np.sqrt(2*var)), 'k--', alpha=.2)\n",
    "            #label=f'$\\mu={mu:.3g}$, $\\sigma={np.sqrt(var):.3g}$')\n",
    "    if labels:\n",
    "        ax.legend()\n",
    "    ax.grid(alpha=.2)\n",
    "\n",
    "    ax = axes[1]\n",
    "    #ax.set_ylabel('number of galaxies')\n",
    "    if labels:\n",
    "        ax.set_ylabel('probability density')\n",
    "    ax.set_xlim(bins[0], bins[-1])\n",
    "    #ax.axvline(p16, c='k', ls=':')\n",
    "    #ax.axvline(p50, c='k', ls='--', label=f'$p_{{[16, 50, 84]}}$ = [{p16:.3g}, {p50:.3g}, {p84:.3g}]')\n",
    "    #ax.axvline(p84, c='k', ls=':')\n",
    "    hist, bins = np.histogram(x, bins=bins, density=True)\n",
    "    ax.plot(x_bins, hist, alpha=1, color=colour, ls=linestyle)\n",
    "    #ax.set_yscale('log')\n",
    "    #ax.hist(x, bins=bins, density=True, alpha=.5, color=colour)\n",
    "    #ax.plot(bins, np.exp(-.5*(bins-p50)**2/var) / np.sqrt(2*np.pi*var), c=colour, ls='--', alpha=.2)\n",
    "\n",
    "    \n",
    "def plot_band_flux_comparison(axes, axes_err, band, colour, linestyle, output_dir):\n",
    "\n",
    "    t = QTable.read(os.path.join(output_dir, f'{band}_photometry.fits'))\n",
    "    HiPS_flux = t[f'{band}_flux'].to_value(u.mJy)\n",
    "    HiPS_error = t[f'{band}_flux_error'].to_value(u.mJy)\n",
    "    HRS_flux = t[f'{band}_true_flux'].to_value(u.mJy)\n",
    "    HRS_error = t[f'{band}_true_err'].to_value(u.mJy)\n",
    "    good = (HiPS_error > 0)\n",
    "    good &= (HiPS_flux > 0)\n",
    "    good &= (HRS_error > 0)\n",
    "    #SN_threshold = np.nanpercentile(HiPS_flux[good] / HiPS_error[good], 50)\n",
    "    #good &= (HiPS_flux > SN_threshold*HiPS_error)\n",
    "    #print(len(HiPS_flux), len(HiPS_flux[good]))\n",
    "\n",
    "    x = np.array((HiPS_flux[good] / HRS_flux[good]).data)\n",
    "    plot_distribution(axes[:, 0], band, colour, linestyle, x, print_table_row=False)\n",
    "    \n",
    "    x = np.array((HiPS_flux[good] - HRS_flux[good]).data / HiPS_error[good])\n",
    "    #x = (np.array((HiPS_flux[good]/HRS_flux[good]).data) - 1) / np.array(HiPS_error[good]/(HiPS_flux[good]).data)\n",
    "    #print(type(x), x.unmasked)\n",
    "    plot_distribution(axes_err[:, 0], band, colour, linestyle, x)#, labels=False)\n",
    "    #x = np.array((HiPS_flux[good] - HRS_flux[good]).data) / np.array(HRS_error[good])\n",
    "    #plot_distribution(axes_err[:, 1], band, colour, linestyle, x, labels=False)\n",
    "    \n",
    "    \n",
    "def plot_flux_comparison(bands, colours, linestyles, output_dir):\n",
    "    \n",
    "    fig, axes = new_figure('flux_comparison', nrows=2, ncols=1, figsize=(6, 6))\n",
    "    fig_err, axes_err = new_figure('error_comparison', nrows=2, ncols=1, figsize=(6, 6))\n",
    "\n",
    "    for i in range(len(bands)):\n",
    "        plot_band_flux_comparison(axes, axes_err, bands[i], colours[i], linestyles[i], output_dir)\n",
    "\n",
    "    ax = axes[-1, 0]\n",
    "    ax.set_xlabel('HiPS flux / HRS flux')\n",
    "    ax.set_xlim(.75, 1.25)\n",
    "    #bins = np.linspace(.45, 1.55, 201)\n",
    "    #mu = 1\n",
    "    #var = .01\n",
    "    #ax.plot(bins, np.exp(-.5*(bins-mu)**2/var) / np.sqrt(2*np.pi*var), c='k', ls=':', alpha=1, label=f'$\\mu$={mu:.3g} $\\sigma$={np.sqrt(var):.3g}')\n",
    "    #ax.legend()\n",
    "    #ax.set_ylim(.005, 25)\n",
    "\n",
    "    ax = axes_err[-1, 0]\n",
    "    ax.set_xlabel('(HiPS flux - HRS flux) / HiPS error')\n",
    "    #ax.set_xlim(-15.5, 15.5)\n",
    "    #ax = axes_err[-1, 1]\n",
    "    #ax.set_xlabel('(HiPS - HRS) / HRS error')\n",
    "    ax.set_xlim(-3.5, 3.5)\n",
    "    #ax.set_ylim(-.1, 0.55)\n",
    "    bins = np.linspace(-7.5, 7.5, 201)\n",
    "    mu = 0\n",
    "    var = 1\n",
    "    ax.plot(bins, np.exp(-.5*(bins-mu)**2/var) / np.sqrt(2*np.pi*var), c='k', ls='-.', alpha=1, label=f'$\\mu$={mu:.3g} $\\sigma$={np.sqrt(var):.3g}')\n",
    "    ax.legend()\n",
    "    \n",
    "    fig.savefig(os.path.join(output_dir, 'flux_comparison.pdf'))\n",
    "    fig_err.savefig(os.path.join(output_dir, 'error_comparison.pdf'))\n"
   ]
  },
  {
   "cell_type": "code",
   "execution_count": null,
   "id": "ac7f48ab-7685-41cd-87d7-64653ce0d84c",
   "metadata": {},
   "outputs": [],
   "source": [
    "bands = ['FUV', 'NUV', 'g', 'r', 'i', 'PACS100', 'PACS160', 'SPIRE250', 'SPIRE350', 'SPIRE500']\n",
    "colours = ['b', 'b', 'g', 'g', 'g', 'y', 'y', 'r', 'r', 'r']\n",
    "linestyles = ['-', '--', '-', '--', ':', '-', '--', '-', '--', ':']\n",
    "plot_flux_comparison(bands, colours, linestyles, output_dir)"
   ]
  },
  {
   "cell_type": "markdown",
   "id": "6bd166dc-85a5-402a-bfe2-e251840acbbc",
   "metadata": {},
   "source": [
    "# 4. Additional tests\n",
    "\n",
    "These are some of the test"
   ]
  },
  {
   "cell_type": "markdown",
   "id": "624c53b2-3082-4d3b-a1ae-81f4d4feedb1",
   "metadata": {},
   "source": [
    "## Outliers and S/N"
   ]
  },
  {
   "cell_type": "code",
   "execution_count": null,
   "id": "b9149016-2017-434d-b483-aaf116891195",
   "metadata": {},
   "outputs": [],
   "source": [
    "outlier_factor = 1.5"
   ]
  },
  {
   "cell_type": "code",
   "execution_count": null,
   "id": "44d4b37b-39c6-4840-9bcb-51faae887431",
   "metadata": {},
   "outputs": [],
   "source": [
    "def outliers(band, ax=None, x_axis=\"S/N\"):\n",
    "    t = QTable.read(os.path.join(output_dir, f'{band}_photometry.fits'))\n",
    "    HiPS_flux = t[f'{band}_flux'].to_value(u.mJy)\n",
    "    HiPS_error = t[f'{band}_flux_error'].to_value(u.mJy)\n",
    "    HRS_flux = t[f'{band}_true_flux'].to_value(u.mJy)\n",
    "    HRS_error = t[f'{band}_true_err'].to_value(u.mJy)\n",
    "    good = (HiPS_error > 0)\n",
    "    good &= (HiPS_flux > 0)\n",
    "    good &= (HRS_error > 0)\n",
    "    bad = (HiPS_flux < HRS_flux/outlier_factor) | (HiPS_flux > outlier_factor*HRS_flux)\n",
    "    bad = (HiPS_flux > outlier_factor*HRS_flux)\n",
    "    bad &= good\n",
    "    if x_axis == \"S/N\":\n",
    "        x = HiPS_flux / HiPS_error\n",
    "        if np.count_nonzero(bad) > 0:\n",
    "            with np.printoptions(precision=3):\n",
    "                print('xxx', x[bad])\n",
    "                print('xxx', HiPS_flux[bad])\n",
    "                print('xxx', HRS_flux[bad])\n",
    "    elif x_axis == \"b\":\n",
    "        x = t['b']\n",
    "    else:\n",
    "        print(f\"ERROR: What do you mean by '{x_axis}'\")\n",
    "    \n",
    "    if ax is not None:\n",
    "        ax.plot(x[good], HiPS_flux[good] / HRS_flux[good], 'c.')\n",
    "        ax.plot(x[bad], HiPS_flux[bad] / HRS_flux[bad], 'r.', label=f'{band}: {np.count_nonzero(bad)}')\n",
    "        ax.axhline(outlier_factor, c='k', ls=':')\n",
    "        ax.axhline(1/outlier_factor, c='k', ls=':')\n",
    "        ax.legend()\n",
    "        ax.set_ylabel('HiPS flux / HRS flux')\n",
    "    \n",
    "    return np.where(bad)[0]"
   ]
  },
  {
   "cell_type": "code",
   "execution_count": null,
   "id": "070324c0-0129-4e24-a718-55a22d929488",
   "metadata": {},
   "outputs": [],
   "source": [
    "fig, axes = new_figure('outliers', nrows=len(bands), figsize=(4, 2*len(bands)+1), sharey=True)\n",
    "for row, band in enumerate(bands):\n",
    "    bad = outliers(band, axes[row, 0])\n",
    "    print(f\"{band}: \\t {len(bad)} \\t {bad}\")\n",
    "\n",
    "ax = axes[-1, 0]\n",
    "ax.set_xlabel('S/N = HiPS_flux / HiPS_error')\n",
    "ax.set_xlim(-.1, 20.1)\n",
    "ax.set_ylim(.15, 5.5)\n",
    "ax.set_yscale('log')\n",
    "fig.savefig(os.path.join(output_dir, f'outliers.pdf'))"
   ]
  },
  {
   "cell_type": "code",
   "execution_count": null,
   "id": "804ae23c-146b-4a8f-b498-df9525510540",
   "metadata": {},
   "outputs": [],
   "source": [
    "band = 'PACS160'\n",
    "bad = outliers(band)\n",
    "HRS_optical_UV_catalogue[bad]"
   ]
  },
  {
   "cell_type": "code",
   "execution_count": null,
   "id": "8a73262a-80e3-44d4-8083-36d4472529ab",
   "metadata": {},
   "outputs": [],
   "source": [
    "HRS_optical_UV_photometry[bad]"
   ]
  },
  {
   "cell_type": "code",
   "execution_count": null,
   "id": "b8acf5eb-cb4c-49e8-94ff-9340dccbf035",
   "metadata": {},
   "outputs": [],
   "source": [
    "HRS_PACS_catalogue[bad]"
   ]
  },
  {
   "cell_type": "code",
   "execution_count": null,
   "id": "e37efc63-0a9a-4367-a2a8-a400933b27dd",
   "metadata": {},
   "outputs": [],
   "source": [
    "HRS_SPIRE_catalogue[bad]"
   ]
  },
  {
   "cell_type": "code",
   "execution_count": null,
   "id": "34263f2f-f637-42df-b068-d8def28204bc",
   "metadata": {},
   "outputs": [],
   "source": [
    "HRS_SPIRE_catalogue[60:70]"
   ]
  },
  {
   "cell_type": "code",
   "execution_count": null,
   "id": "42bfeb26-566d-4f6e-8680-97419d8a7f72",
   "metadata": {},
   "outputs": [],
   "source": [
    "HRS_optical_UV_photometry[60:70]"
   ]
  },
  {
   "cell_type": "code",
   "execution_count": null,
   "id": "b5ec79b2-6618-4ba8-a4dc-2fd64a933e14",
   "metadata": {},
   "outputs": [],
   "source": [
    "band = 'g'\n",
    "t = QTable.read(os.path.join(output_dir, f'{band}_photometry.fits'))\n",
    "t"
   ]
  },
  {
   "cell_type": "code",
   "execution_count": null,
   "id": "ec6133ea-adbb-49d5-bd41-21f92de62700",
   "metadata": {},
   "outputs": [],
   "source": [
    "bad = outliers(band)\n",
    "t[bad]"
   ]
  },
  {
   "cell_type": "markdown",
   "id": "203865c0-21db-47ae-a6b1-1ffdcda05c12",
   "metadata": {},
   "source": [
    "## PSF"
   ]
  },
  {
   "cell_type": "code",
   "execution_count": null,
   "id": "2929d9a6-2ce3-4971-9347-41c6b4639913",
   "metadata": {},
   "outputs": [],
   "source": [
    "fig, axes = new_figure('aperture')\n",
    "ax = axes[0, 0]\n",
    "ax.set_xlabel('optical-UV')\n",
    "ax.set_ylabel('FIR minor')\n",
    "ax.plot(30 * HRS_optical_UV_catalogue['D_25'], HRS_PACS_catalogue['a'], 'r.', alpha=.2, label='major axis')\n",
    "ax.plot(30 * HRS_optical_UV_catalogue['D_25'] * (1 - HRS_optical_UV_photometry['e']), HRS_PACS_catalogue['b'], 'k.', alpha=.2, label='minor axis')\n",
    "ax.legend()\n",
    "ax.plot([0, 500], [0, 500], 'k--')\n",
    "ax.axhline(36.6, c='k', ls=':')\n",
    "ax.axvline(5.3, c='k', ls=':')\n",
    "ax.axvline(36.6, c='k', ls=':', alpha=.5)\n"
   ]
  },
  {
   "cell_type": "code",
   "execution_count": null,
   "id": "53984e15-8b2f-4e04-839c-44d943b6bb07",
   "metadata": {},
   "outputs": [],
   "source": [
    "np.nanmin(HRS_optical_UV_catalogue['D_25'] * (1 - HRS_optical_UV_photometry['e']) * 30)"
   ]
  },
  {
   "cell_type": "code",
   "execution_count": null,
   "id": "9486c55d-2589-429c-bf7b-f6dc1ef935f4",
   "metadata": {},
   "outputs": [],
   "source": [
    "np.count_nonzero(HRS_optical_UV_catalogue['D_25'] * 30 < 30)"
   ]
  },
  {
   "cell_type": "code",
   "execution_count": null,
   "id": "0e380e32-867a-42c3-9def-9935cb68e16c",
   "metadata": {},
   "outputs": [],
   "source": [
    "np.count_nonzero(HRS_optical_UV_catalogue['D_25'] * (1 - HRS_optical_UV_photometry['e']) * 30 < 30)"
   ]
  },
  {
   "cell_type": "code",
   "execution_count": null,
   "id": "8f33ce3f-175d-4088-9054-50d7b2a069fb",
   "metadata": {},
   "outputs": [],
   "source": [
    "np.nanmin(HRS_PACS_catalogue['b'])"
   ]
  },
  {
   "cell_type": "code",
   "execution_count": null,
   "id": "fe48ef42-c30b-45c9-aa15-69bb646f00fd",
   "metadata": {},
   "outputs": [],
   "source": [
    "np.nanmin(HRS_SPIRE_catalogue['b'])"
   ]
  },
  {
   "cell_type": "code",
   "execution_count": null,
   "id": "e9cb590f-ceff-4af4-9192-03c5b1748efc",
   "metadata": {},
   "outputs": [],
   "source": [
    "np.count_nonzero(HRS_SPIRE_catalogue['b'] < 36*u.arcsec)"
   ]
  },
  {
   "cell_type": "markdown",
   "id": "3919257c-bc6c-4ce0-82dd-02fe1dbacd10",
   "metadata": {},
   "source": [
    "Each wavelength has a flag:\n",
    "\n",
    "- 0 -> nondetection. The method used is detailed below.\n",
    "- 1 -> detection. The method used is the aperture photometry.\n",
    "- 2 -> point like sources. The method used is the timeline PSFfitting.\n",
    "- 3 -> overestimation of the flux density due to the presence of a background source or a companion galaxy.\n",
    "- 4 -> presence of Galactic cirri."
   ]
  },
  {
   "cell_type": "code",
   "execution_count": null,
   "id": "95d3ca48-fd9a-4df7-905c-d628256e30af",
   "metadata": {},
   "outputs": [],
   "source": [
    "[np.count_nonzero(HRS_SPIRE_catalogue['Flag250'] == i) for i in range(5)]"
   ]
  },
  {
   "cell_type": "code",
   "execution_count": null,
   "id": "45b9c0a9-63dd-40b1-9e24-28b9cc03257e",
   "metadata": {},
   "outputs": [],
   "source": [
    "[np.count_nonzero(HRS_SPIRE_catalogue['Flag350'] == i) for i in range(5)]"
   ]
  },
  {
   "cell_type": "code",
   "execution_count": null,
   "id": "ab65c88a-888e-43be-978c-e5a075a2c0cc",
   "metadata": {},
   "outputs": [],
   "source": [
    "[np.count_nonzero(HRS_SPIRE_catalogue['Flag500'] == i) for i in range(5)]"
   ]
  },
  {
   "cell_type": "code",
   "execution_count": null,
   "id": "1cd169f2-0148-4f5e-9cd6-153f1e3a7992",
   "metadata": {},
   "outputs": [],
   "source": [
    "point_sources = np.where(HRS_SPIRE_catalogue['Flag250'] == 2)\n",
    "HRS_SPIRE_catalogue[point_sources]\n",
    "\n",
    "fig, axes = new_figure('point sources', nrows=3)\n",
    "for row, wavelength in enumerate([250, 350, 500]):\n",
    "\n",
    "    band = f'SPIRE{wavelength}'\n",
    "    t = QTable.read(os.path.join(output_dir, f'{band}_photometry.fits'))\n",
    "    HiPS_flux = t[f'{band}_flux'].to_value(u.mJy)\n",
    "    HiPS_error = t[f'{band}_flux_error'].to_value(u.mJy)\n",
    "    HRS_flux = t[f'{band}_true_flux'].to_value(u.mJy)\n",
    "    HRS_error = t[f'{band}_true_err'].to_value(u.mJy)\n",
    "    good = (HiPS_error > 0)\n",
    "    good &= (HiPS_flux > 0)\n",
    "    good &= (HRS_error > 0)\n",
    "    ratio = np.array((HiPS_flux[good] / HRS_flux[good]).data)\n",
    "    point_sources = np.where(HRS_SPIRE_catalogue[good][f'Flag{wavelength}'] == 2)    \n",
    "    print(band, np.nanmean(ratio[point_sources]), np.nanpercentile(ratio[point_sources], [16, 50, 84]),\n",
    "          len(point_sources[0]), np.count_nonzero(good))\n",
    "    \n",
    "    ax = axes[row, 0]\n",
    "    ax.plot(t['b'][good], ratio, 'c.')\n",
    "    ax.plot(t['b'][good][point_sources], ratio[point_sources], 'k.')\n",
    "    ax.axhline(1/outlier_factor, c='k', ls=':')\n",
    "    ax.set_xlim(18, 52)\n",
    "    ax.set_ylim(0.1, 1.4)"
   ]
  },
  {
   "cell_type": "code",
   "execution_count": null,
   "id": "5c3e0687-db37-4ecc-9572-cc389d0b35b7",
   "metadata": {},
   "outputs": [],
   "source": [
    "t[good][point_sources]"
   ]
  },
  {
   "cell_type": "code",
   "execution_count": null,
   "id": "584f6af2-21f9-4b93-bd0c-920a2e46e7b9",
   "metadata": {},
   "outputs": [],
   "source": [
    "HRS_optical_UV_catalogue[good][point_sources]"
   ]
  },
  {
   "cell_type": "code",
   "execution_count": null,
   "id": "1b04856d-f8c9-4c10-83fc-b1c111232dc3",
   "metadata": {},
   "outputs": [],
   "source": [
    "np.count_nonzero(t['b'] < 30*u.arcsec), np.count_nonzero(t[good]['b'] < 30*u.arcsec)"
   ]
  },
  {
   "cell_type": "code",
   "execution_count": null,
   "id": "abc54afa-1d1f-4782-ac1c-fffa85924bf5",
   "metadata": {},
   "outputs": [],
   "source": [
    "np.count_nonzero(t['b'] < 30*u.arcsec)/len(t), np.count_nonzero(t[good]['b'] < 30*u.arcsec)/np.count_nonzero(good)"
   ]
  },
  {
   "cell_type": "code",
   "execution_count": null,
   "id": "02a0214a-07ee-458d-bf52-b09f1e2ab183",
   "metadata": {},
   "outputs": [],
   "source": [
    "fig, axes = new_figure('outliers_b', nrows=len(bands), figsize=(4, 2*len(bands)+1), sharey=True)\n",
    "for row, band in enumerate(bands):\n",
    "    bad = outliers(band, axes[row, 0], x_axis='b')\n",
    "    print(f\"{band}: \\t {len(bad)} \\t {bad}\")\n",
    "\n",
    "ax = axes[-1, 0]\n",
    "ax.set_xlabel('semi-minor axis [arcsec]')\n",
    "#ax.set_xlim(-.1, 20.1)\n",
    "ax.set_xscale('log')\n",
    "ax.set_ylim(.15, 5.5)\n",
    "ax.set_yscale('log')\n",
    "fig.savefig(os.path.join(output_dir, f'outliers_b.pdf'))"
   ]
  },
  {
   "cell_type": "code",
   "execution_count": null,
   "id": "a469a47b-38e7-4440-ad91-f3bd56e76d67",
   "metadata": {},
   "outputs": [],
   "source": []
  }
 ],
 "metadata": {
  "kernelspec": {
   "display_name": "Python 3 (ipykernel)",
   "language": "python",
   "name": "python3"
  },
  "language_info": {
   "codemirror_mode": {
    "name": "ipython",
    "version": 3
   },
   "file_extension": ".py",
   "mimetype": "text/x-python",
   "name": "python",
   "nbconvert_exporter": "python",
   "pygments_lexer": "ipython3",
   "version": "3.8.10"
  }
 },
 "nbformat": 4,
 "nbformat_minor": 5
}
