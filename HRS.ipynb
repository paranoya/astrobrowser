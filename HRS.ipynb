{
 "cells": [
  {
   "cell_type": "markdown",
   "id": "2cc06681-73a0-4f6d-b7a4-0ee71e3eaa84",
   "metadata": {},
   "source": [
    "# Astrobrowser - Herschel Reference Survey\n",
    "\n",
    "Explore the HiPS maps available for the galaxies in the HRS and compute aperture photometry."
   ]
  },
  {
   "cell_type": "markdown",
   "id": "41ed600e-fa52-4ba8-8cf1-ca38e9edf1e8",
   "metadata": {},
   "source": [
    "# 1. Initialisation"
   ]
  },
  {
   "cell_type": "code",
   "execution_count": 9,
   "id": "61292891-5bd2-4ff5-96a7-0b8607b89eb3",
   "metadata": {},
   "outputs": [],
   "source": [
    "%matplotlib ipympl\n",
    "import numpy as np\n",
    "from matplotlib import pyplot as plt\n",
    "from matplotlib.backends.backend_pdf import PdfPages\n",
    "from astropy.coordinates import SkyCoord\n",
    "from astropy.wcs import WCS\n",
    "from astropy.table import Table\n",
    "from astropy import units as u\n",
    "from scripts import astrobrowser\n",
    "from photutils.aperture import SkyEllipticalAperture\n",
    "import importlib"
   ]
  },
  {
   "cell_type": "markdown",
   "id": "a496e0d3-55b5-467d-bc3b-992fbd0af11e",
   "metadata": {},
   "source": [
    "## Read input catalogue"
   ]
  },
  {
   "cell_type": "code",
   "execution_count": 2,
   "id": "00b6a76f-f702-4163-b15e-3ff74c352a8e",
   "metadata": {},
   "outputs": [],
   "source": [
    "HRS_catalogue = Table.read('HRS/cortese_2014_table2.vot')"
   ]
  },
  {
   "cell_type": "code",
   "execution_count": 3,
   "id": "93999831-c2ea-4457-8830-47f8c25fd0bf",
   "metadata": {},
   "outputs": [
    {
     "data": {
      "text/html": [
       "<div><i>Table length=323</i>\n",
       "<table id=\"table139976743991424\" class=\"table-striped table-bordered table-condensed\">\n",
       "<thead><tr><th>HRS</th><th>CGCG</th><th>VCC</th><th>UGC</th><th>NGC</th><th>IC</th><th>R.A.__J.2000_</th><th>Dec__J.2000_</th><th>Type</th><th>FLAG_100</th><th>F_100</th><th>sigma_100</th><th>FLAG_160</th><th>F_160</th><th>sigma_160</th><th>a</th><th>b</th><th>P.A.</th><th>Proposal_ID</th></tr></thead>\n",
       "<thead><tr><th></th><th></th><th></th><th></th><th></th><th></th><th>hms</th><th>dms</th><th></th><th></th><th>Jy</th><th>Jy</th><th></th><th>Jy</th><th>Jy</th><th>arcsec</th><th>arcsec</th><th>deg</th><th></th></tr></thead>\n",
       "<thead><tr><th>int16</th><th>str7</th><th>int16</th><th>int16</th><th>int16</th><th>int16</th><th>str11</th><th>str11</th><th>int16</th><th>int16</th><th>float32</th><th>float32</th><th>int16</th><th>float32</th><th>float32</th><th>float32</th><th>float32</th><th>float32</th><th>str29</th></tr></thead>\n",
       "<tr><td>1</td><td>123-035</td><td>0</td><td>0</td><td>0</td><td>0</td><td>10:17:39.66</td><td>+22:48:35.9</td><td>13</td><td>1</td><td>0.748</td><td>0.169</td><td>1</td><td>0.932</td><td>0.079</td><td>48.0</td><td>40.0</td><td>-10.0</td><td>OT1_lcortese_1</td></tr>\n",
       "<tr><td>2</td><td>124-004</td><td>0</td><td>5588</td><td>0</td><td>0</td><td>10:20:57.13</td><td>+25:21:53.4</td><td>5</td><td>1</td><td>2.439</td><td>0.227</td><td>1</td><td>2.808</td><td>0.179</td><td>47.0</td><td>45.0</td><td>40.0</td><td>OT1_lcortese_1</td></tr>\n",
       "<tr><td>3</td><td>94-026</td><td>0</td><td>5617</td><td>3226</td><td>0</td><td>10:23:27.01</td><td>+19:53:54.7</td><td>0</td><td>0</td><td>0.0</td><td>0.0</td><td>2</td><td>0.846</td><td>0.087</td><td>39.0</td><td>39.0</td><td>15.0</td><td>GT1_lspinogl_2</td></tr>\n",
       "<tr><td>4</td><td>94-028</td><td>0</td><td>5620</td><td>3227</td><td>0</td><td>10:23:30.58</td><td>+19:51:54.2</td><td>3</td><td>2</td><td>17.589</td><td>1.104</td><td>2</td><td>22.675</td><td>1.165</td><td>100.0</td><td>84.0</td><td>-25.0</td><td>GT1_lspinogl_2/OT2_aalonsoh_2</td></tr>\n",
       "<tr><td>5</td><td>94-052</td><td>0</td><td>0</td><td>0</td><td>610</td><td>10:26:28.37</td><td>+20:13:41.5</td><td>7</td><td>1</td><td>4.502</td><td>0.331</td><td>1</td><td>5.563</td><td>0.528</td><td>81.0</td><td>48.0</td><td>28.0</td><td>OT1_lcortese_1</td></tr>\n",
       "<tr><td>6</td><td>154-016</td><td>0</td><td>5662</td><td>0</td><td>0</td><td>10:27:01.16</td><td>+28:38:21.9</td><td>5</td><td>1</td><td>0.275</td><td>0.14</td><td>1</td><td>0.483</td><td>0.085</td><td>62.0</td><td>22.0</td><td>-30.0</td><td>OT1_lcortese_1</td></tr>\n",
       "<tr><td>...</td><td>...</td><td>...</td><td>...</td><td>...</td><td>...</td><td>...</td><td>...</td><td>...</td><td>...</td><td>...</td><td>...</td><td>...</td><td>...</td><td>...</td><td>...</td><td>...</td><td>...</td><td>...</td></tr>\n",
       "<tr><td>318</td><td>47-070</td><td>0</td><td>9328</td><td>5645</td><td>0</td><td>14:30:39.35</td><td>+07:16:30.3</td><td>9</td><td>1</td><td>4.998</td><td>0.406</td><td>1</td><td>6.331</td><td>0.483</td><td>101.0</td><td>63.0</td><td>-75.0</td><td>OT1_lcortese_1</td></tr>\n",
       "<tr><td>319</td><td>75-064</td><td>0</td><td>9353</td><td>5669</td><td>0</td><td>14:32:43.88</td><td>+09:53:30.5</td><td>8</td><td>1</td><td>6.923</td><td>0.996</td><td>1</td><td>8.145</td><td>1.192</td><td>167.0</td><td>118.0</td><td>61.0</td><td>OT1_lcortese_1</td></tr>\n",
       "<tr><td>320</td><td>47-090</td><td>0</td><td>9363</td><td>5668</td><td>0</td><td>14:33:24.34</td><td>+04:27:01.6</td><td>9</td><td>1</td><td>7.735</td><td>2.205</td><td>1</td><td>10.256</td><td>1.478</td><td>152.0</td><td>145.0</td><td>17.0</td><td>OT1_lcortese_1</td></tr>\n",
       "<tr><td>321</td><td>47-123</td><td>0</td><td>9427</td><td>5692</td><td>0</td><td>14:38:18.12</td><td>+03:24:37.2</td><td>5</td><td>1</td><td>2.942</td><td>0.17</td><td>1</td><td>3.164</td><td>0.179</td><td>50.0</td><td>33.0</td><td>40.0</td><td>OT1_lcortese_1</td></tr>\n",
       "<tr><td>322</td><td>47-127</td><td>0</td><td>9436</td><td>5701</td><td>0</td><td>14:39:11.06</td><td>+05:21:48.8</td><td>3</td><td>1</td><td>1.453</td><td>1.035</td><td>1</td><td>1.859</td><td>1.201</td><td>124.0</td><td>120.0</td><td>-90.0</td><td>OT1_lcortese_1</td></tr>\n",
       "<tr><td>323</td><td>48-004</td><td>0</td><td>9483</td><td>0</td><td>1048</td><td>14:42:57.88</td><td>+04:53:24.5</td><td>5</td><td>1</td><td>5.689</td><td>0.391</td><td>1</td><td>7.547</td><td>0.575</td><td>101.0</td><td>47.0</td><td>-17.0</td><td>OT1_lcortese_1</td></tr>\n",
       "</table></div>"
      ],
      "text/plain": [
       "<Table length=323>\n",
       " HRS    CGCG   VCC   UGC   NGC    IC  ...  F_160  sigma_160    a       b      P.A.           Proposal_ID         \n",
       "                                      ...    Jy       Jy     arcsec  arcsec   deg                                \n",
       "int16   str7  int16 int16 int16 int16 ... float32  float32  float32 float32 float32             str29            \n",
       "----- ------- ----- ----- ----- ----- ... ------- --------- ------- ------- ------- -----------------------------\n",
       "    1 123-035     0     0     0     0 ...   0.932     0.079    48.0    40.0   -10.0                OT1_lcortese_1\n",
       "    2 124-004     0  5588     0     0 ...   2.808     0.179    47.0    45.0    40.0                OT1_lcortese_1\n",
       "    3  94-026     0  5617  3226     0 ...   0.846     0.087    39.0    39.0    15.0                GT1_lspinogl_2\n",
       "    4  94-028     0  5620  3227     0 ...  22.675     1.165   100.0    84.0   -25.0 GT1_lspinogl_2/OT2_aalonsoh_2\n",
       "    5  94-052     0     0     0   610 ...   5.563     0.528    81.0    48.0    28.0                OT1_lcortese_1\n",
       "    6 154-016     0  5662     0     0 ...   0.483     0.085    62.0    22.0   -30.0                OT1_lcortese_1\n",
       "  ...     ...   ...   ...   ...   ... ...     ...       ...     ...     ...     ...                           ...\n",
       "  318  47-070     0  9328  5645     0 ...   6.331     0.483   101.0    63.0   -75.0                OT1_lcortese_1\n",
       "  319  75-064     0  9353  5669     0 ...   8.145     1.192   167.0   118.0    61.0                OT1_lcortese_1\n",
       "  320  47-090     0  9363  5668     0 ...  10.256     1.478   152.0   145.0    17.0                OT1_lcortese_1\n",
       "  321  47-123     0  9427  5692     0 ...   3.164     0.179    50.0    33.0    40.0                OT1_lcortese_1\n",
       "  322  47-127     0  9436  5701     0 ...   1.859     1.201   124.0   120.0   -90.0                OT1_lcortese_1\n",
       "  323  48-004     0  9483     0  1048 ...   7.547     0.575   101.0    47.0   -17.0                OT1_lcortese_1"
      ]
     },
     "execution_count": 3,
     "metadata": {},
     "output_type": "execute_result"
    }
   ],
   "source": [
    "HRS_catalogue"
   ]
  },
  {
   "cell_type": "markdown",
   "id": "a9807077-5eca-4728-a40f-ab90a1e0134a",
   "metadata": {},
   "source": [
    "# 2. Aperture photometry"
   ]
  },
  {
   "cell_type": "code",
   "execution_count": 118,
   "id": "7addde79-1d55-47fc-97c6-d4d4a1409113",
   "metadata": {
    "tags": []
   },
   "outputs": [
    {
     "name": "stdout",
     "output_type": "stream",
     "text": [
      "> Downloading HRS-1:\n",
      "http://localhost:4000/api/cutout?radiusasec=96.0&pxsizeasec=2.0&radeg=154.41525&decdeg=22.80997222222222&hipsbaseuri=http://skies.esac.esa.int/Herschel/PACS160\n",
      "0.020132677743670793 0.002300069042970157\n",
      "0.02013225034504303 0.0015962231741387465\n",
      "area = 1507.96, mean(0.0215) - bg (0.0201) = 0.00133 +- 0.0016\n",
      "flux = 0.912 +- 1.09 (32.4)\n",
      "catalogue 0.932 0.079 0.9781636032920453\n",
      "> Downloading HRS-2:\n",
      "http://localhost:4000/api/cutout?radiusasec=94.0&pxsizeasec=2.0&radeg=155.23804166666665&decdeg=25.364833333333333&hipsbaseuri=http://skies.esac.esa.int/Herschel/PACS160\n",
      "0.018665887365723062 0.002065903189266343\n",
      "0.018614324339165652 0.001461277969501305\n",
      "area = 1661.12, mean(0.0227) - bg (0.0186) = 0.00406 +- 0.00146\n",
      "flux = 3 +- 1.08 (37.7)\n",
      "catalogue 2.808 0.179 1.0687790362191212\n"
     ]
    },
    {
     "name": "stderr",
     "output_type": "stream",
     "text": [
      "WARNING: File may have been truncated: actual file length (76608) is smaller than the expected size (77760) [astropy.io.fits.file]\n",
      "WARNING: File may have been truncated: actual file length (73568) is smaller than the expected size (74880) [astropy.io.fits.file]\n"
     ]
    },
    {
     "name": "stdout",
     "output_type": "stream",
     "text": [
      "> Downloading HRS-3:\n",
      "http://localhost:4000/api/cutout?radiusasec=78.0&pxsizeasec=2.0&radeg=155.86254166666663&decdeg=19.898527777777776&hipsbaseuri=http://skies.esac.esa.int/Herschel/PACS160\n",
      "0.022365454384800077 0.00272625009748945\n",
      "0.022136228926025542 0.0017889961838879545\n",
      "area = 1194.59, mean(0.0222) - bg (0.0221) = 8.08e-05 +- 0.00179\n",
      "flux = 0.0447 +- 0.99 (26.5)\n",
      "catalogue 0.846 0.087 0.05283312883877898\n",
      "> Downloading HRS-4:\n",
      "http://localhost:4000/api/cutout?radiusasec=200.0&pxsizeasec=2.0&radeg=155.87741666666665&decdeg=19.865055555555557&hipsbaseuri=http://skies.esac.esa.int/Herschel/PACS160\n",
      "0.02181892458139672 0.002572536999031441\n",
      "0.021614508338388502 0.001772304936870584\n",
      "area = 6597.34, mean(0.0284) - bg (0.0216) = 0.00681 +- 0.00177\n",
      "flux = 20.8 +- 5.42 (188)\n",
      "catalogue 22.675 1.165 0.9178142514587978\n"
     ]
    },
    {
     "name": "stderr",
     "output_type": "stream",
     "text": [
      "WARNING: File may have been truncated: actual file length (51552) is smaller than the expected size (51840) [astropy.io.fits.file]\n",
      "WARNING: File may have been truncated: actual file length (322880) is smaller than the expected size (325440) [astropy.io.fits.file]\n"
     ]
    },
    {
     "name": "stdout",
     "output_type": "stream",
     "text": [
      "> Downloading HRS-5:\n",
      "http://localhost:4000/api/cutout?radiusasec=162.0&pxsizeasec=2.0&radeg=156.6182083333333&decdeg=20.228194444444444&hipsbaseuri=http://skies.esac.esa.int/Herschel/PACS160\n",
      "0.019301775503616468 0.003341268284676204\n",
      "0.019245709566438375 0.00229900979487013\n",
      "area = 3053.63, mean(0.0233) - bg (0.0192) = 0.00401 +- 0.0023\n",
      "flux = 5.66 +- 3.24 (71)\n",
      "catalogue 5.563 0.528 1.0180567567425878\n",
      "> Downloading HRS-6:\n",
      "http://localhost:4000/api/cutout?radiusasec=124.0&pxsizeasec=2.0&radeg=156.7548333333333&decdeg=28.639416666666666&hipsbaseuri=http://skies.esac.esa.int/Herschel/PACS160\n",
      "0.022292428435353808 0.000981101258884877\n",
      "0.022274669651237616 0.0006863795932521443\n",
      "area = 1071.28, mean(0.0235) - bg (0.0223) = 0.00119 +- 0.000686\n",
      "flux = 0.552 +- 0.318 (25.1)\n",
      "catalogue 0.483 0.085 1.1430657786882608\n"
     ]
    },
    {
     "name": "stderr",
     "output_type": "stream",
     "text": [
      "WARNING: File may have been truncated: actual file length (212832) is smaller than the expected size (213120) [astropy.io.fits.file]\n",
      "WARNING: File may have been truncated: actual file length (125888) is smaller than the expected size (126720) [astropy.io.fits.file]\n"
     ]
    },
    {
     "name": "stdout",
     "output_type": "stream",
     "text": [
      "> Downloading HRS-7:\n",
      "http://localhost:4000/api/cutout?radiusasec=96.0&pxsizeasec=2.0&radeg=156.82662499999998&decdeg=28.50738888888889&hipsbaseuri=http://skies.esac.esa.int/Herschel/PACS160\n",
      "0.02286965242582422 0.0027857320323266856\n",
      "0.022841541158256044 0.002076394073869165\n",
      "area = 1130.97, mean(0.0295) - bg (0.0228) = 0.00667 +- 0.00208\n",
      "flux = 3.27 +- 1.02 (33.4)\n",
      "catalogue 2.843 0.151 1.149113820025933\n",
      "> Downloading HRS-8:\n",
      "http://localhost:4000/api/cutout?radiusasec=420.0&pxsizeasec=2.0&radeg=157.33299999999997&decdeg=29.491444444444447&hipsbaseuri=http://skies.esac.esa.int/Herschel/PACS160\n",
      "0.02289583691920761 0.0016108505959904033\n",
      "0.022891152698972322 0.0010405264114447844\n",
      "area = 10885.62, mean(0.0242) - bg (0.0229) = 0.00131 +- 0.00104\n",
      "flux = 6.12 +- 4.86 (263)\n",
      "catalogue 4.641 1.041 1.317665013468188\n"
     ]
    },
    {
     "name": "stderr",
     "output_type": "stream",
     "text": [
      "WARNING: File may have been truncated: actual file length (76608) is smaller than the expected size (77760) [astropy.io.fits.file]\n"
     ]
    },
    {
     "name": "stdout",
     "output_type": "stream",
     "text": [
      "> Downloading HRS-9:\n",
      "http://localhost:4000/api/cutout?radiusasec=164.0&pxsizeasec=2.0&radeg=158.23104166666664&decdeg=28.51172222222222&hipsbaseuri=http://skies.esac.esa.int/Herschel/PACS160\n",
      "0.022111642654761825 0.0027535572716487246\n",
      "0.022094640307461035 0.0019090094451077464\n",
      "area = 4701.39, mean(0.0231) - bg (0.0221) = 0.000983 +- 0.00191\n",
      "flux = 2 +- 3.88 (108)\n",
      "catalogue 3.037 0.523 0.6586810305236698\n",
      "> Downloading HRS-10:\n",
      "http://localhost:4000/api/cutout?radiusasec=112.0&pxsizeasec=2.0&radeg=158.62424999999996&decdeg=35.25677777777778&hipsbaseuri=http://skies.esac.esa.int/Herschel/PACS160\n",
      "0.018621477649816656 0.0023989384185032735\n",
      "0.01857697746705372 0.0016457654017622582\n",
      "area = 1891.24, mean(0.0198) - bg (0.0186) = 0.00124 +- 0.00165\n",
      "flux = 0.943 +- 1.25 (37.5)\n",
      "catalogue 0.788 0.094 1.1969844895915123\n",
      "> Downloading HRS-11:\n",
      "http://localhost:4000/api/cutout?radiusasec=176.0&pxsizeasec=2.0&radeg=158.69712499999997&decdeg=21.648333333333333&hipsbaseuri=http://skies.esac.esa.int/Herschel/PACS160\n"
     ]
    },
    {
     "name": "stderr",
     "output_type": "stream",
     "text": [
      "WARNING: File may have been truncated: actual file length (218048) is smaller than the expected size (218880) [astropy.io.fits.file]\n",
      "WARNING: File may have been truncated: actual file length (103232) is smaller than the expected size (103680) [astropy.io.fits.file]\n",
      "WARNING: File may have been truncated: actual file length (250688) is smaller than the expected size (253440) [astropy.io.fits.file]\n"
     ]
    },
    {
     "name": "stdout",
     "output_type": "stream",
     "text": [
      "0.02326250991427017 0.0052353314068464656\n",
      "0.023127376212658465 0.0038689151003142444\n",
      "area = 2833.72, mean(0.0284) - bg (0.0231) = 0.00522 +- 0.00387\n",
      "flux = 6.78 +- 5.02 (80.3)\n",
      "catalogue 6.148 0.409 1.1022856826261596\n",
      "> Downloading HRS-12:\n",
      "http://localhost:4000/api/cutout?radiusasec=58.0&pxsizeasec=2.0&radeg=158.92529166666665&decdeg=26.12602777777778&hipsbaseuri=http://skies.esac.esa.int/Herschel/PACS160\n",
      "0.018216111670937757 0.0015063162989038675\n",
      "0.018171092959197558 0.0010363744374023622\n",
      "area = 501.08, mean(0.0208) - bg (0.0182) = 0.00259 +- 0.00104\n",
      "flux = 0.574 +- 0.23 (10.4)\n",
      "catalogue 0.492 0.05 1.1660838082037872\n",
      "> Downloading HRS-13:\n",
      "http://localhost:4000/api/cutout?radiusasec=298.0&pxsizeasec=2.0&radeg=159.06770833333331&decdeg=37.32469444444445&hipsbaseuri=http://skies.esac.esa.int/Herschel/PACS160\n"
     ]
    },
    {
     "name": "stderr",
     "output_type": "stream",
     "text": [
      "WARNING: File may have been truncated: actual file length (29792) is smaller than the expected size (31680) [astropy.io.fits.file]\n",
      "WARNING: File may have been truncated: actual file length (713312) is smaller than the expected size (714240) [astropy.io.fits.file]\n"
     ]
    },
    {
     "name": "stdout",
     "output_type": "stream",
     "text": [
      "0.020784911886992316 0.006004260271673825\n",
      "0.020367148433073332 0.004077606704098425\n",
      "area = 8893.85, mean(0.0277) - bg (0.0204) = 0.00729 +- 0.00408\n",
      "flux = 25.4 +- 14.2 (246)\n",
      "catalogue 25.224 1.717 1.0069054651041676\n",
      "> Downloading HRS-14:\n",
      "http://localhost:4000/api/cutout?radiusasec=70.0&pxsizeasec=2.0&radeg=159.23349999999996&decdeg=21.88213888888889&hipsbaseuri=http://skies.esac.esa.int/Herschel/PACS160\n",
      "0.019319273705736103 0.0016462567293185695\n",
      "0.019307959336582487 0.0012096164296347977\n",
      "area = 962.11, mean(0.0205) - bg (0.0193) = 0.0012 +- 0.00121\n",
      "flux = 0.527 +- 0.532 (19.7)\n",
      "catalogue 0.372 0.106 1.4171698310662075\n",
      "> Downloading HRS-15:\n",
      "http://localhost:4000/api/cutout?radiusasec=494.0&pxsizeasec=2.0&radeg=160.53141666666664&decdeg=13.747&hipsbaseuri=http://skies.esac.esa.int/Herschel/PACS160\n"
     ]
    },
    {
     "name": "stderr",
     "output_type": "stream",
     "text": [
      "WARNING: File may have been truncated: actual file length (42080) is smaller than the expected size (43200) [astropy.io.fits.file]\n",
      "WARNING: File may have been truncated: actual file length (1955168) is smaller than the expected size (1955520) [astropy.io.fits.file]\n"
     ]
    },
    {
     "name": "stdout",
     "output_type": "stream",
     "text": [
      "0.02278338296349823 0.0018016841171803535\n",
      "0.02277257936397504 0.0011310010472082882\n",
      "area = 29486.99, mean(0.0244) - bg (0.0228) = 0.00161 +- 0.00113\n",
      "flux = 22.7 +- 16 (719)\n",
      "catalogue 20.386 2.277 1.1139108061819836\n",
      "> Downloading HRS-16:\n",
      "http://localhost:4000/api/cutout?radiusasec=226.0&pxsizeasec=2.0&radeg=160.91212499999997&decdeg=14.871861111111112&hipsbaseuri=http://skies.esac.esa.int/Herschel/PACS160\n",
      "0.02446765410230802 0.0011170689281419163\n",
      "0.024419764649264576 0.0007705917247022757\n",
      "area = 8697.50, mean(0.0272) - bg (0.0244) = 0.00281 +- 0.000771\n",
      "flux = 11.6 +- 3.19 (237)\n",
      "catalogue 10.294 0.785 1.12909217244867\n",
      "> Downloading HRS-17:\n",
      "http://localhost:4000/api/cutout?radiusasec=266.0&pxsizeasec=2.0&radeg=161.76687499999997&decdeg=17.273694444444445&hipsbaseuri=http://skies.esac.esa.int/Herschel/PACS160\n",
      "0.021926684079177593 0.0011243085606374055\n",
      "0.021898751804201456 0.0007913598933208836\n",
      "area = 7834.35, mean(0.026) - bg (0.0219) = 0.00413 +- 0.000791\n",
      "flux = 15.2 +- 2.92 (204)\n",
      "catalogue 12.793 0.832 1.188654365565418\n"
     ]
    },
    {
     "name": "stderr",
     "output_type": "stream",
     "text": [
      "WARNING: File may have been truncated: actual file length (411488) is smaller than the expected size (411840) [astropy.io.fits.file]\n",
      "WARNING: File may have been truncated: actual file length (568928) is smaller than the expected size (570240) [astropy.io.fits.file]\n"
     ]
    },
    {
     "name": "stdout",
     "output_type": "stream",
     "text": [
      "> Downloading HRS-18:\n",
      "http://localhost:4000/api/cutout?radiusasec=142.0&pxsizeasec=2.0&radeg=162.05070833333332&decdeg=28.601805555555558&hipsbaseuri=http://skies.esac.esa.int/Herschel/PACS160\n",
      "0.02040620765292263 0.003625043875084201\n",
      "0.02031466289323979 0.0023182080126228667\n",
      "area = 3178.51, mean(0.0217) - bg (0.0203) = 0.00138 +- 0.00232\n",
      "flux = 1.9 +- 3.19 (69)\n",
      "catalogue 2.015 0.241 0.9445353524564316\n",
      "> Downloading HRS-19:\n",
      "http://localhost:4000/api/cutout?radiusasec=172.0&pxsizeasec=2.0&radeg=162.10341666666667&decdeg=34.71141666666667&hipsbaseuri=http://skies.esac.esa.int/Herschel/PACS160\n",
      "0.0197671716899642 0.003685547140565369\n",
      "0.019697234941134772 0.0025993323575542126\n",
      "area = 5268.45, mean(0.0214) - bg (0.0197) = 0.00172 +- 0.0026\n",
      "flux = 3.68 +- 5.54 (113)\n",
      "catalogue 4.371 0.375 0.8415915333576719\n"
     ]
    },
    {
     "name": "stderr",
     "output_type": "stream",
     "text": [
      "WARNING: File may have been truncated: actual file length (164192) is smaller than the expected size (167040) [astropy.io.fits.file]\n",
      "WARNING: File may have been truncated: actual file length (239552) is smaller than the expected size (241920) [astropy.io.fits.file]\n"
     ]
    },
    {
     "name": "stdout",
     "output_type": "stream",
     "text": [
      "> Downloading HRS-20:\n",
      "http://localhost:4000/api/cutout?radiusasec=168.0&pxsizeasec=2.0&radeg=162.45879166666666&decdeg=32.98286111111111&hipsbaseuri=http://skies.esac.esa.int/Herschel/PACS160\n",
      "0.020717606425305526 0.000575147607036558\n",
      "0.02065991388262793 0.0003954818069133109\n",
      "area = 4156.33, mean(0.03) - bg (0.0207) = 0.00938 +- 0.000395\n",
      "flux = 16.1 +- 0.679 (125)\n",
      "catalogue 16.068 0.871 1.002814294818406\n",
      "> Downloading HRS-21:\n",
      "http://localhost:4000/api/cutout?radiusasec=156.0&pxsizeasec=2.0&radeg=162.81587499999998&decdeg=27.848583333333334&hipsbaseuri=http://skies.esac.esa.int/Herschel/PACS160\n",
      "0.02335794189882544 0.003864818875691376\n",
      "0.0233534988560697 0.002861236191180232\n",
      "area = 2756.75, mean(0.0244) - bg (0.0234) = 0.00104 +- 0.00286\n",
      "flux = 1.25 +- 3.43 (67.2)\n",
      "catalogue 1.084 0.148 1.1507685327536399\n"
     ]
    },
    {
     "name": "stderr",
     "output_type": "stream",
     "text": [
      "WARNING: File may have been truncated: actual file length (228672) is smaller than the expected size (230400) [astropy.io.fits.file]\n",
      "WARNING: File may have been truncated: actual file length (197568) is smaller than the expected size (198720) [astropy.io.fits.file]\n"
     ]
    },
    {
     "name": "stdout",
     "output_type": "stream",
     "text": [
      "> Downloading HRS-22:\n",
      "http://localhost:4000/api/cutout?radiusasec=80.0&pxsizeasec=2.0&radeg=162.817625&decdeg=27.974999999999998&hipsbaseuri=http://skies.esac.esa.int/Herschel/PACS160\n",
      "0.022123123821894332 0.0026067958959194483\n",
      "0.022114496473878625 0.0018661316033661715\n",
      "area = 1130.97, mean(0.0234) - bg (0.0221) = 0.0013 +- 0.00187\n",
      "flux = 0.639 +- 0.918 (26.5)\n",
      "catalogue 0.685 0.118 0.933474385080727\n",
      "> Downloading HRS-23:\n",
      "http://localhost:4000/api/cutout?radiusasec=218.0&pxsizeasec=2.0&radeg=162.94304166666663&decdeg=32.900749999999995&hipsbaseuri=http://skies.esac.esa.int/Herschel/PACS160\n",
      "0.01892889037801939 0.000958239268507053\n",
      "0.018899781406694273 0.0006784826593531468\n",
      "area = 5050.90, mean(0.0297) - bg (0.0189) = 0.0108 +- 0.000678\n",
      "flux = 22.5 +- 1.42 (150)\n",
      "catalogue 19.636 1.076 1.146126313765584\n"
     ]
    },
    {
     "name": "stderr",
     "output_type": "stream",
     "text": [
      "WARNING: File may have been truncated: actual file length (54080) is smaller than the expected size (54720) [astropy.io.fits.file]\n",
      "WARNING: File may have been truncated: actual file length (383072) is smaller than the expected size (385920) [astropy.io.fits.file]\n"
     ]
    },
    {
     "name": "stdout",
     "output_type": "stream",
     "text": [
      "> Downloading HRS-24:\n",
      "http://localhost:4000/api/cutout?radiusasec=334.0&pxsizeasec=2.0&radeg=163.04754166666663&decdeg=32.95041666666667&hipsbaseuri=http://skies.esac.esa.int/Herschel/PACS160\n",
      "0.019258260826531814 0.0011701587161103595\n",
      "0.019225192434586813 0.000820665308596484\n",
      "area = 12329.18, mean(0.0231) - bg (0.0192) = 0.00385 +- 0.000821\n",
      "flux = 19.6 +- 4.18 (285)\n",
      "catalogue 16.037 1.577 1.2246251479830883\n",
      "> Downloading HRS-25:\n",
      "http://localhost:4000/api/cutout?radiusasec=202.0&pxsizeasec=2.0&radeg=163.14895833333333&decdeg=22.93413888888889&hipsbaseuri=http://skies.esac.esa.int/Herschel/PACS160\n",
      "0.020845594314022782 0.004381685634921424\n",
      "0.02072521960003508 0.0030278981983078183\n",
      "area = 5314.79, mean(0.0304) - bg (0.0207) = 0.00966 +- 0.00303\n",
      "flux = 23.3 +- 7.3 (162)\n",
      "catalogue 21.174 1.142 1.1002448514065708\n"
     ]
    },
    {
     "name": "stderr",
     "output_type": "stream",
     "text": [
      "WARNING: File may have been truncated: actual file length (895328) is smaller than the expected size (895680) [astropy.io.fits.file]\n",
      "WARNING: File may have been truncated: actual file length (329312) is smaller than the expected size (331200) [astropy.io.fits.file]\n"
     ]
    },
    {
     "name": "stdout",
     "output_type": "stream",
     "text": [
      "> Downloading HRS-26:\n",
      "http://localhost:4000/api/cutout?radiusasec=116.0&pxsizeasec=2.0&radeg=163.15975&decdeg=34.48313888888889&hipsbaseuri=http://skies.esac.esa.int/Herschel/PACS160\n",
      "0.02148283242962093 0.0027937432343025717\n",
      "0.021500349243120914 0.0020972031204304045\n",
      "area = 1594.36, mean(0.0231) - bg (0.0215) = 0.0016 +- 0.0021\n",
      "flux = 1.04 +- 1.36 (36.8)\n",
      "catalogue 0.864 0.106 1.2012482812417593\n",
      "> Downloading HRS-27:\n",
      "http://localhost:4000/api/cutout?radiusasec=112.0&pxsizeasec=2.0&radeg=163.28379166666664&decdeg=33.91036111111111&hipsbaseuri=http://skies.esac.esa.int/Herschel/PACS160\n",
      "0.019928091905786552 0.0010947020794464003\n",
      "0.019900569657147624 0.0007559559644932578\n",
      "area = 2111.15, mean(0.0241) - bg (0.0199) = 0.00417 +- 0.000756\n",
      "flux = 3.6 +- 0.652 (50.8)\n",
      "catalogue 3.173 0.253 1.133217889551228\n",
      "> Downloading HRS-28:\n",
      "http://localhost:4000/api/cutout?radiusasec=160.0&pxsizeasec=2.0&radeg=163.58691666666664&decdeg=27.239694444444446&hipsbaseuri=http://skies.esac.esa.int/Herschel/PACS160\n"
     ]
    },
    {
     "name": "stderr",
     "output_type": "stream",
     "text": [
      "WARNING: File may have been truncated: actual file length (110528) is smaller than the expected size (112320) [astropy.io.fits.file]\n",
      "WARNING: File may have been truncated: actual file length (103232) is smaller than the expected size (103680) [astropy.io.fits.file]\n",
      "WARNING: File may have been truncated: actual file length (207680) is smaller than the expected size (210240) [astropy.io.fits.file]\n"
     ]
    },
    {
     "name": "stdout",
     "output_type": "stream",
     "text": [
      "0.026608559881905018 0.0031526469204334467\n",
      "0.026555283368706363 0.002276197496535047\n",
      "area = 3015.93, mean(0.0304) - bg (0.0266) = 0.00384 +- 0.00228\n",
      "flux = 5.07 +- 3.01 (91.7)\n",
      "catalogue 5.184 0.321 0.9783100015372784\n",
      "> Downloading HRS-29:\n",
      "http://localhost:4000/api/cutout?radiusasec=180.0&pxsizeasec=2.0&radeg=163.62270833333332&decdeg=17.34397222222222&hipsbaseuri=http://skies.esac.esa.int/Herschel/PACS160\n",
      "0.021800948584274206 0.0010930661890354437\n",
      "0.021785970983085486 0.000767835344841575\n",
      "area = 3604.98, mean(0.0239) - bg (0.0218) = 0.0021 +- 0.000768\n",
      "flux = 3.56 +- 1.3 (86.1)\n",
      "catalogue 3.422 0.326 1.0416162461680236\n",
      "> Downloading HRS-30:\n",
      "http://localhost:4000/api/cutout?radiusasec=200.0&pxsizeasec=2.0&radeg=163.62945833333333&decdeg=17.28463888888889&hipsbaseuri=http://skies.esac.esa.int/Herschel/PACS160\n",
      "0.021878081307450777 0.0011963032101479712\n",
      "0.021857729892041673 0.0008313384940183328\n",
      "area = 4869.47, mean(0.0237) - bg (0.0219) = 0.0018 +- 0.000831\n",
      "flux = 4.13 +- 1.9 (115)\n",
      "catalogue 3.859 0.37 1.069094023528892\n",
      "> Downloading HRS-31:\n",
      "http://localhost:4000/api/cutout?radiusasec=472.0&pxsizeasec=2.0&radeg=163.66349999999997&decdeg=54.30522222222222&hipsbaseuri=http://skies.esac.esa.int/Herschel/PACS160\n",
      "0.01935456456101753 0.0012088255303218769\n",
      "0.01934597207650344 0.0008130002937370962\n",
      "area = 13901.55, mean(0.0225) - bg (0.0193) = 0.0032 +- 0.000813\n",
      "flux = 12.8 +- 3.25 (313)\n",
      "catalogue 10.63 1.579 1.2015663846250493\n"
     ]
    },
    {
     "name": "stderr",
     "output_type": "stream",
     "text": [
      "WARNING: File may have been truncated: actual file length (322880) is smaller than the expected size (325440) [astropy.io.fits.file]\n",
      "WARNING: File may have been truncated: actual file length (1792712) is smaller than the expected size (1794240) [astropy.io.fits.file]\n"
     ]
    },
    {
     "name": "stdout",
     "output_type": "stream",
     "text": [
      "> Downloading HRS-32:\n",
      "http://localhost:4000/api/cutout?radiusasec=40.0&pxsizeasec=2.0&radeg=163.702625&decdeg=17.621194444444445&hipsbaseuri=http://skies.esac.esa.int/Herschel/PACS160\n",
      "0.02644106672932276 0.00124605807347938\n",
      "0.026453787012723946 0.000878247338359278\n",
      "area = 314.16, mean(0.0273) - bg (0.0265) = 0.00081 +- 0.000878\n",
      "flux = 0.119 +- 0.129 (8.57)\n",
      "catalogue 0.182 0.034 0.6565456657583958\n",
      "> Downloading HRS-33:\n",
      "http://localhost:4000/api/cutout?radiusasec=176.0&pxsizeasec=2.0&radeg=165.00991666666664&decdeg=14.841583333333334&hipsbaseuri=http://skies.esac.esa.int/Herschel/PACS160\n",
      "0.020389704547342645 0.0037766378074248694\n",
      "0.020296379932696933 0.0025254187065087397\n",
      "area = 5321.86, mean(0.0225) - bg (0.0203) = 0.00219 +- 0.00253\n",
      "flux = 5.55 +- 6.4 (120)\n",
      "catalogue 6.83 0.532 0.8132966373545273\n"
     ]
    },
    {
     "name": "stderr",
     "output_type": "stream",
     "text": [
      "WARNING: File may have been truncated: actual file length (15680) is smaller than the expected size (17280) [astropy.io.fits.file]\n",
      "WARNING: File may have been truncated: actual file length (250688) is smaller than the expected size (253440) [astropy.io.fits.file]\n"
     ]
    },
    {
     "name": "stdout",
     "output_type": "stream",
     "text": [
      "> Downloading HRS-34:\n",
      "http://localhost:4000/api/cutout?radiusasec=334.0&pxsizeasec=2.0&radeg=165.69716666666665&decdeg=17.9895&hipsbaseuri=http://skies.esac.esa.int/Herschel/PACS160\n",
      "0.019324448675994088 0.0013260168061433701\n",
      "0.019318002994074622 0.0008989518843539209\n",
      "area = 6820.40, mean(0.0223) - bg (0.0193) = 0.00301 +- 0.000899\n",
      "flux = 9.6 +- 2.87 (152)\n",
      "catalogue 8.619 0.832 1.1143762605917473\n",
      "> Downloading HRS-35:\n",
      "http://localhost:4000/api/cutout?radiusasec=68.0&pxsizeasec=2.0&radeg=165.79595833333332&decdeg=56.221722222222226&hipsbaseuri=http://skies.esac.esa.int/Herschel/PACS160\n",
      "0.019530409124434128 0.0013818735868032124\n",
      "0.019496697843320338 0.0009938246045598095\n",
      "area = 801.11, mean(0.021) - bg (0.0195) = 0.00152 +- 0.000994\n",
      "flux = 0.333 +- 0.218 (16.8)\n",
      "catalogue 0.273 0.081 1.2195947222793093\n"
     ]
    },
    {
     "name": "stderr",
     "output_type": "stream",
     "text": [
      "WARNING: File may have been truncated: actual file length (895328) is smaller than the expected size (895680) [astropy.io.fits.file]\n",
      "WARNING: File may have been truncated: actual file length (39872) is smaller than the expected size (40320) [astropy.io.fits.file]\n"
     ]
    },
    {
     "name": "stdout",
     "output_type": "stream",
     "text": [
      "> Downloading HRS-36:\n",
      "http://localhost:4000/api/cutout?radiusasec=226.0&pxsizeasec=2.0&radeg=165.79670833333333&decdeg=27.972499999999997&hipsbaseuri=http://skies.esac.esa.int/Herschel/PACS160\n",
      "0.026541412167932998 0.001138796847862611\n",
      "0.026500765585412443 0.0008015151920890412\n",
      "area = 7810.00, mean(0.0371) - bg (0.0265) = 0.0106 +- 0.000802\n",
      "flux = 36.1 +- 2.72 (290)\n",
      "catalogue 31.358 1.651 1.1505085702962348\n",
      "> Downloading HRS-37:\n",
      "http://localhost:4000/api/cutout?radiusasec=136.0&pxsizeasec=2.0&radeg=166.01241666666664&decdeg=28.036805555555556&hipsbaseuri=http://skies.esac.esa.int/Herschel/PACS160\n",
      "0.02676516165129814 0.0028905308816769143\n",
      "0.026722635486986213 0.0020897310173792977\n",
      "area = 3364.65, mean(0.0302) - bg (0.0267) = 0.00352 +- 0.00209\n",
      "flux = 5.14 +- 3.06 (102)\n",
      "catalogue 5.328 0.513 0.9655052571785518\n",
      "> Downloading HRS-38:\n",
      "http://localhost:4000/api/cutout?radiusasec=166.0&pxsizeasec=2.0&radeg=166.7359583333333&decdeg=7.173916666666667&hipsbaseuri=http://skies.esac.esa.int/Herschel/PACS160\n"
     ]
    },
    {
     "name": "stderr",
     "output_type": "stream",
     "text": [
      "WARNING: File may have been truncated: actual file length (411488) is smaller than the expected size (411840) [astropy.io.fits.file]\n",
      "WARNING: File may have been truncated: actual file length (150848) is smaller than the expected size (152640) [astropy.io.fits.file]\n",
      "WARNING: File may have been truncated: actual file length (223328) is smaller than the expected size (224640) [astropy.io.fits.file]\n"
     ]
    },
    {
     "name": "stdout",
     "output_type": "stream",
     "text": [
      "0.022708789953370025 0.004545952900920091\n",
      "0.022665448047313554 0.003373889730752168\n",
      "area = 2933.46, mean(0.0242) - bg (0.0227) = 0.00154 +- 0.00337\n",
      "flux = 2.21 +- 4.84 (71)\n",
      "catalogue 1.886 0.286 1.1711035645017032\n",
      "> Downloading HRS-39:\n",
      "http://localhost:4000/api/cutout?radiusasec=162.0&pxsizeasec=2.0&radeg=166.76395833333333&decdeg=12.060055555555556&hipsbaseuri=http://skies.esac.esa.int/Herschel/PACS160\n",
      "0.022770971315993406 0.002860063602831156\n",
      "0.022731986283862398 0.002149970224224586\n",
      "area = 2481.07, mean(0.0237) - bg (0.0227) = 0.000939 +- 0.00215\n",
      "flux = 1.12 +- 2.57 (58.7)\n",
      "catalogue 1.199 0.333 0.9358753141503191\n"
     ]
    },
    {
     "name": "stderr",
     "output_type": "stream",
     "text": [
      "WARNING: File may have been truncated: actual file length (212832) is smaller than the expected size (213120) [astropy.io.fits.file]\n",
      "WARNING: File may have been truncated: actual file length (207680) is smaller than the expected size (210240) [astropy.io.fits.file]\n"
     ]
    },
    {
     "name": "stdout",
     "output_type": "stream",
     "text": [
      "> Downloading HRS-40:\n",
      "http://localhost:4000/api/cutout?radiusasec=160.0&pxsizeasec=2.0&radeg=167.48308333333333&decdeg=10.720833333333333&hipsbaseuri=http://skies.esac.esa.int/Herschel/PACS160\n",
      "0.021772899113864617 0.0032424084467462914\n",
      "0.02170939024901934 0.002277536867336806\n",
      "area = 2450.44, mean(0.0256) - bg (0.0217) = 0.00392 +- 0.00228\n",
      "flux = 4.65 +- 2.7 (62.8)\n",
      "catalogue 4.51 0.363 1.0307058758782603\n",
      "> Downloading HRS-41:\n",
      "http://localhost:4000/api/cutout?radiusasec=148.0&pxsizeasec=2.0&radeg=168.61354166666663&decdeg=17.26013888888889&hipsbaseuri=http://skies.esac.esa.int/Herschel/PACS160\n",
      "0.02140676176569994 0.003974710368453701\n",
      "0.0214088874312628 0.002869678182964104\n",
      "area = 2382.90, mean(0.0226) - bg (0.0214) = 0.00123 +- 0.00287\n",
      "flux = 1.38 +- 3.22 (53.9)\n",
      "catalogue 1.584 0.144 0.8694383461806646\n"
     ]
    },
    {
     "name": "stderr",
     "output_type": "stream",
     "text": [
      "WARNING: File may have been truncated: actual file length (178112) is smaller than the expected size (178560) [astropy.io.fits.file]\n",
      "WARNING: File may have been truncated: actual file length (938592) is smaller than the expected size (938880) [astropy.io.fits.file]\n"
     ]
    },
    {
     "name": "stdout",
     "output_type": "stream",
     "text": [
      "> Downloading HRS-42:\n",
      "http://localhost:4000/api/cutout?radiusasec=342.0&pxsizeasec=2.0&radeg=168.77587499999998&decdeg=14.787083333333333&hipsbaseuri=http://skies.esac.esa.int/Herschel/PACS160\n",
      "0.019723040829571364 0.001303189881290176\n",
      "0.01970642755279267 0.0008827720145849873\n",
      "area = 21891.40, mean(0.0216) - bg (0.0197) = 0.00187 +- 0.000883\n",
      "flux = 19.5 +- 9.2 (472)\n",
      "catalogue 18.583 1.787 1.0496068215030094\n",
      "> Downloading HRS-43:\n",
      "http://localhost:4000/api/cutout?radiusasec=56.0&pxsizeasec=2.0&radeg=169.24566666666666&decdeg=18.148583333333335&hipsbaseuri=http://skies.esac.esa.int/Herschel/PACS160\n",
      "0.020277927837969 0.0014505402103215728\n",
      "0.020250354502047804 0.001116531756816238\n",
      "area = 615.75, mean(0.0207) - bg (0.0203) = 0.000466 +- 0.00112\n",
      "flux = 0.134 +- 0.322 (12.8)\n",
      "catalogue 0.187 0.0 0.7179818898380181\n"
     ]
    },
    {
     "name": "stderr",
     "output_type": "stream",
     "text": [
      "WARNING: File may have been truncated: actual file length (27968) is smaller than the expected size (28800) [astropy.io.fits.file]\n",
      "WARNING: File may have been truncated: actual file length (96192) is smaller than the expected size (97920) [astropy.io.fits.file]\n",
      "WARNING: File may have been truncated: actual file length (197568) is smaller than the expected size (198720) [astropy.io.fits.file]\n"
     ]
    },
    {
     "name": "stdout",
     "output_type": "stream",
     "text": [
      "> Downloading HRS-44:\n",
      "http://localhost:4000/api/cutout?radiusasec=108.0&pxsizeasec=2.0&radeg=169.57183333333333&decdeg=18.846944444444443&hipsbaseuri=http://skies.esac.esa.int/Herschel/PACS160\n",
      "0.020867861504626658 0.0024720361159592252\n",
      "0.020830243907506353 0.0018473907664217542\n",
      "area = 2162.99, mean(0.0231) - bg (0.0208) = 0.00225 +- 0.00185\n",
      "flux = 2.27 +- 1.86 (49.9)\n",
      "catalogue 1.982 0.208 1.143472545608377\n",
      "> Downloading HRS-45:\n",
      "http://localhost:4000/api/cutout?radiusasec=156.0&pxsizeasec=2.0&radeg=169.83999999999997&decdeg=57.75772222222222&hipsbaseuri=http://skies.esac.esa.int/Herschel/PACS160\n",
      "0.02278149320477628 0.002677359123808308\n",
      "0.022750218614274554 0.0020131121634991236\n",
      "area = 4594.58, mean(0.0246) - bg (0.0228) = 0.00181 +- 0.00201\n",
      "flux = 2.19 +- 2.43 (113)\n",
      "catalogue 2.72 0.439 0.8035883403995746\n",
      "> Downloading HRS-46:\n",
      "http://localhost:4000/api/cutout?radiusasec=118.0&pxsizeasec=2.0&radeg=170.01583333333332&decdeg=18.356805555555557&hipsbaseuri=http://skies.esac.esa.int/Herschel/PACS160\n",
      "0.010066062495491874 0.000517929768256967\n",
      "0.010039308269204055 0.00036977102212355496\n",
      "area = 2502.28, mean(0.0149) - bg (0.01) = 0.00489 +- 0.00037\n",
      "flux = 5.72 +- 0.432 (37.4)\n",
      "catalogue 4.9 0.284 1.1681288067417561\n",
      "> Downloading HRS-47:\n",
      "http://localhost:4000/api/cutout?radiusasec=192.0&pxsizeasec=2.0&radeg=170.13258333333332&decdeg=26.96338888888889&hipsbaseuri=http://skies.esac.esa.int/Herschel/PACS160\n",
      "0.02373782721540712 0.0031613113209335714\n",
      "0.023698352937723908 0.0023548578320398165\n",
      "area = 5127.08, mean(0.0247) - bg (0.0237) = 0.00103 +- 0.00235\n",
      "flux = 2.31 +- 5.3 (127)\n",
      "catalogue 3.163 0.509 0.7318852070204835\n"
     ]
    },
    {
     "name": "stderr",
     "output_type": "stream",
     "text": [
      "WARNING: File may have been truncated: actual file length (116168) is smaller than the expected size (118080) [astropy.io.fits.file]\n",
      "WARNING: File may have been truncated: actual file length (297792) is smaller than the expected size (299520) [astropy.io.fits.file]\n"
     ]
    },
    {
     "name": "stdout",
     "output_type": "stream",
     "text": [
      "> Downloading HRS-48:\n",
      "http://localhost:4000/api/cutout?radiusasec=420.0&pxsizeasec=2.0&radeg=170.26187499999997&decdeg=53.16972222222222&hipsbaseuri=http://skies.esac.esa.int/Herschel/PACS160\n",
      "0.02166255145932947 0.008068493441638857\n",
      "0.021060967114127867 0.003721241319602417\n",
      "area = 33151.66, mean(0.0222) - bg (0.0211) = 0.0011 +- 0.00372\n",
      "flux = 10.8 +- 36.4 (735)\n",
      "catalogue 38.272 3.115 0.2812223861877762\n",
      "> Downloading HRS-49:\n",
      "http://localhost:4000/api/cutout?radiusasec=70.0&pxsizeasec=2.0&radeg=170.27854166666663&decdeg=3.2348333333333334&hipsbaseuri=http://skies.esac.esa.int/Herschel/PACS160\n",
      "0.024528031294163043 0.0017009026165317118\n",
      "0.024524136813153 0.0012188519588221033\n",
      "area = 962.11, mean(0.0247) - bg (0.0245) = 0.000166 +- 0.00122\n",
      "flux = 0.0785 +- 0.577 (23.8)\n",
      "catalogue 0.231 0.0 0.3398278155100196\n",
      "> Downloading HRS-50:\n",
      "http://localhost:4000/api/cutout?radiusasec=152.0&pxsizeasec=2.0&radeg=170.7275833333333&decdeg=16.590138888888887&hipsbaseuri=http://skies.esac.esa.int/Herschel/PACS160\n"
     ]
    },
    {
     "name": "stderr",
     "output_type": "stream",
     "text": [
      "WARNING: File may have been truncated: actual file length (42080) is smaller than the expected size (43200) [astropy.io.fits.file]\n",
      "WARNING: File may have been truncated: actual file length (187712) is smaller than the expected size (190080) [astropy.io.fits.file]\n"
     ]
    },
    {
     "name": "stdout",
     "output_type": "stream",
     "text": [
      "0.022481176649175972 0.0040694833127476945\n",
      "0.022331700334121397 0.0029371726778515857\n",
      "area = 3163.58, mean(0.0391) - bg (0.0223) = 0.0168 +- 0.00294\n",
      "flux = 25 +- 4.39 (124)\n",
      "catalogue 22.078 1.141 1.1340117353539736\n",
      "> Downloading HRS-51:\n",
      "http://localhost:4000/api/cutout?radiusasec=174.0&pxsizeasec=2.0&radeg=170.93954166666666&decdeg=17.818555555555555&hipsbaseuri=http://skies.esac.esa.int/Herschel/PACS160\n",
      "0.02018746699791423 0.0031739324129515002\n",
      "0.020149533836432518 0.0023248405470077706\n",
      "area = 4236.44, mean(0.0228) - bg (0.0201) = 0.00262 +- 0.00232\n",
      "flux = 5.21 +- 4.62 (96.5)\n",
      "catalogue 4.996 0.582 1.0431152583104861\n"
     ]
    },
    {
     "name": "stderr",
     "output_type": "stream",
     "text": [
      "WARNING: File may have been truncated: actual file length (245088) is smaller than the expected size (247680) [astropy.io.fits.file]\n",
      "WARNING: File may have been truncated: actual file length (123912) is smaller than the expected size (126720) [astropy.io.fits.file]\n"
     ]
    },
    {
     "name": "stdout",
     "output_type": "stream",
     "text": [
      "> Downloading HRS-52:\n",
      "http://localhost:4000/api/cutout?radiusasec=122.0&pxsizeasec=2.0&radeg=170.98154166666663&decdeg=52.92097222222222&hipsbaseuri=http://skies.esac.esa.int/Herschel/PACS160\n",
      "0.0224870721458486 0.0022812189798706237\n",
      "0.022490438304138084 0.0015771868414715168\n",
      "area = 2587.10, mean(0.0238) - bg (0.0225) = 0.00134 +- 0.00158\n",
      "flux = 1.03 +- 1.21 (61.7)\n",
      "catalogue 1.305 0.237 0.7885825321080421\n",
      "> Downloading HRS-53:\n",
      "http://localhost:4000/api/cutout?radiusasec=368.0&pxsizeasec=2.0&radeg=171.108625&decdeg=11.342222222222222&hipsbaseuri=http://skies.esac.esa.int/Herschel/PACS160\n",
      "0.019312316196020907 0.001388957643735575\n",
      "0.019296496882040604 0.0009217312702243282\n",
      "area = 7225.66, mean(0.0228) - bg (0.0193) = 0.00353 +- 0.000922\n",
      "flux = 12.3 +- 3.22 (165)\n",
      "catalogue 10.815 0.829 1.1385443681788021\n"
     ]
    },
    {
     "name": "stderr",
     "output_type": "stream",
     "text": [
      "WARNING: File may have been truncated: actual file length (1086272) is smaller than the expected size (1088640) [astropy.io.fits.file]\n"
     ]
    },
    {
     "name": "stdout",
     "output_type": "stream",
     "text": [
      "> Downloading HRS-54:\n",
      "http://localhost:4000/api/cutout?radiusasec=188.0&pxsizeasec=2.0&radeg=171.62416666666664&decdeg=16.863194444444446&hipsbaseuri=http://skies.esac.esa.int/Herschel/PACS160\n",
      "0.020464068691292355 0.0035784815009631786\n",
      "0.02038875979291568 0.002653864536259019\n",
      "area = 5537.06, mean(0.0214) - bg (0.0204) = 0.00103 +- 0.00265\n",
      "flux = 2.69 +- 6.93 (119)\n",
      "catalogue 3.076 0.537 0.8729689727764374\n"
     ]
    },
    {
     "name": "stderr",
     "output_type": "stream",
     "text": [
      "WARNING: File may have been truncated: actual file length (285632) is smaller than the expected size (288000) [astropy.io.fits.file]\n"
     ]
    },
    {
     "name": "stdout",
     "output_type": "stream",
     "text": [
      "> Downloading HRS-55:\n",
      "http://localhost:4000/api/cutout?radiusasec=242.0&pxsizeasec=2.0&radeg=171.7965833333333&decdeg=17.030277777777776&hipsbaseuri=http://skies.esac.esa.int/Herschel/PACS160\n",
      "0.02155372046622924 0.0011292188423007235\n",
      "0.02152463312604783 0.0007936675643935594\n",
      "area = 7982.79, mean(0.025) - bg (0.0215) = 0.00352 +- 0.000794\n",
      "flux = 13.2 +- 2.98 (200)\n",
      "catalogue 11.416 0.769 1.1586680575786408\n",
      "> Downloading HRS-56:\n",
      "http://localhost:4000/api/cutout?radiusasec=164.0&pxsizeasec=2.0&radeg=171.8827083333333&decdeg=56.87705555555556&hipsbaseuri=http://skies.esac.esa.int/Herschel/PACS160\n",
      "0.022997694317242495 0.0045194383260603425\n",
      "0.02277358681458794 0.00316826811188176\n",
      "area = 4186.17, mean(0.052) - bg (0.0228) = 0.0292 +- 0.00317\n",
      "flux = 32.9 +- 3.57 (218)\n",
      "catalogue 30.107 1.604 1.0929865971193522\n"
     ]
    },
    {
     "name": "stderr",
     "output_type": "stream",
     "text": [
      "WARNING: File may have been truncated: actual file length (471392) is smaller than the expected size (472320) [astropy.io.fits.file]\n",
      "WARNING: File may have been truncated: actual file length (218048) is smaller than the expected size (218880) [astropy.io.fits.file]\n"
     ]
    },
    {
     "name": "stdout",
     "output_type": "stream",
     "text": [
      "> Downloading HRS-57:\n",
      "http://localhost:4000/api/cutout?radiusasec=268.0&pxsizeasec=2.0&radeg=171.93312499999996&decdeg=17.22411111111111&hipsbaseuri=http://skies.esac.esa.int/Herschel/PACS160\n",
      "0.02345349439843375 0.0011563638484602297\n",
      "0.02341729069619334 0.0008076460620923176\n",
      "area = 10945.31, mean(0.0274) - bg (0.0234) = 0.00396 +- 0.000808\n",
      "flux = 20.4 +- 4.16 (300)\n",
      "catalogue 17.983 1.255 1.132323511484324\n",
      "> Downloading HRS-58:\n",
      "http://localhost:4000/api/cutout?radiusasec=106.0&pxsizeasec=2.0&radeg=172.0392083333333&decdeg=16.920472222222223&hipsbaseuri=http://skies.esac.esa.int/Herschel/PACS160\n",
      "0.022376149038414977 0.0022357184207621103\n",
      "0.022310656741850378 0.001489431225800793\n",
      "area = 1748.30, mean(0.0254) - bg (0.0223) = 0.00304 +- 0.00149\n",
      "flux = 2.51 +- 1.23 (44.3)\n",
      "catalogue 2.449 0.155 1.0232407571430568\n",
      "> Downloading HRS-59:\n",
      "http://localhost:4000/api/cutout?radiusasec=264.0&pxsizeasec=2.0&radeg=172.10004166666664&decdeg=9.40763888888889&hipsbaseuri=http://skies.esac.esa.int/Herschel/PACS160\n",
      "0.023660402232349075 0.0011128121631599798\n",
      "0.02364768161294185 0.0007813083657528488\n",
      "area = 4976.28, mean(0.0264) - bg (0.0236) = 0.00273 +- 0.000781\n",
      "flux = 6.61 +- 1.89 (131)\n",
      "catalogue 5.622 0.431 1.1753147843165388\n"
     ]
    },
    {
     "name": "stderr",
     "output_type": "stream",
     "text": [
      "WARNING: File may have been truncated: actual file length (577472) is smaller than the expected size (578880) [astropy.io.fits.file]\n",
      "WARNING: File may have been truncated: actual file length (92768) is smaller than the expected size (95040) [astropy.io.fits.file]\n",
      "WARNING: File may have been truncated: actual file length (560448) is smaller than the expected size (561600) [astropy.io.fits.file]\n"
     ]
    },
    {
     "name": "stdout",
     "output_type": "stream",
     "text": [
      "> Downloading HRS-60:\n",
      "http://localhost:4000/api/cutout?radiusasec=236.0&pxsizeasec=2.0&radeg=173.45558333333332&decdeg=53.1255&hipsbaseuri=http://skies.esac.esa.int/Herschel/PACS160\n",
      "0.026494645807604734 0.0011088349457413563\n",
      "0.026454813088184113 0.0007891742511832322\n",
      "area = 7414.16, mean(0.0318) - bg (0.0265) = 0.00533 +- 0.000789\n",
      "flux = 11.7 +- 1.73 (236)\n",
      "catalogue 10.477 0.772 1.115502639846233\n",
      "> Downloading HRS-61:\n",
      "http://localhost:4000/api/cutout?radiusasec=166.0&pxsizeasec=2.0&radeg=174.11029166666663&decdeg=58.19138888888889&hipsbaseuri=http://skies.esac.esa.int/Herschel/PACS160\n",
      "0.022325512921681997 0.0033742833504611935\n",
      "0.022282850168398757 0.0025360028246934553\n",
      "area = 1629.70, mean(0.0243) - bg (0.0223) = 0.002 +- 0.00254\n",
      "flux = 0.844 +- 1.07 (39.6)\n",
      "catalogue 0.937 0.15 0.9008479460195548\n",
      "> Downloading HRS-62:\n",
      "http://localhost:4000/api/cutout?radiusasec=266.0&pxsizeasec=2.0&radeg=174.13904166666663&decdeg=36.410333333333334&hipsbaseuri=http://skies.esac.esa.int/Herschel/PACS160\n"
     ]
    },
    {
     "name": "stderr",
     "output_type": "stream",
     "text": [
      "WARNING: File may have been truncated: actual file length (452232) is smaller than the expected size (455040) [astropy.io.fits.file]\n",
      "WARNING: File may have been truncated: actual file length (223328) is smaller than the expected size (224640) [astropy.io.fits.file]\n"
     ]
    },
    {
     "name": "stdout",
     "output_type": "stream",
     "text": [
      "0.02228379945312217 0.0011682511502815844\n",
      "0.022275585250614436 0.0008120574620862813\n",
      "area = 6058.56, mean(0.0238) - bg (0.0223) = 0.00156 +- 0.000812\n",
      "flux = 3.75 +- 1.95 (144)\n",
      "catalogue 3.527 0.528 1.062926511514602\n",
      "> Downloading HRS-63:\n",
      "http://localhost:4000/api/cutout?radiusasec=350.0&pxsizeasec=2.0&radeg=174.2000833333333&decdeg=54.29355555555556&hipsbaseuri=http://skies.esac.esa.int/Herschel/PACS160\n",
      "0.022964900009129083 0.0012965778432003673\n",
      "0.022938598613147614 0.0008751932679525498\n",
      "area = 12095.13, mean(0.0266) - bg (0.0229) = 0.00364 +- 0.000875\n",
      "flux = 12.7 +- 3.04 (322)\n",
      "catalogue 12.252 1.339 1.0341028506656307\n",
      "> Downloading HRS-64:\n",
      "http://localhost:4000/api/cutout?radiusasec=184.0&pxsizeasec=2.0&radeg=175.02849999999995&decdeg=58.61311111111111&hipsbaseuri=http://skies.esac.esa.int/Herschel/PACS160\n"
     ]
    },
    {
     "name": "stderr",
     "output_type": "stream",
     "text": [
      "WARNING: File may have been truncated: actual file length (568928) is smaller than the expected size (570240) [astropy.io.fits.file]\n",
      "WARNING: File may have been truncated: actual file length (982880) is smaller than the expected size (984960) [astropy.io.fits.file]\n",
      "WARNING: File may have been truncated: actual file length (273728) is smaller than the expected size (276480) [astropy.io.fits.file]\n",
      "WARNING: File may have been truncated: actual file length (285632) is smaller than the expected size (288000) [astropy.io.fits.file]\n"
     ]
    },
    {
     "name": "stdout",
     "output_type": "stream",
     "text": [
      "0.02423474241907542 0.004100450346143945\n",
      "0.024150200258154994 0.003139657164285351\n",
      "area = 3468.32, mean(0.0262) - bg (0.0242) = 0.00202 +- 0.00314\n",
      "flux = 1.79 +- 2.79 (90.8)\n",
      "catalogue 1.682 0.29 1.0668198272255385\n",
      "> Downloading HRS-65:\n",
      "http://localhost:4000/api/cutout?radiusasec=188.0&pxsizeasec=2.0&radeg=175.2225833333333&decdeg=56.20202777777778&hipsbaseuri=http://skies.esac.esa.int/Herschel/PACS160\n",
      "0.0197598306003721 0.0027053387568073267\n",
      "0.019750069238261034 0.0019350790627006898\n",
      "area = 4503.47, mean(0.0209) - bg (0.0198) = 0.00116 +- 0.00194\n",
      "flux = 1.43 +- 2.39 (94.1)\n",
      "catalogue 2.082 0.426 0.6847050827615356\n",
      "> Downloading HRS-66:\n",
      "http://localhost:4000/api/cutout?radiusasec=188.0&pxsizeasec=2.0&radeg=175.32770833333333&decdeg=36.546749999999996&hipsbaseuri=http://skies.esac.esa.int/Herschel/PACS160\n",
      "0.025292093499970348 0.0055052257545903024\n",
      "0.02506991466637516 0.0038940253641664697\n",
      "area = 3396.06, mean(0.0453) - bg (0.0251) = 0.0202 +- 0.00389\n",
      "flux = 27.2 +- 5.23 (154)\n",
      "catalogue 23.821 1.255 1.1398463302779362\n",
      "> Downloading HRS-67:\n",
      "http://localhost:4000/api/cutout?radiusasec=134.0&pxsizeasec=2.0&radeg=176.06179166666664&decdeg=55.03497222222222&hipsbaseuri=http://skies.esac.esa.int/Herschel/PACS160\n",
      "0.024452132513594346 0.0027275554930979405\n",
      "0.024399837713977027 0.00199183922663752\n",
      "area = 2367.98, mean(0.0262) - bg (0.0244) = 0.00181 +- 0.00199\n",
      "flux = 1.21 +- 1.33 (62.1)\n",
      "catalogue 1.209 0.279 1.003060551852613\n",
      "> Downloading HRS-68:\n",
      "http://localhost:4000/api/cutout?radiusasec=80.0&pxsizeasec=2.0&radeg=176.60816666666665&decdeg=34.852555555555554&hipsbaseuri=http://skies.esac.esa.int/Herschel/PACS160\n",
      "0.02501935266151976 0.001874971035453997\n",
      "0.024983380856632063 0.0013578485617788344\n",
      "area = 1256.64, mean(0.0286) - bg (0.025) = 0.00358 +- 0.00136\n",
      "flux = 1.82 +- 0.69 (35.9)\n",
      "catalogue 1.531 0.092 1.1881787072521321\n"
     ]
    },
    {
     "name": "stderr",
     "output_type": "stream",
     "text": [
      "WARNING: File may have been truncated: actual file length (285632) is smaller than the expected size (288000) [astropy.io.fits.file]\n",
      "WARNING: File may have been truncated: actual file length (146528) is smaller than the expected size (146880) [astropy.io.fits.file]\n",
      "WARNING: File may have been truncated: actual file length (54080) is smaller than the expected size (54720) [astropy.io.fits.file]\n"
     ]
    },
    {
     "name": "stdout",
     "output_type": "stream",
     "text": [
      "> Downloading HRS-69:\n",
      "http://localhost:4000/api/cutout?radiusasec=368.0&pxsizeasec=2.0&radeg=177.31404166666664&decdeg=56.084361111111114&hipsbaseuri=http://skies.esac.esa.int/Herschel/PACS160\n",
      "0.02269946739253572 0.0013299113552378318\n",
      "0.02267923581766974 0.0009037607962303954\n",
      "area = 15607.43, mean(0.0237) - bg (0.0227) = 0.000984 +- 0.000904\n",
      "flux = 4.22 +- 3.88 (369)\n",
      "catalogue 4.318 1.203 0.977254237408946\n"
     ]
    },
    {
     "name": "stderr",
     "output_type": "stream",
     "text": [
      "WARNING: File may have been truncated: actual file length (1086272) is smaller than the expected size (1088640) [astropy.io.fits.file]\n"
     ]
    },
    {
     "name": "stdout",
     "output_type": "stream",
     "text": [
      "> Downloading HRS-70:\n",
      "http://localhost:4000/api/cutout?radiusasec=122.0&pxsizeasec=2.0&radeg=178.13029166666664&decdeg=-3.87225&hipsbaseuri=http://skies.esac.esa.int/Herschel/PACS160\n",
      "0.01881488545700904 0.002892477956711284\n",
      "0.01877123283375959 0.00195338725809482\n",
      "area = 2443.37, mean(0.0204) - bg (0.0188) = 0.0016 +- 0.00195\n",
      "flux = 1.92 +- 2.35 (49.8)\n",
      "catalogue 2.018 0.161 0.951029873805054\n",
      "> Downloading HRS-71:\n",
      "http://localhost:4000/api/cutout?radiusasec=340.0&pxsizeasec=2.0&radeg=178.3072083333333&decdeg=60.675555555555555&hipsbaseuri=http://skies.esac.esa.int/Herschel/PACS160\n"
     ]
    },
    {
     "name": "stderr",
     "output_type": "stream",
     "text": [
      "WARNING: File may have been truncated: actual file length (123912) is smaller than the expected size (126720) [astropy.io.fits.file]\n",
      "WARNING: File may have been truncated: actual file length (927680) is smaller than the expected size (930240) [astropy.io.fits.file]\n"
     ]
    },
    {
     "name": "stdout",
     "output_type": "stream",
     "text": [
      "0.011158562605610536 0.0005585432390511989\n",
      "0.011150933680028128 0.0003898368142437848\n",
      "area = 14953.98, mean(0.0118) - bg (0.0112) = 0.000621 +- 0.00039\n",
      "flux = 2.24 +- 1.41 (176)\n",
      "catalogue 4.253 0.685 0.5267336117117016\n",
      "> Downloading HRS-72:\n",
      "http://localhost:4000/api/cutout?radiusasec=162.0&pxsizeasec=2.0&radeg=178.41929166666665&decdeg=-3.9965277777777777&hipsbaseuri=http://skies.esac.esa.int/Herschel/PACS160\n",
      "0.022484836683041846 0.0044440658448202525\n",
      "0.022403360295530264 0.0032637811833422818\n",
      "area = 3053.63, mean(0.0238) - bg (0.0224) = 0.00144 +- 0.00326\n",
      "flux = 2.16 +- 4.9 (72.8)\n",
      "catalogue 1.972 0.308 1.0974792288828976\n",
      "> Downloading HRS-73:\n",
      "http://localhost:4000/api/cutout?radiusasec=486.0&pxsizeasec=2.0&radeg=178.4538333333333&decdeg=52.32677777777778&hipsbaseuri=http://skies.esac.esa.int/Herschel/PACS160\n",
      "0.01874491291289647 0.0013557178560042876\n",
      "0.018682510828906252 0.0009121081501141684\n",
      "area = 24619.88, mean(0.026) - bg (0.0187) = 0.00734 +- 0.000912\n",
      "flux = 54.4 +- 6.76 (641)\n",
      "catalogue 49.52 4.004 1.0983368296272542\n"
     ]
    },
    {
     "name": "stderr",
     "output_type": "stream",
     "text": [
      "WARNING: File may have been truncated: actual file length (212832) is smaller than the expected size (213120) [astropy.io.fits.file]\n",
      "WARNING: File may have been truncated: actual file length (1900232) is smaller than the expected size (1900800) [astropy.io.fits.file]\n"
     ]
    },
    {
     "name": "stdout",
     "output_type": "stream",
     "text": [
      "> Downloading HRS-74:\n",
      "http://localhost:4000/api/cutout?radiusasec=196.0&pxsizeasec=2.0&radeg=179.1170833333333&decdeg=55.125166666666665&hipsbaseuri=http://skies.esac.esa.int/Herschel/PACS160\n",
      "0.02136461880903739 0.00173724915386567\n",
      "0.021293816164956656 0.001140475302044787\n",
      "area = 6619.34, mean(0.0313) - bg (0.0213) = 0.00999 +- 0.00114\n",
      "flux = 18.6 +- 2.13 (207)\n",
      "catalogue 17.392 0.978 1.0709015508233213\n",
      "> Downloading HRS-75:\n",
      "http://localhost:4000/api/cutout?radiusasec=60.0&pxsizeasec=2.0&radeg=179.15629166666665&decdeg=55.63319444444444&hipsbaseuri=http://skies.esac.esa.int/Herschel/PACS160\n",
      "0.023132108525158582 0.0009160102563071891\n",
      "0.023087328037776585 0.0006551072741246972\n",
      "area = 565.49, mean(0.0249) - bg (0.0231) = 0.00177 +- 0.000655\n",
      "flux = 0.278 +- 0.103 (14.1)\n",
      "catalogue 0.37 0.062 0.7526543065842835\n"
     ]
    },
    {
     "name": "stderr",
     "output_type": "stream",
     "text": [
      "WARNING: File may have been truncated: actual file length (310208) is smaller than the expected size (311040) [astropy.io.fits.file]\n"
     ]
    },
    {
     "name": "stdout",
     "output_type": "stream",
     "text": [
      "> Downloading HRS-76:\n",
      "http://localhost:4000/api/cutout?radiusasec=168.0&pxsizeasec=2.0&radeg=179.2059583333333&decdeg=53.16036111111111&hipsbaseuri=http://skies.esac.esa.int/Herschel/PACS160\n",
      "0.02115001007408837 0.0023573699291737915\n",
      "0.02113894644567611 0.001649352863331927\n",
      "area = 2309.07, mean(0.0222) - bg (0.0211) = 0.00104 +- 0.00165\n",
      "flux = 0.708 +- 1.12 (51.2)\n",
      "catalogue 0.909 0.172 0.7791623156044802\n",
      "> Downloading HRS-77:\n",
      "http://localhost:4000/api/cutout?radiusasec=350.0&pxsizeasec=2.0&radeg=180.09849999999997&decdeg=-1.1&hipsbaseuri=http://skies.esac.esa.int/Herschel/PACS160\n"
     ]
    },
    {
     "name": "stderr",
     "output_type": "stream",
     "text": [
      "WARNING: File may have been truncated: actual file length (228672) is smaller than the expected size (230400) [astropy.io.fits.file]\n",
      "WARNING: File may have been truncated: actual file length (982880) is smaller than the expected size (984960) [astropy.io.fits.file]\n"
     ]
    },
    {
     "name": "stdout",
     "output_type": "stream",
     "text": [
      "0.009607789675022729 0.001432458944691196\n",
      "0.009651718225494191 0.0008164079888776842\n",
      "area = 17455.47, mean(0.0197) - bg (0.00965) = 0.01 +- 0.000816\n",
      "flux = 86.1 +- 7.02 (343)\n",
      "catalogue 73.761 4.064 1.1666202341808491\n",
      "> Downloading HRS-78:\n",
      "http://localhost:4000/api/cutout?radiusasec=156.0&pxsizeasec=2.0&radeg=180.13674999999998&decdeg=20.073888888888888&hipsbaseuri=http://skies.esac.esa.int/Herschel/PACS160\n",
      "0.020852526997774443 0.0011808367719665057\n",
      "0.02082987488977364 0.0008270937363551641\n",
      "area = 4655.84, mean(0.0223) - bg (0.0208) = 0.00145 +- 0.000827\n",
      "flux = 3.11 +- 1.78 (104)\n",
      "catalogue 2.802 0.442 1.111668653402397\n"
     ]
    },
    {
     "name": "stderr",
     "output_type": "stream",
     "text": [
      "WARNING: File may have been truncated: actual file length (197568) is smaller than the expected size (198720) [astropy.io.fits.file]\n",
      "WARNING: File may have been truncated: actual file length (376128) is smaller than the expected size (377280) [astropy.io.fits.file]\n"
     ]
    },
    {
     "name": "stdout",
     "output_type": "stream",
     "text": [
      "> Downloading HRS-79:\n",
      "http://localhost:4000/api/cutout?radiusasec=216.0&pxsizeasec=2.0&radeg=180.29329166666668&decdeg=14.1045&hipsbaseuri=http://skies.esac.esa.int/Herschel/PACS160\n",
      "0.023684431610087802 0.0010196654171381256\n",
      "0.02367577521994593 0.0007229567915880541\n",
      "area = 4410.80, mean(0.0245) - bg (0.0237) = 0.000824 +- 0.000723\n",
      "flux = 1.73 +- 1.52 (108)\n",
      "catalogue 1.583 0.428 1.0959797986372521\n",
      "> Downloading HRS-80:\n",
      "http://localhost:4000/api/cutout?radiusasec=210.0&pxsizeasec=2.0&radeg=180.348625&decdeg=13.401027777777777&hipsbaseuri=http://skies.esac.esa.int/Herschel/PACS160\n",
      "0.0200719364015887 0.004170289641740758\n",
      "0.01996214121067215 0.0028472228044526507\n",
      "area = 7092.15, mean(0.0202) - bg (0.02) = 0.000262 +- 0.00285\n",
      "flux = 0.891 +- 9.67 (143)\n",
      "catalogue 2.875 0.68 0.3100112724086283\n"
     ]
    },
    {
     "name": "stderr",
     "output_type": "stream",
     "text": [
      "WARNING: File may have been truncated: actual file length (355680) is smaller than the expected size (357120) [astropy.io.fits.file]\n",
      "WARNING: File may have been truncated: actual file length (514952) is smaller than the expected size (515520) [astropy.io.fits.file]\n"
     ]
    },
    {
     "name": "stdout",
     "output_type": "stream",
     "text": [
      "> Downloading HRS-81:\n",
      "http://localhost:4000/api/cutout?radiusasec=252.0&pxsizeasec=2.0&radeg=180.6760833333333&decdeg=1.976777777777778&hipsbaseuri=http://skies.esac.esa.int/Herschel/PACS160\n",
      "0.019176766656058435 0.0010438386352595481\n",
      "0.01916029339050118 0.0007297279920530234\n",
      "area = 9203.30, mean(0.0235) - bg (0.0192) = 0.00431 +- 0.00073\n",
      "flux = 19.5 +- 3.31 (216)\n",
      "catalogue 17.08 1.267 1.142478707522597\n",
      "> Downloading HRS-82:\n",
      "http://localhost:4000/api/cutout?radiusasec=116.0&pxsizeasec=2.0&radeg=180.89974999999998&decdeg=16.055555555555557&hipsbaseuri=http://skies.esac.esa.int/Herschel/PACS160\n"
     ]
    },
    {
     "name": "stderr",
     "output_type": "stream",
     "text": [
      "WARNING: File may have been truncated: actual file length (110528) is smaller than the expected size (112320) [astropy.io.fits.file]\n",
      "WARNING: File may have been truncated: actual file length (73568) is smaller than the expected size (74880) [astropy.io.fits.file]\n"
     ]
    },
    {
     "name": "stdout",
     "output_type": "stream",
     "text": [
      "0.01937334536170703 0.0025947193838845167\n",
      "0.019312574333627132 0.0017715702043451425\n",
      "area = 2459.87, mean(0.0207) - bg (0.0193) = 0.00142 +- 0.00177\n",
      "flux = 1.65 +- 2.06 (51)\n",
      "catalogue 1.683 0.158 0.9828677337199686\n",
      "> Downloading HRS-83:\n",
      "http://localhost:4000/api/cutout?radiusasec=94.0&pxsizeasec=2.0&radeg=180.91725&decdeg=2.6412222222222224&hipsbaseuri=http://skies.esac.esa.int/Herschel/PACS160\n",
      "0.026577571451462223 0.0024613680922234635\n",
      "0.026557039480887137 0.0017335837668042728\n",
      "area = 1661.12, mean(0.0274) - bg (0.0266) = 0.000874 +- 0.00173\n",
      "flux = 0.714 +- 1.42 (45.6)\n",
      "catalogue 0.48 0.109 1.488138756236167\n",
      "> Downloading HRS-84:\n",
      "http://localhost:4000/api/cutout?radiusasec=100.0&pxsizeasec=2.0&radeg=181.04812499999997&decdeg=10.854388888888888&hipsbaseuri=http://skies.esac.esa.int/Herschel/PACS160\n",
      "0.02332967501940416 0.002303484311537804\n",
      "0.023291162506741084 0.0016330707536715131\n",
      "area = 1452.99, mean(0.0272) - bg (0.0233) = 0.00393 +- 0.00163\n",
      "flux = 2.76 +- 1.15 (39.5)\n",
      "catalogue 2.595 0.179 1.0635442312618588\n",
      "> Downloading HRS-85:\n",
      "http://localhost:4000/api/cutout?radiusasec=452.0&pxsizeasec=2.0&radeg=181.5358333333333&decdeg=49.58230555555556&hipsbaseuri=http://skies.esac.esa.int/Herschel/PACS160\n",
      "0.020934215058815462 0.001201735049446824\n",
      "0.02091406619900695 0.0008184258113529747\n",
      "area = 13312.50, mean(0.0287) - bg (0.0209) = 0.00783 +- 0.000818\n",
      "flux = 33.3 +- 3.48 (383)\n",
      "catalogue 30.458 1.966 1.0923938683042642\n"
     ]
    },
    {
     "name": "stderr",
     "output_type": "stream",
     "text": [
      "WARNING: File may have been truncated: actual file length (82880) is smaller than the expected size (83520) [astropy.io.fits.file]\n",
      "WARNING: File may have been truncated: actual file length (1637312) is smaller than the expected size (1638720) [astropy.io.fits.file]\n"
     ]
    },
    {
     "name": "stdout",
     "output_type": "stream",
     "text": [
      "> Downloading HRS-86:\n",
      "http://localhost:4000/api/cutout?radiusasec=320.0&pxsizeasec=2.0&radeg=181.90341666666666&decdeg=2.6922222222222225&hipsbaseuri=http://skies.esac.esa.int/Herschel/PACS160\n",
      "0.022920390779455777 0.001484128231508501\n",
      "0.022926821681032977 0.0009739315874637076\n",
      "area = 12692.03, mean(0.0247) - bg (0.0229) = 0.00178 +- 0.000974\n",
      "flux = 11.1 +- 6.08 (314)\n",
      "catalogue 9.4 1.357 1.179396491105748\n"
     ]
    },
    {
     "name": "stderr",
     "output_type": "stream",
     "text": [
      "WARNING: File may have been truncated: actual file length (822080) is smaller than the expected size (823680) [astropy.io.fits.file]\n"
     ]
    },
    {
     "name": "stdout",
     "output_type": "stream",
     "text": [
      "> Downloading HRS-87:\n",
      "http://localhost:4000/api/cutout?radiusasec=136.0&pxsizeasec=2.0&radeg=182.04016666666664&decdeg=10.378722222222223&hipsbaseuri=http://skies.esac.esa.int/Herschel/PACS160\n",
      "0.021159200932084177 0.0009604004692461109\n",
      "0.0211557740497141 0.0006703370539699106\n",
      "area = 2723.76, mean(0.0227) - bg (0.0212) = 0.00159 +- 0.00067\n",
      "flux = 2.1 +- 0.884 (62)\n",
      "catalogue 1.831 0.266 1.1465356965512856\n",
      "> Downloading HRS-88:\n",
      "http://localhost:4000/api/cutout?radiusasec=420.0&pxsizeasec=2.0&radeg=182.04629166666663&decdeg=2.878277777777778&hipsbaseuri=http://skies.esac.esa.int/Herschel/PACS160\n",
      "0.017066798285236717 0.0011708792502251354\n",
      "0.017026242959787132 0.0007989656799391411\n",
      "area = 26884.18, mean(0.0183) - bg (0.017) = 0.0013 +- 0.000799\n",
      "flux = 17.2 +- 10.6 (493)\n",
      "catalogue 14.472 2.443 1.1889882053830383\n"
     ]
    },
    {
     "name": "stderr",
     "output_type": "stream",
     "text": [
      "WARNING: File may have been truncated: actual file length (150848) is smaller than the expected size (152640) [astropy.io.fits.file]\n"
     ]
    },
    {
     "name": "stdout",
     "output_type": "stream",
     "text": [
      "> Downloading HRS-89:\n",
      "http://localhost:4000/api/cutout?radiusasec=450.0&pxsizeasec=2.0&radeg=183.19354166666665&decdeg=10.865972222222222&hipsbaseuri=http://skies.esac.esa.int/Herschel/PACS160\n",
      "0.020363906103983642 0.0015216421000410277\n",
      "0.02033195483237342 0.0009929627483497567\n",
      "area = 13960.45, mean(0.0228) - bg (0.0203) = 0.00245 +- 0.000993\n",
      "flux = 16.5 +- 6.7 (318)\n",
      "catalogue 15.005 1.774 1.1022324013610107\n"
     ]
    },
    {
     "name": "stderr",
     "output_type": "stream",
     "text": [
      "WARNING: File may have been truncated: actual file length (1622880) is smaller than the expected size (1624320) [astropy.io.fits.file]\n"
     ]
    },
    {
     "name": "stdout",
     "output_type": "stream",
     "text": [
      "> Downloading HRS-90:\n",
      "http://localhost:4000/api/cutout?radiusasec=182.0&pxsizeasec=2.0&radeg=183.21712499999995&decdeg=1.2996944444444443&hipsbaseuri=http://skies.esac.esa.int/Herschel/PACS160\n",
      "0.02152634660885756 0.003210910391853443\n",
      "0.02148403556263618 0.0023542648611320394\n",
      "area = 6503.88, mean(0.0214) - bg (0.0215) = -4.69e-05 +- 0.00235\n",
      "flux = -0.15 +- 7.54 (139)\n",
      "catalogue 2.248 0.0 -0.06675384051191538\n",
      "> Downloading HRS-91:\n",
      "http://localhost:4000/api/cutout?radiusasec=822.0&pxsizeasec=2.0&radeg=183.4512083333333&decdeg=14.900333333333334&hipsbaseuri=http://skies.esac.esa.int/Herschel/PACS160\n"
     ]
    },
    {
     "name": "stderr",
     "output_type": "stream",
     "text": [
      "WARNING: File may have been truncated: actual file length (267872) is smaller than the expected size (270720) [astropy.io.fits.file]\n"
     ]
    },
    {
     "name": "stdout",
     "output_type": "stream",
     "text": [
      "ERROR: could not download cutout (most likely, timeout) :^(\n",
      "> Downloading HRS-92:\n",
      "http://localhost:4000/api/cutout?radiusasec=204.0&pxsizeasec=2.0&radeg=183.7685&decdeg=14.028972222222222&hipsbaseuri=http://skies.esac.esa.int/Herschel/PACS160\n",
      "0.006884182563716045 0.0006135697259708577\n",
      "0.006876680902978807 0.00043287181684264825\n",
      "area = 4085.64, mean(0.00837) - bg (0.00688) = 0.00149 +- 0.000433\n",
      "flux = 2.91 +- 0.845 (34.2)\n",
      "catalogue 2.382 0.199 1.2229963668705908\n",
      "> Downloading HRS-93:\n",
      "http://localhost:4000/api/cutout?radiusasec=208.0&pxsizeasec=2.0&radeg=183.7710833333333&decdeg=33.19733333333333&hipsbaseuri=http://skies.esac.esa.int/Herschel/PACS160\n",
      "0.006306504501356454 0.00048482147006602937\n",
      "0.006286502312558451 0.0003430814034622428\n",
      "area = 6942.92, mean(0.00734) - bg (0.00629) = 0.00105 +- 0.000343\n",
      "flux = 3 +- 0.982 (50.9)\n",
      "catalogue 2.87 0.42 1.0462973222527603\n"
     ]
    },
    {
     "name": "stderr",
     "output_type": "stream",
     "text": [
      "WARNING: File may have been truncated: actual file length (335808) is smaller than the expected size (336960) [astropy.io.fits.file]\n",
      "WARNING: File may have been truncated: actual file length (348992) is smaller than the expected size (351360) [astropy.io.fits.file]\n"
     ]
    },
    {
     "name": "stdout",
     "output_type": "stream",
     "text": [
      "> Downloading HRS-94:\n",
      "http://localhost:4000/api/cutout?radiusasec=412.0&pxsizeasec=2.0&radeg=183.82004166666664&decdeg=13.023972222222223&hipsbaseuri=http://skies.esac.esa.int/Herschel/PACS160\n",
      "0.007706526803861368 0.0009712408109991306\n",
      "0.007703744251931716 0.0006635895449107325\n",
      "area = 8251.39, mean(0.0092) - bg (0.0077) = 0.00149 +- 0.000664\n",
      "flux = 5.91 +- 2.63 (75.9)\n",
      "catalogue 5.238 0.536 1.1287187729621384\n",
      "> Downloading HRS-95:\n",
      "http://localhost:4000/api/cutout?radiusasec=164.0&pxsizeasec=2.0&radeg=183.8770833333333&decdeg=9.584888888888889&hipsbaseuri=http://skies.esac.esa.int/Herschel/PACS160\n"
     ]
    },
    {
     "name": "stderr",
     "output_type": "stream",
     "text": [
      "WARNING: File may have been truncated: actual file length (1360832) is smaller than the expected size (1362240) [astropy.io.fits.file]\n",
      "WARNING: File may have been truncated: actual file length (218048) is smaller than the expected size (218880) [astropy.io.fits.file]\n"
     ]
    },
    {
     "name": "stdout",
     "output_type": "stream",
     "text": [
      "0.020179585749162295 0.003407579053016859\n",
      "0.02008463169053372 0.002360133367047866\n",
      "area = 2382.90, mean(0.028) - bg (0.0201) = 0.00791 +- 0.00236\n",
      "flux = 9.15 +- 2.73 (66.7)\n",
      "catalogue 8.137 0.444 1.124469341061554\n",
      "> Downloading HRS-96:\n",
      "http://localhost:4000/api/cutout?radiusasec=302.0&pxsizeasec=2.0&radeg=183.914&decdeg=13.9015&hipsbaseuri=http://skies.esac.esa.int/Herschel/PACS160\n",
      "0.00794673863776936 0.0006414832478766671\n",
      "0.007929834690408808 0.00044853982128839317\n",
      "area = 9961.99, mean(0.0142) - bg (0.00793) = 0.00626 +- 0.000449\n",
      "flux = 29.8 +- 2.14 (141)\n",
      "catalogue 25.125 1.338 1.187157708318128\n"
     ]
    },
    {
     "name": "stderr",
     "output_type": "stream",
     "text": [
      "WARNING: File may have been truncated: actual file length (732512) is smaller than the expected size (734400) [astropy.io.fits.file]\n"
     ]
    },
    {
     "name": "stdout",
     "output_type": "stream",
     "text": [
      "> Downloading HRS-97:\n",
      "http://localhost:4000/api/cutout?radiusasec=766.0&pxsizeasec=2.0&radeg=183.97683333333333&decdeg=13.149388888888888&hipsbaseuri=http://skies.esac.esa.int/Herschel/PACS160\n",
      "ERROR: could not download cutout (most likely, timeout) :^(\n",
      "> Downloading HRS-98:\n",
      "http://localhost:4000/api/cutout?radiusasec=288.0&pxsizeasec=2.0&radeg=184.09383333333332&decdeg=13.307083333333335&hipsbaseuri=http://skies.esac.esa.int/Herschel/PACS160\n",
      "0.008192510576277803 0.0007326141439538457\n",
      "0.008139975892390487 0.0005424245394038492\n",
      "area = 5315.57, mean(0.0104) - bg (0.00814) = 0.00221 +- 0.000542\n",
      "flux = 5.64 +- 1.38 (55)\n",
      "catalogue 5.373 0.362 1.049254782227013\n",
      "> Downloading HRS-99:\n",
      "http://localhost:4000/api/cutout?radiusasec=78.0&pxsizeasec=2.0&radeg=184.23333333333332&decdeg=13.625277777777779&hipsbaseuri=http://skies.esac.esa.int/Herschel/PACS160\n"
     ]
    },
    {
     "name": "stderr",
     "output_type": "stream",
     "text": [
      "WARNING: File may have been truncated: actual file length (666432) is smaller than the expected size (668160) [astropy.io.fits.file]\n",
      "WARNING: File may have been truncated: actual file length (51552) is smaller than the expected size (51840) [astropy.io.fits.file]\n"
     ]
    },
    {
     "name": "stdout",
     "output_type": "stream",
     "text": [
      "0.004270106209480927 0.0007451868709285174\n",
      "0.004239631602186028 0.0005126460829946747\n",
      "area = 918.92, mean(0.00769) - bg (0.00424) = 0.00345 +- 0.000513\n",
      "flux = 1.52 +- 0.225 (7.07)\n",
      "catalogue 1.304 0.079 1.165196802576561\n",
      "> Downloading HRS-100:\n",
      "http://localhost:4000/api/cutout?radiusasec=168.0&pxsizeasec=2.0&radeg=184.2975833333333&decdeg=15.323972222222222&hipsbaseuri=http://skies.esac.esa.int/Herschel/PACS160\n",
      "0.0069121686835403075 0.0006424031160603754\n",
      "0.00687592822800069 0.0004518677746606784\n",
      "area = 3232.70, mean(0.0174) - bg (0.00688) = 0.0105 +- 0.000452\n",
      "flux = 16.1 +- 0.694 (56.1)\n",
      "catalogue 14.106 0.736 1.1413671047536937\n"
     ]
    },
    {
     "name": "stderr",
     "output_type": "stream",
     "text": [
      "WARNING: File may have been truncated: actual file length (228672) is smaller than the expected size (230400) [astropy.io.fits.file]\n",
      "WARNING: File may have been truncated: actual file length (245088) is smaller than the expected size (247680) [astropy.io.fits.file]\n"
     ]
    },
    {
     "name": "stdout",
     "output_type": "stream",
     "text": [
      "> Downloading HRS-101:\n",
      "http://localhost:4000/api/cutout?radiusasec=174.0&pxsizeasec=2.0&radeg=184.534625&decdeg=28.175305555555557&hipsbaseuri=http://skies.esac.esa.int/Herschel/PACS160\n",
      "0.02298155571327715 0.0012330329962743115\n",
      "0.022981798408486066 0.0008498768168147946\n",
      "area = 5944.68, mean(0.023) - bg (0.023) = -2.72e-05 +- 0.00085\n",
      "flux = -0.0701 +- 2.19 (136)\n",
      "catalogue 1.831 0.0 -0.03827326786342104\n",
      "> Downloading HRS-102:\n",
      "http://localhost:4000/api/cutout?radiusasec=516.0&pxsizeasec=2.0&radeg=184.70679166666665&decdeg=14.416500000000001&hipsbaseuri=http://skies.esac.esa.int/Herschel/PACS160\n",
      "ERROR: could not download cutout (most likely, timeout) :^(\n",
      "> Downloading HRS-103:\n",
      "http://localhost:4000/api/cutout?radiusasec=136.0&pxsizeasec=2.0&radeg=184.84266666666664&decdeg=6.0986666666666665&hipsbaseuri=http://skies.esac.esa.int/Herschel/PACS160\n",
      "0.00423947422928013 0.0007795557018118286\n",
      "0.004216408677891741 0.0005492608727044611\n",
      "area = 1922.65, mean(0.00565) - bg (0.00422) = 0.00144 +- 0.000549\n",
      "flux = 1.35 +- 0.517 (10.9)\n",
      "catalogue 1.039 0.113 1.3031871658924647\n",
      "> Downloading HRS-104:\n",
      "http://localhost:4000/api/cutout?radiusasec=100.0&pxsizeasec=2.0&radeg=184.86941666666664&decdeg=17.230388888888886&hipsbaseuri=http://skies.esac.esa.int/Herschel/PACS160\n",
      "0.022208375311821467 0.0010981067433743982\n",
      "0.02219409710608254 0.0007734928060942022\n",
      "area = 1963.50, mean(0.0221) - bg (0.0222) = -5.02e-05 +- 0.000773\n",
      "flux = -0.0464 +- 0.714 (43.5)\n",
      "catalogue 0.385 0.0 -0.12043928184366838\n"
     ]
    },
    {
     "name": "stderr",
     "output_type": "stream",
     "text": [
      "WARNING: File may have been truncated: actual file length (150848) is smaller than the expected size (152640) [astropy.io.fits.file]\n",
      "WARNING: File may have been truncated: actual file length (82880) is smaller than the expected size (83520) [astropy.io.fits.file]\n"
     ]
    },
    {
     "name": "stdout",
     "output_type": "stream",
     "text": [
      "> Downloading HRS-105:\n",
      "http://localhost:4000/api/cutout?radiusasec=88.0&pxsizeasec=2.0&radeg=184.87741666666665&decdeg=14.877722222222223&hipsbaseuri=http://skies.esac.esa.int/Herschel/PACS160\n",
      "0.005213643436350371 0.0005818080529268205\n",
      "0.005210288949940291 0.00041056234011980515\n",
      "area = 1520.53, mean(0.00535) - bg (0.00521) = 0.00014 +- 0.000411\n",
      "flux = 0.101 +- 0.297 (8.13)\n",
      "catalogue 0.256 0.0 0.3947950673791484\n",
      "> Downloading HRS-106:\n",
      "http://localhost:4000/api/cutout?radiusasec=176.0&pxsizeasec=2.0&radeg=185.03124999999997&decdeg=7.692&hipsbaseuri=http://skies.esac.esa.int/Herschel/PACS160\n",
      "0.006851160846714232 0.0011030723891999033\n",
      "0.006838664983745413 0.0007633748465426276\n",
      "area = 6082.12, mean(0.00766) - bg (0.00684) = 0.000822 +- 0.000763\n",
      "flux = 2.44 +- 2.27 (46.6)\n",
      "catalogue 2.238 0.466 1.089970858478941\n"
     ]
    },
    {
     "name": "stderr",
     "output_type": "stream",
     "text": [
      "WARNING: File may have been truncated: actual file length (64832) is smaller than the expected size (66240) [astropy.io.fits.file]\n",
      "WARNING: File may have been truncated: actual file length (250688) is smaller than the expected size (253440) [astropy.io.fits.file]\n"
     ]
    },
    {
     "name": "stdout",
     "output_type": "stream",
     "text": [
      "> Downloading HRS-107:\n",
      "http://localhost:4000/api/cutout?radiusasec=162.0&pxsizeasec=2.0&radeg=185.07229166666667&decdeg=4.201416666666667&hipsbaseuri=http://skies.esac.esa.int/Herschel/PACS160\n",
      "0.007639349605251383 0.0006502289683159067\n",
      "0.007629323271168537 0.00046105016956421874\n",
      "area = 2481.07, mean(0.00913) - bg (0.00763) = 0.0015 +- 0.000461\n",
      "flux = 1.83 +- 0.562 (22.7)\n",
      "catalogue 1.499 0.115 1.2196673121067523\n",
      "> Downloading HRS-108:\n",
      "http://localhost:4000/api/cutout?radiusasec=154.0&pxsizeasec=2.0&radeg=185.20204166666664&decdeg=5.63986111111111&hipsbaseuri=http://skies.esac.esa.int/Herschel/PACS160\n",
      "0.004213054877074466 0.0007834024818252276\n",
      "0.004200746664736729 0.0005561868887752317\n",
      "area = 2056.17, mean(0.0056) - bg (0.0042) = 0.0014 +- 0.000556\n",
      "flux = 1.41 +- 0.56 (11.5)\n",
      "catalogue 1.313 0.132 1.0775348536961575\n"
     ]
    },
    {
     "name": "stderr",
     "output_type": "stream",
     "text": [
      "WARNING: File may have been truncated: actual file length (212832) is smaller than the expected size (213120) [astropy.io.fits.file]\n",
      "WARNING: File may have been truncated: actual file length (192608) is smaller than the expected size (192960) [astropy.io.fits.file]\n"
     ]
    },
    {
     "name": "stdout",
     "output_type": "stream",
     "text": [
      "> Downloading HRS-109:\n",
      "http://localhost:4000/api/cutout?radiusasec=362.0&pxsizeasec=2.0&radeg=185.25937499999998&decdeg=3.722138888888889&hipsbaseuri=http://skies.esac.esa.int/Herschel/PACS160\n",
      "0.008224077067139932 0.0007102345035359262\n",
      "0.008225454691241486 0.0004927182250102766\n",
      "area = 5259.81, mean(0.00979) - bg (0.00823) = 0.00156 +- 0.000493\n",
      "flux = 4.04 +- 1.27 (51.5)\n",
      "catalogue 3.376 0.391 1.19585790785211\n",
      "> Downloading HRS-110:\n",
      "http://localhost:4000/api/cutout?radiusasec=332.0&pxsizeasec=2.0&radeg=185.32412499999998&decdeg=11.511111111111111&hipsbaseuri=http://skies.esac.esa.int/Herschel/PACS160\n",
      "0.004477138345271648 0.000808482588291832\n",
      "0.004463652236165199 0.0005734493556023523\n",
      "area = 6779.56, mean(0.00731) - bg (0.00446) = 0.00285 +- 0.000573\n",
      "flux = 9.32 +- 1.88 (49.6)\n",
      "catalogue 7.821 0.501 1.1917042621609641\n"
     ]
    },
    {
     "name": "stderr",
     "output_type": "stream",
     "text": [
      "WARNING: File may have been truncated: actual file length (1051232) is smaller than the expected size (1054080) [astropy.io.fits.file]\n",
      "WARNING: File may have been truncated: actual file length (884672) is smaller than the expected size (887040) [astropy.io.fits.file]\n"
     ]
    },
    {
     "name": "stdout",
     "output_type": "stream",
     "text": [
      "> Downloading HRS-111:\n",
      "http://localhost:4000/api/cutout?radiusasec=202.0&pxsizeasec=2.0&radeg=185.38649999999998&decdeg=14.606166666666667&hipsbaseuri=http://skies.esac.esa.int/Herschel/PACS160\n",
      "0.004606190458079529 0.0008586573720628997\n",
      "0.004493170631681553 0.000590671838055512\n",
      "area = 5949.39, mean(0.0132) - bg (0.00449) = 0.00866 +- 0.000591\n",
      "flux = 24.5 +- 1.67 (78.2)\n",
      "catalogue 22.151 1.142 1.108234745157523\n",
      "> Downloading HRS-112:\n",
      "http://localhost:4000/api/cutout?radiusasec=182.0&pxsizeasec=2.0&radeg=185.42279166666663&decdeg=5.384833333333334&hipsbaseuri=http://skies.esac.esa.int/Herschel/PACS160\n",
      "0.004127290317002713 0.000774763261130196\n",
      "0.004120032379826236 0.0005518977098945115\n",
      "area = 2144.14, mean(0.00533) - bg (0.00412) = 0.00121 +- 0.000552\n",
      "flux = 1.27 +- 0.58 (11.4)\n",
      "catalogue 1.002 0.139 1.269509091726691\n"
     ]
    },
    {
     "name": "stderr",
     "output_type": "stream",
     "text": [
      "WARNING: File may have been truncated: actual file length (329312) is smaller than the expected size (331200) [astropy.io.fits.file]\n",
      "WARNING: File may have been truncated: actual file length (267872) is smaller than the expected size (270720) [astropy.io.fits.file]\n"
     ]
    },
    {
     "name": "stdout",
     "output_type": "stream",
     "text": [
      "> Downloading HRS-113:\n",
      "http://localhost:4000/api/cutout?radiusasec=542.0&pxsizeasec=2.0&radeg=185.42699999999996&decdeg=14.598305555555557&hipsbaseuri=http://skies.esac.esa.int/Herschel/PACS160\n",
      "0.0043058470366800035 0.0007145920944218766\n",
      "0.004290972731170526 0.0005048898184924256\n",
      "area = 12557.73, mean(0.0101) - bg (0.00429) = 0.0058 +- 0.000505\n",
      "flux = 34.7 +- 3.02 (127)\n",
      "catalogue 30.598 1.62 1.1347380786273191\n",
      "> Downloading HRS-114:\n",
      "http://localhost:4000/api/cutout?radiusasec=554.0&pxsizeasec=2.0&radeg=185.47874999999996&decdeg=4.473638888888889&hipsbaseuri=http://skies.esac.esa.int/Herschel/PACS160\n"
     ]
    },
    {
     "name": "stderr",
     "output_type": "stream",
     "text": [
      "WARNING: File may have been truncated: actual file length (2352992) is smaller than the expected size (2355840) [astropy.io.fits.file]\n"
     ]
    },
    {
     "name": "stdout",
     "output_type": "stream",
     "text": [
      "ERROR: could not download cutout (most likely, timeout) :^(\n",
      "> Downloading HRS-115:\n",
      "http://localhost:4000/api/cutout?radiusasec=114.0&pxsizeasec=2.0&radeg=185.50541666666666&decdeg=5.100055555555556&hipsbaseuri=http://skies.esac.esa.int/Herschel/PACS160\n",
      "0.004492605762891313 0.0007724354198088805\n",
      "0.004481016124590262 0.0005485563917139066\n",
      "area = 1611.64, mean(0.0059) - bg (0.00448) = 0.00142 +- 0.000549\n",
      "flux = 1.12 +- 0.434 (9.5)\n",
      "catalogue 1.014 0.086 1.1038355904133947\n",
      "> Downloading HRS-116:\n",
      "http://localhost:4000/api/cutout?radiusasec=218.0&pxsizeasec=2.0&radeg=185.515&decdeg=12.740916666666665&hipsbaseuri=http://skies.esac.esa.int/Herschel/PACS160\n",
      "0.004588638204358883 0.0005233379510796131\n",
      "0.0045881930521369605 0.0003704161011682924\n",
      "area = 9331.32, mean(0.00458) - bg (0.00459) = -1.12e-05 +- 0.00037\n",
      "flux = -0.0502 +- 1.66 (42.7)\n",
      "catalogue 1.366 0.0 -0.03672550214445043\n"
     ]
    },
    {
     "name": "stderr",
     "output_type": "stream",
     "text": [
      "WARNING: File may have been truncated: actual file length (108680) is smaller than the expected size (109440) [astropy.io.fits.file]\n",
      "WARNING: File may have been truncated: actual file length (383072) is smaller than the expected size (385920) [astropy.io.fits.file]\n"
     ]
    },
    {
     "name": "stdout",
     "output_type": "stream",
     "text": [
      "> Downloading HRS-117:\n",
      "http://localhost:4000/api/cutout?radiusasec=322.0&pxsizeasec=2.0&radeg=185.5234583333333&decdeg=9.043555555555555&hipsbaseuri=http://skies.esac.esa.int/Herschel/PACS160\n",
      "0.00900896053024109 0.0007705232408436926\n",
      "0.009014311804203127 0.000518953900859559\n",
      "area = 5943.11, mean(0.0122) - bg (0.00901) = 0.00319 +- 0.000519\n",
      "flux = 9.23 +- 1.5 (72.5)\n",
      "catalogue 7.711 0.477 1.1966690940979932\n",
      "> Downloading HRS-118:\n",
      "http://localhost:4000/api/cutout?radiusasec=158.0&pxsizeasec=2.0&radeg=185.61354166666663&decdeg=4.566305555555555&hipsbaseuri=http://skies.esac.esa.int/Herschel/PACS160\n",
      "0.007274861007370808 0.0008014995057293237\n",
      "0.007180384943384643 0.0005989411968847529\n",
      "area = 3722.79, mean(0.00794) - bg (0.00718) = 0.000758 +- 0.000599\n",
      "flux = 1.39 +- 1.09 (29.6)\n",
      "catalogue 1.611 0.269 0.8599398397694588\n"
     ]
    },
    {
     "name": "stderr",
     "output_type": "stream",
     "text": [
      "WARNING: File may have been truncated: actual file length (832352) is smaller than the expected size (835200) [astropy.io.fits.file]\n",
      "WARNING: File may have been truncated: actual file length (202592) is smaller than the expected size (204480) [astropy.io.fits.file]\n"
     ]
    },
    {
     "name": "stdout",
     "output_type": "stream",
     "text": [
      "> Downloading HRS-119:\n",
      "http://localhost:4000/api/cutout?radiusasec=428.0&pxsizeasec=2.0&radeg=185.63066666666666&decdeg=15.537916666666666&hipsbaseuri=http://skies.esac.esa.int/Herschel/PACS160\n",
      "0.003965885287219801 0.0007094701540036122\n",
      "0.003961869327666403 0.0005025124632681676\n",
      "area = 8739.91, mean(0.00637) - bg (0.00396) = 0.0024 +- 0.000503\n",
      "flux = 9.97 +- 2.08 (55.6)\n",
      "catalogue 8.675 0.606 1.1495808069273714\n",
      "> Downloading HRS-120:\n",
      "http://localhost:4000/api/cutout?radiusasec=428.0&pxsizeasec=2.0&radeg=185.66062499999998&decdeg=11.800944444444445&hipsbaseuri=http://skies.esac.esa.int/Herschel/PACS160\n",
      "0.007859605205797617 0.0013646103317676858\n",
      "0.007903217663724028 0.0007738718044433967\n",
      "area = 8235.69, mean(0.0102) - bg (0.0079) = 0.00227 +- 0.000774\n",
      "flux = 9.01 +- 3.07 (83.8)\n",
      "catalogue 7.038 0.533 1.2802196602569615\n"
     ]
    },
    {
     "name": "stderr",
     "output_type": "stream",
     "text": [
      "WARNING: File may have been truncated: actual file length (1468352) is smaller than the expected size (1468800) [astropy.io.fits.file]\n",
      "WARNING: File may have been truncated: actual file length (1468352) is smaller than the expected size (1468800) [astropy.io.fits.file]\n"
     ]
    },
    {
     "name": "stdout",
     "output_type": "stream",
     "text": [
      "> Downloading HRS-121:\n",
      "http://localhost:4000/api/cutout?radiusasec=214.0&pxsizeasec=2.0&radeg=185.676&decdeg=9.332472222222222&hipsbaseuri=http://skies.esac.esa.int/Herschel/PACS160\n",
      "0.0075829921532598165 0.0006837890009580754\n",
      "0.007566502375093142 0.00048337047260078826\n",
      "area = 3865.73, mean(0.0131) - bg (0.00757) = 0.0055 +- 0.000483\n",
      "flux = 10.3 +- 0.908 (50.5)\n",
      "catalogue 8.633 0.506 1.1960364919730773\n",
      "> Downloading HRS-122:\n",
      "http://localhost:4000/api/cutout?radiusasec=660.0&pxsizeasec=2.0&radeg=185.72875&decdeg=15.822388888888888&hipsbaseuri=http://skies.esac.esa.int/Herschel/PACS160\n"
     ]
    },
    {
     "name": "stderr",
     "output_type": "stream",
     "text": [
      "WARNING: File may have been truncated: actual file length (369248) is smaller than the expected size (371520) [astropy.io.fits.file]\n"
     ]
    },
    {
     "name": "stdout",
     "output_type": "stream",
     "text": [
      "ERROR: could not download cutout (most likely, timeout) :^(\n",
      "> Downloading HRS-123:\n",
      "http://localhost:4000/api/cutout?radiusasec=296.0&pxsizeasec=2.0&radeg=185.77574999999996&decdeg=5.250416666666666&hipsbaseuri=http://skies.esac.esa.int/Herschel/PACS160\n",
      "0.007554346243774952 0.0012708832498426244\n",
      "0.0075954001845790625 0.0007238074709138229\n",
      "area = 4882.03, mean(0.00912) - bg (0.0076) = 0.00153 +- 0.000724\n",
      "flux = 3.65 +- 1.73 (44.5)\n",
      "catalogue 2.938 0.336 1.2437132670519755\n",
      "> Downloading HRS-124:\n",
      "http://localhost:4000/api/cutout?radiusasec=492.0&pxsizeasec=2.0&radeg=185.82187499999995&decdeg=11.367972222222223&hipsbaseuri=http://skies.esac.esa.int/Herschel/PACS160\n"
     ]
    },
    {
     "name": "stderr",
     "output_type": "stream",
     "text": [
      "WARNING: File may have been truncated: actual file length (703808) is smaller than the expected size (705600) [astropy.io.fits.file]\n"
     ]
    },
    {
     "name": "stdout",
     "output_type": "stream",
     "text": [
      "ERROR: could not download cutout (most likely, timeout) :^(\n",
      "> Downloading HRS-125:\n",
      "http://localhost:4000/api/cutout?radiusasec=44.0&pxsizeasec=2.0&radeg=185.8955833333333&decdeg=6.081722222222222&hipsbaseuri=http://skies.esac.esa.int/Herschel/PACS160\n",
      "0.004202929119581048 0.0006582182585719767\n",
      "0.004202721772007279 0.00044939980540755067\n",
      "area = 380.13, mean(0.00435) - bg (0.0042) = 0.000147 +- 0.000449\n",
      "flux = 0.0274 +- 0.0837 (1.65)\n",
      "catalogue 0.109 0.0 0.2513156682803825\n",
      "> Downloading HRS-126:\n",
      "http://localhost:4000/api/cutout?radiusasec=172.0&pxsizeasec=2.0&radeg=185.897125&decdeg=16.722194444444444&hipsbaseuri=http://skies.esac.esa.int/Herschel/PACS160\n",
      "0.01501469315306255 0.0038587833334089022\n",
      "0.0150190717476448 0.002779339797828457\n",
      "area = 5808.80, mean(0.0157) - bg (0.015) = 0.000652 +- 0.00278\n",
      "flux = 1.79 +- 7.61 (91)\n",
      "catalogue 1.896 0.0 0.9427411353109456\n"
     ]
    },
    {
     "name": "stderr",
     "output_type": "stream",
     "text": [
      "WARNING: File may have been truncated: actual file length (18368) is smaller than the expected size (20160) [astropy.io.fits.file]\n",
      "WARNING: File may have been truncated: actual file length (239552) is smaller than the expected size (241920) [astropy.io.fits.file]\n"
     ]
    },
    {
     "name": "stdout",
     "output_type": "stream",
     "text": [
      "> Downloading HRS-127:\n",
      "http://localhost:4000/api/cutout?radiusasec=218.0&pxsizeasec=2.0&radeg=185.91124999999997&decdeg=6.954083333333333&hipsbaseuri=http://skies.esac.esa.int/Herschel/PACS160\n",
      "0.005744027213335836 0.0005153866602252413\n",
      "0.005731541319363714 0.00036531161380128465\n",
      "area = 3766.77, mean(0.00977) - bg (0.00573) = 0.00403 +- 0.000365\n",
      "flux = 7.43 +- 0.673 (36.8)\n",
      "catalogue 6.305 0.35 1.1783586638550503\n",
      "> Downloading HRS-128:\n",
      "http://localhost:4000/api/cutout?radiusasec=158.0&pxsizeasec=2.0&radeg=185.95216666666664&decdeg=7.186833333333333&hipsbaseuri=http://skies.esac.esa.int/Herschel/PACS160\n",
      "0.00429572434513825 0.0005816181627019612\n",
      "0.004286601892491375 0.0004091335991882881\n",
      "area = 2419.81, mean(0.00569) - bg (0.00429) = 0.0014 +- 0.000409\n",
      "flux = 1.66 +- 0.484 (13.8)\n",
      "catalogue 1.331 0.109 1.244350088621137\n"
     ]
    },
    {
     "name": "stderr",
     "output_type": "stream",
     "text": [
      "WARNING: File may have been truncated: actual file length (383072) is smaller than the expected size (385920) [astropy.io.fits.file]\n",
      "WARNING: File may have been truncated: actual file length (202592) is smaller than the expected size (204480) [astropy.io.fits.file]\n"
     ]
    },
    {
     "name": "stdout",
     "output_type": "stream",
     "text": [
      "> Downloading HRS-129:\n",
      "http://localhost:4000/api/cutout?radiusasec=80.0&pxsizeasec=2.0&radeg=185.99087499999996&decdeg=16.693361111111113&hipsbaseuri=http://skies.esac.esa.int/Herschel/PACS160\n",
      "0.013742826948835756 0.002703956564296459\n",
      "0.013673144177300554 0.0019188388589395531\n",
      "area = 1256.64, mean(0.0137) - bg (0.0137) = 6.03e-06 +- 0.00192\n",
      "flux = 0.00357 +- 1.14 (17.2)\n",
      "catalogue 0.502 0.123 0.0071149418213564694\n",
      "> Downloading HRS-130:\n",
      "http://localhost:4000/api/cutout?radiusasec=168.0&pxsizeasec=2.0&radeg=186.0065&decdeg=12.205027777777778&hipsbaseuri=http://skies.esac.esa.int/Herschel/PACS160\n",
      "0.007321135425299255 0.0009252825554922359\n",
      "0.0073076446712599 0.0006376161223419305\n",
      "area = 4090.35, mean(0.00869) - bg (0.00731) = 0.00138 +- 0.000638\n",
      "flux = 2.72 +- 1.26 (35.5)\n",
      "catalogue 2.918 0.29 0.9334708774197743\n"
     ]
    },
    {
     "name": "stderr",
     "output_type": "stream",
     "text": [
      "WARNING: File may have been truncated: actual file length (54080) is smaller than the expected size (54720) [astropy.io.fits.file]\n",
      "WARNING: File may have been truncated: actual file length (228672) is smaller than the expected size (230400) [astropy.io.fits.file]\n"
     ]
    },
    {
     "name": "stdout",
     "output_type": "stream",
     "text": [
      "> Downloading HRS-131:\n",
      "http://localhost:4000/api/cutout?radiusasec=130.0&pxsizeasec=2.0&radeg=186.02304166666664&decdeg=7.041277777777777&hipsbaseuri=http://skies.esac.esa.int/Herschel/PACS160\n",
      "0.004341291350129948 0.0005957730368111903\n",
      "0.004323602641193121 0.00041991327996361984\n",
      "area = 3318.31, mean(0.00513) - bg (0.00432) = 0.00081 +- 0.00042\n",
      "flux = 1.31 +- 0.681 (17)\n",
      "catalogue 1.263 0.136 1.0401404417117712\n",
      "> Downloading HRS-132:\n",
      "http://localhost:4000/api/cutout?radiusasec=164.0&pxsizeasec=2.0&radeg=186.03099999999998&decdeg=6.6074722222222215&hipsbaseuri=http://skies.esac.esa.int/Herschel/PACS160\n",
      "0.006104002893977211 0.0005273270755886475\n",
      "0.006093974123756912 0.0003718140426950191\n",
      "area = 3735.35, mean(0.007) - bg (0.00609) = 0.000906 +- 0.000372\n",
      "flux = 1.65 +- 0.679 (26.1)\n",
      "catalogue 1.396 0.158 1.1854026538971356\n"
     ]
    },
    {
     "name": "stderr",
     "output_type": "stream",
     "text": [
      "WARNING: File may have been truncated: actual file length (138080) is smaller than the expected size (138240) [astropy.io.fits.file]\n",
      "WARNING: File may have been truncated: actual file length (218048) is smaller than the expected size (218880) [astropy.io.fits.file]\n"
     ]
    },
    {
     "name": "stdout",
     "output_type": "stream",
     "text": [
      "> Downloading HRS-133:\n",
      "http://localhost:4000/api/cutout?radiusasec=300.0&pxsizeasec=2.0&radeg=186.0460833333333&decdeg=31.52161111111111&hipsbaseuri=http://skies.esac.esa.int/Herschel/PACS160\n",
      "0.020250615407834426 0.0011786892410354105\n",
      "0.020249089182226676 0.0008061639126498627\n",
      "area = 5772.68, mean(0.0217) - bg (0.0202) = 0.00142 +- 0.000806\n",
      "flux = 3.43 +- 1.95 (125)\n",
      "catalogue 2.545 0.371 1.3479284769509894\n",
      "> Downloading HRS-134:\n",
      "http://localhost:4000/api/cutout?radiusasec=272.0&pxsizeasec=2.0&radeg=186.06054166666664&decdeg=8.535805555555555&hipsbaseuri=http://skies.esac.esa.int/Herschel/PACS160\n",
      "0.004259451627920529 0.0007811653541784517\n",
      "0.004253679560484883 0.0005540618514548872\n",
      "area = 3845.31, mean(0.00582) - bg (0.00425) = 0.00156 +- 0.000554\n",
      "flux = 2.93 +- 1.04 (22.4)\n",
      "catalogue 2.763 0.274 1.0605787104424362\n",
      "> Downloading HRS-135:\n",
      "http://localhost:4000/api/cutout?radiusasec=156.0&pxsizeasec=2.0&radeg=186.11762499999998&decdeg=7.317527777777777&hipsbaseuri=http://skies.esac.esa.int/Herschel/PACS160\n",
      "0.004267791889368507 0.0005532618097050467\n",
      "0.004267513467246675 0.00038886911432930245\n",
      "area = 4778.36, mean(0.00425) - bg (0.00427) = -2.02e-05 +- 0.000389\n",
      "flux = -0.0472 +- 0.908 (20.3)\n",
      "catalogue 0.434 0.0 -0.10885677806103215\n"
     ]
    },
    {
     "name": "stderr",
     "output_type": "stream",
     "text": [
      "WARNING: File may have been truncated: actual file length (594752) is smaller than the expected size (596160) [astropy.io.fits.file]\n",
      "WARNING: File may have been truncated: actual file length (197568) is smaller than the expected size (198720) [astropy.io.fits.file]\n"
     ]
    },
    {
     "name": "stdout",
     "output_type": "stream",
     "text": [
      "> Downloading HRS-136:\n",
      "http://localhost:4000/api/cutout?radiusasec=148.0&pxsizeasec=2.0&radeg=186.228875&decdeg=7.444555555555556&hipsbaseuri=http://skies.esac.esa.int/Herschel/PACS160\n",
      "0.006011400174616243 0.0006189250753914138\n",
      "0.0059988852774673475 0.00043964628818911794\n",
      "area = 2150.42, mean(0.0102) - bg (0.006) = 0.00425 +- 0.00044\n",
      "flux = 4.46 +- 0.462 (22)\n",
      "catalogue 3.891 0.22 1.1461384133562607\n",
      "> Downloading HRS-137:\n",
      "http://localhost:4000/api/cutout?radiusasec=244.0&pxsizeasec=2.0&radeg=186.23095833333332&decdeg=11.704277777777778&hipsbaseuri=http://skies.esac.esa.int/Herschel/PACS160\n"
     ]
    },
    {
     "name": "stderr",
     "output_type": "stream",
     "text": [
      "WARNING: File may have been truncated: actual file length (178112) is smaller than the expected size (178560) [astropy.io.fits.file]\n",
      "WARNING: File may have been truncated: actual file length (483080) is smaller than the expected size (483840) [astropy.io.fits.file]\n"
     ]
    },
    {
     "name": "stdout",
     "output_type": "stream",
     "text": [
      "0.004502905127025309 0.0007845654104224331\n",
      "0.004502032294199241 0.0005569332050161184\n",
      "area = 11689.87, mean(0.00462) - bg (0.0045) = 0.000119 +- 0.000557\n",
      "flux = 0.668 +- 3.14 (54)\n",
      "catalogue 2.027 0.0 0.3296198792547164\n",
      "> Downloading HRS-138:\n",
      "http://localhost:4000/api/cutout?radiusasec=80.0&pxsizeasec=2.0&radeg=186.26574999999997&decdeg=12.886972222222221&hipsbaseuri=http://skies.esac.esa.int/Herschel/PACS160\n",
      "0.004753556979560242 0.0005734545083688021\n",
      "0.00473683561505416 0.000404467439253295\n",
      "area = 1225.22, mean(0.00611) - bg (0.00474) = 0.00137 +- 0.000404\n",
      "flux = 0.806 +- 0.238 (7.48)\n",
      "catalogue 0.896 0.067 0.8993593213598693\n",
      "> Downloading HRS-139:\n",
      "http://localhost:4000/api/cutout?radiusasec=154.0&pxsizeasec=2.0&radeg=186.32524999999995&decdeg=5.741194444444445&hipsbaseuri=http://skies.esac.esa.int/Herschel/PACS160\n",
      "0.004424813006200075 0.0007292272826804245\n",
      "0.004410605308855657 0.0005093786022486505\n",
      "area = 2721.40, mean(0.00595) - bg (0.00441) = 0.00154 +- 0.000509\n",
      "flux = 2.06 +- 0.679 (16.2)\n",
      "catalogue 2.078 0.25 0.9896347258635144\n"
     ]
    },
    {
     "name": "stderr",
     "output_type": "stream",
     "text": [
      "WARNING: File may have been truncated: actual file length (54080) is smaller than the expected size (54720) [astropy.io.fits.file]\n",
      "WARNING: File may have been truncated: actual file length (192608) is smaller than the expected size (192960) [astropy.io.fits.file]\n"
     ]
    },
    {
     "name": "stdout",
     "output_type": "stream",
     "text": [
      "> Downloading HRS-140:\n",
      "http://localhost:4000/api/cutout?radiusasec=258.0&pxsizeasec=2.0&radeg=186.32537499999998&decdeg=4.925055555555556&hipsbaseuri=http://skies.esac.esa.int/Herschel/PACS160\n",
      "0.007820223272379143 0.000784405608814793\n",
      "0.00781964511222774 0.0005362173417784396\n",
      "area = 10536.90, mean(0.00862) - bg (0.00782) = 0.0008 +- 0.000536\n",
      "flux = 4.13 +- 2.77 (90.8)\n",
      "catalogue 3.115 0.833 1.3269650796047099\n"
     ]
    },
    {
     "name": "stderr",
     "output_type": "stream",
     "text": [
      "WARNING: File may have been truncated: actual file length (535392) is smaller than the expected size (535680) [astropy.io.fits.file]\n"
     ]
    },
    {
     "name": "stdout",
     "output_type": "stream",
     "text": [
      "> Downloading HRS-141:\n",
      "http://localhost:4000/api/cutout?radiusasec=296.0&pxsizeasec=2.0&radeg=186.34237499999998&decdeg=10.016805555555557&hipsbaseuri=http://skies.esac.esa.int/Herschel/PACS160\n",
      "0.004273608925741242 0.0005680816440003489\n",
      "0.004261819764932021 0.0004022267598903904\n",
      "area = 8601.68, mean(0.00618) - bg (0.00426) = 0.00191 +- 0.000402\n",
      "flux = 7.98 +- 1.68 (53.1)\n",
      "catalogue 7.037 0.498 1.1346205624984775\n",
      "> Downloading HRS-142:\n",
      "http://localhost:4000/api/cutout?radiusasec=218.0&pxsizeasec=2.0&radeg=186.35625&decdeg=16.47&hipsbaseuri=http://skies.esac.esa.int/Herschel/PACS160\n",
      "0.02138130700916184 0.0014192184916849808\n",
      "0.021444298547364782 0.0008517474070867423\n",
      "area = 4622.85, mean(0.0277) - bg (0.0214) = 0.00623 +- 0.000852\n",
      "flux = 13.6 +- 1.86 (128)\n",
      "catalogue 11.722 0.674 1.1594014726078667\n"
     ]
    },
    {
     "name": "stderr",
     "output_type": "stream",
     "text": [
      "WARNING: File may have been truncated: actual file length (703808) is smaller than the expected size (705600) [astropy.io.fits.file]\n",
      "WARNING: File may have been truncated: actual file length (383072) is smaller than the expected size (385920) [astropy.io.fits.file]\n"
     ]
    },
    {
     "name": "stdout",
     "output_type": "stream",
     "text": [
      "> Downloading HRS-143:\n",
      "http://localhost:4000/api/cutout?radiusasec=314.0&pxsizeasec=2.0&radeg=186.42762499999998&decdeg=7.216694444444444&hipsbaseuri=http://skies.esac.esa.int/Herschel/PACS160\n",
      "0.006720091984392267 0.0006780356345835728\n",
      "0.006714083919249263 0.0004726489279204858\n",
      "area = 5425.53, mean(0.0102) - bg (0.00671) = 0.00352 +- 0.000473\n",
      "flux = 9.34 +- 1.25 (55.5)\n",
      "catalogue 8.478 0.449 1.1019226699325995\n",
      "> Downloading HRS-144:\n",
      "http://localhost:4000/api/cutout?radiusasec=428.0&pxsizeasec=2.0&radeg=186.4450833333333&decdeg=12.662083333333333&hipsbaseuri=http://skies.esac.esa.int/Herschel/PACS160\n",
      "0.008554051545815976 0.002380478050686822\n",
      "0.008458475262877636 0.0012943563878086656\n",
      "area = 8739.91, mean(0.0147) - bg (0.00846) = 0.00621 +- 0.00129\n",
      "flux = 26.1 +- 5.44 (128)\n",
      "catalogue 19.916 1.193 1.3090290384852115\n"
     ]
    },
    {
     "name": "stderr",
     "output_type": "stream",
     "text": [
      "WARNING: File may have been truncated: actual file length (791648) is smaller than the expected size (792000) [astropy.io.fits.file]\n",
      "WARNING: File may have been truncated: actual file length (1468352) is smaller than the expected size (1468800) [astropy.io.fits.file]\n"
     ]
    },
    {
     "name": "stdout",
     "output_type": "stream",
     "text": [
      "> Downloading HRS-145:\n",
      "http://localhost:4000/api/cutout?radiusasec=184.0&pxsizeasec=2.0&radeg=186.46112499999998&decdeg=10.459055555555555&hipsbaseuri=http://skies.esac.esa.int/Herschel/PACS160\n",
      "0.004410765756997765 0.0007091730800915636\n",
      "0.004392999947828793 0.0005042498562712438\n",
      "area = 5491.50, mean(0.00569) - bg (0.00439) = 0.0013 +- 0.000504\n",
      "flux = 3.46 +- 1.34 (31.3)\n",
      "catalogue 3.319 0.346 1.0423557688541805\n",
      "> Downloading HRS-146:\n",
      "http://localhost:4000/api/cutout?radiusasec=182.0&pxsizeasec=2.0&radeg=186.47549999999995&decdeg=7.554833333333333&hipsbaseuri=http://skies.esac.esa.int/Herschel/PACS160\n",
      "0.004370553516155503 0.000811187143801015\n",
      "0.004354384496182057 0.0005713573782031777\n",
      "area = 2787.38, mean(0.00672) - bg (0.00435) = 0.00237 +- 0.000571\n",
      "flux = 3.22 +- 0.777 (18.7)\n",
      "catalogue 2.886 0.191 1.1155589578692346\n"
     ]
    },
    {
     "name": "stderr",
     "output_type": "stream",
     "text": [
      "WARNING: File may have been truncated: actual file length (273728) is smaller than the expected size (276480) [astropy.io.fits.file]\n",
      "WARNING: File may have been truncated: actual file length (267872) is smaller than the expected size (270720) [astropy.io.fits.file]\n"
     ]
    },
    {
     "name": "stdout",
     "output_type": "stream",
     "text": [
      "> Downloading HRS-147:\n",
      "http://localhost:4000/api/cutout?radiusasec=242.0&pxsizeasec=2.0&radeg=186.49291666666664&decdeg=3.4298055555555553&hipsbaseuri=http://skies.esac.esa.int/Herschel/PACS160\n",
      "0.010599317976160462 0.0014663194923584585\n",
      "0.010598022255199622 0.0010186965050317516\n",
      "area = 3896.36, mean(0.0126) - bg (0.0106) = 0.00198 +- 0.00102\n",
      "flux = 3.8 +- 1.95 (49)\n",
      "catalogue 3.973 0.552 0.9554200216660312\n"
     ]
    },
    {
     "name": "stderr",
     "output_type": "stream",
     "text": [
      "WARNING: File may have been truncated: actual file length (471392) is smaller than the expected size (472320) [astropy.io.fits.file]\n"
     ]
    },
    {
     "name": "stdout",
     "output_type": "stream",
     "text": [
      "> Downloading HRS-148:\n",
      "http://localhost:4000/api/cutout?radiusasec=284.0&pxsizeasec=2.0&radeg=186.49499999999998&decdeg=15.671472222222222&hipsbaseuri=http://skies.esac.esa.int/Herschel/PACS160\n",
      "0.013107922874852828 0.0020946826337619948\n",
      "0.012741404003583857 0.001415269288954501\n",
      "area = 6468.54, mean(0.0146) - bg (0.0127) = 0.00183 +- 0.00142\n",
      "flux = 5.6 +- 4.34 (94.2)\n",
      "catalogue 6.539 0.826 0.8562988135023962\n"
     ]
    },
    {
     "name": "stderr",
     "output_type": "stream",
     "text": [
      "WARNING: File may have been truncated: actual file length (648128) is smaller than the expected size (650880) [astropy.io.fits.file]\n"
     ]
    },
    {
     "name": "stdout",
     "output_type": "stream",
     "text": [
      "> Downloading HRS-149:\n",
      "http://localhost:4000/api/cutout?radiusasec=332.0&pxsizeasec=2.0&radeg=186.5315&decdeg=13.112777777777778&hipsbaseuri=http://skies.esac.esa.int/Herschel/PACS160\n",
      "0.006798047117991629 0.0006187809353152473\n",
      "0.006797758063507209 0.00041712342807742923\n",
      "area = 6388.43, mean(0.0173) - bg (0.0068) = 0.0105 +- 0.000417\n",
      "flux = 32.1 +- 1.28 (110)\n",
      "catalogue 26.98 1.385 1.1898843154849912\n",
      "> Downloading HRS-150:\n",
      "http://localhost:4000/api/cutout?radiusasec=260.0&pxsizeasec=2.0&radeg=186.54891666666666&decdeg=12.946222222222222&hipsbaseuri=http://skies.esac.esa.int/Herschel/PACS160\n",
      "0.004273824405294855 0.0006211861766783297\n",
      "0.0042567042398921635 0.000441133949046208\n",
      "area = 11639.60, mean(0.0043) - bg (0.00426) = 3.95e-05 +- 0.000441\n",
      "flux = 0.221 +- 2.46 (50)\n",
      "catalogue 0.579 0.356 0.38123113694093574\n"
     ]
    },
    {
     "name": "stderr",
     "output_type": "stream",
     "text": [
      "WARNING: File may have been truncated: actual file length (884672) is smaller than the expected size (887040) [astropy.io.fits.file]\n",
      "WARNING: File may have been truncated: actual file length (543680) is smaller than the expected size (544320) [astropy.io.fits.file]\n"
     ]
    },
    {
     "name": "stdout",
     "output_type": "stream",
     "text": [
      "> Downloading HRS-151:\n",
      "http://localhost:4000/api/cutout?radiusasec=246.0&pxsizeasec=2.0&radeg=186.634375&decdeg=12.610972222222221&hipsbaseuri=http://skies.esac.esa.int/Herschel/PACS160\n",
      "0.004348953083896811 0.0007574422769343996\n",
      "0.004330716706324484 0.000536217413983633\n",
      "area = 7148.69, mean(0.00578) - bg (0.00433) = 0.00145 +- 0.000536\n",
      "flux = 4.97 +- 1.84 (41.3)\n",
      "catalogue 4.395 0.543 1.1303650265264116\n",
      "> Downloading HRS-152:\n",
      "http://localhost:4000/api/cutout?radiusasec=158.0&pxsizeasec=2.0&radeg=186.65041666666664&decdeg=3.964638888888889&hipsbaseuri=http://skies.esac.esa.int/Herschel/PACS160\n",
      "0.010321101831665288 0.0009236903745838253\n",
      "0.010287633163542864 0.0006614941546690379\n",
      "area = 4095.07, mean(0.0139) - bg (0.0103) = 0.00363 +- 0.000661\n",
      "flux = 7.31 +- 1.33 (57)\n",
      "catalogue 6.358 0.416 1.1500382599453183\n"
     ]
    },
    {
     "name": "stderr",
     "output_type": "stream",
     "text": [
      "WARNING: File may have been truncated: actual file length (487008) is smaller than the expected size (489600) [astropy.io.fits.file]\n",
      "WARNING: File may have been truncated: actual file length (202592) is smaller than the expected size (204480) [astropy.io.fits.file]\n"
     ]
    },
    {
     "name": "stdout",
     "output_type": "stream",
     "text": [
      "> Downloading HRS-153:\n",
      "http://localhost:4000/api/cutout?radiusasec=182.0&pxsizeasec=2.0&radeg=186.69466666666665&decdeg=7.9190000000000005&hipsbaseuri=http://skies.esac.esa.int/Herschel/PACS160\n",
      "0.007033746227333434 0.0007288755235170504\n",
      "0.0070174091843428175 0.0005061354468362876\n",
      "area = 6075.05, mean(0.00868) - bg (0.00702) = 0.00166 +- 0.000506\n",
      "flux = 4.93 +- 1.5 (52.7)\n",
      "catalogue 4.547 0.465 1.0845471848946504\n",
      "> Downloading HRS-154:\n",
      "http://localhost:4000/api/cutout?radiusasec=206.0&pxsizeasec=2.0&radeg=186.69679166666663&decdeg=8.884611111111111&hipsbaseuri=http://skies.esac.esa.int/Herschel/PACS160\n",
      "0.00448282277581139 0.0008195411649705863\n",
      "0.004462871081727686 0.0005799850062998406\n",
      "area = 7927.81, mean(0.00526) - bg (0.00446) = 0.000799 +- 0.00058\n",
      "flux = 3.08 +- 2.24 (41.7)\n",
      "catalogue 2.702 0.448 1.1400845150818943\n"
     ]
    },
    {
     "name": "stderr",
     "output_type": "stream",
     "text": [
      "WARNING: File may have been truncated: actual file length (267872) is smaller than the expected size (270720) [astropy.io.fits.file]\n",
      "WARNING: File may have been truncated: actual file length (342368) is smaller than the expected size (342720) [astropy.io.fits.file]\n"
     ]
    },
    {
     "name": "stdout",
     "output_type": "stream",
     "text": [
      "> Downloading HRS-155:\n",
      "http://localhost:4000/api/cutout?radiusasec=172.0&pxsizeasec=2.0&radeg=186.71091666666666&decdeg=9.584166666666667&hipsbaseuri=http://skies.esac.esa.int/Herschel/PACS160\n",
      "0.004455767727069118 0.000672674432688081\n",
      "0.004452790944464245 0.00047257185693116787\n",
      "area = 5808.80, mean(0.00466) - bg (0.00445) = 0.000209 +- 0.000473\n",
      "flux = 0.589 +- 1.33 (27.1)\n",
      "catalogue 0.545 0.0 1.0799372741507\n",
      "> Downloading HRS-156:\n",
      "http://localhost:4000/api/cutout?radiusasec=296.0&pxsizeasec=2.0&radeg=186.73512499999998&decdeg=15.047416666666667&hipsbaseuri=http://skies.esac.esa.int/Herschel/PACS160\n",
      "0.022042110223533286 0.0074673152621811435\n",
      "0.02088003678139372 0.0038879710146506783\n",
      "area = 6741.86, mean(0.0277) - bg (0.0209) = 0.0068 +- 0.00389\n",
      "flux = 21.8 +- 12.5 (187)\n",
      "catalogue 18.421 0.992 1.183864982501835\n"
     ]
    },
    {
     "name": "stderr",
     "output_type": "stream",
     "text": [
      "WARNING: File may have been truncated: actual file length (239552) is smaller than the expected size (241920) [astropy.io.fits.file]\n",
      "WARNING: File may have been truncated: actual file length (703808) is smaller than the expected size (705600) [astropy.io.fits.file]\n"
     ]
    },
    {
     "name": "stdout",
     "output_type": "stream",
     "text": [
      "> Downloading HRS-157:\n",
      "http://localhost:4000/api/cutout?radiusasec=172.0&pxsizeasec=2.0&radeg=186.74366666666666&decdeg=2.494361111111111&hipsbaseuri=http://skies.esac.esa.int/Herschel/PACS160\n",
      "0.02119775864791699 0.004492191456897773\n",
      "0.02106391399814807 0.0033447651909980242\n",
      "area = 3444.76, mean(0.0272) - bg (0.0211) = 0.00613 +- 0.00334\n",
      "flux = 10.4 +- 5.67 (93.7)\n",
      "catalogue 9.352 0.608 1.1102344900504098\n"
     ]
    },
    {
     "name": "stderr",
     "output_type": "stream",
     "text": [
      "WARNING: File may have been truncated: actual file length (239552) is smaller than the expected size (241920) [astropy.io.fits.file]\n"
     ]
    },
    {
     "name": "stdout",
     "output_type": "stream",
     "text": [
      "> Downloading HRS-158:\n",
      "http://localhost:4000/api/cutout?radiusasec=214.0&pxsizeasec=2.0&radeg=186.78737499999997&decdeg=5.880166666666667&hipsbaseuri=http://skies.esac.esa.int/Herschel/PACS160\n",
      "0.009276517972709033 0.0012125856705707105\n",
      "0.009279372642328476 0.000803853371810872\n",
      "area = 3529.58, mean(0.0104) - bg (0.00928) = 0.00108 +- 0.000804\n",
      "flux = 1.87 +- 1.39 (36.6)\n",
      "catalogue 1.4 0.347 1.3333294130238142\n",
      "> Downloading HRS-159:\n",
      "http://localhost:4000/api/cutout?radiusasec=170.0&pxsizeasec=2.0&radeg=186.79829166666664&decdeg=9.420555555555556&hipsbaseuri=http://skies.esac.esa.int/Herschel/PACS160\n",
      "0.007556809121850117 0.0005642757624166259\n",
      "0.007533723693127307 0.00040731932820998275\n",
      "area = 5340.71, mean(0.01) - bg (0.00753) = 0.0025 +- 0.000407\n",
      "flux = 6.48 +- 1.06 (53.6)\n",
      "catalogue 6.132 0.381 1.0574083644914065\n"
     ]
    },
    {
     "name": "stderr",
     "output_type": "stream",
     "text": [
      "WARNING: File may have been truncated: actual file length (369248) is smaller than the expected size (371520) [astropy.io.fits.file]\n",
      "WARNING: File may have been truncated: actual file length (234080) is smaller than the expected size (236160) [astropy.io.fits.file]\n"
     ]
    },
    {
     "name": "stdout",
     "output_type": "stream",
     "text": [
      "> Downloading HRS-160:\n",
      "http://localhost:4000/api/cutout?radiusasec=188.0&pxsizeasec=2.0&radeg=186.86004166666663&decdeg=6.262777777777778&hipsbaseuri=http://skies.esac.esa.int/Herschel/PACS160\n",
      "0.006418437723144767 0.0007498478415281498\n",
      "0.0063787547797975255 0.0005247059388466004\n",
      "area = 6644.47, mean(0.00889) - bg (0.00638) = 0.00251 +- 0.000525\n",
      "flux = 8.16 +- 1.71 (59.1)\n",
      "catalogue 7.142 0.79 1.1423683351325515\n",
      "> Downloading HRS-161:\n",
      "http://localhost:4000/api/cutout?radiusasec=338.0&pxsizeasec=2.0&radeg=186.86066666666665&decdeg=11.107527777777777&hipsbaseuri=http://skies.esac.esa.int/Herschel/PACS160\n",
      "0.004377559175324023 0.0008081934534413067\n",
      "0.004372583501746589 0.0005717672110483479\n",
      "area = 10353.12, mean(0.00556) - bg (0.00437) = 0.00119 +- 0.000572\n",
      "flux = 5.95 +- 2.86 (57.6)\n",
      "catalogue 5.509 0.593 1.0800172175157525\n"
     ]
    },
    {
     "name": "stderr",
     "output_type": "stream",
     "text": [
      "WARNING: File may have been truncated: actual file length (285632) is smaller than the expected size (288000) [astropy.io.fits.file]\n",
      "WARNING: File may have been truncated: actual file length (916832) is smaller than the expected size (918720) [astropy.io.fits.file]\n"
     ]
    },
    {
     "name": "stdout",
     "output_type": "stream",
     "text": [
      "> Downloading HRS-162:\n",
      "http://localhost:4000/api/cutout?radiusasec=166.0&pxsizeasec=2.0&radeg=186.91870833333329&decdeg=13.078944444444444&hipsbaseuri=http://skies.esac.esa.int/Herschel/PACS160\n",
      "0.0044703804686996446 0.0006579474318910415\n",
      "0.0044632872737241066 0.0004609059233881159\n",
      "area = 5019.48, mean(0.00647) - bg (0.00446) = 0.002 +- 0.000461\n",
      "flux = 4.82 +- 1.11 (32.5)\n",
      "catalogue 4.484 0.302 1.0752539612533774\n",
      "> Downloading HRS-163:\n",
      "http://localhost:4000/api/cutout?radiusasec=268.0&pxsizeasec=2.0&radeg=186.93995833333332&decdeg=13.008833333333333&hipsbaseuri=http://skies.esac.esa.int/Herschel/PACS160\n",
      "0.0043557584126299315 0.0007291249945849628\n",
      "0.0043311489628055 0.0005140739566313852\n",
      "area = 12418.72, mean(0.00721) - bg (0.00433) = 0.00288 +- 0.000514\n",
      "flux = 17.2 +- 3.06 (89.6)\n",
      "catalogue 15.454 1.09 1.11115815262776\n"
     ]
    },
    {
     "name": "stderr",
     "output_type": "stream",
     "text": [
      "WARNING: File may have been truncated: actual file length (223328) is smaller than the expected size (224640) [astropy.io.fits.file]\n",
      "WARNING: File may have been truncated: actual file length (577472) is smaller than the expected size (578880) [astropy.io.fits.file]\n"
     ]
    },
    {
     "name": "stdout",
     "output_type": "stream",
     "text": [
      "> Downloading HRS-164:\n",
      "http://localhost:4000/api/cutout?radiusasec=168.0&pxsizeasec=2.0&radeg=186.9732083333333&decdeg=12.293222222222223&hipsbaseuri=http://skies.esac.esa.int/Herschel/PACS160\n",
      "0.004237131013261581 0.0007894802710419965\n",
      "0.004234399172212553 0.0005584279375191018\n",
      "area = 5541.77, mean(0.00423) - bg (0.00423) = 2.54e-07 +- 0.000558\n",
      "flux = 0.000678 +- 1.49 (23.5)\n",
      "catalogue 0.972 0.0 0.0006979592057439201\n"
     ]
    },
    {
     "name": "stderr",
     "output_type": "stream",
     "text": [
      "WARNING: File may have been truncated: actual file length (228672) is smaller than the expected size (230400) [astropy.io.fits.file]\n"
     ]
    },
    {
     "name": "stdout",
     "output_type": "stream",
     "text": [
      "> Downloading HRS-165:\n",
      "http://localhost:4000/api/cutout?radiusasec=156.0&pxsizeasec=2.0&radeg=186.98079166666662&decdeg=5.721222222222222&hipsbaseuri=http://skies.esac.esa.int/Herschel/PACS160\n",
      "0.007498666386414247 0.0007923794242160696\n",
      "0.0074792701767056186 0.0005647862047084555\n",
      "area = 2205.40, mean(0.00874) - bg (0.00748) = 0.00126 +- 0.000565\n",
      "flux = 1.36 +- 0.61 (19.3)\n",
      "catalogue 1.342 0.223 1.0130003606439302\n",
      "> Downloading HRS-166:\n",
      "http://localhost:4000/api/cutout?radiusasec=242.0&pxsizeasec=2.0&radeg=187.0162083333333&decdeg=9.803611111111111&hipsbaseuri=http://skies.esac.esa.int/Herschel/PACS160\n",
      "0.0043802573847837685 0.0006666879816208163\n",
      "0.004378774258883533 0.0004728509536354042\n",
      "area = 11499.01, mean(0.00452) - bg (0.00438) = 0.000146 +- 0.000473\n",
      "flux = 0.813 +- 2.64 (52)\n",
      "catalogue 1.393 0.0 0.5837236901260177\n"
     ]
    },
    {
     "name": "stderr",
     "output_type": "stream",
     "text": [
      "WARNING: File may have been truncated: actual file length (197568) is smaller than the expected size (198720) [astropy.io.fits.file]\n",
      "WARNING: File may have been truncated: actual file length (471392) is smaller than the expected size (472320) [astropy.io.fits.file]\n"
     ]
    },
    {
     "name": "stdout",
     "output_type": "stream",
     "text": [
      "> Downloading HRS-167:\n",
      "http://localhost:4000/api/cutout?radiusasec=186.0&pxsizeasec=2.0&radeg=187.06641666666664&decdeg=9.436305555555556&hipsbaseuri=http://skies.esac.esa.int/Herschel/PACS160\n",
      "0.004223455084507629 0.0007392160256523535\n",
      "0.0042152216746693906 0.0005227357483183956\n",
      "area = 2410.39, mean(0.00658) - bg (0.00422) = 0.00237 +- 0.000523\n",
      "flux = 2.77 +- 0.612 (15.9)\n",
      "catalogue 2.378 0.181 1.1658397034038022\n",
      "> Downloading HRS-168:\n",
      "http://localhost:4000/api/cutout?radiusasec=116.0&pxsizeasec=2.0&radeg=187.07820833333332&decdeg=8.729472222222222&hipsbaseuri=http://skies.esac.esa.int/Herschel/PACS160\n",
      "0.004335156551117573 0.0008370329440305544\n",
      "0.004319321887589081 0.000595935111027836\n",
      "area = 1685.46, mean(0.00589) - bg (0.00432) = 0.00157 +- 0.000596\n",
      "flux = 1.29 +- 0.489 (9.92)\n",
      "catalogue 0.916 0.12 1.4033596554541263\n"
     ]
    },
    {
     "name": "stderr",
     "output_type": "stream",
     "text": [
      "WARNING: File may have been truncated: actual file length (279648) is smaller than the expected size (282240) [astropy.io.fits.file]\n",
      "WARNING: File may have been truncated: actual file length (110528) is smaller than the expected size (112320) [astropy.io.fits.file]\n"
     ]
    },
    {
     "name": "stdout",
     "output_type": "stream",
     "text": [
      "> Downloading HRS-169:\n",
      "http://localhost:4000/api/cutout?radiusasec=128.0&pxsizeasec=2.0&radeg=187.11366666666663&decdeg=18.415305555555555&hipsbaseuri=http://skies.esac.esa.int/Herschel/PACS160\n",
      "0.02180143007238989 0.0016934813245146063\n",
      "0.02175507077679787 0.001217844095751608\n",
      "area = 2513.27, mean(0.0239) - bg (0.0218) = 0.00217 +- 0.00122\n",
      "flux = 2.55 +- 1.43 (60.1)\n",
      "catalogue 2.187 0.32 1.1659556454304016\n",
      "> Downloading HRS-170:\n",
      "http://localhost:4000/api/cutout?radiusasec=516.0&pxsizeasec=2.0&radeg=187.12345833333333&decdeg=17.084944444444442&hipsbaseuri=http://skies.esac.esa.int/Herschel/PACS160\n",
      "0.021251320475653007 0.0021293640553345754\n",
      "0.02130498426676768 0.0012222669963161137\n",
      "area = 34447.56, mean(0.0223) - bg (0.0213) = 0.000951 +- 0.00122\n",
      "flux = 15.4 +- 19.8 (767)\n",
      "catalogue 14.263 3.336 1.0816959036604372\n"
     ]
    },
    {
     "name": "stderr",
     "output_type": "stream",
     "text": [
      "WARNING: File may have been truncated: actual file length (133952) is smaller than the expected size (135360) [astropy.io.fits.file]\n",
      "WARNING: File may have been truncated: actual file length (2132928) is smaller than the expected size (2134080) [astropy.io.fits.file]\n"
     ]
    },
    {
     "name": "stdout",
     "output_type": "stream",
     "text": [
      "> Downloading HRS-171:\n",
      "http://localhost:4000/api/cutout?radiusasec=164.0&pxsizeasec=2.0&radeg=187.1689583333333&decdeg=9.258944444444445&hipsbaseuri=http://skies.esac.esa.int/Herschel/PACS160\n",
      "0.007048635920090165 0.0006570933907462401\n",
      "0.007030362227897769 0.00046424023274585795\n",
      "area = 2640.51, mean(0.0114) - bg (0.00703) = 0.00438 +- 0.000464\n",
      "flux = 5.62 +- 0.596 (30.1)\n",
      "catalogue 4.894 0.269 1.1491786019565378\n"
     ]
    },
    {
     "name": "stderr",
     "output_type": "stream",
     "text": [
      "WARNING: File may have been truncated: actual file length (218048) is smaller than the expected size (218880) [astropy.io.fits.file]\n"
     ]
    },
    {
     "name": "stdout",
     "output_type": "stream",
     "text": [
      "> Downloading HRS-172:\n",
      "http://localhost:4000/api/cutout?radiusasec=246.0&pxsizeasec=2.0&radeg=187.18024999999997&decdeg=14.9995&hipsbaseuri=http://skies.esac.esa.int/Herschel/PACS160\n",
      "0.02359283884436192 0.004000919264165712\n",
      "0.023472942693401957 0.0029092210908559474\n",
      "area = 4733.59, mean(0.0269) - bg (0.0235) = 0.00339 +- 0.00291\n",
      "flux = 7.63 +- 6.55 (127)\n",
      "catalogue 5.039 0.426 1.5148316812343177\n"
     ]
    },
    {
     "name": "stderr",
     "output_type": "stream",
     "text": [
      "WARNING: File may have been truncated: actual file length (487008) is smaller than the expected size (489600) [astropy.io.fits.file]\n"
     ]
    },
    {
     "name": "stdout",
     "output_type": "stream",
     "text": [
      "> Downloading HRS-173:\n",
      "http://localhost:4000/api/cutout?radiusasec=190.0&pxsizeasec=2.0&radeg=187.24587499999998&decdeg=3.570611111111111&hipsbaseuri=http://skies.esac.esa.int/Herschel/PACS160\n",
      "0.01965871933391954 0.004496007489516708\n",
      "0.019576612739890815 0.003387990354141541\n",
      "area = 7088.22, mean(0.0249) - bg (0.0196) = 0.00534 +- 0.00339\n",
      "flux = 18.6 +- 11.8 (177)\n",
      "catalogue 10.627 0.834 1.7503829898204089\n",
      "> Downloading HRS-174:\n",
      "http://localhost:4000/api/cutout?radiusasec=80.0&pxsizeasec=2.0&radeg=187.25012499999997&decdeg=13.978583333333333&hipsbaseuri=http://skies.esac.esa.int/Herschel/PACS160\n"
     ]
    },
    {
     "name": "stderr",
     "output_type": "stream",
     "text": [
      "WARNING: File may have been truncated: actual file length (291680) is smaller than the expected size (293760) [astropy.io.fits.file]\n",
      "WARNING: File may have been truncated: actual file length (54080) is smaller than the expected size (54720) [astropy.io.fits.file]\n"
     ]
    },
    {
     "name": "stdout",
     "output_type": "stream",
     "text": [
      "0.011088043519871525 0.0006313033759437012\n",
      "0.011051673010019447 0.0004456375627650108\n",
      "area = 1256.64, mean(0.019) - bg (0.0111) = 0.00791 +- 0.000446\n",
      "flux = 4.75 +- 0.268 (23.8)\n",
      "catalogue 4.049 0.226 1.1731807461364057\n",
      "> Downloading HRS-175:\n",
      "http://localhost:4000/api/cutout?radiusasec=168.0&pxsizeasec=2.0&radeg=187.26254166666664&decdeg=13.18375&hipsbaseuri=http://skies.esac.esa.int/Herschel/PACS160\n",
      "0.003932855762926927 0.0007413556463609318\n",
      "0.003930694128768728 0.0005280468399123599\n",
      "area = 5541.77, mean(0.00399) - bg (0.00393) = 5.73e-05 +- 0.000528\n",
      "flux = 0.152 +- 1.4 (22.1)\n",
      "catalogue 0.869 0.0 0.17534849495398155\n"
     ]
    },
    {
     "name": "stderr",
     "output_type": "stream",
     "text": [
      "WARNING: File may have been truncated: actual file length (228672) is smaller than the expected size (230400) [astropy.io.fits.file]\n",
      "WARNING: File may have been truncated: actual file length (234080) is smaller than the expected size (236160) [astropy.io.fits.file]\n"
     ]
    },
    {
     "name": "stdout",
     "output_type": "stream",
     "text": [
      "> Downloading HRS-176:\n",
      "http://localhost:4000/api/cutout?radiusasec=170.0&pxsizeasec=2.0&radeg=187.36679166666661&decdeg=8.749916666666666&hipsbaseuri=http://skies.esac.esa.int/Herschel/PACS160\n",
      "0.004409786024704102 0.00077931389071645\n",
      "0.004392792630876503 0.0005524503845730554\n",
      "area = 3204.42, mean(0.00766) - bg (0.00439) = 0.00327 +- 0.000552\n",
      "flux = 5.09 +- 0.862 (24.5)\n",
      "catalogue 4.171 0.323 1.2211283499697563\n",
      "> Downloading HRS-177:\n",
      "http://localhost:4000/api/cutout?radiusasec=154.0&pxsizeasec=2.0&radeg=187.40741666666665&decdeg=7.824194444444444&hipsbaseuri=http://skies.esac.esa.int/Herschel/PACS160\n",
      "0.004464164513543486 0.0007977359248941317\n",
      "0.004436813636943859 0.0005589529760238039\n",
      "area = 2902.83, mean(0.00868) - bg (0.00444) = 0.00424 +- 0.000559\n",
      "flux = 6 +- 0.792 (25.2)\n",
      "catalogue 4.981 0.308 1.2052378619363058\n"
     ]
    },
    {
     "name": "stderr",
     "output_type": "stream",
     "text": [
      "WARNING: File may have been truncated: actual file length (192608) is smaller than the expected size (192960) [astropy.io.fits.file]\n",
      "WARNING: File may have been truncated: actual file length (273728) is smaller than the expected size (276480) [astropy.io.fits.file]\n"
     ]
    },
    {
     "name": "stdout",
     "output_type": "stream",
     "text": [
      "> Downloading HRS-178:\n",
      "http://localhost:4000/api/cutout?radiusasec=184.0&pxsizeasec=2.0&radeg=187.44483333333332&decdeg=8.000472222222223&hipsbaseuri=http://skies.esac.esa.int/Herschel/PACS160\n",
      "0.004241444267596749 0.0007787042024652094\n",
      "0.004241667323538281 0.0005529688430024124\n",
      "area = 6647.61, mean(0.00437) - bg (0.00424) = 0.000131 +- 0.000553\n",
      "flux = 0.425 +- 1.79 (29.1)\n",
      "catalogue 1.438 0.0 0.2952149552903778\n",
      "> Downloading HRS-179:\n",
      "http://localhost:4000/api/cutout?radiusasec=72.0&pxsizeasec=2.0&radeg=187.45362499999996&decdeg=13.42936111111111&hipsbaseuri=http://skies.esac.esa.int/Herschel/PACS160\n"
     ]
    },
    {
     "name": "stderr",
     "output_type": "stream",
     "text": [
      "WARNING: File may have been truncated: actual file length (44352) is smaller than the expected size (46080) [astropy.io.fits.file]\n",
      "WARNING: File may have been truncated: actual file length (103232) is smaller than the expected size (103680) [astropy.io.fits.file]\n"
     ]
    },
    {
     "name": "stdout",
     "output_type": "stream",
     "text": [
      "0.00408509224791072 0.0007510905729066421\n",
      "0.004085351665949516 0.0005407596872125164\n",
      "area = 1017.88, mean(0.00423) - bg (0.00409) = 0.000143 +- 0.000541\n",
      "flux = 0.0697 +- 0.264 (4.3)\n",
      "catalogue 0.179 0.0 0.3891624817365217\n",
      "> Downloading HRS-180:\n",
      "http://localhost:4000/api/cutout?radiusasec=112.0&pxsizeasec=2.0&radeg=187.50904166666663&decdeg=13.636444444444445&hipsbaseuri=http://skies.esac.esa.int/Herschel/PACS160\n",
      "0.004377774014028451 0.0008203083220787643\n",
      "0.004358778205924391 0.0005739094092114629\n",
      "area = 1935.22, mean(0.00581) - bg (0.00436) = 0.00145 +- 0.000574\n",
      "flux = 1.35 +- 0.532 (11.2)\n",
      "catalogue 1.285 0.127 1.0476307408830852\n",
      "> Downloading HRS-181:\n",
      "http://localhost:4000/api/cutout?radiusasec=44.0&pxsizeasec=2.0&radeg=187.5725833333333&decdeg=12.328555555555555&hipsbaseuri=http://skies.esac.esa.int/Herschel/PACS160\n",
      "0.004247025351519428 0.0006358713957532441\n",
      "0.004251584541418056 0.0004686622102378086\n",
      "area = 380.13, mean(0.00436) - bg (0.00425) = 0.000111 +- 0.000469\n",
      "flux = 0.0203 +- 0.0857 (1.66)\n",
      "catalogue 0.115 0.0 0.17652188874731725\n",
      "> Downloading HRS-182:\n",
      "http://localhost:4000/api/cutout?radiusasec=168.0&pxsizeasec=2.0&radeg=187.6115833333333&decdeg=4.246472222222223&hipsbaseuri=http://skies.esac.esa.int/Herschel/PACS160\n",
      "0.012109359615806819 0.0022890476637792215\n",
      "0.012005657891994306 0.0016801853046667394\n",
      "area = 3958.41, mean(0.0152) - bg (0.012) = 0.0032 +- 0.00168\n",
      "flux = 6.22 +- 3.27 (60.2)\n",
      "catalogue 5.391 0.353 1.154400110734517\n"
     ]
    },
    {
     "name": "stderr",
     "output_type": "stream",
     "text": [
      "WARNING: File may have been truncated: actual file length (18368) is smaller than the expected size (20160) [astropy.io.fits.file]\n",
      "WARNING: File may have been truncated: actual file length (228672) is smaller than the expected size (230400) [astropy.io.fits.file]\n"
     ]
    },
    {
     "name": "stdout",
     "output_type": "stream",
     "text": [
      "> Downloading HRS-183:\n",
      "http://localhost:4000/api/cutout?radiusasec=116.0&pxsizeasec=2.0&radeg=187.70591666666664&decdeg=12.39111111111111&hipsbaseuri=http://skies.esac.esa.int/Herschel/PACS160\n",
      "0.008252070623607523 0.0005195928285318977\n",
      "0.008239971420853361 0.00037272035303118387\n",
      "area = 2596.53, mean(0.00891) - bg (0.00824) = 0.000669 +- 0.000373\n",
      "flux = 0.836 +- 0.465 (23.1)\n",
      "catalogue 0.82 0.156 1.019583646871539\n",
      "> Downloading HRS-184:\n",
      "http://localhost:4000/api/cutout?radiusasec=158.0&pxsizeasec=2.0&radeg=187.73804166666665&decdeg=11.483555555555554&hipsbaseuri=http://skies.esac.esa.int/Herschel/PACS160\n",
      "0.0047704991262091274 0.000766720812552313\n",
      "0.004759804689310668 0.0005500121747474225\n",
      "area = 2419.81, mean(0.0069) - bg (0.00476) = 0.00214 +- 0.00055\n",
      "flux = 2.5 +- 0.642 (16.7)\n",
      "catalogue 2.265 0.196 1.1036513049644476\n"
     ]
    },
    {
     "name": "stderr",
     "output_type": "stream",
     "text": [
      "WARNING: File may have been truncated: actual file length (110528) is smaller than the expected size (112320) [astropy.io.fits.file]\n",
      "WARNING: File may have been truncated: actual file length (202592) is smaller than the expected size (204480) [astropy.io.fits.file]\n"
     ]
    },
    {
     "name": "stdout",
     "output_type": "stream",
     "text": [
      "> Downloading HRS-185:\n",
      "http://localhost:4000/api/cutout?radiusasec=164.0&pxsizeasec=2.0&radeg=187.74891666666664&decdeg=8.077944444444444&hipsbaseuri=http://skies.esac.esa.int/Herschel/PACS160\n",
      "0.004249374941262218 0.000782620778659033\n",
      "0.004236216862410445 0.000557293074236783\n",
      "area = 5281.02, mean(0.00518) - bg (0.00424) = 0.000941 +- 0.000557\n",
      "flux = 2.42 +- 1.43 (27.3)\n",
      "catalogue 1.979 0.283 1.2248691746437523\n"
     ]
    },
    {
     "name": "stderr",
     "output_type": "stream",
     "text": [
      "WARNING: File may have been truncated: actual file length (218048) is smaller than the expected size (218880) [astropy.io.fits.file]\n"
     ]
    },
    {
     "name": "stdout",
     "output_type": "stream",
     "text": [
      "> Downloading HRS-186:\n",
      "http://localhost:4000/api/cutout?radiusasec=52.0&pxsizeasec=2.0&radeg=187.850125&decdeg=25.77497222222222&hipsbaseuri=http://skies.esac.esa.int/Herschel/PACS160\n",
      "0.021604962818669186 0.0009607124836751822\n",
      "0.021575187864475837 0.0006841536333978584\n",
      "area = 530.93, mean(0.0229) - bg (0.0216) = 0.00135 +- 0.000684\n",
      "flux = 0.318 +- 0.161 (12.2)\n",
      "catalogue 0.313 0.046 1.0164267779522222\n",
      "> Downloading HRS-187:\n",
      "http://localhost:4000/api/cutout?radiusasec=400.0&pxsizeasec=2.0&radeg=187.91337499999997&decdeg=3.9394722222222223&hipsbaseuri=http://skies.esac.esa.int/Herschel/PACS160\n",
      "0.020298324240988302 0.00753770746427759\n",
      "0.020519877254308674 0.0038988356431802203\n",
      "area = 24818.58, mean(0.0228) - bg (0.0205) = 0.00232 +- 0.0039\n",
      "flux = 28.2 +- 47.5 (567)\n",
      "catalogue 15.141 3.227 1.8654501574911087\n"
     ]
    },
    {
     "name": "stderr",
     "output_type": "stream",
     "text": [
      "WARNING: File may have been truncated: actual file length (24512) is smaller than the expected size (25920) [astropy.io.fits.file]\n",
      "WARNING: File may have been truncated: actual file length (1282880) is smaller than the expected size (1284480) [astropy.io.fits.file]\n"
     ]
    },
    {
     "name": "stdout",
     "output_type": "stream",
     "text": [
      "> Downloading HRS-188:\n",
      "http://localhost:4000/api/cutout?radiusasec=240.0&pxsizeasec=2.0&radeg=187.914875&decdeg=16.852805555555555&hipsbaseuri=http://skies.esac.esa.int/Herschel/PACS160\n",
      "0.02326247231650045 0.001044528317410795\n",
      "0.02324496860454654 0.0007348661683746811\n",
      "area = 6031.86, mean(0.0257) - bg (0.0232) = 0.00244 +- 0.000735\n",
      "flux = 6.93 +- 2.09 (155)\n",
      "catalogue 6.629 0.617 1.0460743806071846\n",
      "> Downloading HRS-189:\n",
      "http://localhost:4000/api/cutout?radiusasec=142.0&pxsizeasec=2.0&radeg=187.97816666666665&decdeg=15.123944444444446&hipsbaseuri=http://skies.esac.esa.int/Herschel/PACS160\n",
      "0.02074552254305463 0.003349845230265828\n",
      "0.02073889733138752 0.0026266443966694035\n",
      "area = 2620.87, mean(0.0229) - bg (0.0207) = 0.00217 +- 0.00263\n",
      "flux = 2.7 +- 3.27 (60)\n",
      "catalogue 2.67 0.262 1.0105155227309026\n"
     ]
    },
    {
     "name": "stderr",
     "output_type": "stream",
     "text": [
      "WARNING: File may have been truncated: actual file length (164192) is smaller than the expected size (167040) [astropy.io.fits.file]\n",
      "WARNING: File may have been truncated: actual file length (2960192) is smaller than the expected size (2960640) [astropy.io.fits.file]\n"
     ]
    },
    {
     "name": "stdout",
     "output_type": "stream",
     "text": [
      "> Downloading HRS-190:\n",
      "http://localhost:4000/api/cutout?radiusasec=608.0&pxsizeasec=2.0&radeg=187.99675&decdeg=14.420416666666666&hipsbaseuri=http://skies.esac.esa.int/Herschel/PACS160\n",
      "0.007653152836000657 0.003277797319317163\n",
      "0.007380304666688499 0.0020848951178929673\n",
      "area = 38679.29, mean(0.016) - bg (0.00738) = 0.0086 +- 0.00208\n",
      "flux = 159 +- 38.5 (618)\n",
      "catalogue 104.85 5.821 1.513489206997347\n",
      "> Downloading HRS-191:\n",
      "http://localhost:4000/api/cutout?radiusasec=124.0&pxsizeasec=2.0&radeg=188.0139583333333&decdeg=16.687722222222224&hipsbaseuri=http://skies.esac.esa.int/Herschel/PACS160\n",
      "0.024951592841370572 0.002916974096770407\n",
      "0.024925055495976303 0.002239871917203909\n",
      "area = 1606.92, mean(0.0265) - bg (0.0249) = 0.00154 +- 0.00224\n",
      "flux = 1.17 +- 1.7 (42.5)\n",
      "catalogue 0.854 0.212 1.367604032389786\n"
     ]
    },
    {
     "name": "stderr",
     "output_type": "stream",
     "text": [
      "WARNING: File may have been truncated: actual file length (125888) is smaller than the expected size (126720) [astropy.io.fits.file]\n",
      "WARNING: File may have been truncated: actual file length (44352) is smaller than the expected size (46080) [astropy.io.fits.file]\n"
     ]
    },
    {
     "name": "stdout",
     "output_type": "stream",
     "text": [
      "> Downloading HRS-192:\n",
      "http://localhost:4000/api/cutout?radiusasec=72.0&pxsizeasec=2.0&radeg=188.04387499999996&decdeg=13.419611111111111&hipsbaseuri=http://skies.esac.esa.int/Herschel/PACS160\n",
      "0.004444194080538338 0.0007918107059596822\n",
      "0.00441992064300959 0.0005527477968282914\n",
      "area = 819.96, mean(0.00607) - bg (0.00442) = 0.00165 +- 0.000553\n",
      "flux = 0.65 +- 0.217 (4.98)\n",
      "catalogue 0.583 0.062 1.114812704433624\n",
      "> Downloading HRS-193:\n",
      "http://localhost:4000/api/cutout?radiusasec=190.0&pxsizeasec=2.0&radeg=188.1745&decdeg=14.050500000000001&hipsbaseuri=http://skies.esac.esa.int/Herschel/PACS160\n",
      "0.0044345579410649694 0.0008062337441638884\n",
      "0.004414737038658405 0.0005701490693743603\n",
      "area = 5446.74, mean(0.00619) - bg (0.00441) = 0.00177 +- 0.00057\n",
      "flux = 4.61 +- 1.48 (33.7)\n",
      "catalogue 3.928 0.363 1.17381686314345\n"
     ]
    },
    {
     "name": "stderr",
     "output_type": "stream",
     "text": [
      "WARNING: File may have been truncated: actual file length (291680) is smaller than the expected size (293760) [astropy.io.fits.file]\n",
      "WARNING: File may have been truncated: actual file length (6833088) is smaller than the expected size (6834240) [astropy.io.fits.file]\n"
     ]
    },
    {
     "name": "stdout",
     "output_type": "stream",
     "text": [
      "> Downloading HRS-194:\n",
      "http://localhost:4000/api/cutout?radiusasec=924.0&pxsizeasec=2.0&radeg=188.18995833333332&decdeg=0.11502777777777778&hipsbaseuri=http://skies.esac.esa.int/Herschel/PACS160\n",
      "0.009749356272515391 0.009749356272515391\n",
      "0.007753482088915785 0.004719910821937048\n",
      "area = 31205.44, mean(0.0139) - bg (0.00775) = 0.00612 +- 0.00472\n",
      "flux = 94 +- 72.5 (433)\n",
      "catalogue 48.955 2.661 1.9205499070979692\n",
      "> Downloading HRS-195:\n",
      "http://localhost:4000/api/cutout?radiusasec=180.0&pxsizeasec=2.0&radeg=188.2815&decdeg=14.574944444444444&hipsbaseuri=http://skies.esac.esa.int/Herschel/PACS160\n",
      "0.010640578999879791 0.0022516824949412265\n",
      "0.010577277920043697 0.0016962153564061444\n",
      "area = 6361.73, mean(0.0107) - bg (0.0106) = 8.46e-05 +- 0.0017\n",
      "flux = 0.256 +- 5.14 (67.8)\n",
      "catalogue 1.282 0.0 0.19997628126061254\n",
      "> Downloading HRS-196:\n",
      "http://localhost:4000/api/cutout?radiusasec=302.0&pxsizeasec=2.0&radeg=188.37604166666665&decdeg=8.65475&hipsbaseuri=http://skies.esac.esa.int/Herschel/PACS160\n",
      "0.006783751198236009 0.0013123645329271476\n",
      "0.0067911759848617425 0.0007885851924380789\n",
      "area = 12926.87, mean(0.00879) - bg (0.00679) = 0.002 +- 0.000789\n",
      "flux = 12.6 +- 4.96 (114)\n",
      "catalogue 10.184 0.763 1.2354177509309312\n"
     ]
    },
    {
     "name": "stderr",
     "output_type": "stream",
     "text": [
      "WARNING: File may have been truncated: actual file length (732512) is smaller than the expected size (734400) [astropy.io.fits.file]\n",
      "WARNING: File may have been truncated: actual file length (927680) is smaller than the expected size (930240) [astropy.io.fits.file]\n"
     ]
    },
    {
     "name": "stdout",
     "output_type": "stream",
     "text": [
      "> Downloading HRS-197:\n",
      "http://localhost:4000/api/cutout?radiusasec=340.0&pxsizeasec=2.0&radeg=188.41525&decdeg=9.174861111111111&hipsbaseuri=http://skies.esac.esa.int/Herschel/PACS160\n",
      "0.00875781556235042 0.000933770346925409\n",
      "0.008786011719850877 0.0005885840761881271\n",
      "area = 5607.74, mean(0.0115) - bg (0.00879) = 0.00269 +- 0.000589\n",
      "flux = 7.33 +- 1.6 (64.4)\n",
      "catalogue 6.095 0.44 1.202966354477655\n",
      "> Downloading HRS-198:\n",
      "http://localhost:4000/api/cutout?radiusasec=252.0&pxsizeasec=2.0&radeg=188.46329166666666&decdeg=30.277527777777777&hipsbaseuri=http://skies.esac.esa.int/Herschel/PACS160\n",
      "0.021337285776994522 0.003636753064414997\n",
      "0.021262408553039697 0.0025426679404236437\n",
      "area = 6630.33, mean(0.0216) - bg (0.0213) = 0.000307 +- 0.00254\n",
      "flux = 0.866 +- 7.17 (143)\n",
      "catalogue 2.011 0.377 0.4308006100168707\n"
     ]
    },
    {
     "name": "stderr",
     "output_type": "stream",
     "text": [
      "WARNING: File may have been truncated: actual file length (514952) is smaller than the expected size (515520) [astropy.io.fits.file]\n",
      "WARNING: File may have been truncated: actual file length (218048) is smaller than the expected size (218880) [astropy.io.fits.file]\n"
     ]
    },
    {
     "name": "stdout",
     "output_type": "stream",
     "text": [
      "> Downloading HRS-199:\n",
      "http://localhost:4000/api/cutout?radiusasec=164.0&pxsizeasec=2.0&radeg=188.4860833333333&decdeg=15.354833333333334&hipsbaseuri=http://skies.esac.esa.int/Herschel/PACS160\n",
      "0.02101748914945962 0.004034250429133367\n",
      "0.020953615449035366 0.0030721409566857785\n",
      "area = 3864.16, mean(0.0219) - bg (0.021) = 0.000987 +- 0.00307\n",
      "flux = 1.81 +- 5.64 (84.8)\n",
      "catalogue 1.533 0.226 1.1811939201156352\n",
      "> Downloading HRS-200:\n",
      "http://localhost:4000/api/cutout?radiusasec=142.0&pxsizeasec=2.0&radeg=188.51262499999996&decdeg=7.699138888888889&hipsbaseuri=http://skies.esac.esa.int/Herschel/PACS160\n",
      "0.007899103746591231 0.000687950782348068\n",
      "0.007863853447906419 0.0004849829783767622\n",
      "area = 3791.90, mean(0.0186) - bg (0.00786) = 0.0108 +- 0.000485\n",
      "flux = 19.9 +- 0.897 (70.7)\n",
      "catalogue 17.282 0.88 1.1534443142953112\n"
     ]
    },
    {
     "name": "stderr",
     "output_type": "stream",
     "text": [
      "WARNING: File may have been truncated: actual file length (164192) is smaller than the expected size (167040) [astropy.io.fits.file]\n",
      "WARNING: File may have been truncated: actual file length (1939392) is smaller than the expected size (1941120) [astropy.io.fits.file]\n"
     ]
    },
    {
     "name": "stdout",
     "output_type": "stream",
     "text": [
      "> Downloading HRS-201:\n",
      "http://localhost:4000/api/cutout?radiusasec=492.0&pxsizeasec=2.0&radeg=188.53541666666666&decdeg=2.6538055555555555&hipsbaseuri=http://skies.esac.esa.int/Herschel/PACS160\n",
      "0.01825734240029482 0.001474576855703763\n",
      "0.01821741107289245 0.000977037114688217\n",
      "area = 15263.43, mean(0.0328) - bg (0.0182) = 0.0146 +- 0.000977\n",
      "flux = 110 +- 7.34 (501)\n",
      "catalogue 93.527 4.864 1.1726778432962128\n",
      "> Downloading HRS-202:\n",
      "http://localhost:4000/api/cutout?radiusasec=44.0&pxsizeasec=2.0&radeg=188.56162499999996&decdeg=11.071583333333333&hipsbaseuri=http://skies.esac.esa.int/Herschel/PACS160\n",
      "0.004087839945277444 0.0007436824763642044\n",
      "0.004084198335644463 0.0005404738017962806\n",
      "area = 380.13, mean(0.00412) - bg (0.00408) = 3.08e-05 +- 0.00054\n",
      "flux = 0.00567 +- 0.0993 (1.56)\n",
      "catalogue 0.114 0.0 0.04969916710583839\n"
     ]
    },
    {
     "name": "stderr",
     "output_type": "stream",
     "text": [
      "WARNING: File may have been truncated: actual file length (18368) is smaller than the expected size (20160) [astropy.io.fits.file]\n",
      "WARNING: File may have been truncated: actual file length (404288) is smaller than the expected size (406080) [astropy.io.fits.file]\n"
     ]
    },
    {
     "name": "stdout",
     "output_type": "stream",
     "text": [
      "> Downloading HRS-203:\n",
      "http://localhost:4000/api/cutout?radiusasec=224.0&pxsizeasec=2.0&radeg=188.58054166666662&decdeg=6.467694444444445&hipsbaseuri=http://skies.esac.esa.int/Herschel/PACS160\n",
      "0.012427065329337596 0.002902710516977252\n",
      "0.012208273893518203 0.002025394634015177\n",
      "area = 4486.19, mean(0.0197) - bg (0.0122) = 0.00749 +- 0.00203\n",
      "flux = 16.4 +- 4.45 (88.4)\n",
      "catalogue 15.638 0.953 1.0508095381528655\n",
      "> Downloading HRS-204:\n",
      "http://localhost:4000/api/cutout?radiusasec=540.0&pxsizeasec=2.0&radeg=188.584625&decdeg=8.197750000000001&hipsbaseuri=http://skies.esac.esa.int/Herschel/PACS160\n",
      "0.007056046495756459 0.0007136181631133996\n",
      "0.0070301027637426 0.000495386460426938\n",
      "area = 49197.34, mean(0.00993) - bg (0.00703) = 0.0029 +- 0.000495\n",
      "flux = 69.5 +- 11.9 (489)\n",
      "catalogue 61.656 3.907 1.1278544350544877\n",
      "> Downloading HRS-205:\n",
      "http://localhost:4000/api/cutout?radiusasec=608.0&pxsizeasec=2.0&radeg=188.61304166666665&decdeg=2.1878888888888888&hipsbaseuri=http://skies.esac.esa.int/Herschel/PACS160\n",
      "0.0056501858902713725 0.0006473932017611143\n",
      "0.005661018589665676 0.000388204863886148\n",
      "area = 32949.02, mean(0.00989) - bg (0.00566) = 0.00423 +- 0.000388\n",
      "flux = 68.6 +- 6.29 (326)\n",
      "catalogue 58.539 3.082 1.1723464737813973\n",
      "> Downloading HRS-206:\n",
      "http://localhost:4000/api/cutout?radiusasec=168.0&pxsizeasec=2.0&radeg=188.66424999999995&decdeg=7.16&hipsbaseuri=http://skies.esac.esa.int/Herschel/PACS160\n",
      "0.009854246756600345 0.0009538569249810322\n",
      "0.009830063247790597 0.000685112756895085\n",
      "area = 3892.43, mean(0.0116) - bg (0.00983) = 0.00178 +- 0.000685\n",
      "flux = 3.39 +- 1.3 (45.2)\n",
      "catalogue 3.017 0.367 1.1239054409083253\n"
     ]
    },
    {
     "name": "stderr",
     "output_type": "stream",
     "text": [
      "WARNING: File may have been truncated: actual file length (2960192) is smaller than the expected size (2960640) [astropy.io.fits.file]\n",
      "WARNING: File may have been truncated: actual file length (228672) is smaller than the expected size (230400) [astropy.io.fits.file]\n"
     ]
    },
    {
     "name": "stdout",
     "output_type": "stream",
     "text": [
      "> Downloading HRS-207:\n",
      "http://localhost:4000/api/cutout?radiusasec=158.0&pxsizeasec=2.0&radeg=188.7119583333333&decdeg=15.551444444444446&hipsbaseuri=http://skies.esac.esa.int/Herschel/PACS160\n",
      "0.02039175877919585 0.0041537822447073915\n",
      "0.02025741026758429 0.0030503315106426873\n",
      "area = 4157.11, mean(0.0238) - bg (0.0203) = 0.00352 +- 0.00305\n",
      "flux = 6.94 +- 6.02 (98.8)\n",
      "catalogue 6.779 0.528 1.0238933390812168\n",
      "> Downloading HRS-208:\n",
      "http://localhost:4000/api/cutout?radiusasec=504.0&pxsizeasec=2.0&radeg=188.86012499999998&decdeg=14.496333333333332&hipsbaseuri=http://skies.esac.esa.int/Herschel/PACS160\n",
      "0.010452445547553814 0.0039224264464687965\n",
      "0.010469611642445347 0.002653312603690128\n",
      "area = 41563.27, mean(0.0124) - bg (0.0105) = 0.00189 +- 0.00265\n",
      "flux = 37.5 +- 52.6 (514)\n",
      "catalogue 24.022 3.148 1.5614452612507304\n"
     ]
    },
    {
     "name": "stderr",
     "output_type": "stream",
     "text": [
      "WARNING: File may have been truncated: actual file length (202592) is smaller than the expected size (204480) [astropy.io.fits.file]\n",
      "WARNING: File may have been truncated: actual file length (2043080) is smaller than the expected size (2044800) [astropy.io.fits.file]\n"
     ]
    },
    {
     "name": "stdout",
     "output_type": "stream",
     "text": [
      "> Downloading HRS-209:\n",
      "http://localhost:4000/api/cutout?radiusasec=114.0&pxsizeasec=2.0&radeg=188.87295833333332&decdeg=-3.7931944444444445&hipsbaseuri=http://skies.esac.esa.int/Herschel/PACS160\n",
      "0.02542742699982592 0.00253366358868223\n",
      "0.025450311768086986 0.0018154432421812312\n",
      "area = 1656.40, mean(0.0261) - bg (0.0255) = 0.000647 +- 0.00182\n",
      "flux = 0.527 +- 1.48 (43.2)\n",
      "catalogue 0.632 0.121 0.8331788240348755\n"
     ]
    },
    {
     "name": "stderr",
     "output_type": "stream",
     "text": [
      "WARNING: File may have been truncated: actual file length (108680) is smaller than the expected size (109440) [astropy.io.fits.file]\n"
     ]
    },
    {
     "name": "stdout",
     "output_type": "stream",
     "text": [
      "> Downloading HRS-210:\n",
      "http://localhost:4000/api/cutout?radiusasec=166.0&pxsizeasec=2.0&radeg=188.87754166666667&decdeg=12.220944444444445&hipsbaseuri=http://skies.esac.esa.int/Herschel/PACS160\n",
      "0.004450794648826092 0.0007628965918773417\n",
      "0.004444923437084918 0.0005461338311183329\n",
      "area = 1499.33, mean(0.00518) - bg (0.00444) = 0.000734 +- 0.000546\n",
      "flux = 0.53 +- 0.394 (7.77)\n",
      "catalogue 0.486 0.125 1.0904138975393207\n"
     ]
    },
    {
     "name": "stderr",
     "output_type": "stream",
     "text": [
      "WARNING: File may have been truncated: actual file length (223328) is smaller than the expected size (224640) [astropy.io.fits.file]\n"
     ]
    },
    {
     "name": "stdout",
     "output_type": "stream",
     "text": [
      "> Downloading HRS-211:\n",
      "http://localhost:4000/api/cutout?radiusasec=130.0&pxsizeasec=2.0&radeg=188.91616666666667&decdeg=12.556027777777778&hipsbaseuri=http://skies.esac.esa.int/Herschel/PACS160\n",
      "0.004611996002076687 0.0008092904794251466\n",
      "0.0046089338371711145 0.0005748325378802568\n",
      "area = 3318.31, mean(0.00483) - bg (0.00461) = 0.000224 +- 0.000575\n",
      "flux = 0.358 +- 0.917 (16)\n",
      "catalogue 0.498 0.0 0.7179460236057995\n",
      "> Downloading HRS-212:\n",
      "http://localhost:4000/api/cutout?radiusasec=154.0&pxsizeasec=2.0&radeg=189.03391666666664&decdeg=19.32261111111111&hipsbaseuri=http://skies.esac.esa.int/Herschel/PACS160\n",
      "0.020911066575265654 0.003623705122107246\n",
      "0.02081822799564163 0.0023743398126116768\n",
      "area = 3809.97, mean(0.0218) - bg (0.0208) = 0.000935 +- 0.00237\n",
      "flux = 1.66 +- 4.2 (82.9)\n",
      "catalogue 2.426 0.293 0.6824898739747185\n"
     ]
    },
    {
     "name": "stderr",
     "output_type": "stream",
     "text": [
      "WARNING: File may have been truncated: actual file length (138080) is smaller than the expected size (138240) [astropy.io.fits.file]\n",
      "WARNING: File may have been truncated: actual file length (192608) is smaller than the expected size (192960) [astropy.io.fits.file]\n"
     ]
    },
    {
     "name": "stdout",
     "output_type": "stream",
     "text": [
      "> Downloading HRS-213:\n",
      "http://localhost:4000/api/cutout?radiusasec=1192.0&pxsizeasec=2.0&radeg=189.0865833333333&decdeg=25.98766666666667&hipsbaseuri=http://skies.esac.esa.int/Herschel/PACS160\n",
      "0.010453771651191195 0.010453771651191195\n",
      "0.009359642802353674 0.0038901094115089524\n",
      "area = 37447.78, mean(0.0178) - bg (0.00936) = 0.00846 +- 0.00389\n",
      "flux = 140 +- 64.5 (667)\n",
      "catalogue 90.833 5.143 1.5444756497574506\n"
     ]
    },
    {
     "name": "stderr",
     "output_type": "stream",
     "text": [
      "WARNING: File may have been truncated: actual file length (11369792) is smaller than the expected size (11370240) [astropy.io.fits.file]\n"
     ]
    },
    {
     "name": "stdout",
     "output_type": "stream",
     "text": [
      "> Downloading HRS-214:\n",
      "http://localhost:4000/api/cutout?radiusasec=76.0&pxsizeasec=2.0&radeg=189.1124583333333&decdeg=11.439305555555556&hipsbaseuri=http://skies.esac.esa.int/Herschel/PACS160\n",
      "0.004499970772443872 0.000745596282105989\n",
      "0.0045075983829124455 0.0005303912155756017\n",
      "area = 1134.11, mean(0.00448) - bg (0.00451) = -3.1e-05 +- 0.00053\n",
      "flux = -0.017 +- 0.29 (5.08)\n",
      "catalogue 0.268 0.0 -0.0634194677272214\n",
      "> Downloading HRS-215:\n",
      "http://localhost:4000/api/cutout?radiusasec=174.0&pxsizeasec=2.0&radeg=189.13629166666664&decdeg=11.258&hipsbaseuri=http://skies.esac.esa.int/Herschel/PACS160\n",
      "0.010063077339336736 0.0007666469404783039\n",
      "0.009926996418462257 0.0005207204308575121\n",
      "area = 2801.52, mean(0.0295) - bg (0.00993) = 0.0196 +- 0.000521\n",
      "flux = 26.5 +- 0.705 (82.7)\n",
      "catalogue 19.184 0.976 1.380985207762742\n"
     ]
    },
    {
     "name": "stderr",
     "output_type": "stream",
     "text": [
      "WARNING: File may have been truncated: actual file length (49088) is smaller than the expected size (51840) [astropy.io.fits.file]\n",
      "WARNING: File may have been truncated: actual file length (245088) is smaller than the expected size (247680) [astropy.io.fits.file]\n"
     ]
    },
    {
     "name": "stdout",
     "output_type": "stream",
     "text": [
      "> Downloading HRS-216:\n",
      "http://localhost:4000/api/cutout?radiusasec=186.0&pxsizeasec=2.0&radeg=189.14274999999998&decdeg=11.238888888888889&hipsbaseuri=http://skies.esac.esa.int/Herschel/PACS160\n",
      "0.010009318318695696 0.0007372794049654418\n",
      "0.009896328994180225 0.0005044580950908786\n",
      "area = 3871.23, mean(0.0498) - bg (0.0099) = 0.0399 +- 0.000504\n",
      "flux = 74.7 +- 0.943 (193)\n",
      "catalogue 59.217 2.974 1.2612187355485236\n",
      "> Downloading HRS-217:\n",
      "http://localhost:4000/api/cutout?radiusasec=518.0&pxsizeasec=2.0&radeg=189.20749999999995&decdeg=13.162861111111111&hipsbaseuri=http://skies.esac.esa.int/Herschel/PACS160\n"
     ]
    },
    {
     "name": "stderr",
     "output_type": "stream",
     "text": [
      "WARNING: File may have been truncated: actual file length (279648) is smaller than the expected size (282240) [astropy.io.fits.file]\n",
      "WARNING: File may have been truncated: actual file length (2149472) is smaller than the expected size (2151360) [astropy.io.fits.file]\n",
      "WARNING: File may have been truncated: actual file length (228672) is smaller than the expected size (230400) [astropy.io.fits.file]\n"
     ]
    },
    {
     "name": "stdout",
     "output_type": "stream",
     "text": [
      "0.00577586613328329 0.0010959567275959743\n",
      "0.005768546721171978 0.0007625594302777282\n",
      "area = 31936.65, mean(0.009) - bg (0.00577) = 0.00323 +- 0.000763\n",
      "flux = 49.5 +- 11.7 (287)\n",
      "catalogue 42.761 2.608 1.1565202981828573\n",
      "> Downloading HRS-218:\n",
      "http://localhost:4000/api/cutout?radiusasec=168.0&pxsizeasec=2.0&radeg=189.22249999999997&decdeg=7.246666666666667&hipsbaseuri=http://skies.esac.esa.int/Herschel/PACS160\n",
      "0.008575183921958756 0.0011775158711275335\n",
      "0.00857226397864172 0.0008495430121402532\n",
      "area = 5541.77, mean(0.00849) - bg (0.00857) = -8.58e-05 +- 0.00085\n",
      "flux = -0.232 +- 2.3 (47)\n",
      "catalogue 2.675 0.0 -0.086833071146199\n",
      "> Downloading HRS-219:\n",
      "http://localhost:4000/api/cutout?radiusasec=180.0&pxsizeasec=2.0&radeg=189.37729166666665&decdeg=9.555111111111112&hipsbaseuri=http://skies.esac.esa.int/Herschel/PACS160\n",
      "0.012240094276528137 0.0039136637676493325\n",
      "0.011553456777898501 0.002854154787653478\n",
      "area = 6361.73, mean(0.0127) - bg (0.0116) = 0.0011 +- 0.00285\n",
      "flux = 3.39 +- 8.82 (80.5)\n",
      "catalogue 0.94 0.0 3.606419561071002\n",
      "> Downloading HRS-220:\n",
      "http://localhost:4000/api/cutout?radiusasec=528.0&pxsizeasec=2.0&radeg=189.4313333333333&decdeg=11.818194444444444&hipsbaseuri=http://skies.esac.esa.int/Herschel/PACS160\n",
      "0.00669687108849577 0.002133798298103168\n",
      "0.0065579178993658395 0.001213611194150668\n",
      "area = 42505.75, mean(0.00938) - bg (0.00656) = 0.00282 +- 0.00121\n",
      "flux = 57.9 +- 24.9 (399)\n",
      "catalogue 38.766 2.589 1.4930112971761176\n"
     ]
    },
    {
     "name": "stderr",
     "output_type": "stream",
     "text": [
      "WARNING: File may have been truncated: actual file length (2233152) is smaller than the expected size (2234880) [astropy.io.fits.file]\n",
      "WARNING: File may have been truncated: actual file length (223328) is smaller than the expected size (224640) [astropy.io.fits.file]\n"
     ]
    },
    {
     "name": "stdout",
     "output_type": "stream",
     "text": [
      "> Downloading HRS-221:\n",
      "http://localhost:4000/api/cutout?radiusasec=166.0&pxsizeasec=2.0&radeg=189.45166666666665&decdeg=5.368444444444444&hipsbaseuri=http://skies.esac.esa.int/Herschel/PACS160\n",
      "0.02180657083281657 0.003214280922772695\n",
      "0.021733487793050628 0.002358881929379186\n",
      "area = 4758.73, mean(0.0249) - bg (0.0217) = 0.00313 +- 0.00236\n",
      "flux = 7.31 +- 5.5 (118)\n",
      "catalogue 7.3 0.501 1.00145534471904\n",
      "> Downloading HRS-222:\n",
      "http://localhost:4000/api/cutout?radiusasec=164.0&pxsizeasec=2.0&radeg=189.57454166666665&decdeg=13.10986111111111&hipsbaseuri=http://skies.esac.esa.int/Herschel/PACS160\n",
      "0.025781447002717638 0.0031045209922168915\n",
      "0.02571431019738939 0.0023408806033815128\n",
      "area = 2833.72, mean(0.0275) - bg (0.0257) = 0.00183 +- 0.00234\n",
      "flux = 2.49 +- 3.18 (78.1)\n",
      "catalogue 1.259 0.201 1.9788982363439767\n"
     ]
    },
    {
     "name": "stderr",
     "output_type": "stream",
     "text": [
      "WARNING: File may have been truncated: actual file length (218048) is smaller than the expected size (218880) [astropy.io.fits.file]\n",
      "WARNING: File may have been truncated: actual file length (133952) is smaller than the expected size (135360) [astropy.io.fits.file]\n"
     ]
    },
    {
     "name": "stdout",
     "output_type": "stream",
     "text": [
      "> Downloading HRS-223:\n",
      "http://localhost:4000/api/cutout?radiusasec=128.0&pxsizeasec=2.0&radeg=189.58674999999997&decdeg=7.891305555555555&hipsbaseuri=http://skies.esac.esa.int/Herschel/PACS160\n",
      "0.010724827724553883 0.0007080729503539957\n",
      "0.010710645701097041 0.0005063847520650648\n",
      "area = 1658.76, mean(0.0118) - bg (0.0107) = 0.00105 +- 0.000506\n",
      "flux = 0.85 +- 0.41 (19.5)\n",
      "catalogue 0.612 0.145 1.389430881855215\n",
      "> Downloading HRS-224:\n",
      "http://localhost:4000/api/cutout?radiusasec=364.0&pxsizeasec=2.0&radeg=189.61849999999995&decdeg=4.319111111111111&hipsbaseuri=http://skies.esac.esa.int/Herschel/PACS160\n",
      "0.0214921473297089 0.0014346725936494019\n",
      "0.021490619366799687 0.0009507069997544779\n",
      "area = 7004.18, mean(0.0223) - bg (0.0215) = 0.000805 +- 0.000951\n",
      "flux = 2.77 +- 3.27 (156)\n",
      "catalogue 2.806 0.514 0.9868909980952335\n"
     ]
    },
    {
     "name": "stderr",
     "output_type": "stream",
     "text": [
      "WARNING: File may have been truncated: actual file length (1062848) is smaller than the expected size (1065600) [astropy.io.fits.file]\n"
     ]
    },
    {
     "name": "stdout",
     "output_type": "stream",
     "text": [
      "> Downloading HRS-225:\n",
      "http://localhost:4000/api/cutout?radiusasec=50.0&pxsizeasec=2.0&radeg=189.76725&decdeg=13.363527777777778&hipsbaseuri=http://skies.esac.esa.int/Herschel/PACS160\n",
      "0.019717371167521057 0.0014911672927188785\n",
      "0.019688798498454792 0.0010928967202306814\n",
      "area = 392.70, mean(0.021) - bg (0.0197) = 0.00129 +- 0.00109\n",
      "flux = 0.242 +- 0.206 (8.24)\n",
      "catalogue 0.194 0.038 1.2499782746657724\n",
      "> Downloading HRS-226:\n",
      "http://localhost:4000/api/cutout?radiusasec=164.0&pxsizeasec=2.0&radeg=189.80183333333332&decdeg=6.012305555555556&hipsbaseuri=http://skies.esac.esa.int/Herschel/PACS160\n",
      "0.024138113875500692 0.00310296157644108\n",
      "0.024072071126194333 0.0023375748179781464\n",
      "area = 2382.90, mean(0.0274) - bg (0.0241) = 0.00337 +- 0.00234\n",
      "flux = 3.93 +- 2.73 (65.4)\n",
      "catalogue 2.468 0.226 1.5930977513132611\n"
     ]
    },
    {
     "name": "stderr",
     "output_type": "stream",
     "text": [
      "WARNING: File may have been truncated: actual file length (22880) is smaller than the expected size (23040) [astropy.io.fits.file]\n",
      "WARNING: File may have been truncated: actual file length (218048) is smaller than the expected size (218880) [astropy.io.fits.file]\n"
     ]
    },
    {
     "name": "stdout",
     "output_type": "stream",
     "text": [
      "> Downloading HRS-227:\n",
      "http://localhost:4000/api/cutout?radiusasec=484.0&pxsizeasec=2.0&radeg=189.82808333333332&decdeg=-0.532&hipsbaseuri=http://skies.esac.esa.int/Herschel/PACS160\n",
      "0.02059013922253014 0.0017193321987524941\n",
      "0.020592934137026446 0.0010683909980735292\n",
      "area = 11974.18, mean(0.0217) - bg (0.0206) = 0.00106 +- 0.00107\n",
      "flux = 6.28 +- 6.3 (259)\n",
      "catalogue 6.237 0.875 1.0063302453399368\n"
     ]
    },
    {
     "name": "stderr",
     "output_type": "stream",
     "text": [
      "WARNING: File may have been truncated: actual file length (1876928) is smaller than the expected size (1877760) [astropy.io.fits.file]\n"
     ]
    },
    {
     "name": "stdout",
     "output_type": "stream",
     "text": [
      "> Downloading HRS-228:\n",
      "http://localhost:4000/api/cutout?radiusasec=44.0&pxsizeasec=2.0&radeg=189.84274999999997&decdeg=-5.664805555555556&hipsbaseuri=http://skies.esac.esa.int/Herschel/PACS160\n",
      "0.020290096620485934 0.0012756718681130909\n",
      "0.020283067956905078 0.0009030836694094046\n",
      "area = 380.13, mean(0.0204) - bg (0.0203) = 0.000148 +- 0.000903\n",
      "flux = 0.0276 +- 0.168 (7.77)\n",
      "catalogue 0.113 0.0 0.24391215538384178\n",
      "> Downloading HRS-229:\n",
      "http://localhost:4000/api/cutout?radiusasec=92.0&pxsizeasec=2.0&radeg=189.9500833333333&decdeg=12.973916666666668&hipsbaseuri=http://skies.esac.esa.int/Herschel/PACS160\n",
      "0.022012267762149346 0.0017503828581962241\n",
      "0.021977788517365277 0.0013209732740214184\n",
      "area = 1661.90, mean(0.022) - bg (0.022) = 6.34e-05 +- 0.00132\n",
      "flux = 0.0506 +- 1.05 (36.6)\n",
      "catalogue 0.357 0.0 0.14166824572400724\n"
     ]
    },
    {
     "name": "stderr",
     "output_type": "stream",
     "text": [
      "WARNING: File may have been truncated: actual file length (18368) is smaller than the expected size (20160) [astropy.io.fits.file]\n",
      "WARNING: File may have been truncated: actual file length (70592) is smaller than the expected size (72000) [astropy.io.fits.file]\n"
     ]
    },
    {
     "name": "stdout",
     "output_type": "stream",
     "text": [
      "> Downloading HRS-230:\n",
      "http://localhost:4000/api/cutout?radiusasec=182.0&pxsizeasec=2.0&radeg=189.96629166666665&decdeg=15.297805555555556&hipsbaseuri=http://skies.esac.esa.int/Herschel/PACS160\n",
      "0.020178956901999695 0.0044552322245313865\n",
      "0.02006751626964492 0.003237318190853128\n",
      "area = 4288.27, mean(0.0219) - bg (0.0201) = 0.00185 +- 0.00324\n",
      "flux = 3.78 +- 6.59 (94)\n",
      "catalogue 3.768 0.323 1.00273689444443\n"
     ]
    },
    {
     "name": "stderr",
     "output_type": "stream",
     "text": [
      "WARNING: File may have been truncated: actual file length (267872) is smaller than the expected size (270720) [astropy.io.fits.file]\n"
     ]
    },
    {
     "name": "stdout",
     "output_type": "stream",
     "text": [
      "> Downloading HRS-231:\n",
      "http://localhost:4000/api/cutout?radiusasec=80.0&pxsizeasec=2.0&radeg=189.98308333333333&decdeg=10.176083333333333&hipsbaseuri=http://skies.esac.esa.int/Herschel/PACS160\n",
      "0.021482327822729557 0.00184135591554525\n",
      "0.02147253462118607 0.0013967870437995604\n",
      "area = 1256.64, mean(0.0235) - bg (0.0215) = 0.002 +- 0.0014\n",
      "flux = 1.22 +- 0.851 (29.5)\n",
      "catalogue 0.897 0.125 1.358616093248933\n",
      "> Downloading HRS-232:\n",
      "http://localhost:4000/api/cutout?radiusasec=132.0&pxsizeasec=2.0&radeg=190.2398333333333&decdeg=11.91211111111111&hipsbaseuri=http://skies.esac.esa.int/Herschel/PACS160\n",
      "0.01822298763741414 0.0008716833470938934\n",
      "0.018205189752827998 0.0006172014060828151\n",
      "area = 2954.67, mean(0.0204) - bg (0.0182) = 0.00216 +- 0.000617\n",
      "flux = 3.08 +- 0.879 (60.2)\n",
      "catalogue 2.9 0.28 1.0617789436255811\n"
     ]
    },
    {
     "name": "stderr",
     "output_type": "stream",
     "text": [
      "WARNING: File may have been truncated: actual file length (54080) is smaller than the expected size (54720) [astropy.io.fits.file]\n",
      "WARNING: File may have been truncated: actual file length (142272) is smaller than the expected size (144000) [astropy.io.fits.file]\n"
     ]
    },
    {
     "name": "stdout",
     "output_type": "stream",
     "text": [
      "> Downloading HRS-233:\n",
      "http://localhost:4000/api/cutout?radiusasec=328.0&pxsizeasec=2.0&radeg=190.30170833333332&decdeg=11.88663888888889&hipsbaseuri=http://skies.esac.esa.int/Herschel/PACS160\n",
      "0.018063436648255098 0.0011782325670189782\n",
      "0.018052930429732675 0.0008063090441230582\n",
      "area = 7341.90, mean(0.0214) - bg (0.0181) = 0.00339 +- 0.000806\n",
      "flux = 12 +- 2.85 (157)\n",
      "catalogue 10.674 0.752 1.1238030623723012\n",
      "> Downloading HRS-234:\n",
      "http://localhost:4000/api/cutout?radiusasec=206.0&pxsizeasec=2.0&radeg=190.30537499999997&decdeg=10.155805555555556&hipsbaseuri=http://skies.esac.esa.int/Herschel/PACS160\n",
      "0.019064916305586974 0.004118558383395997\n",
      "0.01897128300691157 0.002896787249585821\n",
      "area = 8332.29, mean(0.0185) - bg (0.019) = -0.000425 +- 0.0029\n",
      "flux = -1.72 +- 11.7 (155)\n",
      "catalogue 1.576 0.0 -1.0897347482297763\n"
     ]
    },
    {
     "name": "stderr",
     "output_type": "stream",
     "text": [
      "WARNING: File may have been truncated: actual file length (863552) is smaller than the expected size (864000) [astropy.io.fits.file]\n",
      "WARNING: File may have been truncated: actual file length (342368) is smaller than the expected size (342720) [astropy.io.fits.file]\n"
     ]
    },
    {
     "name": "stdout",
     "output_type": "stream",
     "text": [
      "> Downloading HRS-235:\n",
      "http://localhost:4000/api/cutout?radiusasec=102.0&pxsizeasec=2.0&radeg=190.38649999999998&decdeg=7.314777777777778&hipsbaseuri=http://skies.esac.esa.int/Herschel/PACS160\n",
      "0.02359025537488614 0.0017383530968023246\n",
      "0.023570767926271892 0.001266279594628773\n",
      "area = 2042.82, mean(0.0237) - bg (0.0236) = 0.00014 +- 0.00127\n",
      "flux = 0.14 +- 1.26 (48.4)\n",
      "catalogue 0.579 0.0 0.24138617159198733\n",
      "> Downloading HRS-236:\n",
      "http://localhost:4000/api/cutout?radiusasec=138.0&pxsizeasec=2.0&radeg=190.50966666666665&decdeg=11.646916666666666&hipsbaseuri=http://skies.esac.esa.int/Herschel/PACS160\n",
      "0.021084710057061258 0.0009960288411408683\n",
      "0.021088006579950115 0.0006933284721671849\n",
      "area = 3739.28, mean(0.021) - bg (0.0211) = -6.04e-05 +- 0.000693\n",
      "flux = -0.109 +- 1.25 (78.6)\n",
      "catalogue 0.512 0.0 -0.21287825574212602\n"
     ]
    },
    {
     "name": "stderr",
     "output_type": "stream",
     "text": [
      "WARNING: File may have been truncated: actual file length (86112) is smaller than the expected size (86400) [astropy.io.fits.file]\n",
      "WARNING: File may have been truncated: actual file length (155232) is smaller than the expected size (155520) [astropy.io.fits.file]\n"
     ]
    },
    {
     "name": "stdout",
     "output_type": "stream",
     "text": [
      "> Downloading HRS-237:\n",
      "http://localhost:4000/api/cutout?radiusasec=194.0&pxsizeasec=2.0&radeg=190.62979166666665&decdeg=3.960361111111111&hipsbaseuri=http://skies.esac.esa.int/Herschel/PACS160\n",
      "0.02068267423941022 0.003957004746605285\n",
      "0.02060760128109237 0.002777658731412976\n",
      "area = 5104.30, mean(0.0231) - bg (0.0206) = 0.00245 +- 0.00278\n",
      "flux = 6.16 +- 6.97 (118)\n",
      "catalogue 6.54 0.611 0.9412467033558954\n"
     ]
    },
    {
     "name": "stderr",
     "output_type": "stream",
     "text": [
      "WARNING: File may have been truncated: actual file length (303968) is smaller than the expected size (305280) [astropy.io.fits.file]\n"
     ]
    },
    {
     "name": "stdout",
     "output_type": "stream",
     "text": [
      "> Downloading HRS-238:\n",
      "http://localhost:4000/api/cutout?radiusasec=100.0&pxsizeasec=2.0&radeg=190.63612499999996&decdeg=-1.3506666666666667&hipsbaseuri=http://skies.esac.esa.int/Herschel/PACS160\n",
      "0.022182969585085133 0.0010126826591103366\n",
      "0.02217636498828623 0.0007204012672361567\n",
      "area = 1767.15, mean(0.0229) - bg (0.0222) = 0.000676 +- 0.00072\n",
      "flux = 0.588 +- 0.627 (40.4)\n",
      "catalogue 0.581 0.234 1.0122794538059465\n"
     ]
    },
    {
     "name": "stderr",
     "output_type": "stream",
     "text": [
      "WARNING: File may have been truncated: actual file length (82880) is smaller than the expected size (83520) [astropy.io.fits.file]\n"
     ]
    },
    {
     "name": "stdout",
     "output_type": "stream",
     "text": [
      "> Downloading HRS-239:\n",
      "http://localhost:4000/api/cutout?radiusasec=238.0&pxsizeasec=2.0&radeg=190.67066666666662&decdeg=14.295833333333333&hipsbaseuri=http://skies.esac.esa.int/Herschel/PACS160\n",
      "0.023860742101829112 0.0010707818060687255\n",
      "0.02383490462483513 0.0007583875400994544\n",
      "area = 4766.58, mean(0.0309) - bg (0.0238) = 0.00706 +- 0.000758\n",
      "flux = 16.1 +- 1.73 (147)\n",
      "catalogue 13.602 0.771 1.1807821403168204\n",
      "> Downloading HRS-240:\n",
      "http://localhost:4000/api/cutout?radiusasec=96.0&pxsizeasec=2.0&radeg=190.69762499999996&decdeg=11.442472222222223&hipsbaseuri=http://skies.esac.esa.int/Herschel/PACS160\n",
      "0.02320522531065993 0.00246198155575841\n",
      "0.02321178395411092 0.0018384479228686344\n",
      "area = 1809.56, mean(0.0234) - bg (0.0232) = 0.000238 +- 0.00184\n",
      "flux = 0.208 +- 1.61 (42.4)\n",
      "catalogue 0.369 0.0 0.5637177341198536\n"
     ]
    },
    {
     "name": "stderr",
     "output_type": "stream",
     "text": [
      "WARNING: File may have been truncated: actual file length (456032) is smaller than the expected size (457920) [astropy.io.fits.file]\n",
      "WARNING: File may have been truncated: actual file length (76608) is smaller than the expected size (77760) [astropy.io.fits.file]\n"
     ]
    },
    {
     "name": "stdout",
     "output_type": "stream",
     "text": [
      "> Downloading HRS-241:\n",
      "http://localhost:4000/api/cutout?radiusasec=74.0&pxsizeasec=2.0&radeg=190.70779166666665&decdeg=2.687777777777778&hipsbaseuri=http://skies.esac.esa.int/Herschel/PACS160\n",
      "0.021860600962827298 0.0010201463642698534\n",
      "0.021851682682688393 0.0007172160336589892\n",
      "area = 1017.09, mean(0.0227) - bg (0.0219) = 0.000803 +- 0.000717\n",
      "flux = 0.402 +- 0.359 (23)\n",
      "catalogue 0.32 0.066 1.2550452860256465\n",
      "> Downloading HRS-242:\n",
      "http://localhost:4000/api/cutout?radiusasec=268.0&pxsizeasec=2.0&radeg=190.71820833333328&decdeg=13.257472222222223&hipsbaseuri=http://skies.esac.esa.int/Herschel/PACS160\n",
      "0.02031531409175475 0.0011268711877202887\n",
      "0.020294056901073707 0.0007865602544365822\n",
      "area = 8840.44, mean(0.0221) - bg (0.0203) = 0.00178 +- 0.000787\n",
      "flux = 7.56 +- 3.33 (195)\n",
      "catalogue 7.273 0.849 1.0389272850931204\n"
     ]
    },
    {
     "name": "stderr",
     "output_type": "stream",
     "text": [
      "WARNING: File may have been truncated: actual file length (46688) is smaller than the expected size (48960) [astropy.io.fits.file]\n",
      "WARNING: File may have been truncated: actual file length (577472) is smaller than the expected size (578880) [astropy.io.fits.file]\n"
     ]
    },
    {
     "name": "stdout",
     "output_type": "stream",
     "text": [
      "> Downloading HRS-243:\n",
      "http://localhost:4000/api/cutout?radiusasec=214.0&pxsizeasec=2.0&radeg=190.83391666666665&decdeg=1.9783611111111112&hipsbaseuri=http://skies.esac.esa.int/Herschel/PACS160\n",
      "0.01965708084208773 0.004624710527439563\n",
      "0.019536926518551892 0.0031503167630676852\n",
      "area = 8739.91, mean(0.0199) - bg (0.0195) = 0.000345 +- 0.00315\n",
      "flux = 1.49 +- 13.6 (174)\n",
      "catalogue 3.354 0.916 0.442821960771667\n",
      "> Downloading HRS-244:\n",
      "http://localhost:4000/api/cutout?radiusasec=218.0&pxsizeasec=2.0&radeg=190.8852083333333&decdeg=11.582611111111111&hipsbaseuri=http://skies.esac.esa.int/Herschel/PACS160\n",
      "0.020189463732879685 0.0009524965640295251\n",
      "0.02015132332661159 0.000663412026798832\n",
      "area = 7790.36, mean(0.0276) - bg (0.0202) = 0.00742 +- 0.000663\n",
      "flux = 27.9 +- 2.49 (215)\n",
      "catalogue 24.35 1.408 1.144878057736026\n"
     ]
    },
    {
     "name": "stderr",
     "output_type": "stream",
     "text": [
      "WARNING: File may have been truncated: actual file length (369248) is smaller than the expected size (371520) [astropy.io.fits.file]\n",
      "WARNING: File may have been truncated: actual file length (383072) is smaller than the expected size (385920) [astropy.io.fits.file]\n"
     ]
    },
    {
     "name": "stdout",
     "output_type": "stream",
     "text": [
      "> Downloading HRS-245:\n",
      "http://localhost:4000/api/cutout?radiusasec=90.0&pxsizeasec=2.0&radeg=190.91670833333333&decdeg=11.552611111111112&hipsbaseuri=http://skies.esac.esa.int/Herschel/PACS160\n",
      "0.020021419022249055 0.0010415957166522091\n",
      "0.020005001235668642 0.0007284506331460856\n",
      "area = 1590.43, mean(0.02) - bg (0.02) = -4.97e-05 +- 0.000728\n",
      "flux = -0.0382 +- 0.559 (31.7)\n",
      "catalogue 0.605 0.0 -0.06308384270240998\n",
      "> Downloading HRS-246:\n",
      "http://localhost:4000/api/cutout?radiusasec=328.0&pxsizeasec=2.0&radeg=190.92762499999998&decdeg=16.39338888888889&hipsbaseuri=http://skies.esac.esa.int/Herschel/PACS160\n",
      "0.02162322706946574 0.001367199341858541\n",
      "0.021588896501417234 0.0009275630297241037\n",
      "area = 14941.41, mean(0.0255) - bg (0.0216) = 0.00389 +- 0.000928\n",
      "flux = 27.5 +- 6.55 (381)\n",
      "catalogue 22.95 1.833 1.1970670440220543\n"
     ]
    },
    {
     "name": "stderr",
     "output_type": "stream",
     "text": [
      "WARNING: File may have been truncated: actual file length (67680) is smaller than the expected size (69120) [astropy.io.fits.file]\n",
      "WARNING: File may have been truncated: actual file length (863552) is smaller than the expected size (864000) [astropy.io.fits.file]\n"
     ]
    },
    {
     "name": "stdout",
     "output_type": "stream",
     "text": [
      "> Downloading HRS-247:\n",
      "http://localhost:4000/api/cutout?radiusasec=420.0&pxsizeasec=2.0&radeg=190.98574999999997&decdeg=13.126666666666667&hipsbaseuri=http://skies.esac.esa.int/Herschel/PACS160\n",
      "0.02444587733788953 0.00174394756689919\n",
      "0.02440615865940099 0.0011038210657710896\n",
      "area = 17977.76, mean(0.0318) - bg (0.0244) = 0.00742 +- 0.0011\n",
      "flux = 64 +- 9.52 (572)\n",
      "catalogue 55.404 3.425 1.1551027670857936\n",
      "> Downloading HRS-248:\n",
      "http://localhost:4000/api/cutout?radiusasec=44.0&pxsizeasec=2.0&radeg=191.1332083333333&decdeg=11.190527777777778&hipsbaseuri=http://skies.esac.esa.int/Herschel/PACS160\n",
      "0.020748052389564342 0.001034328301590965\n",
      "0.02073365873734101 0.0007616481588856798\n",
      "area = 380.13, mean(0.0209) - bg (0.0207) = 0.000131 +- 0.000762\n",
      "flux = 0.0241 +- 0.14 (7.93)\n",
      "catalogue 0.142 0.0 0.16990831076018303\n"
     ]
    },
    {
     "name": "stderr",
     "output_type": "stream",
     "text": [
      "WARNING: File may have been truncated: actual file length (18368) is smaller than the expected size (20160) [astropy.io.fits.file]\n",
      "WARNING: File may have been truncated: actual file length (29792) is smaller than the expected size (31680) [astropy.io.fits.file]\n"
     ]
    },
    {
     "name": "stdout",
     "output_type": "stream",
     "text": [
      "> Downloading HRS-249:\n",
      "http://localhost:4000/api/cutout?radiusasec=58.0&pxsizeasec=2.0&radeg=191.19162499999996&decdeg=12.351444444444445&hipsbaseuri=http://skies.esac.esa.int/Herschel/PACS160\n",
      "0.0221931777483279 0.0015319253636997404\n",
      "0.02215367634655176 0.0011554434048285623\n",
      "area = 546.64, mean(0.0229) - bg (0.0222) = 0.000777 +- 0.00116\n",
      "flux = 0.204 +- 0.304 (12.5)\n",
      "catalogue 0.088 0.025 2.3211041370347707\n",
      "> Downloading HRS-250:\n",
      "http://localhost:4000/api/cutout?radiusasec=216.0&pxsizeasec=2.0&radeg=191.2748333333333&decdeg=3.0556944444444443&hipsbaseuri=http://skies.esac.esa.int/Herschel/PACS160\n",
      "0.023829450137165857 0.005181867250795603\n",
      "0.02371960296541513 0.0038265212803357596\n",
      "area = 9160.88, mean(0.0234) - bg (0.0237) = -0.000301 +- 0.00383\n",
      "flux = -1.36 +- 17.2 (215)\n",
      "catalogue 2.556 0.0 -0.5309247639121865\n"
     ]
    },
    {
     "name": "stderr",
     "output_type": "stream",
     "text": [
      "WARNING: File may have been truncated: actual file length (376128) is smaller than the expected size (377280) [astropy.io.fits.file]\n",
      "WARNING: File may have been truncated: actual file length (1257408) is smaller than the expected size (1258560) [astropy.io.fits.file]\n"
     ]
    },
    {
     "name": "stdout",
     "output_type": "stream",
     "text": [
      "> Downloading HRS-251:\n",
      "http://localhost:4000/api/cutout?radiusasec=396.0&pxsizeasec=2.0&radeg=191.28579166666665&decdeg=-0.4618888888888889&hipsbaseuri=http://skies.esac.esa.int/Herschel/PACS160\n",
      "0.020171529759986415 0.00181112653159924\n",
      "0.020130819162456154 0.0011696324572330248\n",
      "area = 12596.22, mean(0.0419) - bg (0.0201) = 0.0218 +- 0.00117\n",
      "flux = 135 +- 7.26 (528)\n",
      "catalogue 113.011 5.791 1.1948790343608855\n",
      "> Downloading HRS-252:\n",
      "http://localhost:4000/api/cutout?radiusasec=200.0&pxsizeasec=2.0&radeg=191.38391666666664&decdeg=-0.5347222222222222&hipsbaseuri=http://skies.esac.esa.int/Herschel/PACS160\n",
      "0.020489161291198637 0.0041899905213643555\n",
      "0.02043921300935632 0.0028797020223027413\n",
      "area = 4084.07, mean(0.0209) - bg (0.0204) = 0.000474 +- 0.00288\n",
      "flux = 0.953 +- 5.79 (85.4)\n",
      "catalogue 1.726 0.4 0.5519276106882777\n"
     ]
    },
    {
     "name": "stderr",
     "output_type": "stream",
     "text": [
      "WARNING: File may have been truncated: actual file length (322880) is smaller than the expected size (325440) [astropy.io.fits.file]\n"
     ]
    },
    {
     "name": "stdout",
     "output_type": "stream",
     "text": [
      "> Downloading HRS-253:\n",
      "http://localhost:4000/api/cutout?radiusasec=100.0&pxsizeasec=2.0&radeg=191.82299999999998&decdeg=-2.727388888888889&hipsbaseuri=http://skies.esac.esa.int/Herschel/PACS160\n",
      "0.021460823411421387 0.002351270725978693\n",
      "0.021441792499980104 0.001835053715534218\n",
      "area = 1845.69, mean(0.0233) - bg (0.0214) = 0.00189 +- 0.00184\n",
      "flux = 1.72 +- 1.67 (43.1)\n",
      "catalogue 1.58 0.125 1.0866207276790278\n",
      "> Downloading HRS-254:\n",
      "http://localhost:4000/api/cutout?radiusasec=492.0&pxsizeasec=2.0&radeg=191.93983333333333&decdeg=13.762805555555556&hipsbaseuri=http://skies.esac.esa.int/Herschel/PACS160\n",
      "0.021427706654973535 0.0022598526001421267\n",
      "0.021481074119142355 0.0012598034365519897\n",
      "area = 35936.68, mean(0.023) - bg (0.0215) = 0.00149 +- 0.00126\n",
      "flux = 25.6 +- 21.7 (825)\n",
      "catalogue 18.399 3.807 1.3889850140114102\n"
     ]
    },
    {
     "name": "stderr",
     "output_type": "stream",
     "text": [
      "WARNING: File may have been truncated: actual file length (82880) is smaller than the expected size (83520) [astropy.io.fits.file]\n",
      "WARNING: File may have been truncated: actual file length (1939392) is smaller than the expected size (1941120) [astropy.io.fits.file]\n"
     ]
    },
    {
     "name": "stdout",
     "output_type": "stream",
     "text": [
      "> Downloading HRS-255:\n",
      "http://localhost:4000/api/cutout?radiusasec=214.0&pxsizeasec=2.0&radeg=191.9435833333333&decdeg=4.336083333333333&hipsbaseuri=http://skies.esac.esa.int/Herschel/PACS160\n",
      "0.022865693708369505 0.0010312283256196098\n",
      "0.022856247294476575 0.0007370910908216858\n",
      "area = 8235.69, mean(0.0238) - bg (0.0229) = 0.0009 +- 0.000737\n",
      "flux = 3.64 +- 2.98 (196)\n",
      "catalogue 3.476 0.613 1.0475827204122712\n",
      "> Downloading HRS-256:\n",
      "http://localhost:4000/api/cutout?radiusasec=166.0&pxsizeasec=2.0&radeg=192.05679166666667&decdeg=-3.332722222222222&hipsbaseuri=http://skies.esac.esa.int/Herschel/PACS160\n",
      "0.023158599303509282 0.005024143436659308\n",
      "0.022992873100118397 0.003594186138642381\n",
      "area = 4823.92, mean(0.0322) - bg (0.023) = 0.00922 +- 0.00359\n",
      "flux = 21.9 +- 8.52 (155)\n",
      "catalogue 20.28 1.095 1.0784766840818099\n"
     ]
    },
    {
     "name": "stderr",
     "output_type": "stream",
     "text": [
      "WARNING: File may have been truncated: actual file length (369248) is smaller than the expected size (371520) [astropy.io.fits.file]\n",
      "WARNING: File may have been truncated: actual file length (223328) is smaller than the expected size (224640) [astropy.io.fits.file]\n"
     ]
    },
    {
     "name": "stdout",
     "output_type": "stream",
     "text": [
      "> Downloading HRS-257:\n",
      "http://localhost:4000/api/cutout?radiusasec=298.0&pxsizeasec=2.0&radeg=192.0955&decdeg=8.487305555555555&hipsbaseuri=http://skies.esac.esa.int/Herschel/PACS160\n",
      "0.01992656430208852 0.0009927674824365545\n",
      "0.019907813254833796 0.0007064399475237142\n",
      "area = 8659.80, mean(0.0213) - bg (0.0199) = 0.00143 +- 0.000706\n",
      "flux = 6.03 +- 2.98 (185)\n",
      "catalogue 4.883 0.894 1.2357450281888402\n"
     ]
    },
    {
     "name": "stderr",
     "output_type": "stream",
     "text": [
      "WARNING: File may have been truncated: actual file length (713312) is smaller than the expected size (714240) [astropy.io.fits.file]\n"
     ]
    },
    {
     "name": "stdout",
     "output_type": "stream",
     "text": [
      "> Downloading HRS-258:\n",
      "http://localhost:4000/api/cutout?radiusasec=80.0&pxsizeasec=2.0&radeg=192.149625&decdeg=-5.800861111111111&hipsbaseuri=http://skies.esac.esa.int/Herschel/PACS160\n",
      "0.02495385660779672 0.0009702333248379595\n",
      "0.024942393931503153 0.0006953535386453329\n",
      "area = 1256.64, mean(0.0263) - bg (0.0249) = 0.00138 +- 0.000695\n",
      "flux = 0.848 +- 0.428 (33.1)\n",
      "catalogue 0.849 0.132 0.9987779243089256\n",
      "> Downloading HRS-259:\n",
      "http://localhost:4000/api/cutout?radiusasec=302.0&pxsizeasec=2.0&radeg=192.29816666666665&decdeg=3.3887222222222224&hipsbaseuri=http://skies.esac.esa.int/Herschel/PACS160\n",
      "0.02321743551464492 0.0012592457763401649\n",
      "0.023212249474605706 0.0008581277141502332\n",
      "area = 14942.99, mean(0.0244) - bg (0.0232) = 0.00114 +- 0.000858\n",
      "flux = 8.37 +- 6.3 (364)\n",
      "catalogue 7.759 1.956 1.07849666516491\n"
     ]
    },
    {
     "name": "stderr",
     "output_type": "stream",
     "text": [
      "WARNING: File may have been truncated: actual file length (54080) is smaller than the expected size (54720) [astropy.io.fits.file]\n",
      "WARNING: File may have been truncated: actual file length (732512) is smaller than the expected size (734400) [astropy.io.fits.file]\n"
     ]
    },
    {
     "name": "stdout",
     "output_type": "stream",
     "text": [
      "> Downloading HRS-260:\n",
      "http://localhost:4000/api/cutout?radiusasec=208.0&pxsizeasec=2.0&radeg=192.4123333333333&decdeg=15.1655&hipsbaseuri=http://skies.esac.esa.int/Herschel/PACS160\n",
      "0.020165281631222266 0.0010371692082152932\n",
      "0.020142712326582823 0.0007267357546875076\n",
      "area = 4982.57, mean(0.0276) - bg (0.0201) = 0.0075 +- 0.000727\n",
      "flux = 17.8 +- 1.72 (138)\n",
      "catalogue 15.533 0.92 1.1433092697120029\n",
      "> Downloading HRS-261:\n",
      "http://localhost:4000/api/cutout?radiusasec=196.0&pxsizeasec=2.0&radeg=192.45912499999997&decdeg=2.852888888888889&hipsbaseuri=http://skies.esac.esa.int/Herschel/PACS160\n",
      "0.021004077603102717 0.0010478669035539762\n",
      "0.02098694640866639 0.0007344063123343462\n",
      "area = 2693.92, mean(0.0234) - bg (0.021) = 0.00238 +- 0.000734\n",
      "flux = 3.15 +- 0.973 (62.9)\n",
      "catalogue 2.729 0.355 1.1531874292173836\n"
     ]
    },
    {
     "name": "stderr",
     "output_type": "stream",
     "text": [
      "WARNING: File may have been truncated: actual file length (348992) is smaller than the expected size (351360) [astropy.io.fits.file]\n",
      "WARNING: File may have been truncated: actual file length (310208) is smaller than the expected size (311040) [astropy.io.fits.file]\n"
     ]
    },
    {
     "name": "stdout",
     "output_type": "stream",
     "text": [
      "> Downloading HRS-262:\n",
      "http://localhost:4000/api/cutout?radiusasec=268.0&pxsizeasec=2.0&radeg=192.49112499999998&decdeg=5.311416666666666&hipsbaseuri=http://skies.esac.esa.int/Herschel/PACS160\n",
      "0.02317255952757504 0.006605174630129579\n",
      "0.022689820737273044 0.004783648794365745\n",
      "area = 9577.15, mean(0.0252) - bg (0.0227) = 0.00247 +- 0.00478\n",
      "flux = 11.6 +- 22.5 (241)\n",
      "catalogue 12.858 1.079 0.9034151212668223\n",
      "> Downloading HRS-263:\n",
      "http://localhost:4000/api/cutout?radiusasec=840.0&pxsizeasec=2.0&radeg=192.610875&decdeg=25.50075&hipsbaseuri=http://skies.esac.esa.int/Herschel/PACS160\n"
     ]
    },
    {
     "name": "stderr",
     "output_type": "stream",
     "text": [
      "WARNING: File may have been truncated: actual file length (577472) is smaller than the expected size (578880) [astropy.io.fits.file]\n"
     ]
    },
    {
     "name": "stdout",
     "output_type": "stream",
     "text": [
      "ERROR: could not download cutout (most likely, timeout) :^(\n",
      "> Downloading HRS-264:\n",
      "http://localhost:4000/api/cutout?radiusasec=144.0&pxsizeasec=2.0&radeg=192.66233333333332&decdeg=1.4645277777777777&hipsbaseuri=http://skies.esac.esa.int/Herschel/PACS160\n",
      "0.02070884770745527 0.003937044978378476\n",
      "0.02069871239859538 0.0028614167071883147\n",
      "area = 1470.27, mean(0.0222) - bg (0.0207) = 0.00153 +- 0.00286\n",
      "flux = 1.11 +- 2.07 (32.7)\n",
      "catalogue 1.059 0.099 1.0462038297220402\n",
      "> Downloading HRS-265:\n",
      "http://localhost:4000/api/cutout?radiusasec=116.0&pxsizeasec=2.0&radeg=192.67825&decdeg=-4.155833333333334&hipsbaseuri=http://skies.esac.esa.int/Herschel/PACS160\n",
      "0.020644748524405735 0.0023745172642827134\n",
      "0.020584040391643754 0.0016536370088011804\n",
      "area = 2004.34, mean(0.0225) - bg (0.0206) = 0.00196 +- 0.00165\n",
      "flux = 1.93 +- 1.63 (45.2)\n",
      "catalogue 2.044 0.148 0.9458441298756985\n"
     ]
    },
    {
     "name": "stderr",
     "output_type": "stream",
     "text": [
      "WARNING: File may have been truncated: actual file length (168768) is smaller than the expected size (169920) [astropy.io.fits.file]\n",
      "WARNING: File may have been truncated: actual file length (110528) is smaller than the expected size (112320) [astropy.io.fits.file]\n"
     ]
    },
    {
     "name": "stdout",
     "output_type": "stream",
     "text": [
      "> Downloading HRS-266:\n",
      "http://localhost:4000/api/cutout?radiusasec=556.0&pxsizeasec=2.0&radeg=192.75454166666663&decdeg=-6.393055555555556&hipsbaseuri=http://skies.esac.esa.int/Herschel/PACS160\n",
      "0.019238741543912904 0.0018374130347014843\n",
      "0.01926896796836416 0.001098384298939226\n",
      "area = 29694.33, mean(0.0202) - bg (0.0193) = 0.000953 +- 0.0011\n",
      "flux = 13.8 +- 16 (600)\n",
      "catalogue 12.794 2.873 1.0822784188646073\n"
     ]
    },
    {
     "name": "stderr",
     "output_type": "stream",
     "text": [
      "WARNING: File may have been truncated: actual file length (2475968) is smaller than the expected size (2476800) [astropy.io.fits.file]\n"
     ]
    },
    {
     "name": "stdout",
     "output_type": "stream",
     "text": [
      "> Downloading HRS-267:\n",
      "http://localhost:4000/api/cutout?radiusasec=332.0&pxsizeasec=2.0&radeg=192.94149999999996&decdeg=25.777305555555554&hipsbaseuri=http://skies.esac.esa.int/Herschel/PACS160\n",
      "0.014456366174079253 0.0010066887066907306\n",
      "0.014447978443908936 0.0007095217831517626\n",
      "area = 9908.58, mean(0.0159) - bg (0.0144) = 0.00148 +- 0.00071\n",
      "flux = 6.52 +- 3.12 (158)\n",
      "catalogue 6.215 0.992 1.0495141261279752\n"
     ]
    },
    {
     "name": "stderr",
     "output_type": "stream",
     "text": [
      "WARNING: File may have been truncated: actual file length (884672) is smaller than the expected size (887040) [astropy.io.fits.file]\n"
     ]
    },
    {
     "name": "stdout",
     "output_type": "stream",
     "text": [
      "> Downloading HRS-268:\n",
      "http://localhost:4000/api/cutout?radiusasec=186.0&pxsizeasec=2.0&radeg=192.9807083333333&decdeg=12.083027777777778&hipsbaseuri=http://skies.esac.esa.int/Herschel/PACS160\n",
      "0.02166367800982695 0.0010767688429724788\n",
      "0.02163288161315636 0.0007609727084969873\n",
      "area = 3798.19, mean(0.0304) - bg (0.0216) = 0.00874 +- 0.000761\n",
      "flux = 16 +- 1.39 (115)\n",
      "catalogue 13.585 0.765 1.1771140875609716\n",
      "> Downloading HRS-269:\n",
      "http://localhost:4000/api/cutout?radiusasec=240.0&pxsizeasec=2.0&radeg=193.07316666666665&decdeg=11.313666666666668&hipsbaseuri=http://skies.esac.esa.int/Herschel/PACS160\n",
      "0.024014586709491602 0.0010924935486058447\n",
      "0.024021270169899352 0.0007559612629686647\n",
      "area = 11309.73, mean(0.0242) - bg (0.024) = 0.000229 +- 0.000756\n",
      "flux = 1.25 +- 4.13 (274)\n",
      "catalogue 2.459 0.0 0.5075306567724832\n"
     ]
    },
    {
     "name": "stderr",
     "output_type": "stream",
     "text": [
      "WARNING: File may have been truncated: actual file length (279648) is smaller than the expected size (282240) [astropy.io.fits.file]\n"
     ]
    },
    {
     "name": "stdout",
     "output_type": "stream",
     "text": [
      "> Downloading HRS-270:\n",
      "http://localhost:4000/api/cutout?radiusasec=406.0&pxsizeasec=2.0&radeg=193.09212499999998&decdeg=-1.1996944444444444&hipsbaseuri=http://skies.esac.esa.int/Herschel/PACS160\n",
      "0.01874633535876415 0.0012678630882300458\n",
      "0.018743568029603874 0.000858707034229927\n",
      "area = 19291.74, mean(0.0203) - bg (0.0187) = 0.00157 +- 0.000859\n",
      "flux = 14.9 +- 8.16 (392)\n",
      "catalogue 11.83 1.406 1.258246273706272\n"
     ]
    },
    {
     "name": "stderr",
     "output_type": "stream",
     "text": [
      "WARNING: File may have been truncated: actual file length (1321568) is smaller than the expected size (1321920) [astropy.io.fits.file]\n"
     ]
    },
    {
     "name": "stdout",
     "output_type": "stream",
     "text": [
      "> Downloading HRS-271:\n",
      "http://localhost:4000/api/cutout?radiusasec=258.0&pxsizeasec=2.0&radeg=193.18349999999998&decdeg=15.84886111111111&hipsbaseuri=http://skies.esac.esa.int/Herschel/PACS160\n",
      "0.02416926519763031 0.0010328040508456489\n",
      "0.02416682273715775 0.0007218340537269608\n",
      "area = 5876.35, mean(0.0257) - bg (0.0242) = 0.00152 +- 0.000722\n",
      "flux = 4.23 +- 2.01 (151)\n",
      "catalogue 4.223 0.449 1.000767147372829\n"
     ]
    },
    {
     "name": "stderr",
     "output_type": "stream",
     "text": [
      "WARNING: File may have been truncated: actual file length (535392) is smaller than the expected size (535680) [astropy.io.fits.file]\n"
     ]
    },
    {
     "name": "stdout",
     "output_type": "stream",
     "text": [
      "> Downloading HRS-272:\n",
      "http://localhost:4000/api/cutout?radiusasec=416.0&pxsizeasec=2.0&radeg=193.23354166666667&decdeg=11.230805555555555&hipsbaseuri=http://skies.esac.esa.int/Herschel/PACS160\n",
      "0.023086958245641043 0.001612538330525725\n",
      "0.02309830255573192 0.0010373247913620634\n",
      "area = 33979.47, mean(0.0232) - bg (0.0231) = 0.000143 +- 0.00104\n",
      "flux = 2.35 +- 17 (790)\n",
      "catalogue 10.721 0.0 0.21962909646852397\n"
     ]
    },
    {
     "name": "stderr",
     "output_type": "stream",
     "text": [
      "WARNING: File may have been truncated: actual file length (1387328) is smaller than the expected size (1388160) [astropy.io.fits.file]\n"
     ]
    },
    {
     "name": "stdout",
     "output_type": "stream",
     "text": [
      "> Downloading HRS-273:\n",
      "http://localhost:4000/api/cutout?radiusasec=342.0&pxsizeasec=2.0&radeg=193.33862499999998&decdeg=1.2691666666666666&hipsbaseuri=http://skies.esac.esa.int/Herschel/PACS160\n",
      "0.018925309430900296 0.001398630614359686\n",
      "0.0189149651544275 0.0009369814801372203\n",
      "area = 8864.00, mean(0.0207) - bg (0.0189) = 0.00174 +- 0.000937\n",
      "flux = 7.57 +- 4.09 (183)\n",
      "catalogue 7.264 0.829 1.0425934836187771\n"
     ]
    },
    {
     "name": "stderr",
     "output_type": "stream",
     "text": [
      "WARNING: File may have been truncated: actual file length (938592) is smaller than the expected size (938880) [astropy.io.fits.file]\n"
     ]
    },
    {
     "name": "stdout",
     "output_type": "stream",
     "text": [
      "> Downloading HRS-274:\n",
      "http://localhost:4000/api/cutout?radiusasec=236.0&pxsizeasec=2.0&radeg=193.37154166666664&decdeg=2.168333333333333&hipsbaseuri=http://skies.esac.esa.int/Herschel/PACS160\n",
      "0.019838913110457383 0.0011195541174081995\n",
      "0.019817302998619366 0.0007814965642503606\n",
      "area = 4077.79, mean(0.0216) - bg (0.0198) = 0.00181 +- 0.000781\n",
      "flux = 3.64 +- 1.57 (88.2)\n",
      "catalogue 3.001 0.295 1.2114853092720166\n"
     ]
    },
    {
     "name": "stderr",
     "output_type": "stream",
     "text": [
      "WARNING: File may have been truncated: actual file length (452232) is smaller than the expected size (455040) [astropy.io.fits.file]\n"
     ]
    },
    {
     "name": "stdout",
     "output_type": "stream",
     "text": [
      "> Downloading HRS-275:\n",
      "http://localhost:4000/api/cutout?radiusasec=180.0&pxsizeasec=2.0&radeg=193.44041666666664&decdeg=-6.622166666666667&hipsbaseuri=http://skies.esac.esa.int/Herschel/PACS160\n",
      "0.02285348110054069 0.005378289176434018\n",
      "0.02268121208123947 0.0038596328399461955\n",
      "area = 5937.61, mean(0.0259) - bg (0.0227) = 0.00318 +- 0.00386\n",
      "flux = 9.25 +- 11.2 (154)\n",
      "catalogue 10.513 0.865 0.87991010834393\n",
      "> Downloading HRS-276:\n",
      "http://localhost:4000/api/cutout?radiusasec=176.0&pxsizeasec=2.0&radeg=193.46191666666664&decdeg=9.709916666666667&hipsbaseuri=http://skies.esac.esa.int/Herschel/PACS160\n",
      "0.01995402917091685 0.004307381543562142\n",
      "0.019864175715818624 0.003055727176031975\n",
      "area = 5321.86, mean(0.0213) - bg (0.0199) = 0.00146 +- 0.00306\n",
      "flux = 3.77 +- 7.89 (113)\n",
      "catalogue 4.355 0.403 0.865611746426232\n"
     ]
    },
    {
     "name": "stderr",
     "output_type": "stream",
     "text": [
      "WARNING: File may have been truncated: actual file length (250688) is smaller than the expected size (253440) [astropy.io.fits.file]\n",
      "WARNING: File may have been truncated: actual file length (82880) is smaller than the expected size (83520) [astropy.io.fits.file]\n"
     ]
    },
    {
     "name": "stdout",
     "output_type": "stream",
     "text": [
      "> Downloading HRS-277:\n",
      "http://localhost:4000/api/cutout?radiusasec=100.0&pxsizeasec=2.0&radeg=193.6832083333333&decdeg=8.052972222222223&hipsbaseuri=http://skies.esac.esa.int/Herschel/PACS160\n",
      "0.023522128125394025 0.0009953747308957817\n",
      "0.023511578079026815 0.000704617156790137\n",
      "area = 1335.18, mean(0.0245) - bg (0.0235) = 0.000947 +- 0.000705\n",
      "flux = 0.616 +- 0.459 (32.7)\n",
      "catalogue 0.69 0.134 0.8931050814439143\n",
      "> Downloading HRS-278:\n",
      "http://localhost:4000/api/cutout?radiusasec=232.0&pxsizeasec=2.0&radeg=193.684125&decdeg=13.237277777777777&hipsbaseuri=http://skies.esac.esa.int/Herschel/PACS160\n",
      "0.02205645302672715 0.0010752103053842318\n",
      "0.02205465603241828 0.0007533765698051381\n",
      "area = 3553.14, mean(0.023) - bg (0.0221) = 0.000972 +- 0.000753\n",
      "flux = 1.66 +- 1.28 (81.8)\n",
      "catalogue 1.506 0.275 1.0994631772822332\n"
     ]
    },
    {
     "name": "stderr",
     "output_type": "stream",
     "text": [
      "WARNING: File may have been truncated: actual file length (433472) is smaller than the expected size (434880) [astropy.io.fits.file]\n",
      "WARNING: File may have been truncated: actual file length (543680) is smaller than the expected size (544320) [astropy.io.fits.file]\n"
     ]
    },
    {
     "name": "stdout",
     "output_type": "stream",
     "text": [
      "> Downloading HRS-279:\n",
      "http://localhost:4000/api/cutout?radiusasec=260.0&pxsizeasec=2.0&radeg=193.80283333333333&decdeg=0.11666666666666667&hipsbaseuri=http://skies.esac.esa.int/Herschel/PACS160\n",
      "0.023925298746645847 0.0011447642709818198\n",
      "0.023911778850159434 0.0007942910811669443\n",
      "area = 8168.14, mean(0.025) - bg (0.0239) = 0.00104 +- 0.000794\n",
      "flux = 4.19 +- 3.2 (204)\n",
      "catalogue 4.518 0.564 0.9282424752014544\n",
      "> Downloading HRS-280:\n",
      "http://localhost:4000/api/cutout?radiusasec=146.0&pxsizeasec=2.0&radeg=193.8147083333333&decdeg=2.896638888888889&hipsbaseuri=http://skies.esac.esa.int/Herschel/PACS160\n"
     ]
    },
    {
     "name": "stderr",
     "output_type": "stream",
     "text": [
      "WARNING: File may have been truncated: actual file length (173408) is smaller than the expected size (175680) [astropy.io.fits.file]\n"
     ]
    },
    {
     "name": "stdout",
     "output_type": "stream",
     "text": [
      "0.022467060802823763 0.002579466449461852\n",
      "0.022435795729414815 0.0018939474509780843\n",
      "area = 2236.03, mean(0.0261) - bg (0.0224) = 0.00366 +- 0.00189\n",
      "flux = 4.03 +- 2.08 (58.4)\n",
      "catalogue 3.967 0.239 1.0152112701878973\n",
      "> Downloading HRS-281:\n",
      "http://localhost:4000/api/cutout?radiusasec=76.0&pxsizeasec=2.0&radeg=193.84841666666662&decdeg=7.9094444444444445&hipsbaseuri=http://skies.esac.esa.int/Herschel/PACS160\n",
      "0.022869508017987386 0.0009541874110860597\n",
      "0.02283964955167756 0.0006904162481817006\n",
      "area = 895.35, mean(0.0244) - bg (0.0228) = 0.00159 +- 0.00069\n",
      "flux = 0.695 +- 0.302 (21.9)\n",
      "catalogue 0.632 0.093 1.1000887182530072\n",
      "> Downloading HRS-282:\n",
      "http://localhost:4000/api/cutout?radiusasec=44.0&pxsizeasec=2.0&radeg=193.89029166666663&decdeg=8.240499999999999&hipsbaseuri=http://skies.esac.esa.int/Herschel/PACS160\n",
      "0.020323912448591205 0.0012932230565322507\n",
      "0.02029738843283958 0.000917497104962775\n",
      "area = 380.13, mean(0.02) - bg (0.0203) = -0.000328 +- 0.000917\n",
      "flux = -0.0607 +- 0.17 (7.59)\n",
      "catalogue 0.133 0.0 -0.456503789102178\n"
     ]
    },
    {
     "name": "stderr",
     "output_type": "stream",
     "text": [
      "WARNING: File may have been truncated: actual file length (49088) is smaller than the expected size (51840) [astropy.io.fits.file]\n",
      "WARNING: File may have been truncated: actual file length (18368) is smaller than the expected size (20160) [astropy.io.fits.file]\n"
     ]
    },
    {
     "name": "stdout",
     "output_type": "stream",
     "text": [
      "> Downloading HRS-283:\n",
      "http://localhost:4000/api/cutout?radiusasec=222.0&pxsizeasec=2.0&radeg=193.95391666666666&decdeg=4.304083333333333&hipsbaseuri=http://skies.esac.esa.int/Herschel/PACS160\n",
      "0.020761565049155467 0.0011488221270682004\n",
      "0.02072726528799601 0.0007965036627341418\n",
      "area = 6102.54, mean(0.0284) - bg (0.0207) = 0.00764 +- 0.000797\n",
      "flux = 22.9 +- 2.39 (173)\n",
      "catalogue 19.757 1.077 1.1587404512251558\n",
      "> Downloading HRS-284:\n",
      "http://localhost:4000/api/cutout?radiusasec=182.0&pxsizeasec=2.0&radeg=194.16924999999998&decdeg=-7.562805555555555&hipsbaseuri=http://skies.esac.esa.int/Herschel/PACS160\n",
      "0.025506920799433105 0.0038461932107088023\n",
      "0.025413009558495955 0.002723008828017843\n",
      "area = 3144.73, mean(0.0385) - bg (0.0254) = 0.0131 +- 0.00272\n",
      "flux = 20.2 +- 4.18 (121)\n",
      "catalogue 17.731 0.908 1.1373793427148624\n"
     ]
    },
    {
     "name": "stderr",
     "output_type": "stream",
     "text": [
      "WARNING: File may have been truncated: actual file length (397152) is smaller than the expected size (397440) [astropy.io.fits.file]\n",
      "WARNING: File may have been truncated: actual file length (267872) is smaller than the expected size (270720) [astropy.io.fits.file]\n"
     ]
    },
    {
     "name": "stdout",
     "output_type": "stream",
     "text": [
      "> Downloading HRS-285:\n",
      "http://localhost:4000/api/cutout?radiusasec=436.0&pxsizeasec=2.0&radeg=194.50495833333332&decdeg=1.5758333333333334&hipsbaseuri=http://skies.esac.esa.int/Herschel/PACS160\n",
      "0.0221900187885539 0.0017271641912062277\n",
      "0.022198730160134142 0.0010922573244463868\n",
      "area = 11813.96, mean(0.0278) - bg (0.0222) = 0.00558 +- 0.00109\n",
      "flux = 32.5 +- 6.35 (328)\n",
      "catalogue 27.136 1.842 1.1960138583275637\n",
      "> Downloading HRS-286:\n",
      "http://localhost:4000/api/cutout?radiusasec=394.0&pxsizeasec=2.0&radeg=194.8630833333333&decdeg=14.171055555555554&hipsbaseuri=http://skies.esac.esa.int/Herschel/PACS160\n",
      "0.016601691657964417 0.0011238903824220495\n",
      "0.016595080887392852 0.0007727778783906948\n",
      "area = 4332.26, mean(0.0174) - bg (0.0166) = 0.00076 +- 0.000773\n",
      "flux = 1.57 +- 1.6 (75.2)\n",
      "catalogue 1.54 0.27 1.0202211179148224\n"
     ]
    },
    {
     "name": "stderr",
     "output_type": "stream",
     "text": [
      "WARNING: File may have been truncated: actual file length (1523648) is smaller than the expected size (1526400) [astropy.io.fits.file]\n",
      "WARNING: File may have been truncated: actual file length (1244768) is smaller than the expected size (1247040) [astropy.io.fits.file]\n"
     ]
    },
    {
     "name": "stdout",
     "output_type": "stream",
     "text": [
      "> Downloading HRS-287:\n",
      "http://localhost:4000/api/cutout?radiusasec=230.0&pxsizeasec=2.0&radeg=195.2444583333333&decdeg=-0.027444444444444445&hipsbaseuri=http://skies.esac.esa.int/Herschel/PACS160\n",
      "0.022275167302679474 0.004446178689661431\n",
      "0.02205886652339973 0.002938443545584701\n",
      "area = 9393.36, mean(0.0236) - bg (0.0221) = 0.00158 +- 0.00294\n",
      "flux = 7.29 +- 13.6 (222)\n",
      "catalogue 9.004 0.949 0.8097725305732457\n",
      "> Downloading HRS-288:\n",
      "http://localhost:4000/api/cutout?radiusasec=304.0&pxsizeasec=2.0&radeg=196.05474999999998&decdeg=-5.551611111111111&hipsbaseuri=http://skies.esac.esa.int/Herschel/PACS160\n",
      "0.023143143952316873 0.0016466393199330819\n",
      "0.023080255229596537 0.0010934847492107824\n",
      "area = 9789.20, mean(0.0266) - bg (0.0231) = 0.00348 +- 0.00109\n",
      "flux = 16.7 +- 5.25 (260)\n",
      "catalogue 9.141 0.965 1.8283189342230757\n"
     ]
    },
    {
     "name": "stderr",
     "output_type": "stream",
     "text": [
      "WARNING: File may have been truncated: actual file length (426080) is smaller than the expected size (426240) [astropy.io.fits.file]\n",
      "WARNING: File may have been truncated: actual file length (742208) is smaller than the expected size (743040) [astropy.io.fits.file]\n"
     ]
    },
    {
     "name": "stdout",
     "output_type": "stream",
     "text": [
      "> Downloading HRS-289:\n",
      "http://localhost:4000/api/cutout?radiusasec=232.0&pxsizeasec=2.0&radeg=197.2030833333333&decdeg=-6.777527777777777&hipsbaseuri=http://skies.esac.esa.int/Herschel/PACS160\n",
      "0.018557974581579033 0.0010379196401554443\n",
      "0.01851803651226134 0.0007219769365027043\n",
      "area = 7835.13, mean(0.0234) - bg (0.0185) = 0.0049 +- 0.000722\n",
      "flux = 18.8 +- 2.77 (183)\n",
      "catalogue 16.561 1.065 1.1327030618204974\n",
      "> Downloading HRS-290:\n",
      "http://localhost:4000/api/cutout?radiusasec=128.0&pxsizeasec=2.0&radeg=197.87983333333332&decdeg=36.28191666666667&hipsbaseuri=http://skies.esac.esa.int/Herschel/PACS160\n",
      "0.019917831012225773 0.002561767946952752\n",
      "0.019945810639790847 0.0017950960176355564\n",
      "area = 2613.81, mean(0.0239) - bg (0.0199) = 0.00396 +- 0.0018\n",
      "flux = 4.11 +- 1.86 (62.5)\n",
      "catalogue 3.989 0.321 1.0291300993086898\n"
     ]
    },
    {
     "name": "stderr",
     "output_type": "stream",
     "text": [
      "WARNING: File may have been truncated: actual file length (433472) is smaller than the expected size (434880) [astropy.io.fits.file]\n",
      "WARNING: File may have been truncated: actual file length (133952) is smaller than the expected size (135360) [astropy.io.fits.file]\n"
     ]
    },
    {
     "name": "stdout",
     "output_type": "stream",
     "text": [
      "> Downloading HRS-291:\n",
      "http://localhost:4000/api/cutout?radiusasec=120.0&pxsizeasec=2.0&radeg=200.12533333333332&decdeg=43.08397222222222&hipsbaseuri=http://skies.esac.esa.int/Herschel/PACS160\n",
      "0.02705160002448235 0.0025507007287510694\n",
      "0.027031319785666336 0.00179076780620981\n",
      "area = 2827.43, mean(0.0274) - bg (0.027) = 0.000354 +- 0.00179\n",
      "flux = 0.36 +- 1.82 (77.4)\n",
      "catalogue 0.46 0.0 0.7828068489899584\n",
      "> Downloading HRS-292:\n",
      "http://localhost:4000/api/cutout?radiusasec=168.0&pxsizeasec=2.0&radeg=201.30799999999996&decdeg=43.26727777777778&hipsbaseuri=http://skies.esac.esa.int/Herschel/PACS160\n",
      "0.024376764168923662 0.0030028320118198892\n",
      "0.024300295117880358 0.0023152178391361838\n",
      "area = 4948.01, mean(0.0329) - bg (0.0243) = 0.00862 +- 0.00232\n",
      "flux = 15.3 +- 4.11 (163)\n",
      "catalogue 12.629 0.731 1.2110441320632785\n"
     ]
    },
    {
     "name": "stderr",
     "output_type": "stream",
     "text": [
      "WARNING: File may have been truncated: actual file length (228672) is smaller than the expected size (230400) [astropy.io.fits.file]\n",
      "WARNING: File may have been truncated: actual file length (279648) is smaller than the expected size (282240) [astropy.io.fits.file]\n"
     ]
    },
    {
     "name": "stdout",
     "output_type": "stream",
     "text": [
      "> Downloading HRS-293:\n",
      "http://localhost:4000/api/cutout?radiusasec=186.0&pxsizeasec=2.0&radeg=201.582125&decdeg=2.10075&hipsbaseuri=http://skies.esac.esa.int/Herschel/PACS160\n",
      "0.02491558262611542 0.003599397949370947\n",
      "0.024794971650159595 0.002598770640245526\n",
      "area = 5624.24, mean(0.0277) - bg (0.0248) = 0.00286 +- 0.0026\n",
      "flux = 7.92 +- 7.19 (156)\n",
      "catalogue 8.435 0.571 0.9390176906440515\n",
      "> Downloading HRS-294:\n",
      "http://localhost:4000/api/cutout?radiusasec=188.0&pxsizeasec=2.0&radeg=204.00508333333332&decdeg=49.96083333333333&hipsbaseuri=http://skies.esac.esa.int/Herschel/PACS160\n",
      "0.020589422269420326 0.0026891753853910856\n",
      "0.02054731427772955 0.0019758844164871766\n",
      "area = 3469.89, mean(0.0238) - bg (0.0205) = 0.0033 +- 0.00198\n",
      "flux = 3.63 +- 2.17 (82.7)\n",
      "catalogue 3.614 0.288 1.0037344882679966\n"
     ]
    },
    {
     "name": "stderr",
     "output_type": "stream",
     "text": [
      "WARNING: File may have been truncated: actual file length (285632) is smaller than the expected size (288000) [astropy.io.fits.file]\n",
      "WARNING: File may have been truncated: actual file length (2166080) is smaller than the expected size (2168640) [astropy.io.fits.file]\n"
     ]
    },
    {
     "name": "stdout",
     "output_type": "stream",
     "text": [
      "> Downloading HRS-295:\n",
      "http://localhost:4000/api/cutout?radiusasec=520.0&pxsizeasec=2.0&radeg=204.383625&decdeg=8.885055555555555&hipsbaseuri=http://skies.esac.esa.int/Herschel/PACS160\n",
      "0.019456492915330643 0.0016129996763276713\n",
      "0.019457433399701074 0.0009975450111692962\n",
      "area = 38390.26, mean(0.0244) - bg (0.0195) = 0.00497 +- 0.000998\n",
      "flux = 92.8 +- 18.6 (938)\n",
      "catalogue 76.825 5.363 1.208019434800461\n",
      "> Downloading HRS-296:\n",
      "http://localhost:4000/api/cutout?radiusasec=114.0&pxsizeasec=2.0&radeg=205.53474999999997&decdeg=35.654222222222224&hipsbaseuri=http://skies.esac.esa.int/Herschel/PACS160\n"
     ]
    },
    {
     "name": "stderr",
     "output_type": "stream",
     "text": [
      "WARNING: File may have been truncated: actual file length (108680) is smaller than the expected size (109440) [astropy.io.fits.file]\n",
      "WARNING: File may have been truncated: actual file length (1062848) is smaller than the expected size (1065600) [astropy.io.fits.file]\n"
     ]
    },
    {
     "name": "stdout",
     "output_type": "stream",
     "text": [
      "0.020455089613171027 0.003159047940412097\n",
      "0.020379654616800354 0.0022269615513207915\n",
      "area = 2506.99, mean(0.0214) - bg (0.0204) = 0.00103 +- 0.00223\n",
      "flux = 1.04 +- 2.23 (53.7)\n",
      "catalogue 0.913 0.103 1.1365571973745423\n",
      "> Downloading HRS-297:\n",
      "http://localhost:4000/api/cutout?radiusasec=364.0&pxsizeasec=2.0&radeg=206.60254166666667&decdeg=46.107416666666666&hipsbaseuri=http://skies.esac.esa.int/Herschel/PACS160\n",
      "0.019376125757347065 0.0012749182256283388\n",
      "0.019354835982940816 0.0008657392748973037\n",
      "area = 10291.86, mean(0.0236) - bg (0.0194) = 0.00424 +- 0.000866\n",
      "flux = 14.9 +- 3.04 (243)\n",
      "catalogue 13.649 0.834 1.0908171536681297\n",
      "> Downloading HRS-298:\n",
      "http://localhost:4000/api/cutout?radiusasec=130.0&pxsizeasec=2.0&radeg=206.93737499999997&decdeg=38.30455555555555&hipsbaseuri=http://skies.esac.esa.int/Herschel/PACS160\n",
      "0.02242698245871682 0.0009577753980171862\n",
      "0.022380871377607293 0.0006773256989090142\n",
      "area = 2705.70, mean(0.0296) - bg (0.0224) = 0.00719 +- 0.000677\n",
      "flux = 7.51 +- 0.708 (80)\n",
      "catalogue 6.448 0.385 1.1652914265878178\n"
     ]
    },
    {
     "name": "stderr",
     "output_type": "stream",
     "text": [
      "WARNING: File may have been truncated: actual file length (138080) is smaller than the expected size (138240) [astropy.io.fits.file]\n",
      "WARNING: File may have been truncated: actual file length (853088) is smaller than the expected size (855360) [astropy.io.fits.file]\n"
     ]
    },
    {
     "name": "stdout",
     "output_type": "stream",
     "text": [
      "> Downloading HRS-299:\n",
      "http://localhost:4000/api/cutout?radiusasec=326.0&pxsizeasec=2.0&radeg=207.0668333333333&decdeg=3.950861111111111&hipsbaseuri=http://skies.esac.esa.int/Herschel/PACS160\n",
      "0.01846992485314683 0.0011902520806197636\n",
      "0.01844647534432787 0.0008073401611591361\n",
      "area = 13826.15, mean(0.0197) - bg (0.0184) = 0.00121 +- 0.000807\n",
      "flux = 8.2 +- 5.48 (272)\n",
      "catalogue 7.654 1.211 1.071881132345633\n",
      "> Downloading HRS-300:\n",
      "http://localhost:4000/api/cutout?radiusasec=116.0&pxsizeasec=2.0&radeg=207.64954166666664&decdeg=42.54152777777777&hipsbaseuri=http://skies.esac.esa.int/Herschel/PACS160\n",
      "0.01912723865127635 0.0016769382556438318\n",
      "0.019114157986882797 0.001204278600178622\n",
      "area = 1457.70, mean(0.0208) - bg (0.0191) = 0.0017 +- 0.0012\n",
      "flux = 0.901 +- 0.637 (30.3)\n",
      "catalogue 0.853 0.169 1.055745322088824\n",
      "> Downloading HRS-301:\n",
      "http://localhost:4000/api/cutout?radiusasec=350.0&pxsizeasec=2.0&radeg=208.22691666666665&decdeg=-1.114638888888889&hipsbaseuri=http://skies.esac.esa.int/Herschel/PACS160\n",
      "0.02005131727799797 0.0013073046254641722\n",
      "0.020034823268319714 0.0008827874572199216\n",
      "area = 17455.47, mean(0.0208) - bg (0.02) = 0.000764 +- 0.000883\n",
      "flux = 6.56 +- 7.59 (363)\n",
      "catalogue 8.024 1.589 0.8179493403101393\n"
     ]
    },
    {
     "name": "stderr",
     "output_type": "stream",
     "text": [
      "WARNING: File may have been truncated: actual file length (110528) is smaller than the expected size (112320) [astropy.io.fits.file]\n",
      "WARNING: File may have been truncated: actual file length (982880) is smaller than the expected size (984960) [astropy.io.fits.file]\n"
     ]
    },
    {
     "name": "stdout",
     "output_type": "stream",
     "text": [
      "> Downloading HRS-302:\n",
      "http://localhost:4000/api/cutout?radiusasec=308.0&pxsizeasec=2.0&radeg=208.54695833333332&decdeg=5.227444444444445&hipsbaseuri=http://skies.esac.esa.int/Herschel/PACS160\n",
      "0.0225866292889822 0.0012639083560382\n",
      "0.022579955159299406 0.0008672344176485026\n",
      "area = 4838.05, mean(0.0235) - bg (0.0226) = 0.000875 +- 0.000867\n",
      "flux = 2.08 +- 2.06 (113)\n",
      "catalogue 1.961 0.535 1.0582207067318508\n"
     ]
    },
    {
     "name": "stderr",
     "output_type": "stream",
     "text": [
      "WARNING: File may have been truncated: actual file length (761792) is smaller than the expected size (763200) [astropy.io.fits.file]\n"
     ]
    },
    {
     "name": "stdout",
     "output_type": "stream",
     "text": [
      "> Downloading HRS-303:\n",
      "http://localhost:4000/api/cutout?radiusasec=124.0&pxsizeasec=2.0&radeg=208.6917083333333&decdeg=58.6665&hipsbaseuri=http://skies.esac.esa.int/Herschel/PACS160\n",
      "0.021789073999583103 0.0015736357194302587\n",
      "0.021769030527145555 0.0010987658395194234\n",
      "area = 2824.29, mean(0.0274) - bg (0.0218) = 0.0056 +- 0.0011\n",
      "flux = 4.05 +- 0.795 (77.3)\n",
      "catalogue 3.354 0.374 1.2075127139975703\n"
     ]
    },
    {
     "name": "stderr",
     "output_type": "stream",
     "text": [
      "WARNING: File may have been truncated: actual file length (125888) is smaller than the expected size (126720) [astropy.io.fits.file]\n"
     ]
    },
    {
     "name": "stdout",
     "output_type": "stream",
     "text": [
      "> Downloading HRS-304:\n",
      "http://localhost:4000/api/cutout?radiusasec=266.0&pxsizeasec=2.0&radeg=208.7435833333333&decdeg=5.333722222222222&hipsbaseuri=http://skies.esac.esa.int/Herschel/PACS160\n",
      "0.021542199416319383 0.0011602107826567676\n",
      "0.021535923463953416 0.0008036981049737495\n",
      "area = 5327.36, mean(0.0239) - bg (0.0215) = 0.00239 +- 0.000804\n",
      "flux = 6.23 +- 2.1 (127)\n",
      "catalogue 5.721 0.553 1.0898088009182951\n"
     ]
    },
    {
     "name": "stderr",
     "output_type": "stream",
     "text": [
      "WARNING: File may have been truncated: actual file length (568928) is smaller than the expected size (570240) [astropy.io.fits.file]\n"
     ]
    },
    {
     "name": "stdout",
     "output_type": "stream",
     "text": [
      "> Downloading HRS-305:\n",
      "http://localhost:4000/api/cutout?radiusasec=166.0&pxsizeasec=2.0&radeg=208.9114583333333&decdeg=4.985055555555555&hipsbaseuri=http://skies.esac.esa.int/Herschel/PACS160\n",
      "0.020414067097871327 0.0013322412525148923\n",
      "0.020417861825074463 0.000894401134653496\n",
      "area = 1890.45, mean(0.0212) - bg (0.0204) = 0.000767 +- 0.000894\n",
      "flux = 0.711 +- 0.83 (40)\n",
      "catalogue 0.489 0.114 1.4537868913252372\n",
      "> Downloading HRS-306:\n",
      "http://localhost:4000/api/cutout?radiusasec=342.0&pxsizeasec=2.0&radeg=209.03004166666665&decdeg=5.254777777777778&hipsbaseuri=http://skies.esac.esa.int/Herschel/PACS160\n",
      "0.022688087626223197 0.0014985202911283364\n",
      "0.022693214511148224 0.0009830006047696408\n",
      "area = 14773.34, mean(0.0238) - bg (0.0227) = 0.00115 +- 0.000983\n",
      "flux = 8.34 +- 7.12 (352)\n",
      "catalogue 7.018 1.311 1.1886413675491498\n"
     ]
    },
    {
     "name": "stderr",
     "output_type": "stream",
     "text": [
      "WARNING: File may have been truncated: actual file length (223328) is smaller than the expected size (224640) [astropy.io.fits.file]\n",
      "WARNING: File may have been truncated: actual file length (938592) is smaller than the expected size (938880) [astropy.io.fits.file]\n"
     ]
    },
    {
     "name": "stdout",
     "output_type": "stream",
     "text": [
      "> Downloading HRS-307:\n",
      "http://localhost:4000/api/cutout?radiusasec=568.0&pxsizeasec=2.0&radeg=209.04999999999998&decdeg=5.014472222222222&hipsbaseuri=http://skies.esac.esa.int/Herschel/PACS160\n",
      "0.018516409251461346 0.002017112880817136\n",
      "0.018475911845074924 0.0013940391660129832\n",
      "area = 41041.77, mean(0.0196) - bg (0.0185) = 0.00111 +- 0.00139\n",
      "flux = 22.3 +- 28.1 (804)\n",
      "catalogue 30.263 4.249 0.7372942366092691\n"
     ]
    },
    {
     "name": "stderr",
     "output_type": "stream",
     "text": [
      "WARNING: File may have been truncated: actual file length (2583872) is smaller than the expected size (2586240) [astropy.io.fits.file]\n"
     ]
    },
    {
     "name": "stdout",
     "output_type": "stream",
     "text": [
      "> Downloading HRS-308:\n",
      "http://localhost:4000/api/cutout?radiusasec=40.0&pxsizeasec=2.0&radeg=209.110875&decdeg=4.396666666666667&hipsbaseuri=http://skies.esac.esa.int/Herschel/PACS160\n",
      "0.02538244211259052 0.0009332425694599626\n",
      "0.025372473494228016 0.0006499523551083684\n",
      "area = 314.16, mean(0.0263) - bg (0.0254) = 0.000935 +- 0.00065\n",
      "flux = 0.144 +- 0.1 (8.26)\n",
      "catalogue 0.158 0.026 0.9133180892617712\n",
      "> Downloading HRS-309:\n",
      "http://localhost:4000/api/cutout?radiusasec=90.0&pxsizeasec=2.0&radeg=211.85404166666666&decdeg=55.10308333333334&hipsbaseuri=http://skies.esac.esa.int/Herschel/PACS160\n",
      "0.024338670126366622 0.0014372918489658285\n",
      "0.024321386751243998 0.0009456291201991096\n",
      "area = 1555.09, mean(0.0265) - bg (0.0243) = 0.00222 +- 0.000946\n",
      "flux = 0.974 +- 0.414 (41.3)\n",
      "catalogue 1.071 0.135 0.9096363164777143\n"
     ]
    },
    {
     "name": "stderr",
     "output_type": "stream",
     "text": [
      "WARNING: File may have been truncated: actual file length (15680) is smaller than the expected size (17280) [astropy.io.fits.file]\n",
      "WARNING: File may have been truncated: actual file length (67680) is smaller than the expected size (69120) [astropy.io.fits.file]\n"
     ]
    },
    {
     "name": "stdout",
     "output_type": "stream",
     "text": [
      "> Downloading HRS-310:\n",
      "http://localhost:4000/api/cutout?radiusasec=298.0&pxsizeasec=2.0&radeg=215.0225833333333&decdeg=3.9912222222222224&hipsbaseuri=http://skies.esac.esa.int/Herschel/PACS160\n",
      "0.019540004489992394 0.001036374248866028\n",
      "0.019515012522102818 0.0007171869955235116\n",
      "area = 5968.24, mean(0.0221) - bg (0.0195) = 0.00259 +- 0.000717\n",
      "flux = 7.6 +- 2.1 (132)\n",
      "catalogue 6.346 0.518 1.1971055001621278\n",
      "> Downloading HRS-311:\n",
      "http://localhost:4000/api/cutout?radiusasec=394.0&pxsizeasec=2.0&radeg=215.08312499999997&decdeg=3.9335833333333334&hipsbaseuri=http://skies.esac.esa.int/Herschel/PACS160\n",
      "0.01959575919293893 0.0012503128282981453\n",
      "0.019575898931311144 0.0008442830020537319\n",
      "area = 15936.51, mean(0.0213) - bg (0.0196) = 0.00176 +- 0.000844\n",
      "flux = 13.8 +- 6.61 (340)\n",
      "catalogue 12.277 1.435 1.1254557540277437\n"
     ]
    },
    {
     "name": "stderr",
     "output_type": "stream",
     "text": [
      "WARNING: File may have been truncated: actual file length (713312) is smaller than the expected size (714240) [astropy.io.fits.file]\n",
      "WARNING: File may have been truncated: actual file length (1244768) is smaller than the expected size (1247040) [astropy.io.fits.file]\n"
     ]
    },
    {
     "name": "stdout",
     "output_type": "stream",
     "text": [
      "> Downloading HRS-312:\n",
      "http://localhost:4000/api/cutout?radiusasec=62.0&pxsizeasec=2.0&radeg=215.2653333333333&decdeg=3.271&hipsbaseuri=http://skies.esac.esa.int/Herschel/PACS160\n",
      "0.020291653086503984 0.0009361650462254706\n",
      "0.020293608884751266 0.0006731634337068203\n",
      "area = 754.77, mean(0.0206) - bg (0.0203) = 0.000261 +- 0.000673\n",
      "flux = 0.0969 +- 0.25 (15.5)\n",
      "catalogue 0.187 0.0 0.5180736984321209\n",
      "> Downloading HRS-313:\n",
      "http://localhost:4000/api/cutout?radiusasec=308.0&pxsizeasec=2.0&radeg=215.30462499999996&decdeg=3.435777777777778&hipsbaseuri=http://skies.esac.esa.int/Herschel/PACS160\n",
      "0.023963627062540786 0.0014927502343376926\n",
      "0.023963683302278736 0.0009843399557587938\n",
      "area = 7861.84, mean(0.025) - bg (0.024) = 0.00103 +- 0.000984\n",
      "flux = 3.96 +- 3.8 (196)\n",
      "catalogue 3.803 0.819 1.0421772156672393\n"
     ]
    },
    {
     "name": "stderr",
     "output_type": "stream",
     "text": [
      "WARNING: File may have been truncated: actual file length (33632) is smaller than the expected size (34560) [astropy.io.fits.file]\n",
      "WARNING: File may have been truncated: actual file length (761792) is smaller than the expected size (763200) [astropy.io.fits.file]\n"
     ]
    },
    {
     "name": "stdout",
     "output_type": "stream",
     "text": [
      "> Downloading HRS-314:\n",
      "http://localhost:4000/api/cutout?radiusasec=190.0&pxsizeasec=2.0&radeg=215.86299999999997&decdeg=1.7263055555555558&hipsbaseuri=http://skies.esac.esa.int/Herschel/PACS160\n",
      "0.011847489397151025 0.0023609582683855063\n",
      "0.011856603151317287 0.001599687817670102\n",
      "area = 4700.61, mean(0.0134) - bg (0.0119) = 0.00155 +- 0.0016\n",
      "flux = 3.58 +- 3.7 (63)\n",
      "catalogue 3.316 0.23 1.0791044772152258\n",
      "> Downloading HRS-315:\n",
      "http://localhost:4000/api/cutout?radiusasec=352.0&pxsizeasec=2.0&radeg=216.3375833333333&decdeg=39.53958333333333&hipsbaseuri=http://skies.esac.esa.int/Herschel/PACS160\n"
     ]
    },
    {
     "name": "stderr",
     "output_type": "stream",
     "text": [
      "WARNING: File may have been truncated: actual file length (291680) is smaller than the expected size (293760) [astropy.io.fits.file]\n",
      "WARNING: File may have been truncated: actual file length (994112) is smaller than the expected size (996480) [astropy.io.fits.file]\n"
     ]
    },
    {
     "name": "stdout",
     "output_type": "stream",
     "text": [
      "0.019275047234665027 0.0009371953378307998\n",
      "0.019272357120033955 0.0006643654015873852\n",
      "area = 4008.67, mean(0.02) - bg (0.0193) = 0.000749 +- 0.000664\n",
      "flux = 1.14 +- 1.01 (80.3)\n",
      "catalogue 0.863 0.327 1.3220059204708987\n",
      "> Downloading HRS-316:\n",
      "http://localhost:4000/api/cutout?radiusasec=48.0&pxsizeasec=2.0&radeg=217.41829166666662&decdeg=3.233388888888889&hipsbaseuri=http://skies.esac.esa.int/Herschel/PACS160\n",
      "0.021568757388938063 0.00085761400075492\n",
      "0.021571943896029757 0.000601795713672363\n",
      "area = 452.39, mean(0.0218) - bg (0.0216) = 0.000253 +- 0.000602\n",
      "flux = 0.0562 +- 0.134 (9.87)\n",
      "catalogue 0.169 0.0 0.33274585138379176\n"
     ]
    },
    {
     "name": "stderr",
     "output_type": "stream",
     "text": [
      "WARNING: File may have been truncated: actual file length (21312) is smaller than the expected size (23040) [astropy.io.fits.file]\n"
     ]
    },
    {
     "name": "stdout",
     "output_type": "stream",
     "text": [
      "> Downloading HRS-317:\n",
      "http://localhost:4000/api/cutout?radiusasec=68.0&pxsizeasec=2.0&radeg=217.5077083333333&decdeg=3.772861111111111&hipsbaseuri=http://skies.esac.esa.int/Herschel/PACS160\n",
      "0.017134136644055435 0.0014973854434096288\n",
      "0.01712971049872313 0.0010700790634364092\n",
      "area = 747.70, mean(0.0184) - bg (0.0171) = 0.00123 +- 0.00107\n",
      "flux = 0.451 +- 0.393 (13.7)\n",
      "catalogue 0.475 0.062 0.9484564917724145\n",
      "> Downloading HRS-318:\n",
      "http://localhost:4000/api/cutout?radiusasec=202.0&pxsizeasec=2.0&radeg=217.6639583333333&decdeg=7.275083333333333&hipsbaseuri=http://skies.esac.esa.int/Herschel/PACS160\n"
     ]
    },
    {
     "name": "stderr",
     "output_type": "stream",
     "text": [
      "WARNING: File may have been truncated: actual file length (39872) is smaller than the expected size (40320) [astropy.io.fits.file]\n",
      "WARNING: File may have been truncated: actual file length (329312) is smaller than the expected size (331200) [astropy.io.fits.file]\n"
     ]
    },
    {
     "name": "stdout",
     "output_type": "stream",
     "text": [
      "0.01973734091912284 0.004300830212508858\n",
      "0.019640638023161006 0.0028828140823581932\n",
      "area = 4997.49, mean(0.022) - bg (0.0196) = 0.0024 +- 0.00288\n",
      "flux = 5.86 +- 7.04 (110)\n",
      "catalogue 6.331 0.483 0.9262788121020389\n",
      "> Downloading HRS-319:\n",
      "http://localhost:4000/api/cutout?radiusasec=334.0&pxsizeasec=2.0&radeg=218.18283333333332&decdeg=9.891805555555555&hipsbaseuri=http://skies.esac.esa.int/Herschel/PACS160\n",
      "0.020949223439343558 0.0012548987820957015\n",
      "0.02093493903143534 0.0008506031567096249\n",
      "area = 15477.06, mean(0.022) - bg (0.0209) = 0.0011 +- 0.000851\n",
      "flux = 8.26 +- 6.39 (341)\n",
      "catalogue 8.145 1.192 1.0137643519745267\n"
     ]
    },
    {
     "name": "stderr",
     "output_type": "stream",
     "text": [
      "WARNING: File may have been truncated: actual file length (895328) is smaller than the expected size (895680) [astropy.io.fits.file]\n"
     ]
    },
    {
     "name": "stdout",
     "output_type": "stream",
     "text": [
      "> Downloading HRS-320:\n",
      "http://localhost:4000/api/cutout?radiusasec=304.0&pxsizeasec=2.0&radeg=218.35141666666664&decdeg=4.450444444444445&hipsbaseuri=http://skies.esac.esa.int/Herschel/PACS160\n",
      "0.024522742845099293 0.0013057743978332169\n",
      "0.024501284268600293 0.0008895605038517721\n",
      "area = 17310.18, mean(0.0261) - bg (0.0245) = 0.00156 +- 0.00089\n",
      "flux = 13.3 +- 7.56 (451)\n",
      "catalogue 10.256 1.478 1.2925913217524831\n",
      "> Downloading HRS-321:\n",
      "http://localhost:4000/api/cutout?radiusasec=100.0&pxsizeasec=2.0&radeg=219.57549999999998&decdeg=3.4103333333333334&hipsbaseuri=http://skies.esac.esa.int/Herschel/PACS160\n",
      "0.020618778923937486 0.0023962568657370058\n",
      "0.020584406435269077 0.0016207430587536502\n",
      "area = 1295.91, mean(0.0259) - bg (0.0206) = 0.00532 +- 0.00162\n",
      "flux = 3.39 +- 1.03 (33.6)\n",
      "catalogue 3.164 0.179 1.0719301057470592\n"
     ]
    },
    {
     "name": "stderr",
     "output_type": "stream",
     "text": [
      "WARNING: File may have been truncated: actual file length (742208) is smaller than the expected size (743040) [astropy.io.fits.file]\n",
      "WARNING: File may have been truncated: actual file length (82880) is smaller than the expected size (83520) [astropy.io.fits.file]\n"
     ]
    },
    {
     "name": "stdout",
     "output_type": "stream",
     "text": [
      "> Downloading HRS-322:\n",
      "http://localhost:4000/api/cutout?radiusasec=248.0&pxsizeasec=2.0&radeg=219.7960833333333&decdeg=5.363555555555555&hipsbaseuri=http://skies.esac.esa.int/Herschel/PACS160\n",
      "0.021290373069469654 0.0010785747813300446\n",
      "0.021281322179527506 0.000761232130164343\n",
      "area = 11686.72, mean(0.0217) - bg (0.0213) = 0.000384 +- 0.000761\n",
      "flux = 2.2 +- 4.36 (253)\n",
      "catalogue 1.859 1.201 1.18452636327689\n"
     ]
    },
    {
     "name": "stderr",
     "output_type": "stream",
     "text": [
      "WARNING: File may have been truncated: actual file length (494912) is smaller than the expected size (495360) [astropy.io.fits.file]\n"
     ]
    },
    {
     "name": "stdout",
     "output_type": "stream",
     "text": [
      "> Downloading HRS-323:\n",
      "http://localhost:4000/api/cutout?radiusasec=202.0&pxsizeasec=2.0&radeg=220.74116666666663&decdeg=4.890138888888888&hipsbaseuri=http://skies.esac.esa.int/Herschel/PACS160\n",
      "0.022863562150159368 0.003636300989453594\n",
      "0.02277710383432339 0.002620991892115996\n",
      "area = 3728.29, mean(0.0272) - bg (0.0228) = 0.00445 +- 0.00262\n",
      "flux = 8.15 +- 4.79 (102)\n",
      "catalogue 7.547 0.575 1.0796136399763896\n"
     ]
    },
    {
     "name": "stderr",
     "output_type": "stream",
     "text": [
      "WARNING: File may have been truncated: actual file length (329312) is smaller than the expected size (331200) [astropy.io.fits.file]\n"
     ]
    }
   ],
   "source": [
    "def find_bg(data):\n",
    "    p16, p50 = np.nanpercentile(data, [16, 50])\n",
    "    mu0 = p50\n",
    "    sigma0 = p50 - p16\n",
    "    weight = np.exp(-.5 * ((data - mu0) / sigma0)**2)\n",
    "    total_weight = np.nansum(weight)\n",
    "    mu1 = np.nansum(weight * data) / total_weight\n",
    "    sigma1 = np.nansum(weight * data**2) / total_weight\n",
    "    sigma1 = np.sqrt(sigma1 - mu1**2)\n",
    "    print(mu0, sigma0)\n",
    "    print(mu1, sigma1)\n",
    "    #ivar = 1/sigma1**2 - 1/sigma0**2\n",
    "    #mu = (mu1/sigma1**2 - mu0/sigma0**2) / ivar\n",
    "    #print(mu, np.sqrt(1/ivar))\n",
    "    #return mu, np.sqrt(1/ivar)\n",
    "    return mu1, sigma1\n",
    "    \n",
    "\n",
    "importlib.reload(astrobrowser)\n",
    "band = 'PACS160'\n",
    "hips_service_url = 'http://skies.esac.esa.int/Herschel/PACS160'\n",
    "beam = (2.85 * u.arcsec)**2\n",
    "skymap_units = u.Jy / beam\n",
    "\n",
    "pixel_arcsec = 2.\n",
    "pixel_area = (pixel_arcsec * u.arcsec)**2  # cos(DEC) due to Mercator projection added below\n",
    "unit_conversion = (skymap_units * pixel_area).to_value(u.Jy)\n",
    "\n",
    "with PdfPages(f'{band}_maps.pdf') as pdf:\n",
    "    flux_Jy = []\n",
    "    flux_err_Jy = []\n",
    "    for galaxy in HRS_catalogue:\n",
    "    \n",
    "        position = SkyCoord(galaxy['R.A.__J.2000_'], galaxy['Dec__J.2000_'],  unit=(u.hourangle, u.deg))\n",
    "        radius_arcsec = 2 * galaxy['a']\n",
    "        print(f\"> Downloading HRS-{galaxy['HRS']}:\")\n",
    "        header, data = astrobrowser.get_cutout(hips_service_url, position.ra.deg, position.dec.deg, radius_arcsec, pixel_arcsec)\n",
    "        if header is None:\n",
    "            flux_Jy.append(np.nan)\n",
    "            flux_err_Jy.append(np.nan)\n",
    "            continue\n",
    "        wcs = WCS(header)\n",
    "\n",
    "        aperture = SkyEllipticalAperture(position, a=galaxy['a']*u.arcsec, b=galaxy['b']*u.arcsec, theta=-galaxy['P.A.']*u.deg)  # Why do I have to invert PA?\n",
    "        pixel_aperture = aperture.to_pixel(wcs)\n",
    "        pixel_aperture.positions = [np.array(data.shape) / 2]  # dirty fix\n",
    "\n",
    "        flux = pixel_aperture.do_photometry(data)[0][0]\n",
    "        mean = flux / pixel_aperture.area\n",
    "        bg, bg_err = find_bg(data)\n",
    "\n",
    "        corrected_flux = flux - bg*pixel_aperture.area\n",
    "        corrected_flux *= unit_conversion * np.cos(position.dec)\n",
    "        flux_err = bg_err * pixel_aperture.area * unit_conversion * np.cos(position.dec)\n",
    "        print(f'area = {pixel_aperture.area:.2f}, mean({mean:.3g}) - bg ({bg:.3g}) = {mean-bg:.3g} +- {bg_err:.3g}')\n",
    "        print(f'flux = {corrected_flux:.3g} +- {flux_err:.3g} ({flux:.3g})')\n",
    "        print('catalogue', galaxy['F_160'], galaxy['sigma_160'], corrected_flux/galaxy['F_160'])\n",
    "        flux_Jy.append(corrected_flux)\n",
    "        flux_err_Jy.append(flux_err)\n",
    "        \n",
    "        plt.figure()\n",
    "        plt.title(f\"HRS-{galaxy['HRS']} {band}: ${corrected_flux:.3g} \\pm {flux_err:.3g}\\ ({galaxy['F_160']:.3g} \\pm {galaxy['sigma_160']:.3g})$ Jy\")\n",
    "        im = plt.imshow(data, interpolation='nearest', origin='lower', vmin=bg-bg_err, vmax=mean+bg_err, cmap='terrain')\n",
    "        plt.contour(data, levels=[mean], colors=['k'])\n",
    "        pixel_aperture.plot(color='w')\n",
    "        cb = plt.colorbar(im)\n",
    "        cb.ax.axhline(mean, c='w')\n",
    "        cb.ax.axhline(mean, c='k')\n",
    "        cb.ax.axhline(bg + bg_err, c='w', ls=':')\n",
    "        cb.ax.axhline(bg, c='w', ls='--')\n",
    "        cb.ax.axhline(bg - bg_err, c='w', ls=':')\n",
    "        pdf.savefig()\n",
    "        plt.close()"
   ]
  },
  {
   "cell_type": "code",
   "execution_count": 119,
   "id": "0773ad5c-fd1a-4e15-b047-db430557122e",
   "metadata": {},
   "outputs": [],
   "source": [
    "n = len(flux_Jy)\n",
    "with PdfPages(f'{band}_summary.pdf') as pdf:\n",
    "    plt.figure()\n",
    "    plt.errorbar(HRS_catalogue['F_160'][:n], flux_Jy, flux_err_Jy, HRS_catalogue['sigma_160'][:n], fmt='none', alpha=.2)\n",
    "    plt.grid(alpha=.2)\n",
    "    x = [np.min(HRS_catalogue['F_160']), np.max(HRS_catalogue['F_160'])]\n",
    "    plt.plot(x, x, 'k:')\n",
    "    plt.xscale('log')\n",
    "    plt.yscale('log')\n",
    "    plt.ylim(x)\n",
    "    plt.title(band)\n",
    "    plt.ylabel('flux measured from HiPS map [Jy]')\n",
    "    plt.xlabel('HRS flux [Jy]')\n",
    "    pdf.savefig()\n",
    "    plt.close()\n",
    "\n",
    "    plt.figure()\n",
    "    x = np.array(flux_Jy / HRS_catalogue['F_160'][:n])\n",
    "    p16, p50, p84 = np.nanpercentile(x.data, [16, 50, 84])\n",
    "    plt.hist(x, bins=np.logspace(-1, 1, 50), density=False, alpha=.5)\n",
    "    plt.axvline(p50, c='k', ls='--', label=f'[{p16:.3g}, {p50:.3g}, {p84:.3g}]')\n",
    "    plt.axvline(p16, c='k', ls=':')\n",
    "    plt.axvline(p84, c='k', ls=':')\n",
    "    plt.xscale('log')\n",
    "    plt.grid(alpha=.2)\n",
    "    plt.title(band)\n",
    "    plt.xlabel('HiPS / HRS')\n",
    "    plt.ylabel('number of galaxies')\n",
    "    #plt.ylabel('probability')\n",
    "    plt.legend()\n",
    "    pdf.savefig()\n",
    "    plt.close()\n",
    "    \n",
    "    plt.figure()\n",
    "    x = np.array((flux_Jy - HRS_catalogue['F_160'][:n]) / flux_err_Jy)\n",
    "    mu = np.nanmean(x)\n",
    "    sigma = np.nanstd(x)\n",
    "    p16, p50, p84 = np.nanpercentile(x.data, [16, 50, 84])\n",
    "    plt.axvline(p16, c='b', ls=':')\n",
    "    plt.axvline(p50, c='b', ls='--')\n",
    "    plt.axvline(p84, c='b', ls=':')\n",
    "    plt.hist(x, bins=np.linspace(-5, 5, 50), density=False, label=f'HiPS error: [{p16:.3g}, {p50:.3g}, {p84:.3g}]', alpha=.5)\n",
    "    x = np.array((flux_Jy - HRS_catalogue['F_160'][:n]) / HRS_catalogue['sigma_160'][:n])\n",
    "    mu = np.nanmean(x)\n",
    "    sigma = np.nanstd(x)\n",
    "    p16, p50, p84 = np.nanpercentile(x.data, [16, 50, 84])\n",
    "    plt.axvline(p16, c='r', ls=':')\n",
    "    plt.axvline(p50, c='r', ls='--')\n",
    "    plt.axvline(p84, c='r', ls=':')\n",
    "    plt.hist(x, bins=np.linspace(-5, 5, 50), density=False, label=f'HRS error: [{p16:.3g}, {p50:.3g}, {p84:.3g}]', alpha=.5)\n",
    "    plt.grid(alpha=.2)\n",
    "    plt.title(band)\n",
    "    plt.xlabel('(HiPS - HRS) / error')\n",
    "    plt.ylabel('number of galaxies')\n",
    "    plt.legend()\n",
    "    pdf.savefig()\n",
    "    plt.close()"
   ]
  },
  {
   "cell_type": "code",
   "execution_count": 120,
   "id": "cc418206-9ffe-4f8b-af51-c1c4241da7bd",
   "metadata": {},
   "outputs": [
    {
     "data": {
      "text/plain": [
       "(<Quantity 8.1225 arcsec2>, 8.1225, 2.0)"
      ]
     },
     "execution_count": 120,
     "metadata": {},
     "output_type": "execute_result"
    }
   ],
   "source": [
    "beam, 2.85**2, header['CDELT1']*3600"
   ]
  },
  {
   "cell_type": "markdown",
   "id": "81267a49-26c0-4757-a5ed-603d07a7adf1",
   "metadata": {},
   "source": [
    "# -- OLD STUFF --"
   ]
  },
  {
   "cell_type": "code",
   "execution_count": 4,
   "id": "ab9a04f5-2215-4587-812d-bd5cf84fd5ee",
   "metadata": {},
   "outputs": [],
   "source": [
    "names = [f'HRS-{ID:03d}' for ID in HRS_catalogue['HRS']]"
   ]
  },
  {
   "cell_type": "code",
   "execution_count": 5,
   "id": "5ee5d528-00a3-4289-bd15-1368fa168410",
   "metadata": {},
   "outputs": [],
   "source": [
    "positions = SkyCoord(HRS_catalogue['R.A.__J.2000_'], HRS_catalogue['Dec__J.2000_'],  unit=(u.hourangle, u.deg))"
   ]
  },
  {
   "cell_type": "code",
   "execution_count": 6,
   "id": "9de6cba1-66cd-4d39-adb6-1ff66dd365b9",
   "metadata": {},
   "outputs": [],
   "source": [
    "catalogue = Table([names,\n",
    "                   positions.ra.deg,\n",
    "                   positions.dec.deg,\n",
    "                   2 * HRS_catalogue['a'],\n",
    "                   2.85 * np.ones(len(HRS_catalogue))\n",
    "                  ], names=['ID', 'RA', 'DEC', 'RADIUS_ARCSEC', 'PIXEL_SIZE_ARCSEC'])"
   ]
  },
  {
   "cell_type": "code",
   "execution_count": 7,
   "id": "6048648f-4b79-40a2-89e9-d4677caf4df1",
   "metadata": {},
   "outputs": [
    {
     "data": {
      "text/html": [
       "<div><i>Table length=323</i>\n",
       "<table id=\"table140699066406080\" class=\"table-striped table-bordered table-condensed\">\n",
       "<thead><tr><th>ID</th><th>RA</th><th>DEC</th><th>RADIUS_ARCSEC</th><th>PIXEL_SIZE_ARCSEC</th></tr></thead>\n",
       "<thead><tr><th>str7</th><th>float64</th><th>float64</th><th>float32</th><th>float64</th></tr></thead>\n",
       "<tr><td>HRS-001</td><td>154.41525</td><td>22.80997222222222</td><td>96.0</td><td>2.85</td></tr>\n",
       "<tr><td>HRS-002</td><td>155.23804166666665</td><td>25.364833333333333</td><td>94.0</td><td>2.85</td></tr>\n",
       "<tr><td>HRS-003</td><td>155.86254166666663</td><td>19.898527777777776</td><td>78.0</td><td>2.85</td></tr>\n",
       "<tr><td>HRS-004</td><td>155.87741666666665</td><td>19.865055555555557</td><td>200.0</td><td>2.85</td></tr>\n",
       "<tr><td>HRS-005</td><td>156.6182083333333</td><td>20.228194444444444</td><td>162.0</td><td>2.85</td></tr>\n",
       "<tr><td>HRS-006</td><td>156.7548333333333</td><td>28.639416666666666</td><td>124.0</td><td>2.85</td></tr>\n",
       "<tr><td>...</td><td>...</td><td>...</td><td>...</td><td>...</td></tr>\n",
       "<tr><td>HRS-317</td><td>217.5077083333333</td><td>3.772861111111111</td><td>68.0</td><td>2.85</td></tr>\n",
       "<tr><td>HRS-318</td><td>217.6639583333333</td><td>7.275083333333333</td><td>202.0</td><td>2.85</td></tr>\n",
       "<tr><td>HRS-319</td><td>218.18283333333332</td><td>9.891805555555555</td><td>334.0</td><td>2.85</td></tr>\n",
       "<tr><td>HRS-320</td><td>218.35141666666664</td><td>4.450444444444445</td><td>304.0</td><td>2.85</td></tr>\n",
       "<tr><td>HRS-321</td><td>219.57549999999998</td><td>3.4103333333333334</td><td>100.0</td><td>2.85</td></tr>\n",
       "<tr><td>HRS-322</td><td>219.7960833333333</td><td>5.363555555555555</td><td>248.0</td><td>2.85</td></tr>\n",
       "<tr><td>HRS-323</td><td>220.74116666666663</td><td>4.890138888888888</td><td>202.0</td><td>2.85</td></tr>\n",
       "</table></div>"
      ],
      "text/plain": [
       "<Table length=323>\n",
       "   ID           RA                DEC         RADIUS_ARCSEC PIXEL_SIZE_ARCSEC\n",
       "  str7       float64            float64          float32         float64     \n",
       "------- ------------------ ------------------ ------------- -----------------\n",
       "HRS-001          154.41525  22.80997222222222          96.0              2.85\n",
       "HRS-002 155.23804166666665 25.364833333333333          94.0              2.85\n",
       "HRS-003 155.86254166666663 19.898527777777776          78.0              2.85\n",
       "HRS-004 155.87741666666665 19.865055555555557         200.0              2.85\n",
       "HRS-005  156.6182083333333 20.228194444444444         162.0              2.85\n",
       "HRS-006  156.7548333333333 28.639416666666666         124.0              2.85\n",
       "    ...                ...                ...           ...               ...\n",
       "HRS-317  217.5077083333333  3.772861111111111          68.0              2.85\n",
       "HRS-318  217.6639583333333  7.275083333333333         202.0              2.85\n",
       "HRS-319 218.18283333333332  9.891805555555555         334.0              2.85\n",
       "HRS-320 218.35141666666664  4.450444444444445         304.0              2.85\n",
       "HRS-321 219.57549999999998 3.4103333333333334         100.0              2.85\n",
       "HRS-322  219.7960833333333  5.363555555555555         248.0              2.85\n",
       "HRS-323 220.74116666666663  4.890138888888888         202.0              2.85"
      ]
     },
     "execution_count": 7,
     "metadata": {},
     "output_type": "execute_result"
    }
   ],
   "source": [
    "catalogue"
   ]
  },
  {
   "cell_type": "markdown",
   "id": "8096a7ad-38c3-451c-be6e-00bfc112351e",
   "metadata": {},
   "source": [
    "# 2. Explore available skymaps"
   ]
  },
  {
   "cell_type": "markdown",
   "id": "95d2a9ac-2395-40a1-af0d-dc9fec79b185",
   "metadata": {},
   "source": [
    "Select the maps for this galaxy:"
   ]
  },
  {
   "cell_type": "code",
   "execution_count": 8,
   "id": "56e36b83-16c4-421a-87f3-47c3389915bd",
   "metadata": {},
   "outputs": [
    {
     "data": {
      "application/vnd.jupyter.widget-view+json": {
       "model_id": "826706008abc489b8bccfcc7b445afb5",
       "version_major": 2,
       "version_minor": 0
      },
      "text/plain": [
       "interactive(children=(BoundedIntText(value=0, description='galaxy_index', max=323), Combobox(value='ESAVO/P/HE…"
      ]
     },
     "metadata": {},
     "output_type": "display_data"
    },
    {
     "data": {
      "application/vnd.jupyter.widget-view+json": {
       "model_id": "b78896ae6bc74265b842b93ab417c88c",
       "version_major": 2,
       "version_minor": 0
      },
      "image/png": "[encoded data removed]",
      "text/html": [
       "\n",
       "            <div style=\"display: inline-block;\">\n",
       "                <div class=\"jupyter-widgets widget-label\" style=\"text-align: center;\">\n",
       "                    AstroBrowser Data Explorer -- Notebook edition\n",
       "                </div>\n",
       "                <img src='data:image/png;base64,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' width=1200.0/>\n",
       "            </div>\n",
       "        "
      ],
      "text/plain": [
       "Canvas(toolbar=Toolbar(toolitems=[('Home', 'Reset original view', 'home', 'home'), ('Back', 'Back to previous …"
      ]
     },
     "metadata": {},
     "output_type": "display_data"
    }
   ],
   "source": [
    "importlib.reload(astrobrowser)\n",
    "x = astrobrowser.DataExplorer(catalogue, 'ESAVO/P/HERSCHEL/PACS160')"
   ]
  },
  {
   "cell_type": "code",
   "execution_count": 11,
   "id": "f659a935-b303-4aae-a5a1-037efcb22b68",
   "metadata": {},
   "outputs": [
    {
     "data": {
      "text/plain": [
       "[<matplotlib.patches.Ellipse at 0x7ff70d9d4520>]"
      ]
     },
     "execution_count": 11,
     "metadata": {},
     "output_type": "execute_result"
    }
   ],
   "source": [
    "galaxy = HRS_catalogue[x.galaxy_index]\n",
    "position = SkyCoord(galaxy['R.A.__J.2000_'], galaxy['Dec__J.2000_'],  unit=(u.hourangle, u.deg))\n",
    "aperture = SkyEllipticalAperture(position, a=galaxy['a']*u.arcsec, b=galaxy['b']*u.arcsec, theta=-galaxy['P.A.']*u.deg)  # Why do I have to invert PA?\n",
    "pixel_aperture = aperture.to_pixel(x.wcs)\n",
    "pixel_aperture.positions = [np.array(x.data.shape) / 2]  # dirty fix\n",
    "pixel_aperture.plot(x.ax1)"
   ]
  },
  {
   "cell_type": "code",
   "execution_count": 23,
   "id": "b094e335-8a31-4253-9ed6-929bc5dede45",
   "metadata": {},
   "outputs": [
    {
     "name": "stdout",
     "output_type": "stream",
     "text": [
      "area = 10780.62, mean(0.0216) - bg (0.0197) = 0.00191 +- 0.000777\n",
      "flux = 20.6 +- 8.37 (233)\n",
      "catalogue 18.583 1.787 1.1086528021372188\n"
     ]
    }
   ],
   "source": [
    "flux = pixel_aperture.do_photometry(x.data)[0][0]\n",
    "mean = flux / pixel_aperture.area\n",
    "source_mask = np.nanmedian(x.data)\n",
    "source_mask += np.sqrt(np.nanmean((x.data - source_mask)**2))\n",
    "x.ax1.contour(x.data, levels=[source_mask], colors=['y'])\n",
    "\n",
    "bg = np.nanmedian(x.data[x.data < source_mask])\n",
    "#bg_err = np.sqrt(np.nanmean((bg - x.data[x.data < bg])**2))\n",
    "bg_err = bg - np.nanmedian(x.data[x.data < bg])\n",
    "x.ax1_cb.axhline(source_mask, c='y')\n",
    "x.ax1_cb.axhline(bg+bg_err, c='k', ls=':')\n",
    "x.ax1_cb.axhline(bg, c='k')\n",
    "x.ax1_cb.axhline(bg-bg_err, c='k', ls=':')\n",
    "\n",
    "#scale = (3.2/catalogue[x.galaxy_index]['PIXEL_SIZE_ARCSEC'])**2\n",
    "scale = 1\n",
    "corrected_flux = flux - bg*pixel_aperture.area\n",
    "print(f'area = {pixel_aperture.area:.2f}, mean({mean:.3g}) - bg ({bg:.3g}) = {mean-bg:.3g} +- {bg_err:.3g}')\n",
    "print(f'flux = {corrected_flux:.3g} +- {bg_err*pixel_aperture.area:.3g} ({flux:.3g})')\n",
    "#print(f'masked = {np.sum(x.data[x.data > source_mask]) - bg*np.count_nonzero(x.data > source_mask):.3g} ({np.sum(x.data[x.data > source_mask]):.3g})')\n",
    "#print(f'scaled = {corrected_flux*scale:.3g} +- {bg_err*(pixel_aperture.area)*scale:.3g}')\n",
    "print('catalogue', galaxy['F_160'], galaxy['sigma_160'], corrected_flux*scale/galaxy['F_160'])"
   ]
  },
  {
   "cell_type": "code",
   "execution_count": 13,
   "id": "58d83db7-8e3d-4ee0-ba9d-0403781c9852",
   "metadata": {},
   "outputs": [
    {
     "data": {
      "text/plain": [
       "(1503.7872867642782, 949.9820243902501)"
      ]
     },
     "execution_count": 13,
     "metadata": {},
     "output_type": "execute_result"
    }
   ],
   "source": [
    "pixel_aperture.area, pixel_aperture.area_overlap(x.data)"
   ]
  },
  {
   "cell_type": "code",
   "execution_count": 14,
   "id": "ab05c9f6-068e-4ec5-aa06-4572d5e1f521",
   "metadata": {},
   "outputs": [
    {
     "data": {
      "text/plain": [
       "(<SkyCoord (ICRS): (ra, dec) in deg\n",
       "     (155.23804167, 25.36483333)>,\n",
       " array([[66., 66.]]),\n",
       " (66, 66))"
      ]
     },
     "execution_count": 14,
     "metadata": {},
     "output_type": "execute_result"
    }
   ],
   "source": [
    "aperture.positions, pixel_aperture.positions*2, x.data.shape"
   ]
  },
  {
   "cell_type": "code",
   "execution_count": 13,
   "id": "2cb22773-27d1-4862-8a82-a1a37e3b6a83",
   "metadata": {},
   "outputs": [
    {
     "data": {
      "text/html": [
       "<i>Row index=1</i>\n",
       "<table id=\"table140700853657168\">\n",
       "<thead><tr><th>HRS</th><th>CGCG</th><th>VCC</th><th>UGC</th><th>NGC</th><th>IC</th><th>R.A.__J.2000_</th><th>Dec__J.2000_</th><th>Type</th><th>FLAG_100</th><th>F_100</th><th>sigma_100</th><th>FLAG_160</th><th>F_160</th><th>sigma_160</th><th>a</th><th>b</th><th>P.A.</th><th>Proposal_ID</th></tr></thead>\n",
       "<thead><tr><th></th><th></th><th></th><th></th><th></th><th></th><th>hms</th><th>dms</th><th></th><th></th><th>Jy</th><th>Jy</th><th></th><th>Jy</th><th>Jy</th><th>arcsec</th><th>arcsec</th><th>deg</th><th></th></tr></thead>\n",
       "<thead><tr><th>int16</th><th>str7</th><th>int16</th><th>int16</th><th>int16</th><th>int16</th><th>str11</th><th>str11</th><th>int16</th><th>int16</th><th>float32</th><th>float32</th><th>int16</th><th>float32</th><th>float32</th><th>float32</th><th>float32</th><th>float32</th><th>str29</th></tr></thead>\n",
       "<tr><td>2</td><td>124-004</td><td>0</td><td>5588</td><td>0</td><td>0</td><td>10:20:57.13</td><td>+25:21:53.4</td><td>5</td><td>1</td><td>2.439</td><td>0.227</td><td>1</td><td>2.808</td><td>0.179</td><td>47.0</td><td>45.0</td><td>40.0</td><td>OT1_lcortese_1</td></tr>\n",
       "</table>"
      ],
      "text/plain": [
       "<Row index=1>\n",
       " HRS    CGCG   VCC   UGC   NGC    IC  R.A.__J.2000_ Dec__J.2000_  Type FLAG_100  F_100  sigma_100 FLAG_160  F_160  sigma_160    a       b      P.A.   Proposal_ID  \n",
       "                                           hms          dms                        Jy       Jy                Jy       Jy     arcsec  arcsec   deg                 \n",
       "int16   str7  int16 int16 int16 int16     str11        str11     int16  int16   float32  float32   int16   float32  float32  float32 float32 float32     str29     \n",
       "----- ------- ----- ----- ----- ----- ------------- ------------ ----- -------- ------- --------- -------- ------- --------- ------- ------- ------- --------------\n",
       "    2 124-004     0  5588     0     0   10:20:57.13  +25:21:53.4     5        1   2.439     0.227        1   2.808     0.179    47.0    45.0    40.0 OT1_lcortese_1"
      ]
     },
     "execution_count": 13,
     "metadata": {},
     "output_type": "execute_result"
    }
   ],
   "source": [
    "galaxy"
   ]
  },
  {
   "cell_type": "code",
   "execution_count": 12,
   "id": "e943bd19-6c7a-4ad4-9d60-464484d9970a",
   "metadata": {},
   "outputs": [
    {
     "data": {
      "text/plain": [
       "SIMPLE  = T                                                                     \n",
       "BITPIX  = -64                                                                   \n",
       "BSCALE  = 1                                                                     \n",
       "BZERO   = 0                                                                     \n",
       "NAXIS   = 2                                                                     \n",
       "NAXIS1  = 66                                                                    \n",
       "NAXIS2  = 66                                                                    \n",
       "CTYPE1  = 'RA---MER'                                                            \n",
       "CTYPE2  = 'DEC--MER'                                                            \n",
       "CDELT1  = 0.0007916666666666666                                                 \n",
       "CDELT2  = 0.0007916666666666666                                                 \n",
       "CRPIX1  = 33                                                                    \n",
       "CRPIX2  = 33                                                                    \n",
       "CRVAL1  = 155.21193055555554                                                    \n",
       "CRVAL2  = 25.364847222222224                                                    \n",
       "DATAMIN = 0.011771662390959874                                                  \n",
       "DATAMAX = 0.06954728713228403                                                   \n",
       "ORIGIN  = 'WCSLight v.0.x'                                                      \n",
       "COMMENT   'WCSLight v0.x developed by F.Giordano and Y.Ascasibar'               "
      ]
     },
     "execution_count": 12,
     "metadata": {},
     "output_type": "execute_result"
    }
   ],
   "source": [
    "x.header"
   ]
  },
  {
   "cell_type": "code",
   "execution_count": 15,
   "id": "95e59115-de78-4087-acae-aca40b39b72c",
   "metadata": {},
   "outputs": [
    {
     "data": {
      "text/plain": [
       "2.85"
      ]
     },
     "execution_count": 15,
     "metadata": {},
     "output_type": "execute_result"
    }
   ],
   "source": [
    "x.header['CDELT1']*3600"
   ]
  },
  {
   "cell_type": "code",
   "execution_count": null,
   "id": "51030436-fa31-4990-8507-c5e7e6b2033e",
   "metadata": {},
   "outputs": [],
   "source": []
  }
 ],
 "metadata": {
  "kernelspec": {
   "display_name": "Python 3 (ipykernel)",
   "language": "python",
   "name": "python3"
  },
  "language_info": {
   "codemirror_mode": {
    "name": "ipython",
    "version": 3
   },
   "file_extension": ".py",
   "mimetype": "text/x-python",
   "name": "python",
   "nbconvert_exporter": "python",
   "pygments_lexer": "ipython3",
   "version": "3.8.10"
  }
 },
 "nbformat": 4,
 "nbformat_minor": 5
}
