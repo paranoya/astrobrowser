{
 "cells": [
  {
   "cell_type": "markdown",
   "id": "2cc06681-73a0-4f6d-b7a4-0ee71e3eaa84",
   "metadata": {},
   "source": [
    "# Astrobrowser - Herschel Reference Survey\n",
    "\n",
    "Explore the HiPS maps available for the galaxies in the HRS and compute aperture photometry."
   ]
  },
  {
   "cell_type": "markdown",
   "id": "41ed600e-fa52-4ba8-8cf1-ca38e9edf1e8",
   "metadata": {},
   "source": [
    "# 1. Initialisation"
   ]
  },
  {
   "cell_type": "code",
   "execution_count": null,
   "id": "61292891-5bd2-4ff5-96a7-0b8607b89eb3",
   "metadata": {},
   "outputs": [],
   "source": [
    "%matplotlib ipympl\n",
    "import os\n",
    "import numpy as np\n",
    "from matplotlib import pyplot as plt\n",
    "from matplotlib.backends.backend_pdf import PdfPages\n",
    "from astropy.coordinates import SkyCoord\n",
    "from astropy.wcs import WCS\n",
    "from astropy.table import Table\n",
    "from astropy import units as u\n",
    "from scripts import astrobrowser\n",
    "from photutils.aperture import SkyEllipticalAperture\n",
    "import importlib"
   ]
  },
  {
   "cell_type": "markdown",
   "id": "a496e0d3-55b5-467d-bc3b-992fbd0af11e",
   "metadata": {},
   "source": [
    "## Read input catalogue"
   ]
  },
  {
   "cell_type": "code",
   "execution_count": null,
   "id": "00b6a76f-f702-4163-b15e-3ff74c352a8e",
   "metadata": {},
   "outputs": [],
   "source": [
    "HRS_catalogue = Table.read(os.path.join('HRS', 'cortese_2014_table2.vot'))"
   ]
  },
  {
   "cell_type": "code",
   "execution_count": null,
   "id": "93999831-c2ea-4457-8830-47f8c25fd0bf",
   "metadata": {},
   "outputs": [],
   "source": [
    "HRS_catalogue"
   ]
  },
  {
   "cell_type": "markdown",
   "id": "a9807077-5eca-4728-a40f-ab90a1e0134a",
   "metadata": {},
   "source": [
    "# 2. Aperture photometry"
   ]
  },
  {
   "cell_type": "markdown",
   "id": "61e939e9-89d2-4738-ba66-ebae74045d5e",
   "metadata": {},
   "source": [
    "Consider only the first $n$ galaxies (for debugging)"
   ]
  },
  {
   "cell_type": "code",
   "execution_count": null,
   "id": "74a50386-3020-4aa5-aaae-720a42897a37",
   "metadata": {},
   "outputs": [],
   "source": [
    "n = len(HRS_catalogue)\n",
    "n = 3\n",
    "print(f'Considering the first {n} galaxies')"
   ]
  },
  {
   "cell_type": "code",
   "execution_count": null,
   "id": "7addde79-1d55-47fc-97c6-d4d4a1409113",
   "metadata": {
    "tags": []
   },
   "outputs": [],
   "source": [
    "def find_bg(data):\n",
    "    p16, p50 = np.nanpercentile(data, [16, 50])\n",
    "    mu0 = p50\n",
    "    sigma0 = p50 - p16\n",
    "    weight = np.exp(-.5 * ((data - mu0) / sigma0)**2)\n",
    "    total_weight = np.nansum(weight)\n",
    "    mu1 = np.nansum(weight * data) / total_weight\n",
    "    sigma1 = np.nansum(weight * data**2) / total_weight\n",
    "    sigma1 = np.sqrt(sigma1 - mu1**2)\n",
    "    print(mu0, sigma0)\n",
    "    print(mu1, sigma1)\n",
    "    #ivar = 1/sigma1**2 - 1/sigma0**2\n",
    "    #mu = (mu1/sigma1**2 - mu0/sigma0**2) / ivar\n",
    "    #print(mu, np.sqrt(1/ivar))\n",
    "    #return mu, np.sqrt(1/ivar)\n",
    "    return mu1, sigma1\n",
    "    \n",
    "\n",
    "importlib.reload(astrobrowser)\n",
    "band = 'PACS160'\n",
    "hips_service_url = 'http://skies.esac.esa.int/Herschel/PACS160'\n",
    "beam = (2.85 * u.arcsec)**2\n",
    "skymap_units = u.Jy / beam\n",
    "\n",
    "pixel_arcsec = 2.\n",
    "pixel_area = (pixel_arcsec * u.arcsec)**2  # cos(DEC) due to Mercator projection added below\n",
    "unit_conversion = (skymap_units * pixel_area).to_value(u.Jy)\n",
    "\n",
    "with PdfPages(os.path.join('HRS', 'output', f'{band}_maps.pdf')) as pdf:\n",
    "    flux_Jy = []\n",
    "    flux_err_Jy = []\n",
    "    for galaxy in HRS_catalogue[:n]:\n",
    "    \n",
    "        position = SkyCoord(galaxy['R.A.__J.2000_'], galaxy['Dec__J.2000_'],  unit=(u.hourangle, u.deg))\n",
    "        radius_arcsec = 2 * galaxy['a']\n",
    "        print(f\"> Downloading HRS-{galaxy['HRS']}:\")\n",
    "        header, data = astrobrowser.get_cutout(hips_service_url, position.ra.deg, position.dec.deg, radius_arcsec, pixel_arcsec)\n",
    "        if header is None:\n",
    "            flux_Jy.append(np.nan)\n",
    "            flux_err_Jy.append(np.nan)\n",
    "            continue\n",
    "        wcs = WCS(header)\n",
    "\n",
    "        aperture = SkyEllipticalAperture(position, a=galaxy['a']*u.arcsec, b=galaxy['b']*u.arcsec, theta=-galaxy['P.A.']*u.deg)  # Why do I have to invert PA?\n",
    "        pixel_aperture = aperture.to_pixel(wcs)\n",
    "        pixel_aperture.positions = [np.array(data.shape) / 2]  # dirty fix\n",
    "\n",
    "        flux = pixel_aperture.do_photometry(data)[0][0]\n",
    "        mean = flux / pixel_aperture.area\n",
    "        bg, bg_err = find_bg(data)\n",
    "\n",
    "        corrected_flux = flux - bg*pixel_aperture.area\n",
    "        corrected_flux *= unit_conversion * np.cos(position.dec)\n",
    "        flux_err = bg_err * pixel_aperture.area * unit_conversion * np.cos(position.dec)\n",
    "        print(f'area = {pixel_aperture.area:.2f}, mean({mean:.3g}) - bg ({bg:.3g}) = {mean-bg:.3g} +- {bg_err:.3g}')\n",
    "        print(f'flux = {corrected_flux:.3g} +- {flux_err:.3g} ({flux:.3g})')\n",
    "        print('catalogue', galaxy['F_160'], galaxy['sigma_160'], corrected_flux/galaxy['F_160'])\n",
    "        flux_Jy.append(corrected_flux)\n",
    "        flux_err_Jy.append(flux_err)\n",
    "        \n",
    "        plt.figure()\n",
    "        plt.title(f\"HRS-{galaxy['HRS']} {band}: ${corrected_flux:.3g} \\pm {flux_err:.3g}\\ ({galaxy['F_160']:.3g} \\pm {galaxy['sigma_160']:.3g})$ Jy\")\n",
    "        im = plt.imshow(data, interpolation='nearest', origin='lower', vmin=bg-bg_err, vmax=mean+bg_err, cmap='terrain')\n",
    "        plt.contour(data, levels=[mean], colors=['k'])\n",
    "        pixel_aperture.plot(color='w')\n",
    "        cb = plt.colorbar(im)\n",
    "        cb.ax.axhline(mean, c='w')\n",
    "        cb.ax.axhline(mean, c='k')\n",
    "        cb.ax.axhline(bg + bg_err, c='w', ls=':')\n",
    "        cb.ax.axhline(bg, c='w', ls='--')\n",
    "        cb.ax.axhline(bg - bg_err, c='w', ls=':')\n",
    "        pdf.savefig()\n",
    "        plt.close()"
   ]
  },
  {
   "cell_type": "code",
   "execution_count": null,
   "id": "0773ad5c-fd1a-4e15-b047-db430557122e",
   "metadata": {},
   "outputs": [],
   "source": [
    "n = len(flux_Jy)\n",
    "with PdfPages(os.path.join('HRS', 'output', f'{band}_summary.pdf')) as pdf:\n",
    "    plt.figure()\n",
    "    plt.errorbar(HRS_catalogue['F_160'][:n], flux_Jy, flux_err_Jy, HRS_catalogue['sigma_160'][:n], fmt='none', alpha=.2)\n",
    "    plt.grid(alpha=.2)\n",
    "    x = [np.min(HRS_catalogue['F_160']), np.max(HRS_catalogue['F_160'])]\n",
    "    plt.plot(x, x, 'k:')\n",
    "    plt.xscale('log')\n",
    "    plt.yscale('log')\n",
    "    plt.ylim(x)\n",
    "    plt.title(band)\n",
    "    plt.ylabel('flux measured from HiPS map [Jy]')\n",
    "    plt.xlabel('HRS flux [Jy]')\n",
    "    pdf.savefig()\n",
    "    plt.close()\n",
    "\n",
    "    plt.figure()\n",
    "    x = np.array(flux_Jy / HRS_catalogue['F_160'][:n])\n",
    "    p16, p50, p84 = np.nanpercentile(x.data, [16, 50, 84])\n",
    "    plt.hist(x, bins=np.logspace(-1, 1, 50), density=False, alpha=.5)\n",
    "    plt.axvline(p50, c='k', ls='--', label=f'[{p16:.3g}, {p50:.3g}, {p84:.3g}]')\n",
    "    plt.axvline(p16, c='k', ls=':')\n",
    "    plt.axvline(p84, c='k', ls=':')\n",
    "    plt.xscale('log')\n",
    "    plt.grid(alpha=.2)\n",
    "    plt.title(band)\n",
    "    plt.xlabel('HiPS / HRS')\n",
    "    plt.ylabel('number of galaxies')\n",
    "    #plt.ylabel('probability')\n",
    "    plt.legend()\n",
    "    pdf.savefig()\n",
    "    plt.close()\n",
    "    \n",
    "    plt.figure()\n",
    "    x = np.array((flux_Jy - HRS_catalogue['F_160'][:n]) / flux_err_Jy)\n",
    "    mu = np.nanmean(x)\n",
    "    sigma = np.nanstd(x)\n",
    "    p16, p50, p84 = np.nanpercentile(x.data, [16, 50, 84])\n",
    "    plt.axvline(p16, c='b', ls=':')\n",
    "    plt.axvline(p50, c='b', ls='--')\n",
    "    plt.axvline(p84, c='b', ls=':')\n",
    "    plt.hist(x, bins=np.linspace(-5, 5, 50), density=False, label=f'HiPS error: [{p16:.3g}, {p50:.3g}, {p84:.3g}]', alpha=.5)\n",
    "    x = np.array((flux_Jy - HRS_catalogue['F_160'][:n]) / HRS_catalogue['sigma_160'][:n])\n",
    "    mu = np.nanmean(x)\n",
    "    sigma = np.nanstd(x)\n",
    "    p16, p50, p84 = np.nanpercentile(x.data, [16, 50, 84])\n",
    "    plt.axvline(p16, c='r', ls=':')\n",
    "    plt.axvline(p50, c='r', ls='--')\n",
    "    plt.axvline(p84, c='r', ls=':')\n",
    "    plt.hist(x, bins=np.linspace(-5, 5, 50), density=False, label=f'HRS error: [{p16:.3g}, {p50:.3g}, {p84:.3g}]', alpha=.5)\n",
    "    plt.grid(alpha=.2)\n",
    "    plt.title(band)\n",
    "    plt.xlabel('(HiPS - HRS) / error')\n",
    "    plt.ylabel('number of galaxies')\n",
    "    plt.legend()\n",
    "    pdf.savefig()\n",
    "    plt.close()"
   ]
  },
  {
   "cell_type": "markdown",
   "id": "81267a49-26c0-4757-a5ed-603d07a7adf1",
   "metadata": {},
   "source": [
    "# -- OLD STUFF --"
   ]
  },
  {
   "cell_type": "code",
   "execution_count": null,
   "id": "729450ea-4b47-4b55-b97f-6d9d99cc0161",
   "metadata": {},
   "outputs": [],
   "source": [
    "raise -1  # STOP HERE"
   ]
  },
  {
   "cell_type": "code",
   "execution_count": null,
   "id": "ab9a04f5-2215-4587-812d-bd5cf84fd5ee",
   "metadata": {},
   "outputs": [],
   "source": [
    "names = [f'HRS-{ID:03d}' for ID in HRS_catalogue['HRS']]"
   ]
  },
  {
   "cell_type": "code",
   "execution_count": null,
   "id": "5ee5d528-00a3-4289-bd15-1368fa168410",
   "metadata": {},
   "outputs": [],
   "source": [
    "positions = SkyCoord(HRS_catalogue['R.A.__J.2000_'], HRS_catalogue['Dec__J.2000_'],  unit=(u.hourangle, u.deg))"
   ]
  },
  {
   "cell_type": "code",
   "execution_count": null,
   "id": "9de6cba1-66cd-4d39-adb6-1ff66dd365b9",
   "metadata": {},
   "outputs": [],
   "source": [
    "catalogue = Table([names,\n",
    "                   positions.ra.deg,\n",
    "                   positions.dec.deg,\n",
    "                   2 * HRS_catalogue['a'],\n",
    "                   2.85 * np.ones(len(HRS_catalogue))\n",
    "                  ], names=['ID', 'RA', 'DEC', 'RADIUS_ARCSEC', 'PIXEL_SIZE_ARCSEC'])"
   ]
  },
  {
   "cell_type": "code",
   "execution_count": null,
   "id": "6048648f-4b79-40a2-89e9-d4677caf4df1",
   "metadata": {},
   "outputs": [],
   "source": [
    "catalogue"
   ]
  },
  {
   "cell_type": "markdown",
   "id": "8096a7ad-38c3-451c-be6e-00bfc112351e",
   "metadata": {},
   "source": [
    "# 2. Explore available skymaps"
   ]
  },
  {
   "cell_type": "markdown",
   "id": "95d2a9ac-2395-40a1-af0d-dc9fec79b185",
   "metadata": {},
   "source": [
    "Select the maps for this galaxy:"
   ]
  },
  {
   "cell_type": "code",
   "execution_count": null,
   "id": "56e36b83-16c4-421a-87f3-47c3389915bd",
   "metadata": {},
   "outputs": [],
   "source": [
    "importlib.reload(astrobrowser)\n",
    "x = astrobrowser.DataExplorer(catalogue, 'ESAVO/P/HERSCHEL/PACS160')"
   ]
  },
  {
   "cell_type": "code",
   "execution_count": null,
   "id": "f659a935-b303-4aae-a5a1-037efcb22b68",
   "metadata": {},
   "outputs": [],
   "source": [
    "galaxy = HRS_catalogue[x.galaxy_index]\n",
    "position = SkyCoord(galaxy['R.A.__J.2000_'], galaxy['Dec__J.2000_'],  unit=(u.hourangle, u.deg))\n",
    "aperture = SkyEllipticalAperture(position, a=galaxy['a']*u.arcsec, b=galaxy['b']*u.arcsec, theta=-galaxy['P.A.']*u.deg)  # Why do I have to invert PA?\n",
    "pixel_aperture = aperture.to_pixel(x.wcs)\n",
    "pixel_aperture.positions = [np.array(x.data.shape) / 2]  # dirty fix\n",
    "pixel_aperture.plot(x.ax1)"
   ]
  },
  {
   "cell_type": "code",
   "execution_count": null,
   "id": "b094e335-8a31-4253-9ed6-929bc5dede45",
   "metadata": {},
   "outputs": [],
   "source": [
    "flux = pixel_aperture.do_photometry(x.data)[0][0]\n",
    "mean = flux / pixel_aperture.area\n",
    "source_mask = np.nanmedian(x.data)\n",
    "source_mask += np.sqrt(np.nanmean((x.data - source_mask)**2))\n",
    "x.ax1.contour(x.data, levels=[source_mask], colors=['y'])\n",
    "\n",
    "bg = np.nanmedian(x.data[x.data < source_mask])\n",
    "#bg_err = np.sqrt(np.nanmean((bg - x.data[x.data < bg])**2))\n",
    "bg_err = bg - np.nanmedian(x.data[x.data < bg])\n",
    "x.ax1_cb.axhline(source_mask, c='y')\n",
    "x.ax1_cb.axhline(bg+bg_err, c='k', ls=':')\n",
    "x.ax1_cb.axhline(bg, c='k')\n",
    "x.ax1_cb.axhline(bg-bg_err, c='k', ls=':')\n",
    "\n",
    "#scale = (3.2/catalogue[x.galaxy_index]['PIXEL_SIZE_ARCSEC'])**2\n",
    "scale = 1\n",
    "corrected_flux = flux - bg*pixel_aperture.area\n",
    "print(f'area = {pixel_aperture.area:.2f}, mean({mean:.3g}) - bg ({bg:.3g}) = {mean-bg:.3g} +- {bg_err:.3g}')\n",
    "print(f'flux = {corrected_flux:.3g} +- {bg_err*pixel_aperture.area:.3g} ({flux:.3g})')\n",
    "#print(f'masked = {np.sum(x.data[x.data > source_mask]) - bg*np.count_nonzero(x.data > source_mask):.3g} ({np.sum(x.data[x.data > source_mask]):.3g})')\n",
    "#print(f'scaled = {corrected_flux*scale:.3g} +- {bg_err*(pixel_aperture.area)*scale:.3g}')\n",
    "print('catalogue', galaxy['F_160'], galaxy['sigma_160'], corrected_flux*scale/galaxy['F_160'])"
   ]
  },
  {
   "cell_type": "code",
   "execution_count": null,
   "id": "58d83db7-8e3d-4ee0-ba9d-0403781c9852",
   "metadata": {},
   "outputs": [],
   "source": [
    "pixel_aperture.area, pixel_aperture.area_overlap(x.data)"
   ]
  },
  {
   "cell_type": "code",
   "execution_count": null,
   "id": "ab05c9f6-068e-4ec5-aa06-4572d5e1f521",
   "metadata": {},
   "outputs": [],
   "source": [
    "aperture.positions, pixel_aperture.positions*2, x.data.shape"
   ]
  },
  {
   "cell_type": "code",
   "execution_count": null,
   "id": "2cb22773-27d1-4862-8a82-a1a37e3b6a83",
   "metadata": {},
   "outputs": [],
   "source": [
    "galaxy"
   ]
  },
  {
   "cell_type": "code",
   "execution_count": null,
   "id": "e943bd19-6c7a-4ad4-9d60-464484d9970a",
   "metadata": {},
   "outputs": [],
   "source": [
    "x.header"
   ]
  },
  {
   "cell_type": "code",
   "execution_count": null,
   "id": "95e59115-de78-4087-acae-aca40b39b72c",
   "metadata": {},
   "outputs": [],
   "source": [
    "x.header['CDELT1']*3600"
   ]
  },
  {
   "cell_type": "code",
   "execution_count": null,
   "id": "51030436-fa31-4990-8507-c5e7e6b2033e",
   "metadata": {},
   "outputs": [],
   "source": []
  }
 ],
 "metadata": {
  "kernelspec": {
   "display_name": "Python 3 (ipykernel)",
   "language": "python",
   "name": "python3"
  },
  "language_info": {
   "codemirror_mode": {
    "name": "ipython",
    "version": 3
   },
   "file_extension": ".py",
   "mimetype": "text/x-python",
   "name": "python",
   "nbconvert_exporter": "python",
   "pygments_lexer": "ipython3",
   "version": "3.8.10"
  }
 },
 "nbformat": 4,
 "nbformat_minor": 5
}
