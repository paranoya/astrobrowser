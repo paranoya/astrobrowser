{
 "cells": [
  {
   "cell_type": "markdown",
   "id": "2cc06681-73a0-4f6d-b7a4-0ee71e3eaa84",
   "metadata": {},
   "source": [
    "# Astrobrowser - Spitzer Photometry and Accurate Rotation Curves (SPARC)\n",
    "\n",
    "Retrieve flux-calibrated photometric images in SDSS $g$, $r$, and $i$ bands (based on Giordano et al. zero points) and derive surface brightness profiles."
   ]
  },
  {
   "cell_type": "markdown",
   "id": "41ed600e-fa52-4ba8-8cf1-ca38e9edf1e8",
   "metadata": {},
   "source": [
    "# 1. Initialisation"
   ]
  },
  {
   "cell_type": "markdown",
   "id": "e1a0c2fc-41ee-468c-aa65-d8a5c988a893",
   "metadata": {},
   "source": [
    "External libraries"
   ]
  },
  {
   "cell_type": "code",
   "execution_count": 1,
   "id": "61292891-5bd2-4ff5-96a7-0b8607b89eb3",
   "metadata": {},
   "outputs": [],
   "source": [
    "#%matplotlib ipympl\n",
    "import os\n",
    "import numpy as np\n",
    "from scipy import ndimage\n",
    "from matplotlib import pyplot as plt\n",
    "from matplotlib import colors\n",
    "from matplotlib.ticker import AutoMinorLocator\n",
    "from matplotlib.backends.backend_pdf import PdfPages\n",
    "from astropy.coordinates import SkyCoord, get_icrs_coordinates\n",
    "from astropy.io import fits\n",
    "from astropy.wcs import WCS\n",
    "from astropy.table import QTable\n",
    "from astropy import units as u\n",
    "from astropy import constants as c\n",
    "#from photutils.aperture import EllipticalAperture, EllipticalAnnulus\n",
    "#from photutils.isophote import EllipseGeometry, Ellipse\n",
    "from scripts import astrobrowser"
   ]
  },
  {
   "cell_type": "code",
   "execution_count": 2,
   "id": "a3478502-66cf-459f-bf54-03a86d753428",
   "metadata": {},
   "outputs": [],
   "source": [
    "%load_ext autoreload\n",
    "%autoreload 2"
   ]
  },
  {
   "cell_type": "markdown",
   "id": "bb2fac8e-f47e-41be-ab0d-1479221dc6ca",
   "metadata": {},
   "source": [
    "Utility functions"
   ]
  },
  {
   "cell_type": "code",
   "execution_count": 3,
   "id": "026f255f-12c0-4ec4-9bda-1f4acf5fadd4",
   "metadata": {},
   "outputs": [
    {
     "data": {
      "text/plain": [
       "<contextlib.ExitStack at 0x7f680052e430>"
      ]
     },
     "execution_count": 3,
     "metadata": {},
     "output_type": "execute_result"
    }
   ],
   "source": [
    "show_plots = True\n",
    "show_plots = False\n",
    "plt.ioff()"
   ]
  },
  {
   "cell_type": "code",
   "execution_count": 4,
   "id": "1a79a9b3-8073-4a9b-a708-a50d982161e7",
   "metadata": {},
   "outputs": [],
   "source": [
    "def new_figure(fig_name, figsize=(12, 8), nrows=1, ncols=1, sharex='col', sharey='row', gridspec_kw={'hspace': 0, 'wspace': 0}, suptitle=True):\n",
    "    plt.close(fig_name)\n",
    "    fig = plt.figure(fig_name, figsize=figsize, layout=\"constrained\")\n",
    "    axes = fig.subplots(nrows=nrows, ncols=ncols, squeeze=False,\n",
    "                        sharex=sharex, sharey=sharey,\n",
    "                        gridspec_kw=gridspec_kw\n",
    "                       )\n",
    "    #fig.set_tight_layout(True)\n",
    "    for ax in axes.flat:\n",
    "        ax.xaxis.set_minor_locator(AutoMinorLocator())\n",
    "        ax.yaxis.set_minor_locator(AutoMinorLocator())\n",
    "        ax.tick_params(which='both', bottom=True, top=True, left=True, right=True)\n",
    "        ax.tick_params(which='major', direction='inout', length=8, grid_alpha=.3)\n",
    "        ax.tick_params(which='minor', direction='in', length=2, grid_alpha=.1)\n",
    "        ax.grid(True, which='both')\n",
    "\n",
    "    if suptitle is True:\n",
    "        fig.suptitle(fig_name)\n",
    "    elif suptitle is not False and suptitle is not None:\n",
    "        fig.suptitle(suptitle)\n",
    "    \n",
    "    return fig, axes"
   ]
  },
  {
   "cell_type": "code",
   "execution_count": 5,
   "id": "20e01fc6-4f57-4061-8557-a208edcec31d",
   "metadata": {},
   "outputs": [],
   "source": [
    "def draw_ellipse(ax, x0, y0, a, b, pa):\n",
    "    theta = np.linspace(0, 2*np.pi, 361)\n",
    "    along_major_axis = a*np.cos(theta)\n",
    "    along_minor_axis = b*np.sin(theta)\n",
    "    ra = x0 + along_major_axis * np.cos(pa + np.pi/2) + along_minor_axis *np.cos(pa + np.pi)\n",
    "    dec = y0 + along_major_axis * np.sin(pa + np.pi/2) + along_minor_axis *np.sin(pa + np.pi)\n",
    "    ax.plot(ra, dec, 'k--')"
   ]
  },
  {
   "cell_type": "code",
   "execution_count": 6,
   "id": "c3663f56-74e8-49ad-a50b-9f7cec465a3b",
   "metadata": {},
   "outputs": [],
   "source": [
    "def test_dir(dir_name):\n",
    "    if not os.path.isdir(dir_name):\n",
    "        print(f'>> WARNING: Creating directory \"{dir_name}\"')\n",
    "        os.makedirs(dir_name)\n",
    "    return(dir_name)"
   ]
  },
  {
   "cell_type": "markdown",
   "id": "e500eb26-0181-4dc7-a001-f3f22bb08617",
   "metadata": {},
   "source": [
    "Directories"
   ]
  },
  {
   "cell_type": "code",
   "execution_count": 7,
   "id": "cebb84f6-4696-4791-91ff-abfce7fd0310",
   "metadata": {},
   "outputs": [],
   "source": [
    "input_dir = 'SPARC'\n",
    "output_dir = test_dir(os.path.join(input_dir, 'output'))\n",
    "maps_dir = test_dir(os.path.join(output_dir, 'maps'))\n",
    "plots_dir = test_dir(os.path.join(output_dir, 'plots'))\n",
    "profiles_dir = test_dir(os.path.join(output_dir, 'profiles'))\n"
   ]
  },
  {
   "cell_type": "markdown",
   "id": "a9807077-5eca-4728-a40f-ab90a1e0134a",
   "metadata": {},
   "source": [
    "# 2. Observations"
   ]
  },
  {
   "cell_type": "markdown",
   "id": "89d83e15-b10e-459c-96a8-e99508fa58ea",
   "metadata": {},
   "source": [
    "## SPARC catalogue\n",
    "I had to edit the file a bit to conform to the Machine Readable Table (MRT) format"
   ]
  },
  {
   "cell_type": "code",
   "execution_count": 8,
   "id": "42552734-81fb-4399-a9bd-b75fde71bd7f",
   "metadata": {},
   "outputs": [],
   "source": [
    "SPARC_catalogue = QTable.read(os.path.join(input_dir, 'SPARC_clean.mrt'), format='mrt')"
   ]
  },
  {
   "cell_type": "code",
   "execution_count": 9,
   "id": "84a3070c-c744-4077-a628-988c75942274",
   "metadata": {
    "tags": []
   },
   "outputs": [
    {
     "data": {
      "text/html": [
       "<div><i>QTable length=32</i>\n",
       "<table id=\"table140082823855888\" class=\"table-striped table-bordered table-condensed\">\n",
       "<thead><tr><th>Galaxy</th><th>T</th><th>D</th><th>e_D</th><th>f_D</th><th>Inc</th><th>e_Inc</th><th>L[3.6]</th><th>e_L[3.6]</th><th>Reff</th><th>SBeff</th><th>Rdisk</th><th>SBdisk</th><th>MHI</th><th>RHI</th><th>Vflat</th><th>e_Vflat</th><th>Q</th><th>Ref.</th></tr></thead>\n",
       "<thead><tr><th></th><th></th><th>Mpc</th><th>Mpc</th><th></th><th>deg</th><th>deg</th><th>1e+09 Lsun</th><th>1e+09 Lsun</th><th>kpc</th><th>Lsun / pc2</th><th>kpc</th><th>Lsun / pc2</th><th>1e+09 Msun</th><th>kpc</th><th>km / s</th><th>km / s</th><th></th><th></th></tr></thead>\n",
       "<thead><tr><th>str8</th><th>int64</th><th>float64</th><th>float64</th><th>int64</th><th>float64</th><th>float64</th><th>float64</th><th>float64</th><th>float64</th><th>float64</th><th>float64</th><th>float64</th><th>float64</th><th>float64</th><th>float64</th><th>float64</th><th>int64</th><th>str9</th></tr></thead>\n",
       "<tr><td>UGC07125</td><td>9</td><td>19.8</td><td>5.9</td><td>1</td><td>90.0</td><td>3.0</td><td>2.712</td><td>0.08</td><td>3.92</td><td>28.11</td><td>3.38</td><td>103.0</td><td>4.629</td><td>23.04</td><td>65.2</td><td>2.1</td><td>1</td><td>Sw09,Sw02</td></tr>\n",
       "<tr><td>UGC07151</td><td>6</td><td>6.87</td><td>0.34</td><td>2</td><td>90.0</td><td>3.0</td><td>2.284</td><td>0.025</td><td>2.17</td><td>76.71</td><td>1.25</td><td>965.67</td><td>0.616</td><td>6.39</td><td>73.5</td><td>2.8</td><td>1</td><td>Sw09,Sw02</td></tr>\n",
       "<tr><td>UGC07232</td><td>10</td><td>2.83</td><td>0.17</td><td>2</td><td>59.0</td><td>5.0</td><td>0.113</td><td>0.002</td><td>0.46</td><td>83.34</td><td>0.29</td><td>227.42</td><td>0.046</td><td>1.54</td><td>0.0</td><td>0.0</td><td>2</td><td>Sw09,Sw02</td></tr>\n",
       "<tr><td>UGC07261</td><td>8</td><td>13.1</td><td>3.93</td><td>1</td><td>30.0</td><td>10.0</td><td>1.753</td><td>0.048</td><td>2.66</td><td>39.16</td><td>1.2</td><td>566.02</td><td>1.388</td><td>10.1</td><td>74.7</td><td>3.4</td><td>2</td><td>Sw09,Sw02</td></tr>\n",
       "<tr><td>UGC07323</td><td>8</td><td>8.0</td><td>2.4</td><td>1</td><td>47.0</td><td>3.0</td><td>4.109</td><td>0.042</td><td>3.26</td><td>61.49</td><td>2.26</td><td>283.68</td><td>0.722</td><td>7.14</td><td>0.0</td><td>0.0</td><td>1</td><td>Sw09,Sw02</td></tr>\n",
       "<tr><td>UGC07399</td><td>8</td><td>8.43</td><td>2.53</td><td>1</td><td>55.0</td><td>3.0</td><td>1.156</td><td>0.024</td><td>1.27</td><td>113.98</td><td>1.64</td><td>135.78</td><td>0.745</td><td>7.85</td><td>103.0</td><td>3.3</td><td>1</td><td>Sw09,Sw02</td></tr>\n",
       "<tr><td>...</td><td>...</td><td>...</td><td>...</td><td>...</td><td>...</td><td>...</td><td>...</td><td>...</td><td>...</td><td>...</td><td>...</td><td>...</td><td>...</td><td>...</td><td>...</td><td>...</td><td>...</td><td>...</td></tr>\n",
       "<tr><td>UGC11914</td><td>2</td><td>16.9</td><td>5.1</td><td>1</td><td>31.0</td><td>5.0</td><td>150.028</td><td>0.553</td><td>3.12</td><td>2425.66</td><td>2.44</td><td>3168.33</td><td>0.888</td><td>9.26</td><td>288.1</td><td>10.5</td><td>1</td><td>No07,No05</td></tr>\n",
       "<tr><td>UGC12506</td><td>6</td><td>100.6</td><td>10.1</td><td>1</td><td>86.0</td><td>4.0</td><td>139.571</td><td>3.214</td><td>12.36</td><td>144.82</td><td>7.38</td><td>5608.28</td><td>35.556</td><td>59.01</td><td>234.0</td><td>16.8</td><td>2</td><td>Ha14</td></tr>\n",
       "<tr><td>UGC12632</td><td>9</td><td>9.77</td><td>2.93</td><td>1</td><td>46.0</td><td>3.0</td><td>1.301</td><td>0.03</td><td>3.94</td><td>13.09</td><td>2.42</td><td>66.81</td><td>1.744</td><td>12.6</td><td>71.7</td><td>2.8</td><td>1</td><td>Sw09,Sw02</td></tr>\n",
       "<tr><td>UGC12732</td><td>9</td><td>13.2</td><td>4.0</td><td>1</td><td>39.0</td><td>6.0</td><td>1.667</td><td>0.048</td><td>3.12</td><td>26.84</td><td>1.98</td><td>120.46</td><td>3.66</td><td>17.41</td><td>0.0</td><td>0.0</td><td>1</td><td>Sw09,Sw02</td></tr>\n",
       "<tr><td>UGCA281</td><td>11</td><td>5.68</td><td>0.28</td><td>2</td><td>67.0</td><td>3.0</td><td>0.194</td><td>0.007</td><td>1.57</td><td>12.5</td><td>1.72</td><td>12.05</td><td>0.062</td><td>1.83</td><td>0.0</td><td>0.0</td><td>3</td><td>Le14</td></tr>\n",
       "<tr><td>UGCA442</td><td>9</td><td>4.35</td><td>0.22</td><td>2</td><td>64.0</td><td>7.0</td><td>0.14</td><td>0.005</td><td>1.71</td><td>7.6</td><td>1.18</td><td>116.1</td><td>0.263</td><td>4.37</td><td>56.4</td><td>2.1</td><td>1</td><td>Co00</td></tr>\n",
       "<tr><td>UGCA444</td><td>10</td><td>0.98</td><td>0.05</td><td>2</td><td>78.0</td><td>4.0</td><td>0.012</td><td>0.0</td><td>0.41</td><td>11.94</td><td>0.83</td><td>22.74</td><td>0.067</td><td>2.08</td><td>37.0</td><td>4.8</td><td>2</td><td>Ke07</td></tr>\n",
       "</table></div>"
      ],
      "text/plain": [
       "<QTable length=32>\n",
       " Galaxy    T      D      e_D    f_D    Inc    e_Inc    L[3.6]    e_L[3.6]    Reff    SBeff     Rdisk    SBdisk      MHI       RHI    Vflat  e_Vflat   Q      Ref.  \n",
       "                 Mpc     Mpc           deg     deg   1e+09 Lsun 1e+09 Lsun   kpc   Lsun / pc2   kpc   Lsun / pc2 1e+09 Msun   kpc    km / s  km / s                \n",
       "  str8   int64 float64 float64 int64 float64 float64  float64    float64   float64  float64   float64  float64    float64   float64 float64 float64 int64    str9  \n",
       "-------- ----- ------- ------- ----- ------- ------- ---------- ---------- ------- ---------- ------- ---------- ---------- ------- ------- ------- ----- ---------\n",
       "UGC07125     9    19.8     5.9     1    90.0     3.0      2.712       0.08    3.92      28.11    3.38      103.0      4.629   23.04    65.2     2.1     1 Sw09,Sw02\n",
       "UGC07151     6    6.87    0.34     2    90.0     3.0      2.284      0.025    2.17      76.71    1.25     965.67      0.616    6.39    73.5     2.8     1 Sw09,Sw02\n",
       "UGC07232    10    2.83    0.17     2    59.0     5.0      0.113      0.002    0.46      83.34    0.29     227.42      0.046    1.54     0.0     0.0     2 Sw09,Sw02\n",
       "UGC07261     8    13.1    3.93     1    30.0    10.0      1.753      0.048    2.66      39.16     1.2     566.02      1.388    10.1    74.7     3.4     2 Sw09,Sw02\n",
       "UGC07323     8     8.0     2.4     1    47.0     3.0      4.109      0.042    3.26      61.49    2.26     283.68      0.722    7.14     0.0     0.0     1 Sw09,Sw02\n",
       "UGC07399     8    8.43    2.53     1    55.0     3.0      1.156      0.024    1.27     113.98    1.64     135.78      0.745    7.85   103.0     3.3     1 Sw09,Sw02\n",
       "     ...   ...     ...     ...   ...     ...     ...        ...        ...     ...        ...     ...        ...        ...     ...     ...     ...   ...       ...\n",
       "UGC11914     2    16.9     5.1     1    31.0     5.0    150.028      0.553    3.12    2425.66    2.44    3168.33      0.888    9.26   288.1    10.5     1 No07,No05\n",
       "UGC12506     6   100.6    10.1     1    86.0     4.0    139.571      3.214   12.36     144.82    7.38    5608.28     35.556   59.01   234.0    16.8     2      Ha14\n",
       "UGC12632     9    9.77    2.93     1    46.0     3.0      1.301       0.03    3.94      13.09    2.42      66.81      1.744    12.6    71.7     2.8     1 Sw09,Sw02\n",
       "UGC12732     9    13.2     4.0     1    39.0     6.0      1.667      0.048    3.12      26.84    1.98     120.46       3.66   17.41     0.0     0.0     1 Sw09,Sw02\n",
       " UGCA281    11    5.68    0.28     2    67.0     3.0      0.194      0.007    1.57       12.5    1.72      12.05      0.062    1.83     0.0     0.0     3      Le14\n",
       " UGCA442     9    4.35    0.22     2    64.0     7.0       0.14      0.005    1.71        7.6    1.18      116.1      0.263    4.37    56.4     2.1     1      Co00\n",
       " UGCA444    10    0.98    0.05     2    78.0     4.0      0.012        0.0    0.41      11.94    0.83      22.74      0.067    2.08    37.0     4.8     2      Ke07"
      ]
     },
     "execution_count": 9,
     "metadata": {},
     "output_type": "execute_result"
    }
   ],
   "source": [
    "SPARC_catalogue"
   ]
  },
  {
   "cell_type": "markdown",
   "id": "3eea1960-30ca-422e-b591-f8f459e0f09d",
   "metadata": {},
   "source": [
    "## SDSS HiPS skymaps"
   ]
  },
  {
   "cell_type": "code",
   "execution_count": 10,
   "id": "d947747e-8ade-4e23-802e-d1f45efb629d",
   "metadata": {
    "tags": []
   },
   "outputs": [],
   "source": [
    "class HiPS_skymap(object):\n",
    "    \n",
    "    def __init__(self, hips_service_url, units, beam=None):\n",
    "        '''Intensity map in Hierarchical Progressive Survey (HiPS) format'''\n",
    "        \n",
    "        print(f'> {hips_service_url}')\n",
    "        self.url = hips_service_url\n",
    "        self.properties = astrobrowser.get_hips_proprties(hips_service_url)\n",
    "        if self.properties is None:\n",
    "            print('  ERROR: HiPS properties not available!')\n",
    "            raise -1\n",
    "        if 'hips_pixel_scale' in self.properties:\n",
    "            self.hips_pixel = float(self.properties['hips_pixel_scale']) * u.deg\n",
    "        else:\n",
    "            print('  ERROR: HiPS pixel size not available!')\n",
    "            raise -1\n",
    "\n",
    "        if beam is None:\n",
    "            if 's_pixel_scale' in self.properties:\n",
    "                original_pixel = float(self.properties['s_pixel_scale']) * u.deg\n",
    "                self.beam = original_pixel**2\n",
    "            else:\n",
    "                self.beam = self.hips_pixel**2\n",
    "                print(f'  WARNING: original pixel size not available! using HiPS size = {self.hips_pixel.to_value(u.arcsec)} arcsec')\n",
    "        else:\n",
    "            self.beam = beam\n",
    "            original_pixel_beam = np.sqrt(beam)\n",
    "            if 's_pixel_scale' in self.properties:\n",
    "                original_pixel_properties = float(self.properties['s_pixel_scale']) * u.deg\n",
    "                if not u.isclose(original_pixel_beam, original_pixel_properties):\n",
    "                    print(f'  WARNING: {original_pixel_beam} is different from {original_pixel_properties} ({original_pixel_properties.to(original_pixel_beam.unit)})')\n",
    "\n",
    "        self.intensity_units = units\n",
    "        if u.get_physical_type(units) == 'spectral flux density':\n",
    "            self.intensity_units = units / self.beam\n",
    "        \n",
    "        print(f'  HiPS pixel = {self.hips_pixel.to(u.arcsec):.4f}, original = {np.sqrt(self.beam).to(u.arcsec):.4f}',\n",
    "              f'; units = {self.intensity_units.to(u.uJy/u.arcsec**2):.2f} = {self.intensity_units.to(u.MJy/u.sr):.4f}')\n"
   ]
  },
  {
   "cell_type": "markdown",
   "id": "de424668-f628-45a6-9d5f-6081d33b06de",
   "metadata": {},
   "source": [
    "These SDSS measurements correpond to surface brightness in nanomaggies per beam (original pixel)"
   ]
  },
  {
   "cell_type": "code",
   "execution_count": 11,
   "id": "fc2eac71-f90a-4112-b8be-75a3271f3803",
   "metadata": {},
   "outputs": [],
   "source": [
    "nanomaggies = 3.631e-6*u.Jy\n",
    "beam = (0.39564 * u.arcsec)**2\n",
    "pivot_wavelength = {\n",
    "    'g': 4702.50 * u.Angstrom,\n",
    "    'r': 6175.58 * u.Angstrom,\n",
    "    'i': 7489.98 * u.Angstrom,\n",
    "}\n",
    "solar_units_factor = (4*np.pi*u.sr) * c.c  # divide by the pilot wavelength to convert from intensity (e.g. nanomaggies/beam) to luminosity surface brightness (Lsun/pc^2)"
   ]
  },
  {
   "cell_type": "code",
   "execution_count": 12,
   "id": "be3a7e44-ea5f-4787-b503-9da71a5aff92",
   "metadata": {},
   "outputs": [
    {
     "name": "stdout",
     "output_type": "stream",
     "text": [
      "> https://alasky.cds.unistra.fr/SDSS/DR9/band-g\n",
      "  HiPS pixel = 0.4025 arcsec, original = 0.3956 arcsec ; units = 23.20 uJy / arcsec2 = 0.9869 MJy / sr\n",
      "> https://alasky.cds.unistra.fr/SDSS/DR9/band-r\n",
      "  HiPS pixel = 0.4025 arcsec, original = 0.3956 arcsec ; units = 23.20 uJy / arcsec2 = 0.9869 MJy / sr\n",
      "> https://alasky.cds.unistra.fr/SDSS/DR9/band-i\n",
      "  HiPS pixel = 0.4025 arcsec, original = 0.3956 arcsec ; units = 23.20 uJy / arcsec2 = 0.9869 MJy / sr\n"
     ]
    }
   ],
   "source": [
    "SDSS_skymaps = {\n",
    "    'g': HiPS_skymap('https://alasky.cds.unistra.fr/SDSS/DR9/band-g', nanomaggies, beam),\n",
    "    'r': HiPS_skymap('https://alasky.cds.unistra.fr/SDSS/DR9/band-r', nanomaggies, beam),\n",
    "    'i': HiPS_skymap('https://alasky.cds.unistra.fr/SDSS/DR9/band-i', nanomaggies, beam),\n",
    "}"
   ]
  },
  {
   "cell_type": "markdown",
   "id": "36452cea-0480-484e-bf2b-36d5dcf46f65",
   "metadata": {},
   "source": [
    "## Download images"
   ]
  },
  {
   "cell_type": "code",
   "execution_count": 13,
   "id": "702a7066-bed1-4487-82e2-771867f5d7da",
   "metadata": {},
   "outputs": [],
   "source": [
    "def fectch_images(galaxy, skymaps, overwrite=False, fig_name=None, max_size=300):\n",
    "    \"\"\"\n",
    "    Call the AstroBrowser to download HiPS cutouts, or\n",
    "    read them from disk if they are present.\n",
    "    \"\"\"\n",
    "    cutout_pixel = np.inf\n",
    "    for band in skymaps:\n",
    "        if skymaps[band].hips_pixel < cutout_pixel:\n",
    "            cutout_pixel = skymaps[band].hips_pixel\n",
    "            \n",
    "    theta_disk = np.arcsin(galaxy['Rdisk'] / galaxy['D'])\n",
    "    if theta_disk > max_size*cutout_pixel:\n",
    "        cutout_pixel = theta_disk / max_size\n",
    "    \n",
    "    header = {}\n",
    "    data = {}\n",
    "    for band in skymaps:\n",
    "        cutout_file = os.path.join(maps_dir, f\"{galaxy['Galaxy']}_{band}.fits\")\n",
    "        if overwrite or not os.path.isfile(cutout_file):\n",
    "            print(f\"- Downloading {cutout_file}... (please be patient)\")\n",
    "            try:\n",
    "                position = get_icrs_coordinates(galaxy['Galaxy'])\n",
    "            except:\n",
    "                print(f\"  Name {galaxy['Galaxy']} not found!\")\n",
    "                header[band] = None\n",
    "                data[band] = None\n",
    "                return header, data\n",
    "            header[band], data[band] = astrobrowser.get_cutout(\n",
    "                skymaps[band].url,\n",
    "                position.ra.deg, position.dec.deg,\n",
    "                4*theta_disk.to_value(u.arcsec), cutout_pixel.to_value(u.arcsec),\n",
    "                cutout_file, overwrite=True)\n",
    "        else:\n",
    "            print(f'- Reading \"{cutout_file}\"')\n",
    "            with fits.open(cutout_file) as hdu:\n",
    "                header[band] = hdu[0].header\n",
    "                data[band] = hdu[0].data\n",
    "\n",
    "    if fig_name is not None and header[next(iter(header))] is not None:\n",
    "        plt.close(fig_name)\n",
    "        n_bands = len(data)\n",
    "        fig = plt.figure(fig_name, figsize=(6*n_bands, 5))\n",
    "        for idx, band in enumerate(data):\n",
    "            wcs = WCS(header[band])\n",
    "            ax = fig.add_subplot(1, n_bands, idx+1)#, projection=wcs)\n",
    "            ax.set_title(band)\n",
    "            #img = data[band] * (nanomaggies/beam).to_value(3631*u.Jy/u.arcsec**2)\n",
    "            #im = ax.imshow(img, origin='lower', cmap='nipy_spectral', norm=colors.Normalize(-1e-10, 1e-9))\n",
    "            img = -2.5*np.log10(data[band] * (nanomaggies/beam).to_value(3631*u.Jy/u.arcsec**2))\n",
    "            im = ax.imshow(img, origin='lower', interpolation='nearest', cmap='nipy_spectral', norm=colors.Normalize(17.5, 26.5))\n",
    "            cb = plt.colorbar(im, ax=ax, shrink=.9)\n",
    "        fig.savefig(os.path.join(plots_dir, f'{fig_name}.png'), facecolor='white')\n",
    "        if not show_plots:\n",
    "            plt.close(fig_name)\n",
    "\n",
    "    return header, data"
   ]
  },
  {
   "cell_type": "markdown",
   "id": "e38fced2-b83d-4651-9f9d-4c9d5cfb6e10",
   "metadata": {},
   "source": [
    "# 3. Analysis"
   ]
  },
  {
   "cell_type": "markdown",
   "id": "ff52e8d5-8f90-4962-86ad-7e03f8f37784",
   "metadata": {},
   "source": [
    "## Mass-to-light ratios\n",
    "Obtained from Garcia-Benito et al."
   ]
  },
  {
   "cell_type": "code",
   "execution_count": 14,
   "id": "c082a670-ce86-4035-8543-7b84f3611498",
   "metadata": {},
   "outputs": [],
   "source": [
    "mass_to_light_ratio = {}\n",
    "mass_to_light_ratio['ggr'] = (-0.88, 1.88)\n",
    "mass_to_light_ratio['ggi'] = (-0.99, 1.29)\n",
    "mass_to_light_ratio['gri'] = (-1.08, 3.74)\n",
    "mass_to_light_ratio['rgr'] = (-0.70, 1.49)\n",
    "mass_to_light_ratio['rgi'] = (-0.79, 1.03)\n",
    "mass_to_light_ratio['rri'] = (-0.86, 2.98)\n",
    "mass_to_light_ratio['igr'] = (-0.69, 1.31)\n",
    "mass_to_light_ratio['igi'] = (-0.77, 0.90)\n",
    "mass_to_light_ratio['iri'] = (-0.83, 2.60)"
   ]
  },
  {
   "cell_type": "code",
   "execution_count": 15,
   "id": "491a37c4-ccf6-4ed7-b413-0cbb18361f88",
   "metadata": {},
   "outputs": [],
   "source": [
    "def estimate_stellar_surface_density(data, fig_name=None, profiles_table=None):\n",
    "    \"\"\"\n",
    "    Estimate stellar surface density from SDSS images,\n",
    "    according to RGB M/L ratios.\n",
    "    \"\"\"\n",
    "    mass = np.full((len(mass_to_light_ratio),)+data[next(iter(data))].shape, np.nan)\n",
    "    for idx, mass_map in enumerate(mass_to_light_ratio):\n",
    "        if mass_map[0] in data and mass_map[1] in data and mass_map[2] in data:\n",
    "            a, b = mass_to_light_ratio[mass_map]\n",
    "            mass[idx] = 10**(a - b * 2.5 * np.log10(data[mass_map[1]]/data[mass_map[2]]))\n",
    "            mass[idx] *= data[mass_map[0]]\n",
    "            mass[idx] *= (solar_units_factor*nanomaggies/beam/pivot_wavelength[mass_map[0]]).to_value(u.Lsun/u.pc**2)\n",
    "    \n",
    "    if profiles_table is not None:\n",
    "        for idx, mass_map in enumerate(mass_to_light_ratio):\n",
    "            profiles_table.add_column(mass[idx] << u.Msun/u.pc**2, name=f'{mass_map[0]} and ({mass_map[1]}-{mass_map[2]})')\n",
    "    \n",
    "    if fig_name is not None:\n",
    "        plt.close(fig_name)\n",
    "        fig = plt.figure(fig_name, figsize=(14, 12))\n",
    "        #norm = colors.Normalize(1, 5)  # for M/L ratio\n",
    "        norm = colors.LogNorm(3, 3e3)  # for surface density (Msun/pc^2)\n",
    "        for idx, mass_map in enumerate(mass_to_light_ratio):\n",
    "            if mass_map[0] in data and mass_map[1] in data and mass_map[2] in data:\n",
    "                ax = fig.add_subplot(3, 3, idx+1)\n",
    "                ax.set_title(f'$\\Sigma$ from {mass_map[0]} and ({mass_map[1]}-{mass_map[2]})')\n",
    "                im = ax.imshow(mass[idx], origin='lower', cmap='nipy_spectral', norm=norm)\n",
    "                cb = plt.colorbar(im, ax=ax, shrink=.9)\n",
    "        fig.savefig(os.path.join(plots_dir, f'{fig_name}.png'), facecolor='white')\n",
    "        if not show_plots:\n",
    "            plt.close()\n",
    "    \n",
    "    return np.median(mass, axis=0), np.std(np.log10(mass), axis=0)"
   ]
  },
  {
   "cell_type": "markdown",
   "id": "b924bc85-73bb-4bf7-a359-3a0bec4d23fd",
   "metadata": {},
   "source": [
    "## Fit ellipse"
   ]
  },
  {
   "cell_type": "code",
   "execution_count": 16,
   "id": "68b23869-5c75-4260-b85e-ddee82c98f99",
   "metadata": {},
   "outputs": [],
   "source": [
    "class Ellipse(object):\n",
    "    \n",
    "    def __init__(self,\n",
    "                 data,\n",
    "                 center_seed=None, recenter=True, inner_radius=None, max_iter=10,\n",
    "                 fig_name=None):\n",
    "        \n",
    "        # Set nan and negatives to 0\n",
    "        valid_data = data.copy()\n",
    "        valid_data = np.where(valid_data > 0, valid_data, 0)\n",
    "\n",
    "        # Define inner region\n",
    "        if center_seed is None:\n",
    "            self.y0, self.x0 = data.shape\n",
    "            self.x0 /= 2\n",
    "            self.y0 /= 2\n",
    "        else:\n",
    "            self.x0, self.y0 = center_seed\n",
    "        if inner_radius is None:\n",
    "            inner_radius = np.min(valid_data.shape) // 8\n",
    "        x = np.arange(valid_data.shape[1]) - self.x0\n",
    "        y = np.arange(valid_data.shape[0]) - self.y0\n",
    "        r = np.sqrt((x**2)[np.newaxis, :] + (y**2)[:, np.newaxis])\n",
    "        self.inner_mask = r < inner_radius\n",
    "\n",
    "        # Find isophote and recenter, if requested\n",
    "        iteration = 0\n",
    "        cm_moved = np.inf\n",
    "        while cm_moved > 1 and iteration < max_iter:\n",
    "            iteration += 1\n",
    "            mask, x_new, y_new = self._find_isophote(valid_data, inner_radius)\n",
    "            if recenter:\n",
    "                cm_moved = np.sqrt((x_new-self.x0)**2 + (y_new-self.y0)**2)\n",
    "                self.x0 = x_new.copy()\n",
    "                self.y0 = y_new.copy()\n",
    "                print(f'  Center at ({self.x0:.2f}, {self.y0:.2f}) moved {cm_moved:.4g} pix')\n",
    "            else:\n",
    "                cm_moved = 0\n",
    "        print(f'> Ellipse centered at ({self.x0:.2f}, {self.y0:.2f})')\n",
    "        x = np.arange(valid_data.shape[1]) - self.x0\n",
    "        y = np.arange(valid_data.shape[0]) - self.y0\n",
    "        r = np.sqrt((x**2)[np.newaxis, :] + (y**2)[:, np.newaxis])\n",
    "\n",
    "        # Find mean isophote radius as a function of polar angle\n",
    "        theta_r = np.linspace(0, np.pi, 181)\n",
    "        mean_r = np.empty_like(theta_r)\n",
    "        dummy_r = np.arange(1, 2*inner_radius)\n",
    "        for i, zz in enumerate(theta_r):\n",
    "            x_i = (self.x0 + dummy_r * np.cos(zz)).astype(int)\n",
    "            y_i = (self.y0 + dummy_r * np.sin(zz)).astype(int)\n",
    "            total_weight = np.sum(mask[y_i, x_i])\n",
    "            mean_r_positive = np.sum(mask[y_i, x_i] * r[y_i, x_i]) / total_weight\n",
    "            x_i = (self.x0 - dummy_r * np.cos(zz)).astype(int)\n",
    "            y_i = (self.y0 - dummy_r * np.sin(zz)).astype(int)\n",
    "            total_weight = np.sum(mask[y_i, x_i])\n",
    "            mean_r_negative = np.sum(mask[y_i, x_i] * r[y_i, x_i]) / total_weight\n",
    "            # Geometric mean of both sides\n",
    "            mean_r[i] = np.sqrt(mean_r_positive * mean_r_negative)\n",
    "\n",
    "        # Fit ellipse\n",
    "        inv_r2 = 1/mean_r**2\n",
    "        mean_value = np.mean(inv_r2)\n",
    "        coeff_cos = np.mean(inv_r2 * np.cos(2*theta_r)) / np.mean(np.cos(2*theta_r)**2)\n",
    "        coeff_sin = np.mean(inv_r2 * np.sin(2*theta_r)) / np.mean(np.sin(2*theta_r)**2)\n",
    "        #model = mean_value + coeff_cos*np.cos(2*theta_r) + coeff_sin*np.sin(2*theta_r)\n",
    "        amplitude = - np.sqrt(coeff_cos**2 + coeff_sin**2)\n",
    "        coeff_cos /= amplitude\n",
    "        coeff_sin /= amplitude\n",
    "        #model = mean_value + amplitude * (coeff_cos*np.cos(2*theta_r) + coeff_sin*np.sin(2*theta_r))\n",
    "        if coeff_sin < 0:\n",
    "            self.theta_0 = np.pi - np.arccos(coeff_cos) / 2\n",
    "        else:\n",
    "            self.theta_0 = np.arccos(coeff_cos) / 2\n",
    "        model = mean_value + amplitude * np.cos(2*(theta_r - self.theta_0))\n",
    "        self.a = 1 / np.sqrt(mean_value + amplitude)\n",
    "        self.b = 1 / np.sqrt(mean_value - amplitude)\n",
    "        self.e = 1 - self.b/self.a\n",
    "        print(f'  (a, b, theta_0) = ({self.a:.2f} pix, {self.b:.2f} pix, {self.theta_0*180/np.pi:.2f} deg)')\n",
    "        print('> WARNING: pixel units')\n",
    "        print('  TODO: convert to inclination and PA')\n",
    "        \n",
    "        # Deprojection / profiles:\n",
    "        r[r <= 0.] = 1e-6\n",
    "        theta = np.where(y[:, np.newaxis] >= 0, np.arccos(x[np.newaxis, :]/r), 2*np.pi - np.arccos(x[np.newaxis, :]/r))\n",
    "        theta -= self.theta_0\n",
    "        theta[theta < 0] += 2*np.pi\n",
    "        self.r_0 = r * np.sqrt(np.cos(theta)**2 + (np.sin(theta) * self.a/self.b)**2)\n",
    "\n",
    "        # Plot figure\n",
    "        if fig_name is not None:\n",
    "            fig, axes = new_figure(fig_name, nrows=2, ncols=2, sharey=False,)\n",
    "            \n",
    "            ax = axes[0, 0]\n",
    "            im = ax.imshow(mask, origin='lower', interpolation='nearest')\n",
    "            x_r = self.x0 + mean_r * np.cos(theta_r)\n",
    "            y_r = self.y0 + mean_r * np.sin(theta_r)\n",
    "            ax.plot(x_r, y_r, 'k-')\n",
    "            x_r = self.x0 + mean_r * np.cos(theta_r+np.pi)\n",
    "            y_r = self.y0 + mean_r * np.sin(theta_r+np.pi)\n",
    "            ax.plot(x_r, y_r, 'k-')\n",
    "            ax.plot(self.x0, self.y0, 'ko')\n",
    "            ax.contour(self.inner_mask, colors='w', linestyles=':')\n",
    "            cb = plt.colorbar(im, ax=ax, shrink=.75)\n",
    "            \n",
    "            ax = axes[0, 1]\n",
    "            ax.set_ylabel(r'1 / radius$^2$ [pix$^{-2}$]')\n",
    "            ax.plot(theta_r * 180/np.pi, inv_r2, 'k-', alpha=.2, label=f'isophote {self.isophote_mean:.4g} $\\pm$ {self.isophote_mad:.4g}')\n",
    "            ax.plot(theta_r * 180/np.pi, model, 'k--',\n",
    "                    label=f'(a, b, theta_0) = ({self.a:.2f} pix, {self.b:.2f} pix, {self.theta_0*180/np.pi:.2f} deg)')\n",
    "            ax.axvline(self.theta_0 * 180/np.pi, c='k', ls=':')\n",
    "            ax.legend()\n",
    "            \n",
    "            ax = axes[1, 0]\n",
    "            im = ax.imshow(valid_data, origin='lower', interpolation='nearest', vmax=self.isophote_mean+2*self.isophote_mad, cmap='terrain')\n",
    "            self.plot(ax, self.a)\n",
    "            ax.plot(self.x0, self.y0, 'ko')\n",
    "            ax.contour(self.inner_mask, colors='w', linestyles=':')\n",
    "            cb = plt.colorbar(im, ax=ax, shrink=.75)\n",
    "            \n",
    "            ax = axes[1, 1]\n",
    "            ax.set_ylabel('radius [pix]')\n",
    "            ax.set_xlabel('theta [deg]')\n",
    "            ax.plot(theta_r * 180/np.pi, mean_r, 'k-', alpha=.2, label=f'isophote {self.isophote_mean:.4g} $\\pm$ {self.isophote_mad:.4g}')\n",
    "            ax.plot(theta_r * 180/np.pi, 1/np.sqrt(model), 'k--',\n",
    "                    label=f'(a, b, theta_0) = ({self.a:.2f} pix, {self.b:.2f} pix, {self.theta_0*180/np.pi:.2f} deg)')\n",
    "            ax.axvline(self.theta_0 * 180/np.pi, c='k', ls=':')\n",
    "            ax.legend()\n",
    "            \n",
    "            \n",
    "            fig.savefig(os.path.join(plots_dir, f'{fig_name}.png'), facecolor='white')\n",
    "            if not show_plots:\n",
    "                plt.close()\n",
    "\n",
    "                \n",
    "    def _find_isophote(self, valid_data, inner_radius):\n",
    "        # Maps of polar coordinates (r and theta)\n",
    "        x = np.arange(valid_data.shape[1]) - self.x0\n",
    "        y = np.arange(valid_data.shape[0]) - self.y0\n",
    "        r = np.sqrt((x**2)[np.newaxis, :] + (y**2)[:, np.newaxis])\n",
    "        theta = np.arccos(x/r)\n",
    "        theta[y < 0] = np.pi - theta[y < 0]\n",
    "\n",
    "        # Mean intensity and median absolute deviation\n",
    "        self.isophote_mean = np.nanmean(valid_data[r < inner_radius])\n",
    "        self.isophote_mad = np.nanmedian(np.fabs(valid_data[r < inner_radius] - self.isophote_mean))\n",
    "        \n",
    "        # Define isophote\n",
    "        mask = np.fabs(valid_data - self.isophote_mean) < self.isophote_mad\n",
    "        mask = ndimage.median_filter(mask, 3)\n",
    "        print(f'  Isophote: {self.isophote_mean:.4g} +- {self.isophote_mad:.4g} => {np.count_nonzero(mask)} pix')\n",
    "        \n",
    "        # Recenter\n",
    "        x_cm = self.x0 + np.sum(x[np.newaxis, :] * mask * self.inner_mask) / np.sum(mask * self.inner_mask)\n",
    "        y_cm = self.y0 + np.sum(y[:, np.newaxis] * mask * self.inner_mask) / np.sum(mask * self.inner_mask)\n",
    "\n",
    "        return mask, x_cm, y_cm\n",
    "\n",
    "\n",
    "    def plot(self, ax, radius, style='k--'):\n",
    "        theta = np.linspace(0, 2*np.pi, 361)\n",
    "        for a in np.atleast_1d(radius):\n",
    "            along_major_axis = a * np.cos(theta)\n",
    "            along_minor_axis = (a*self.b/self.a) * np.sin(theta)\n",
    "            ra = self.x0 + along_major_axis * np.cos(self.theta_0) + along_minor_axis * np.cos(self.theta_0 + np.pi/2)\n",
    "            dec = self.y0 + along_major_axis * np.sin(self.theta_0) + along_minor_axis * np.sin(self.theta_0 + np.pi/2)\n",
    "            ax.plot(ra, dec, style)\n",
    "    \n",
    "    \n",
    "    def get_profile(self, data, fig_name=None):\n",
    "        r_0_bins = np.arange(1 + np.sqrt(np.min(data.shape)/2))**2\n",
    "        r_0_mid = (r_0_bins[:-1] + r_0_bins[1:]) / 2\n",
    "        median_profile = np.empty(r_0_bins.size-1)\n",
    "        upper_profile = np.empty_like(median_profile)\n",
    "        lower_profile = np.empty_like(median_profile)\n",
    "        for i in range(r_0_bins.size-1):\n",
    "            r_inner = r_0_bins[i]\n",
    "            r_outer = r_0_bins[i+1]\n",
    "            try:\n",
    "                lower_profile[i], median_profile[i], upper_profile[i] = np.nanpercentile(\n",
    "                    data[(self.r_0 >= r_inner) & (self.r_0 <= r_outer)], [16, 50, 84])\n",
    "            except:\n",
    "                lower_profile[i], median_profile[i], upper_profile[i] = (np.nan, np.nan, np.nan)\n",
    "\n",
    "        if fig_name is not None:\n",
    "            fig, axes = new_figure(f'{fig_name}_profile', figsize=(16, 4), ncols=4, sharey=False, sharex=False,\n",
    "                                   gridspec_kw={'width_ratios': [1, 1, 1, 2]})\n",
    "            ax = axes[0, 0]\n",
    "            ax.set_title('data')\n",
    "            im = ax.imshow(data, origin='lower', interpolation='nearest', cmap='nipy_spectral', norm=colors.LogNorm())\n",
    "            cb = plt.colorbar(im, ax=ax, shrink=.5)\n",
    "            self.plot(ax, self.a)\n",
    "            ax = axes[0, 1]\n",
    "            ax.set_title('model')\n",
    "            model = np.interp(self.r_0, r_0_mid, median_profile)\n",
    "            im = ax.imshow(model, origin='lower', interpolation='nearest', cmap='nipy_spectral', norm=im.norm)\n",
    "            cb = plt.colorbar(im, ax=ax, shrink=.5)\n",
    "            self.plot(ax, self.a)\n",
    "            ax = axes[0, 2]\n",
    "            ax.set_title('residual')\n",
    "            residual = data-model\n",
    "            mad = np.nanmedian(np.fabs(residual))\n",
    "            im = ax.imshow(residual, origin='lower', interpolation='nearest', cmap='Spectral', norm=colors.Normalize(-5*mad, 5*mad))\n",
    "            cb = plt.colorbar(im, ax=ax, shrink=.5)\n",
    "            self.plot(ax, self.a)\n",
    "            \n",
    "            ax = axes[0, 3]\n",
    "            ax.set_title('radial profile')\n",
    "            ax.plot(self.r_0.ravel(), data.ravel(), 'c.', alpha=.05)\n",
    "            ax.plot(r_0_mid, median_profile, 'r-+')\n",
    "            ax.fill_between(r_0_mid, lower_profile, upper_profile, color='k', alpha=.5)\n",
    "            #ax.set_ylim(-.1, .1)\n",
    "            ax.set_yscale('log')\n",
    "            fig.savefig(os.path.join(plots_dir, f\"{fig_name}_profile.png\"), facecolor='white')     \n",
    "            if not show_plots:\n",
    "                plt.close()\n",
    "        \n",
    "        return r_0_bins, median_profile, lower_profile, upper_profile\n",
    "\n",
    "#elllipse = Ellipse(surface_density_map, fig_name='kk')"
   ]
  },
  {
   "cell_type": "markdown",
   "id": "9566f1e7-c935-49c9-82fc-28eafc53d017",
   "metadata": {},
   "source": [
    "## Main loop"
   ]
  },
  {
   "cell_type": "code",
   "execution_count": 17,
   "id": "87baa9f0-6880-48e1-a4aa-200c046c3ea7",
   "metadata": {},
   "outputs": [
    {
     "name": "stdout",
     "output_type": "stream",
     "text": [
      "- Reading \"SPARC/output/maps/UGC07125_g.fits\"\n",
      "- Downloading SPARC/output/maps/UGC07125_r.fits... (please be patient)\n",
      "http://astrobrowser.ft.uam.es/api/cutout?hipsbaseuri=https://alasky.cds.unistra.fr/SDSS/DR9/band-r&radeg=182.172975&decdeg=36.8022972&radiusasec=140.84&pxsizeasec=0.40\n"
     ]
    },
    {
     "name": "stderr",
     "output_type": "stream",
     "text": [
      "WARNING: File may have been truncated: actual file length (996930) is smaller than the expected size (999360) [astropy.io.fits.file]\n",
      "/tmp/ipykernel_301897/1617722128.py:49: RuntimeWarning: invalid value encountered in log10\n",
      "  img = -2.5*np.log10(data[band] * (nanomaggies/beam).to_value(3631*u.Jy/u.arcsec**2))\n"
     ]
    },
    {
     "name": "stdout",
     "output_type": "stream",
     "text": [
      "  Saving \"SPARC/output/maps/UGC07125_r.fits\"\n",
      "- Reading \"SPARC/output/maps/UGC07125_i.fits\"\n"
     ]
    },
    {
     "name": "stderr",
     "output_type": "stream",
     "text": [
      "/tmp/ipykernel_301897/322829930.py:10: RuntimeWarning: invalid value encountered in log10\n",
      "  mass[idx] = 10**(a - b * 2.5 * np.log10(data[mass_map[1]]/data[mass_map[2]]))\n",
      "/tmp/ipykernel_301897/322829930.py:33: RuntimeWarning: invalid value encountered in log10\n",
      "  return np.median(mass, axis=0), np.std(np.log10(mass), axis=0)\n"
     ]
    },
    {
     "name": "stdout",
     "output_type": "stream",
     "text": [
      "  Isophote: 60.51 +- 51.63 => 27873 pix\n",
      "  Center at (347.96, 359.93) moved 8.709 pix\n",
      "  Isophote: 60.49 +- 51.52 => 27543 pix\n",
      "  Center at (347.89, 359.98) moved 0.08162 pix\n",
      "> Ellipse centered at (347.89, 359.98)\n",
      "  (a, b, theta_0) = (77.20 pix, 23.42 pix, 172.81 deg)\n",
      "> WARNING: pixel units\n",
      "  TODO: convert to inclination and PA\n",
      "- Downloading SPARC/output/maps/UGC07151_g.fits... (please be patient)\n",
      "http://astrobrowser.ft.uam.es/api/cutout?hipsbaseuri=https://alasky.cds.unistra.fr/SDSS/DR9/band-g&radeg=182.4941708&decdeg=46.4571806&radiusasec=150.12&pxsizeasec=0.40\n"
     ]
    },
    {
     "name": "stderr",
     "output_type": "stream",
     "text": [
      "WARNING: File may have been truncated: actual file length (1130882) is smaller than the expected size (1131840) [astropy.io.fits.file]\n"
     ]
    },
    {
     "name": "stdout",
     "output_type": "stream",
     "text": [
      "  Saving \"SPARC/output/maps/UGC07151_g.fits\"\n",
      "- Downloading SPARC/output/maps/UGC07151_r.fits... (please be patient)\n",
      "http://astrobrowser.ft.uam.es/api/cutout?hipsbaseuri=https://alasky.cds.unistra.fr/SDSS/DR9/band-r&radeg=182.4941708&decdeg=46.4571806&radiusasec=150.12&pxsizeasec=0.40\n",
      "  Saving \"SPARC/output/maps/UGC07151_r.fits\"\n",
      "- Downloading SPARC/output/maps/UGC07151_i.fits... (please be patient)\n",
      "http://astrobrowser.ft.uam.es/api/cutout?hipsbaseuri=https://alasky.cds.unistra.fr/SDSS/DR9/band-i&radeg=182.4941708&decdeg=46.4571806&radiusasec=150.12&pxsizeasec=0.40\n",
      "  Saving \"SPARC/output/maps/UGC07151_i.fits\"\n"
     ]
    },
    {
     "name": "stderr",
     "output_type": "stream",
     "text": [
      "/tmp/ipykernel_301897/1617722128.py:49: RuntimeWarning: invalid value encountered in log10\n",
      "  img = -2.5*np.log10(data[band] * (nanomaggies/beam).to_value(3631*u.Jy/u.arcsec**2))\n",
      "/tmp/ipykernel_301897/322829930.py:10: RuntimeWarning: invalid value encountered in log10\n",
      "  mass[idx] = 10**(a - b * 2.5 * np.log10(data[mass_map[1]]/data[mass_map[2]]))\n",
      "/tmp/ipykernel_301897/322829930.py:33: RuntimeWarning: invalid value encountered in log10\n",
      "  return np.median(mass, axis=0), np.std(np.log10(mass), axis=0)\n"
     ]
    },
    {
     "name": "stdout",
     "output_type": "stream",
     "text": [
      "  Isophote: 51.67 +- 26.52 => 35190 pix\n",
      "  Center at (372.01, 374.55) moved 3.619 pix\n",
      "  Isophote: 51.51 +- 26.4 => 35261 pix\n",
      "  Center at (371.96, 374.61) moved 0.07676 pix\n",
      "> Ellipse centered at (371.96, 374.61)\n",
      "  (a, b, theta_0) = (150.48 pix, 40.13 pix, 6.21 deg)\n",
      "> WARNING: pixel units\n",
      "  TODO: convert to inclination and PA\n"
     ]
    },
    {
     "name": "stderr",
     "output_type": "stream",
     "text": [
      "/home/yago/.local/lib/python3.8/site-packages/numpy/lib/nanfunctions.py:1555: RuntimeWarning: Mean of empty slice\n",
      "  return np.nanmean(a, axis, out=out, keepdims=keepdims)\n"
     ]
    },
    {
     "name": "stdout",
     "output_type": "stream",
     "text": [
      "- Downloading SPARC/output/maps/UGC07232_g.fits... (please be patient)\n",
      "http://astrobrowser.ft.uam.es/api/cutout?hipsbaseuri=https://alasky.cds.unistra.fr/SDSS/DR9/band-g&radeg=183.4365208&decdeg=36.634025&radiusasec=84.55&pxsizeasec=0.40\n"
     ]
    },
    {
     "name": "stderr",
     "output_type": "stream",
     "text": [
      "WARNING: File may have been truncated: actual file length (360738) is smaller than the expected size (362880) [astropy.io.fits.file]\n"
     ]
    },
    {
     "name": "stdout",
     "output_type": "stream",
     "text": [
      "  Saving \"SPARC/output/maps/UGC07232_g.fits\"\n",
      "- Downloading SPARC/output/maps/UGC07232_r.fits... (please be patient)\n",
      "http://astrobrowser.ft.uam.es/api/cutout?hipsbaseuri=https://alasky.cds.unistra.fr/SDSS/DR9/band-r&radeg=183.4365208&decdeg=36.634025&radiusasec=84.55&pxsizeasec=0.40\n",
      "  Saving \"SPARC/output/maps/UGC07232_r.fits\"\n",
      "- Downloading SPARC/output/maps/UGC07232_i.fits... (please be patient)\n",
      "http://astrobrowser.ft.uam.es/api/cutout?hipsbaseuri=https://alasky.cds.unistra.fr/SDSS/DR9/band-i&radeg=183.4365208&decdeg=36.634025&radiusasec=84.55&pxsizeasec=0.40\n",
      "  Saving \"SPARC/output/maps/UGC07232_i.fits\"\n"
     ]
    },
    {
     "name": "stderr",
     "output_type": "stream",
     "text": [
      "/tmp/ipykernel_301897/1617722128.py:49: RuntimeWarning: invalid value encountered in log10\n",
      "  img = -2.5*np.log10(data[band] * (nanomaggies/beam).to_value(3631*u.Jy/u.arcsec**2))\n",
      "/tmp/ipykernel_301897/322829930.py:10: RuntimeWarning: invalid value encountered in log10\n",
      "  mass[idx] = 10**(a - b * 2.5 * np.log10(data[mass_map[1]]/data[mass_map[2]]))\n",
      "/tmp/ipykernel_301897/322829930.py:33: RuntimeWarning: invalid value encountered in log10\n",
      "  return np.median(mass, axis=0), np.std(np.log10(mass), axis=0)\n"
     ]
    },
    {
     "name": "stdout",
     "output_type": "stream",
     "text": [
      "  Isophote: 26.54 +- 7.838 => 7564 pix\n",
      "  Center at (213.96, 216.24) moved 5.34 pix\n",
      "  Isophote: 26.98 +- 7.725 => 7068 pix\n",
      "  Center at (213.95, 216.61) moved 0.3725 pix\n",
      "> Ellipse centered at (213.95, 216.61)\n",
      "  (a, b, theta_0) = (32.48 pix, 24.08 pix, 159.12 deg)\n",
      "> WARNING: pixel units\n",
      "  TODO: convert to inclination and PA\n",
      "- Downloading SPARC/output/maps/UGC07261_g.fits... (please be patient)\n",
      "http://astrobrowser.ft.uam.es/api/cutout?hipsbaseuri=https://alasky.cds.unistra.fr/SDSS/DR9/band-g&radeg=183.8098292&decdeg=20.6590778&radiusasec=75.58&pxsizeasec=0.40\n"
     ]
    },
    {
     "name": "stderr",
     "output_type": "stream",
     "text": [
      "WARNING: File may have been truncated: actual file length (288648) is smaller than the expected size (290880) [astropy.io.fits.file]\n"
     ]
    },
    {
     "name": "stdout",
     "output_type": "stream",
     "text": [
      "  Saving \"SPARC/output/maps/UGC07261_g.fits\"\n",
      "- Downloading SPARC/output/maps/UGC07261_r.fits... (please be patient)\n",
      "http://astrobrowser.ft.uam.es/api/cutout?hipsbaseuri=https://alasky.cds.unistra.fr/SDSS/DR9/band-r&radeg=183.8098292&decdeg=20.6590778&radiusasec=75.58&pxsizeasec=0.40\n",
      "  Saving \"SPARC/output/maps/UGC07261_r.fits\"\n",
      "- Downloading SPARC/output/maps/UGC07261_i.fits... (please be patient)\n",
      "http://astrobrowser.ft.uam.es/api/cutout?hipsbaseuri=https://alasky.cds.unistra.fr/SDSS/DR9/band-i&radeg=183.8098292&decdeg=20.6590778&radiusasec=75.58&pxsizeasec=0.40\n",
      "  Saving \"SPARC/output/maps/UGC07261_i.fits\"\n"
     ]
    },
    {
     "name": "stderr",
     "output_type": "stream",
     "text": [
      "/tmp/ipykernel_301897/1617722128.py:49: RuntimeWarning: invalid value encountered in log10\n",
      "  img = -2.5*np.log10(data[band] * (nanomaggies/beam).to_value(3631*u.Jy/u.arcsec**2))\n",
      "/tmp/ipykernel_301897/322829930.py:10: RuntimeWarning: invalid value encountered in log10\n",
      "  mass[idx] = 10**(a - b * 2.5 * np.log10(data[mass_map[1]]/data[mass_map[2]]))\n",
      "/tmp/ipykernel_301897/322829930.py:33: RuntimeWarning: invalid value encountered in log10\n",
      "  return np.median(mass, axis=0), np.std(np.log10(mass), axis=0)\n",
      "/tmp/ipykernel_301897/4000349774.py:140: RuntimeWarning: invalid value encountered in divide\n",
      "  theta = np.arccos(x/r)\n"
     ]
    },
    {
     "name": "stdout",
     "output_type": "stream",
     "text": [
      "  Isophote: 38.64 +- 16.65 => 8336 pix\n",
      "  Center at (189.64, 188.29) moved 0.957 pix\n",
      "> Ellipse centered at (189.64, 188.29)\n",
      "  (a, b, theta_0) = (52.27 pix, 24.22 pix, 31.36 deg)\n",
      "> WARNING: pixel units\n",
      "  TODO: convert to inclination and PA\n",
      "- Downloading SPARC/output/maps/UGC07323_g.fits... (please be patient)\n",
      "http://astrobrowser.ft.uam.es/api/cutout?hipsbaseuri=https://alasky.cds.unistra.fr/SDSS/DR9/band-g&radeg=184.37576462644998&decdeg=45.61930803895&radiusasec=233.08&pxsizeasec=0.40\n"
     ]
    },
    {
     "name": "stderr",
     "output_type": "stream",
     "text": [
      "WARNING: File may have been truncated: actual file length (2721992) is smaller than the expected size (2724480) [astropy.io.fits.file]\n"
     ]
    },
    {
     "name": "stdout",
     "output_type": "stream",
     "text": [
      "  Saving \"SPARC/output/maps/UGC07323_g.fits\"\n",
      "- Downloading SPARC/output/maps/UGC07323_r.fits... (please be patient)\n",
      "http://astrobrowser.ft.uam.es/api/cutout?hipsbaseuri=https://alasky.cds.unistra.fr/SDSS/DR9/band-r&radeg=184.37576462644998&decdeg=45.61930803895&radiusasec=233.08&pxsizeasec=0.40\n",
      "  Saving \"SPARC/output/maps/UGC07323_r.fits\"\n",
      "- Downloading SPARC/output/maps/UGC07323_i.fits... (please be patient)\n",
      "http://astrobrowser.ft.uam.es/api/cutout?hipsbaseuri=https://alasky.cds.unistra.fr/SDSS/DR9/band-i&radeg=184.37576462644998&decdeg=45.61930803895&radiusasec=233.08&pxsizeasec=0.40\n",
      "  Saving \"SPARC/output/maps/UGC07323_i.fits\"\n"
     ]
    },
    {
     "name": "stderr",
     "output_type": "stream",
     "text": [
      "/tmp/ipykernel_301897/1617722128.py:49: RuntimeWarning: invalid value encountered in log10\n",
      "  img = -2.5*np.log10(data[band] * (nanomaggies/beam).to_value(3631*u.Jy/u.arcsec**2))\n",
      "/tmp/ipykernel_301897/322829930.py:10: RuntimeWarning: invalid value encountered in log10\n",
      "  mass[idx] = 10**(a - b * 2.5 * np.log10(data[mass_map[1]]/data[mass_map[2]]))\n",
      "/tmp/ipykernel_301897/322829930.py:33: RuntimeWarning: invalid value encountered in log10\n",
      "  return np.median(mass, axis=0), np.std(np.log10(mass), axis=0)\n",
      "/tmp/ipykernel_301897/4000349774.py:140: RuntimeWarning: invalid value encountered in divide\n",
      "  theta = np.arccos(x/r)\n"
     ]
    },
    {
     "name": "stdout",
     "output_type": "stream",
     "text": [
      "  Isophote: 38.25 +- 12.25 => 46634 pix\n",
      "  Center at (574.51, 586.46) moved 9.169 pix\n",
      "  Isophote: 38.29 +- 12.22 => 46225 pix\n",
      "  Center at (574.46, 586.57) moved 0.12 pix\n",
      "> Ellipse centered at (574.46, 586.57)\n",
      "  (a, b, theta_0) = (105.59 pix, 95.32 pix, 123.14 deg)\n",
      "> WARNING: pixel units\n",
      "  TODO: convert to inclination and PA\n",
      "- Downloading SPARC/output/maps/UGC07399_g.fits... (please be patient)\n",
      "http://astrobrowser.ft.uam.es/api/cutout?hipsbaseuri=https://alasky.cds.unistra.fr/SDSS/DR9/band-g&radeg=185.1588292&decdeg=46.2910194&radiusasec=160.51&pxsizeasec=0.40\n"
     ]
    },
    {
     "name": "stderr",
     "output_type": "stream",
     "text": [
      "WARNING: File may have been truncated: actual file length (1292498) is smaller than the expected size (1293120) [astropy.io.fits.file]\n"
     ]
    },
    {
     "name": "stdout",
     "output_type": "stream",
     "text": [
      "  Saving \"SPARC/output/maps/UGC07399_g.fits\"\n",
      "- Downloading SPARC/output/maps/UGC07399_r.fits... (please be patient)\n",
      "http://astrobrowser.ft.uam.es/api/cutout?hipsbaseuri=https://alasky.cds.unistra.fr/SDSS/DR9/band-r&radeg=185.1588292&decdeg=46.2910194&radiusasec=160.51&pxsizeasec=0.40\n",
      "  Saving \"SPARC/output/maps/UGC07399_r.fits\"\n",
      "- Downloading SPARC/output/maps/UGC07399_i.fits... (please be patient)\n",
      "http://astrobrowser.ft.uam.es/api/cutout?hipsbaseuri=https://alasky.cds.unistra.fr/SDSS/DR9/band-i&radeg=185.1588292&decdeg=46.2910194&radiusasec=160.51&pxsizeasec=0.40\n",
      "  Saving \"SPARC/output/maps/UGC07399_i.fits\"\n"
     ]
    },
    {
     "name": "stderr",
     "output_type": "stream",
     "text": [
      "/tmp/ipykernel_301897/1617722128.py:49: RuntimeWarning: invalid value encountered in log10\n",
      "  img = -2.5*np.log10(data[band] * (nanomaggies/beam).to_value(3631*u.Jy/u.arcsec**2))\n",
      "/tmp/ipykernel_301897/322829930.py:10: RuntimeWarning: invalid value encountered in log10\n",
      "  mass[idx] = 10**(a - b * 2.5 * np.log10(data[mass_map[1]]/data[mass_map[2]]))\n",
      "/tmp/ipykernel_301897/322829930.py:33: RuntimeWarning: invalid value encountered in log10\n",
      "  return np.median(mass, axis=0), np.std(np.log10(mass), axis=0)\n"
     ]
    },
    {
     "name": "stdout",
     "output_type": "stream",
     "text": [
      "  Isophote: 23.79 +- 12.7 => 22909 pix\n",
      "  Center at (403.43, 416.26) moved 14.88 pix\n",
      "  Isophote: 24.35 +- 12.69 => 21737 pix\n",
      "  Center at (403.65, 417.00) moved 0.7788 pix\n",
      "> Ellipse centered at (403.65, 417.00)\n",
      "  (a, b, theta_0) = (71.68 pix, 59.26 pix, 3.32 deg)\n",
      "> WARNING: pixel units\n",
      "  TODO: convert to inclination and PA\n",
      "- Downloading SPARC/output/maps/UGC07524_g.fits... (please be patient)\n",
      "http://astrobrowser.ft.uam.es/api/cutout?hipsbaseuri=https://alasky.cds.unistra.fr/SDSS/DR9/band-g&radeg=186.45359712911997&decdeg=33.54686115781999&radiusasec=602.26&pxsizeasec=0.50\n"
     ]
    },
    {
     "name": "stderr",
     "output_type": "stream",
     "text": [
      "WARNING: File may have been truncated: actual file length (11619080) is smaller than the expected size (11620800) [astropy.io.fits.file]\n"
     ]
    },
    {
     "name": "stdout",
     "output_type": "stream",
     "text": [
      "  Saving \"SPARC/output/maps/UGC07524_g.fits\"\n",
      "- Downloading SPARC/output/maps/UGC07524_r.fits... (please be patient)\n",
      "http://astrobrowser.ft.uam.es/api/cutout?hipsbaseuri=https://alasky.cds.unistra.fr/SDSS/DR9/band-r&radeg=186.45359712911997&decdeg=33.54686115781999&radiusasec=602.26&pxsizeasec=0.50\n",
      "  Saving \"SPARC/output/maps/UGC07524_r.fits\"\n",
      "- Downloading SPARC/output/maps/UGC07524_i.fits... (please be patient)\n",
      "http://astrobrowser.ft.uam.es/api/cutout?hipsbaseuri=https://alasky.cds.unistra.fr/SDSS/DR9/band-i&radeg=186.45359712911997&decdeg=33.54686115781999&radiusasec=602.26&pxsizeasec=0.50\n",
      "  Saving \"SPARC/output/maps/UGC07524_i.fits\"\n"
     ]
    },
    {
     "name": "stderr",
     "output_type": "stream",
     "text": [
      "/tmp/ipykernel_301897/1617722128.py:49: RuntimeWarning: invalid value encountered in log10\n",
      "  img = -2.5*np.log10(data[band] * (nanomaggies/beam).to_value(3631*u.Jy/u.arcsec**2))\n",
      "/tmp/ipykernel_301897/322829930.py:10: RuntimeWarning: invalid value encountered in log10\n",
      "  mass[idx] = 10**(a - b * 2.5 * np.log10(data[mass_map[1]]/data[mass_map[2]]))\n",
      "/tmp/ipykernel_301897/322829930.py:33: RuntimeWarning: invalid value encountered in log10\n",
      "  return np.median(mass, axis=0), np.std(np.log10(mass), axis=0)\n",
      "/tmp/ipykernel_301897/4000349774.py:140: RuntimeWarning: invalid value encountered in divide\n",
      "  theta = np.arccos(x/r)\n"
     ]
    },
    {
     "name": "stdout",
     "output_type": "stream",
     "text": [
      "  Isophote: 16.54 +- 8.716 => 354093 pix\n",
      "  Center at (1202.56, 1211.43) moved 6.883 pix\n",
      "  Isophote: 16.53 +- 8.722 => 355293 pix\n",
      "  Center at (1202.49, 1211.39) moved 0.07905 pix\n",
      "> Ellipse centered at (1202.49, 1211.39)\n",
      "  (a, b, theta_0) = (231.26 pix, 184.93 pix, 25.72 deg)\n",
      "> WARNING: pixel units\n",
      "  TODO: convert to inclination and PA\n",
      "- Downloading SPARC/output/maps/UGC07559_g.fits... (please be patient)\n",
      "http://astrobrowser.ft.uam.es/api/cutout?hipsbaseuri=https://alasky.cds.unistra.fr/SDSS/DR9/band-g&radeg=186.773192&decdeg=37.141774&radiusasec=96.28&pxsizeasec=0.40\n"
     ]
    },
    {
     "name": "stderr",
     "output_type": "stream",
     "text": [
      "WARNING: File may have been truncated: actual file length (467528) is smaller than the expected size (469440) [astropy.io.fits.file]\n"
     ]
    },
    {
     "name": "stdout",
     "output_type": "stream",
     "text": [
      "  Saving \"SPARC/output/maps/UGC07559_g.fits\"\n",
      "- Downloading SPARC/output/maps/UGC07559_r.fits... (please be patient)\n",
      "http://astrobrowser.ft.uam.es/api/cutout?hipsbaseuri=https://alasky.cds.unistra.fr/SDSS/DR9/band-r&radeg=186.773192&decdeg=37.141774&radiusasec=96.28&pxsizeasec=0.40\n",
      "  Saving \"SPARC/output/maps/UGC07559_r.fits\"\n",
      "- Downloading SPARC/output/maps/UGC07559_i.fits... (please be patient)\n",
      "http://astrobrowser.ft.uam.es/api/cutout?hipsbaseuri=https://alasky.cds.unistra.fr/SDSS/DR9/band-i&radeg=186.773192&decdeg=37.141774&radiusasec=96.28&pxsizeasec=0.40\n",
      "  Saving \"SPARC/output/maps/UGC07559_i.fits\"\n"
     ]
    },
    {
     "name": "stderr",
     "output_type": "stream",
     "text": [
      "/tmp/ipykernel_301897/1617722128.py:49: RuntimeWarning: invalid value encountered in log10\n",
      "  img = -2.5*np.log10(data[band] * (nanomaggies/beam).to_value(3631*u.Jy/u.arcsec**2))\n",
      "/tmp/ipykernel_301897/322829930.py:10: RuntimeWarning: invalid value encountered in log10\n",
      "  mass[idx] = 10**(a - b * 2.5 * np.log10(data[mass_map[1]]/data[mass_map[2]]))\n",
      "/tmp/ipykernel_301897/322829930.py:33: RuntimeWarning: invalid value encountered in log10\n",
      "  return np.median(mass, axis=0), np.std(np.log10(mass), axis=0)\n",
      "/tmp/ipykernel_301897/4000349774.py:140: RuntimeWarning: invalid value encountered in divide\n",
      "  theta = np.arccos(x/r)\n"
     ]
    },
    {
     "name": "stdout",
     "output_type": "stream",
     "text": [
      "  Isophote: 7.053 +- 3.782 => 14091 pix\n",
      "  Center at (242.55, 241.08) moved 1.555 pix\n",
      "  Isophote: 7.033 +- 3.79 => 14107 pix\n",
      "  Center at (242.63, 241.20) moved 0.1464 pix\n",
      "> Ellipse centered at (242.63, 241.20)\n",
      "  (a, b, theta_0) = (42.12 pix, 34.16 pix, 59.77 deg)\n",
      "> WARNING: pixel units\n",
      "  TODO: convert to inclination and PA\n",
      "- Downloading SPARC/output/maps/UGC07577_g.fits... (please be patient)\n",
      "http://astrobrowser.ft.uam.es/api/cutout?hipsbaseuri=https://alasky.cds.unistra.fr/SDSS/DR9/band-g&radeg=186.92042&decdeg=43.49556&radiusasec=286.70&pxsizeasec=0.40\n"
     ]
    },
    {
     "name": "stderr",
     "output_type": "stream",
     "text": [
      "WARNING: File may have been truncated: actual file length (4115592) is smaller than the expected size (4118400) [astropy.io.fits.file]\n"
     ]
    },
    {
     "name": "stdout",
     "output_type": "stream",
     "text": [
      "  Saving \"SPARC/output/maps/UGC07577_g.fits\"\n",
      "- Downloading SPARC/output/maps/UGC07577_r.fits... (please be patient)\n",
      "http://astrobrowser.ft.uam.es/api/cutout?hipsbaseuri=https://alasky.cds.unistra.fr/SDSS/DR9/band-r&radeg=186.92042&decdeg=43.49556&radiusasec=286.70&pxsizeasec=0.40\n",
      "  Saving \"SPARC/output/maps/UGC07577_r.fits\"\n",
      "- Downloading SPARC/output/maps/UGC07577_i.fits... (please be patient)\n",
      "http://astrobrowser.ft.uam.es/api/cutout?hipsbaseuri=https://alasky.cds.unistra.fr/SDSS/DR9/band-i&radeg=186.92042&decdeg=43.49556&radiusasec=286.70&pxsizeasec=0.40\n",
      "  Saving \"SPARC/output/maps/UGC07577_i.fits\"\n"
     ]
    },
    {
     "name": "stderr",
     "output_type": "stream",
     "text": [
      "/tmp/ipykernel_301897/1617722128.py:49: RuntimeWarning: invalid value encountered in log10\n",
      "  img = -2.5*np.log10(data[band] * (nanomaggies/beam).to_value(3631*u.Jy/u.arcsec**2))\n",
      "/tmp/ipykernel_301897/322829930.py:10: RuntimeWarning: invalid value encountered in log10\n",
      "  mass[idx] = 10**(a - b * 2.5 * np.log10(data[mass_map[1]]/data[mass_map[2]]))\n",
      "/tmp/ipykernel_301897/322829930.py:33: RuntimeWarning: invalid value encountered in log10\n",
      "  return np.median(mass, axis=0), np.std(np.log10(mass), axis=0)\n",
      "/tmp/ipykernel_301897/4000349774.py:140: RuntimeWarning: invalid value encountered in divide\n",
      "  theta = np.arccos(x/r)\n"
     ]
    },
    {
     "name": "stdout",
     "output_type": "stream",
     "text": [
      "  Isophote: 61.61 +- 54.31 => 96902 pix\n",
      "  Center at (709.37, 719.40) moved 8 pix\n",
      "  Isophote: 62.31 +- 54.97 => 96643 pix\n",
      "  Center at (709.34, 719.48) moved 0.07748 pix\n",
      "> Ellipse centered at (709.34, 719.48)\n",
      "  (a, b, theta_0) = (127.91 pix, 69.62 pix, 25.17 deg)\n",
      "> WARNING: pixel units\n",
      "  TODO: convert to inclination and PA\n",
      "- Downloading SPARC/output/maps/UGC07603_g.fits... (please be patient)\n",
      "http://astrobrowser.ft.uam.es/api/cutout?hipsbaseuri=https://alasky.cds.unistra.fr/SDSS/DR9/band-g&radeg=187.18385083351998&decdeg=22.82042726653&radiusasec=93.04&pxsizeasec=0.40\n"
     ]
    },
    {
     "name": "stderr",
     "output_type": "stream",
     "text": [
      "WARNING: File may have been truncated: actual file length (437192) is smaller than the expected size (437760) [astropy.io.fits.file]\n"
     ]
    },
    {
     "name": "stdout",
     "output_type": "stream",
     "text": [
      "  Saving \"SPARC/output/maps/UGC07603_g.fits\"\n",
      "- Downloading SPARC/output/maps/UGC07603_r.fits... (please be patient)\n",
      "http://astrobrowser.ft.uam.es/api/cutout?hipsbaseuri=https://alasky.cds.unistra.fr/SDSS/DR9/band-r&radeg=187.18385083351998&decdeg=22.82042726653&radiusasec=93.04&pxsizeasec=0.40\n",
      "  Saving \"SPARC/output/maps/UGC07603_r.fits\"\n",
      "- Downloading SPARC/output/maps/UGC07603_i.fits... (please be patient)\n",
      "http://astrobrowser.ft.uam.es/api/cutout?hipsbaseuri=https://alasky.cds.unistra.fr/SDSS/DR9/band-i&radeg=187.18385083351998&decdeg=22.82042726653&radiusasec=93.04&pxsizeasec=0.40\n",
      "  Saving \"SPARC/output/maps/UGC07603_i.fits\"\n"
     ]
    },
    {
     "name": "stderr",
     "output_type": "stream",
     "text": [
      "/tmp/ipykernel_301897/1617722128.py:49: RuntimeWarning: invalid value encountered in log10\n",
      "  img = -2.5*np.log10(data[band] * (nanomaggies/beam).to_value(3631*u.Jy/u.arcsec**2))\n",
      "/tmp/ipykernel_301897/322829930.py:10: RuntimeWarning: invalid value encountered in log10\n",
      "  mass[idx] = 10**(a - b * 2.5 * np.log10(data[mass_map[1]]/data[mass_map[2]]))\n",
      "/tmp/ipykernel_301897/322829930.py:33: RuntimeWarning: invalid value encountered in log10\n",
      "  return np.median(mass, axis=0), np.std(np.log10(mass), axis=0)\n",
      "/tmp/ipykernel_301897/4000349774.py:140: RuntimeWarning: invalid value encountered in divide\n",
      "  theta = np.arccos(x/r)\n"
     ]
    },
    {
     "name": "stdout",
     "output_type": "stream",
     "text": [
      "  Isophote: 35.95 +- 13.28 => 8247 pix\n",
      "  Center at (238.57, 236.08) moved 6.361 pix\n",
      "  Isophote: 36.46 +- 13.18 => 7918 pix\n",
      "  Center at (238.15, 236.09) moved 0.4152 pix\n",
      "> Ellipse centered at (238.15, 236.09)\n",
      "  (a, b, theta_0) = (54.04 pix, 27.53 pix, 110.91 deg)\n",
      "> WARNING: pixel units\n",
      "  TODO: convert to inclination and PA\n",
      "- Downloading SPARC/output/maps/UGC07608_g.fits... (please be patient)\n",
      "http://astrobrowser.ft.uam.es/api/cutout?hipsbaseuri=https://alasky.cds.unistra.fr/SDSS/DR9/band-g&radeg=187.183659&decdeg=43.22383&radiusasec=150.74&pxsizeasec=0.40\n"
     ]
    },
    {
     "name": "stderr",
     "output_type": "stream",
     "text": [
      "WARNING: File may have been truncated: actual file length (1139912) is smaller than the expected size (1140480) [astropy.io.fits.file]\n"
     ]
    },
    {
     "name": "stdout",
     "output_type": "stream",
     "text": [
      "  Saving \"SPARC/output/maps/UGC07608_g.fits\"\n",
      "- Downloading SPARC/output/maps/UGC07608_r.fits... (please be patient)\n",
      "http://astrobrowser.ft.uam.es/api/cutout?hipsbaseuri=https://alasky.cds.unistra.fr/SDSS/DR9/band-r&radeg=187.183659&decdeg=43.22383&radiusasec=150.74&pxsizeasec=0.40\n",
      "  Saving \"SPARC/output/maps/UGC07608_r.fits\"\n",
      "- Downloading SPARC/output/maps/UGC07608_i.fits... (please be patient)\n",
      "http://astrobrowser.ft.uam.es/api/cutout?hipsbaseuri=https://alasky.cds.unistra.fr/SDSS/DR9/band-i&radeg=187.183659&decdeg=43.22383&radiusasec=150.74&pxsizeasec=0.40\n",
      "  Saving \"SPARC/output/maps/UGC07608_i.fits\"\n"
     ]
    },
    {
     "name": "stderr",
     "output_type": "stream",
     "text": [
      "/tmp/ipykernel_301897/1617722128.py:49: RuntimeWarning: invalid value encountered in log10\n",
      "  img = -2.5*np.log10(data[band] * (nanomaggies/beam).to_value(3631*u.Jy/u.arcsec**2))\n",
      "/tmp/ipykernel_301897/322829930.py:10: RuntimeWarning: invalid value encountered in log10\n",
      "  mass[idx] = 10**(a - b * 2.5 * np.log10(data[mass_map[1]]/data[mass_map[2]]))\n",
      "/tmp/ipykernel_301897/322829930.py:33: RuntimeWarning: invalid value encountered in log10\n",
      "  return np.median(mass, axis=0), np.std(np.log10(mass), axis=0)\n",
      "/tmp/ipykernel_301897/4000349774.py:140: RuntimeWarning: invalid value encountered in divide\n",
      "  theta = np.arccos(x/r)\n"
     ]
    },
    {
     "name": "stdout",
     "output_type": "stream",
     "text": [
      "  Isophote: 42.17 +- 37.78 => 29882 pix\n",
      "  Center at (365.84, 384.85) moved 13.65 pix\n",
      "  Isophote: 39.89 +- 35.42 => 28486 pix\n",
      "  Center at (365.62, 385.07) moved 0.3083 pix\n",
      "> Ellipse centered at (365.62, 385.07)\n",
      "  (a, b, theta_0) = (59.14 pix, 40.37 pix, 175.66 deg)\n",
      "> WARNING: pixel units\n",
      "  TODO: convert to inclination and PA\n",
      "- Downloading SPARC/output/maps/UGC07690_g.fits... (please be patient)\n",
      "http://astrobrowser.ft.uam.es/api/cutout?hipsbaseuri=https://alasky.cds.unistra.fr/SDSS/DR9/band-g&radeg=188.112056&decdeg=42.704121&radiusasec=57.99&pxsizeasec=0.40\n"
     ]
    },
    {
     "name": "stderr",
     "output_type": "stream",
     "text": [
      "WARNING: File may have been truncated: actual file length (171080) is smaller than the expected size (172800) [astropy.io.fits.file]\n"
     ]
    },
    {
     "name": "stdout",
     "output_type": "stream",
     "text": [
      "  Saving \"SPARC/output/maps/UGC07690_g.fits\"\n",
      "- Downloading SPARC/output/maps/UGC07690_r.fits... (please be patient)\n",
      "http://astrobrowser.ft.uam.es/api/cutout?hipsbaseuri=https://alasky.cds.unistra.fr/SDSS/DR9/band-r&radeg=188.112056&decdeg=42.704121&radiusasec=57.99&pxsizeasec=0.40\n",
      "  Saving \"SPARC/output/maps/UGC07690_r.fits\"\n",
      "- Downloading SPARC/output/maps/UGC07690_i.fits... (please be patient)\n",
      "http://astrobrowser.ft.uam.es/api/cutout?hipsbaseuri=https://alasky.cds.unistra.fr/SDSS/DR9/band-i&radeg=188.112056&decdeg=42.704121&radiusasec=57.99&pxsizeasec=0.40\n",
      "  Saving \"SPARC/output/maps/UGC07690_i.fits\"\n"
     ]
    },
    {
     "name": "stderr",
     "output_type": "stream",
     "text": [
      "/tmp/ipykernel_301897/1617722128.py:49: RuntimeWarning: invalid value encountered in log10\n",
      "  img = -2.5*np.log10(data[band] * (nanomaggies/beam).to_value(3631*u.Jy/u.arcsec**2))\n",
      "/tmp/ipykernel_301897/322829930.py:10: RuntimeWarning: invalid value encountered in log10\n",
      "  mass[idx] = 10**(a - b * 2.5 * np.log10(data[mass_map[1]]/data[mass_map[2]]))\n",
      "/tmp/ipykernel_301897/322829930.py:33: RuntimeWarning: invalid value encountered in log10\n",
      "  return np.median(mass, axis=0), np.std(np.log10(mass), axis=0)\n",
      "/tmp/ipykernel_301897/4000349774.py:140: RuntimeWarning: invalid value encountered in divide\n",
      "  theta = np.arccos(x/r)\n"
     ]
    },
    {
     "name": "stdout",
     "output_type": "stream",
     "text": [
      "  Isophote: 60.33 +- 13.21 => 2515 pix\n",
      "  Center at (146.01, 148.31) moved 3.457 pix\n",
      "  Isophote: 60.3 +- 13.21 => 2522 pix\n",
      "  Center at (146.04, 148.32) moved 0.03509 pix\n",
      "> Ellipse centered at (146.04, 148.32)\n",
      "  (a, b, theta_0) = (28.67 pix, 19.83 pix, 5.73 deg)\n",
      "> WARNING: pixel units\n",
      "  TODO: convert to inclination and PA\n",
      "- Downloading SPARC/output/maps/UGC07866_g.fits... (please be patient)\n",
      "http://astrobrowser.ft.uam.es/api/cutout?hipsbaseuri=https://alasky.cds.unistra.fr/SDSS/DR9/band-g&radeg=190.56314201313&decdeg=38.50162350915&radiusasec=110.13&pxsizeasec=0.40\n"
     ]
    },
    {
     "name": "stderr",
     "output_type": "stream",
     "text": [
      "WARNING: File may have been truncated: actual file length (610082) is smaller than the expected size (610560) [astropy.io.fits.file]\n"
     ]
    },
    {
     "name": "stdout",
     "output_type": "stream",
     "text": [
      "  Saving \"SPARC/output/maps/UGC07866_g.fits\"\n",
      "- Downloading SPARC/output/maps/UGC07866_r.fits... (please be patient)\n",
      "http://astrobrowser.ft.uam.es/api/cutout?hipsbaseuri=https://alasky.cds.unistra.fr/SDSS/DR9/band-r&radeg=190.56314201313&decdeg=38.50162350915&radiusasec=110.13&pxsizeasec=0.40\n",
      "  Saving \"SPARC/output/maps/UGC07866_r.fits\"\n",
      "- Downloading SPARC/output/maps/UGC07866_i.fits... (please be patient)\n",
      "http://astrobrowser.ft.uam.es/api/cutout?hipsbaseuri=https://alasky.cds.unistra.fr/SDSS/DR9/band-i&radeg=190.56314201313&decdeg=38.50162350915&radiusasec=110.13&pxsizeasec=0.40\n",
      "  Saving \"SPARC/output/maps/UGC07866_i.fits\"\n"
     ]
    },
    {
     "name": "stderr",
     "output_type": "stream",
     "text": [
      "/tmp/ipykernel_301897/1617722128.py:49: RuntimeWarning: invalid value encountered in log10\n",
      "  img = -2.5*np.log10(data[band] * (nanomaggies/beam).to_value(3631*u.Jy/u.arcsec**2))\n",
      "/tmp/ipykernel_301897/322829930.py:10: RuntimeWarning: invalid value encountered in log10\n",
      "  mass[idx] = 10**(a - b * 2.5 * np.log10(data[mass_map[1]]/data[mass_map[2]]))\n",
      "/tmp/ipykernel_301897/322829930.py:33: RuntimeWarning: invalid value encountered in log10\n",
      "  return np.median(mass, axis=0), np.std(np.log10(mass), axis=0)\n"
     ]
    },
    {
     "name": "stdout",
     "output_type": "stream",
     "text": [
      "  Isophote: 11.89 +- 6.12 => 12916 pix\n",
      "  Center at (277.50, 282.07) moved 6.866 pix\n",
      "  Isophote: 11.76 +- 5.925 => 12491 pix\n",
      "  Center at (277.38, 282.05) moved 0.1225 pix\n",
      "> Ellipse centered at (277.38, 282.05)\n",
      "  (a, b, theta_0) = (37.36 pix, 33.45 pix, 114.31 deg)\n",
      "> WARNING: pixel units\n",
      "  TODO: convert to inclination and PA\n",
      "- Downloading SPARC/output/maps/UGC08286_g.fits... (please be patient)\n",
      "http://astrobrowser.ft.uam.es/api/cutout?hipsbaseuri=https://alasky.cds.unistra.fr/SDSS/DR9/band-g&radeg=198.04918172867&decdeg=44.038146851&radiusasec=133.28&pxsizeasec=0.40\n"
     ]
    },
    {
     "name": "stderr",
     "output_type": "stream",
     "text": [
      "WARNING: File may have been truncated: actual file length (892658) is smaller than the expected size (892800) [astropy.io.fits.file]\n"
     ]
    },
    {
     "name": "stdout",
     "output_type": "stream",
     "text": [
      "  Saving \"SPARC/output/maps/UGC08286_g.fits\"\n",
      "- Downloading SPARC/output/maps/UGC08286_r.fits... (please be patient)\n",
      "http://astrobrowser.ft.uam.es/api/cutout?hipsbaseuri=https://alasky.cds.unistra.fr/SDSS/DR9/band-r&radeg=198.04918172867&decdeg=44.038146851&radiusasec=133.28&pxsizeasec=0.40\n",
      "  Saving \"SPARC/output/maps/UGC08286_r.fits\"\n",
      "- Downloading SPARC/output/maps/UGC08286_i.fits... (please be patient)\n",
      "http://astrobrowser.ft.uam.es/api/cutout?hipsbaseuri=https://alasky.cds.unistra.fr/SDSS/DR9/band-i&radeg=198.04918172867&decdeg=44.038146851&radiusasec=133.28&pxsizeasec=0.40\n",
      "  Saving \"SPARC/output/maps/UGC08286_i.fits\"\n"
     ]
    },
    {
     "name": "stderr",
     "output_type": "stream",
     "text": [
      "/tmp/ipykernel_301897/1617722128.py:49: RuntimeWarning: invalid value encountered in log10\n",
      "  img = -2.5*np.log10(data[band] * (nanomaggies/beam).to_value(3631*u.Jy/u.arcsec**2))\n",
      "/tmp/ipykernel_301897/322829930.py:10: RuntimeWarning: invalid value encountered in log10\n",
      "  mass[idx] = 10**(a - b * 2.5 * np.log10(data[mass_map[1]]/data[mass_map[2]]))\n",
      "/tmp/ipykernel_301897/322829930.py:33: RuntimeWarning: invalid value encountered in log10\n",
      "  return np.median(mass, axis=0), np.std(np.log10(mass), axis=0)\n"
     ]
    },
    {
     "name": "stdout",
     "output_type": "stream",
     "text": [
      "  Isophote: 52.32 +- 27.94 => 27070 pix\n",
      "  Center at (333.84, 336.43) moved 2.954 pix\n",
      "  Isophote: 51.81 +- 27.89 => 27594 pix\n",
      "  Center at (333.90, 336.43) moved 0.06138 pix\n",
      "> Ellipse centered at (333.90, 336.43)\n",
      "  (a, b, theta_0) = (124.68 pix, 34.45 pix, 132.11 deg)\n",
      "> WARNING: pixel units\n",
      "  TODO: convert to inclination and PA\n",
      "- Downloading SPARC/output/maps/UGC08490_g.fits... (please be patient)\n",
      "http://astrobrowser.ft.uam.es/api/cutout?hipsbaseuri=https://alasky.cds.unistra.fr/SDSS/DR9/band-g&radeg=202.4021167&decdeg=58.4187306&radiusasec=118.88&pxsizeasec=0.40\n"
     ]
    },
    {
     "name": "stderr",
     "output_type": "stream",
     "text": [
      "WARNING: File may have been truncated: actual file length (710930) is smaller than the expected size (711360) [astropy.io.fits.file]\n"
     ]
    },
    {
     "name": "stdout",
     "output_type": "stream",
     "text": [
      "  Saving \"SPARC/output/maps/UGC08490_g.fits\"\n",
      "- Downloading SPARC/output/maps/UGC08490_r.fits... (please be patient)\n",
      "http://astrobrowser.ft.uam.es/api/cutout?hipsbaseuri=https://alasky.cds.unistra.fr/SDSS/DR9/band-r&radeg=202.4021167&decdeg=58.4187306&radiusasec=118.88&pxsizeasec=0.40\n",
      "  Saving \"SPARC/output/maps/UGC08490_r.fits\"\n",
      "- Downloading SPARC/output/maps/UGC08490_i.fits... (please be patient)\n",
      "http://astrobrowser.ft.uam.es/api/cutout?hipsbaseuri=https://alasky.cds.unistra.fr/SDSS/DR9/band-i&radeg=202.4021167&decdeg=58.4187306&radiusasec=118.88&pxsizeasec=0.40\n",
      "  Saving \"SPARC/output/maps/UGC08490_i.fits\"\n"
     ]
    },
    {
     "name": "stderr",
     "output_type": "stream",
     "text": [
      "/tmp/ipykernel_301897/1617722128.py:49: RuntimeWarning: invalid value encountered in log10\n",
      "  img = -2.5*np.log10(data[band] * (nanomaggies/beam).to_value(3631*u.Jy/u.arcsec**2))\n",
      "/tmp/ipykernel_301897/322829930.py:10: RuntimeWarning: invalid value encountered in log10\n",
      "  mass[idx] = 10**(a - b * 2.5 * np.log10(data[mass_map[1]]/data[mass_map[2]]))\n",
      "/tmp/ipykernel_301897/322829930.py:33: RuntimeWarning: invalid value encountered in log10\n",
      "  return np.median(mass, axis=0), np.std(np.log10(mass), axis=0)\n"
     ]
    },
    {
     "name": "stdout",
     "output_type": "stream",
     "text": [
      "  Isophote: 64.45 +- 19.81 => 10775 pix\n",
      "  Center at (297.26, 303.61) moved 6.113 pix\n",
      "  Isophote: 64.77 +- 19.56 => 10551 pix\n",
      "  Center at (297.30, 303.47) moved 0.1415 pix\n",
      "> Ellipse centered at (297.30, 303.47)\n",
      "  (a, b, theta_0) = (57.58 pix, 41.61 pix, 10.48 deg)\n",
      "> WARNING: pixel units\n",
      "  TODO: convert to inclination and PA\n",
      "- Downloading SPARC/output/maps/UGC08550_g.fits... (please be patient)\n",
      "http://astrobrowser.ft.uam.es/api/cutout?hipsbaseuri=https://alasky.cds.unistra.fr/SDSS/DR9/band-g&radeg=203.5117958&decdeg=47.9154667&radiusasec=55.41&pxsizeasec=0.40\n"
     ]
    },
    {
     "name": "stderr",
     "output_type": "stream",
     "text": [
      "WARNING: File may have been truncated: actual file length (157448) is smaller than the expected size (158400) [astropy.io.fits.file]\n"
     ]
    },
    {
     "name": "stdout",
     "output_type": "stream",
     "text": [
      "  Saving \"SPARC/output/maps/UGC08550_g.fits\"\n",
      "- Downloading SPARC/output/maps/UGC08550_r.fits... (please be patient)\n",
      "http://astrobrowser.ft.uam.es/api/cutout?hipsbaseuri=https://alasky.cds.unistra.fr/SDSS/DR9/band-r&radeg=203.5117958&decdeg=47.9154667&radiusasec=55.41&pxsizeasec=0.40\n",
      "  Saving \"SPARC/output/maps/UGC08550_r.fits\"\n",
      "- Downloading SPARC/output/maps/UGC08550_i.fits... (please be patient)\n",
      "http://astrobrowser.ft.uam.es/api/cutout?hipsbaseuri=https://alasky.cds.unistra.fr/SDSS/DR9/band-i&radeg=203.5117958&decdeg=47.9154667&radiusasec=55.41&pxsizeasec=0.40\n",
      "  Saving \"SPARC/output/maps/UGC08550_i.fits\"\n"
     ]
    },
    {
     "name": "stderr",
     "output_type": "stream",
     "text": [
      "/tmp/ipykernel_301897/1617722128.py:49: RuntimeWarning: invalid value encountered in log10\n",
      "  img = -2.5*np.log10(data[band] * (nanomaggies/beam).to_value(3631*u.Jy/u.arcsec**2))\n",
      "/tmp/ipykernel_301897/322829930.py:10: RuntimeWarning: invalid value encountered in log10\n",
      "  mass[idx] = 10**(a - b * 2.5 * np.log10(data[mass_map[1]]/data[mass_map[2]]))\n",
      "/tmp/ipykernel_301897/322829930.py:33: RuntimeWarning: invalid value encountered in log10\n",
      "  return np.median(mass, axis=0), np.std(np.log10(mass), axis=0)\n",
      "/tmp/ipykernel_301897/4000349774.py:140: RuntimeWarning: invalid value encountered in divide\n",
      "  theta = np.arccos(x/r)\n"
     ]
    },
    {
     "name": "stdout",
     "output_type": "stream",
     "text": [
      "  Isophote: 48.82 +- 13.69 => 4017 pix\n",
      "  Center at (137.63, 140.75) moved 2.222 pix\n",
      "  Isophote: 48.35 +- 13.78 => 4120 pix\n",
      "  Center at (137.77, 140.97) moved 0.2574 pix\n",
      "> Ellipse centered at (137.77, 140.97)\n",
      "  (a, b, theta_0) = (31.72 pix, 17.42 pix, 73.10 deg)\n",
      "> WARNING: pixel units\n",
      "  TODO: convert to inclination and PA\n",
      "- Downloading SPARC/output/maps/UGC08699_g.fits... (please be patient)\n",
      "http://astrobrowser.ft.uam.es/api/cutout?hipsbaseuri=https://alasky.cds.unistra.fr/SDSS/DR9/band-g&radeg=206.28628163185&decdeg=41.50339405372&radiusasec=64.87&pxsizeasec=0.40\n"
     ]
    },
    {
     "name": "stderr",
     "output_type": "stream",
     "text": [
      "WARNING: File may have been truncated: actual file length (214130) is smaller than the expected size (216000) [astropy.io.fits.file]\n"
     ]
    },
    {
     "name": "stdout",
     "output_type": "stream",
     "text": [
      "  Saving \"SPARC/output/maps/UGC08699_g.fits\"\n",
      "- Downloading SPARC/output/maps/UGC08699_r.fits... (please be patient)\n",
      "http://astrobrowser.ft.uam.es/api/cutout?hipsbaseuri=https://alasky.cds.unistra.fr/SDSS/DR9/band-r&radeg=206.28628163185&decdeg=41.50339405372&radiusasec=64.87&pxsizeasec=0.40\n",
      "  Saving \"SPARC/output/maps/UGC08699_r.fits\"\n",
      "- Downloading SPARC/output/maps/UGC08699_i.fits... (please be patient)\n",
      "http://astrobrowser.ft.uam.es/api/cutout?hipsbaseuri=https://alasky.cds.unistra.fr/SDSS/DR9/band-i&radeg=206.28628163185&decdeg=41.50339405372&radiusasec=64.87&pxsizeasec=0.40\n",
      "  Saving \"SPARC/output/maps/UGC08699_i.fits\"\n"
     ]
    },
    {
     "name": "stderr",
     "output_type": "stream",
     "text": [
      "/tmp/ipykernel_301897/1617722128.py:49: RuntimeWarning: invalid value encountered in log10\n",
      "  img = -2.5*np.log10(data[band] * (nanomaggies/beam).to_value(3631*u.Jy/u.arcsec**2))\n",
      "/tmp/ipykernel_301897/322829930.py:10: RuntimeWarning: invalid value encountered in log10\n",
      "  mass[idx] = 10**(a - b * 2.5 * np.log10(data[mass_map[1]]/data[mass_map[2]]))\n",
      "/tmp/ipykernel_301897/322829930.py:33: RuntimeWarning: invalid value encountered in log10\n",
      "  return np.median(mass, axis=0), np.std(np.log10(mass), axis=0)\n"
     ]
    },
    {
     "name": "stdout",
     "output_type": "stream",
     "text": [
      "  Isophote: 603.1 +- 483.3 => 3666 pix\n",
      "  Center at (163.06, 161.46) moved 1.179 pix\n",
      "  Isophote: 603.9 +- 483.3 => 3626 pix\n",
      "  Center at (163.08, 161.54) moved 0.07783 pix\n",
      "> Ellipse centered at (163.08, 161.54)\n",
      "  (a, b, theta_0) = (35.33 pix, 15.84 pix, 4.34 deg)\n",
      "> WARNING: pixel units\n",
      "  TODO: convert to inclination and PA\n"
     ]
    },
    {
     "name": "stderr",
     "output_type": "stream",
     "text": [
      "/home/yago/.local/lib/python3.8/site-packages/numpy/lib/nanfunctions.py:1555: RuntimeWarning: Mean of empty slice\n",
      "  return np.nanmean(a, axis, out=out, keepdims=keepdims)\n"
     ]
    },
    {
     "name": "stdout",
     "output_type": "stream",
     "text": [
      "- Downloading SPARC/output/maps/UGC08837_g.fits... (please be patient)\n",
      "http://astrobrowser.ft.uam.es/api/cutout?hipsbaseuri=https://alasky.cds.unistra.fr/SDSS/DR9/band-g&radeg=208.690007&decdeg=53.905573&radiusasec=196.82&pxsizeasec=0.40\n"
     ]
    },
    {
     "name": "stderr",
     "output_type": "stream",
     "text": [
      "WARNING: File may have been truncated: actual file length (1943330) is smaller than the expected size (1944000) [astropy.io.fits.file]\n"
     ]
    },
    {
     "name": "stdout",
     "output_type": "stream",
     "text": [
      "  Saving \"SPARC/output/maps/UGC08837_g.fits\"\n",
      "- Downloading SPARC/output/maps/UGC08837_r.fits... (please be patient)\n",
      "http://astrobrowser.ft.uam.es/api/cutout?hipsbaseuri=https://alasky.cds.unistra.fr/SDSS/DR9/band-r&radeg=208.690007&decdeg=53.905573&radiusasec=196.82&pxsizeasec=0.40\n",
      "  Saving \"SPARC/output/maps/UGC08837_r.fits\"\n",
      "- Downloading SPARC/output/maps/UGC08837_i.fits... (please be patient)\n",
      "http://astrobrowser.ft.uam.es/api/cutout?hipsbaseuri=https://alasky.cds.unistra.fr/SDSS/DR9/band-i&radeg=208.690007&decdeg=53.905573&radiusasec=196.82&pxsizeasec=0.40\n",
      "  Saving \"SPARC/output/maps/UGC08837_i.fits\"\n"
     ]
    },
    {
     "name": "stderr",
     "output_type": "stream",
     "text": [
      "/tmp/ipykernel_301897/1617722128.py:49: RuntimeWarning: invalid value encountered in log10\n",
      "  img = -2.5*np.log10(data[band] * (nanomaggies/beam).to_value(3631*u.Jy/u.arcsec**2))\n",
      "/tmp/ipykernel_301897/322829930.py:10: RuntimeWarning: invalid value encountered in log10\n",
      "  mass[idx] = 10**(a - b * 2.5 * np.log10(data[mass_map[1]]/data[mass_map[2]]))\n",
      "/tmp/ipykernel_301897/322829930.py:33: RuntimeWarning: invalid value encountered in log10\n",
      "  return np.median(mass, axis=0), np.std(np.log10(mass), axis=0)\n"
     ]
    },
    {
     "name": "stdout",
     "output_type": "stream",
     "text": [
      "  Isophote: 17.65 +- 8.93 => 34524 pix\n",
      "  Center at (488.07, 482.97) moved 10.51 pix\n",
      "  Isophote: 18.64 +- 9.859 => 35157 pix\n",
      "  Center at (487.81, 483.27) moved 0.399 pix\n",
      "> Ellipse centered at (487.81, 483.27)\n",
      "  (a, b, theta_0) = (70.16 pix, 41.84 pix, 121.76 deg)\n",
      "> WARNING: pixel units\n",
      "  TODO: convert to inclination and PA\n",
      "- Downloading SPARC/output/maps/UGC09037_g.fits... (please be patient)\n",
      "http://astrobrowser.ft.uam.es/api/cutout?hipsbaseuri=https://alasky.cds.unistra.fr/SDSS/DR9/band-g&radeg=212.121275&decdeg=7.058&radiusasec=42.24&pxsizeasec=0.40\n"
     ]
    },
    {
     "name": "stderr",
     "output_type": "stream",
     "text": [
      "WARNING: File may have been truncated: actual file length (92768) is smaller than the expected size (95040) [astropy.io.fits.file]\n"
     ]
    },
    {
     "name": "stdout",
     "output_type": "stream",
     "text": [
      "  Saving \"SPARC/output/maps/UGC09037_g.fits\"\n",
      "- Downloading SPARC/output/maps/UGC09037_r.fits... (please be patient)\n",
      "http://astrobrowser.ft.uam.es/api/cutout?hipsbaseuri=https://alasky.cds.unistra.fr/SDSS/DR9/band-r&radeg=212.121275&decdeg=7.058&radiusasec=42.24&pxsizeasec=0.40\n",
      "  Saving \"SPARC/output/maps/UGC09037_r.fits\"\n",
      "- Downloading SPARC/output/maps/UGC09037_i.fits... (please be patient)\n",
      "http://astrobrowser.ft.uam.es/api/cutout?hipsbaseuri=https://alasky.cds.unistra.fr/SDSS/DR9/band-i&radeg=212.121275&decdeg=7.058&radiusasec=42.24&pxsizeasec=0.40\n",
      "  Saving \"SPARC/output/maps/UGC09037_i.fits\"\n"
     ]
    },
    {
     "name": "stderr",
     "output_type": "stream",
     "text": [
      "/tmp/ipykernel_301897/1617722128.py:49: RuntimeWarning: invalid value encountered in log10\n",
      "  img = -2.5*np.log10(data[band] * (nanomaggies/beam).to_value(3631*u.Jy/u.arcsec**2))\n",
      "/tmp/ipykernel_301897/322829930.py:10: RuntimeWarning: invalid value encountered in log10\n",
      "  mass[idx] = 10**(a - b * 2.5 * np.log10(data[mass_map[1]]/data[mass_map[2]]))\n",
      "/tmp/ipykernel_301897/322829930.py:33: RuntimeWarning: invalid value encountered in log10\n",
      "  return np.median(mass, axis=0), np.std(np.log10(mass), axis=0)\n",
      "/tmp/ipykernel_301897/4000349774.py:140: RuntimeWarning: invalid value encountered in divide\n",
      "  theta = np.arccos(x/r)\n"
     ]
    },
    {
     "name": "stdout",
     "output_type": "stream",
     "text": [
      "  Isophote: 108.5 +- 46.61 => 1597 pix\n",
      "  Center at (104.71, 104.44) moved 2.019 pix\n",
      "  Isophote: 108.5 +- 46.17 => 1559 pix\n",
      "  Center at (104.61, 104.47) moved 0.1036 pix\n",
      "> Ellipse centered at (104.61, 104.47)\n",
      "  (a, b, theta_0) = (19.65 pix, 13.38 pix, 64.22 deg)\n",
      "> WARNING: pixel units\n",
      "  TODO: convert to inclination and PA\n",
      "- Downloading SPARC/output/maps/UGC09133_g.fits... (please be patient)\n",
      "http://astrobrowser.ft.uam.es/api/cutout?hipsbaseuri=https://alasky.cds.unistra.fr/SDSS/DR9/band-g&radeg=214.03229478217997&decdeg=35.34385555044&radiusasec=100.71&pxsizeasec=0.40\n"
     ]
    },
    {
     "name": "stderr",
     "output_type": "stream",
     "text": [
      "WARNING: File may have been truncated: actual file length (510912) is smaller than the expected size (512640) [astropy.io.fits.file]\n"
     ]
    },
    {
     "name": "stdout",
     "output_type": "stream",
     "text": [
      "  Saving \"SPARC/output/maps/UGC09133_g.fits\"\n",
      "- Downloading SPARC/output/maps/UGC09133_r.fits... (please be patient)\n",
      "http://astrobrowser.ft.uam.es/api/cutout?hipsbaseuri=https://alasky.cds.unistra.fr/SDSS/DR9/band-r&radeg=214.03229478217997&decdeg=35.34385555044&radiusasec=100.71&pxsizeasec=0.40\n",
      "  Saving \"SPARC/output/maps/UGC09133_r.fits\"\n",
      "- Downloading SPARC/output/maps/UGC09133_i.fits... (please be patient)\n",
      "http://astrobrowser.ft.uam.es/api/cutout?hipsbaseuri=https://alasky.cds.unistra.fr/SDSS/DR9/band-i&radeg=214.03229478217997&decdeg=35.34385555044&radiusasec=100.71&pxsizeasec=0.40\n",
      "  Saving \"SPARC/output/maps/UGC09133_i.fits\"\n"
     ]
    },
    {
     "name": "stderr",
     "output_type": "stream",
     "text": [
      "/tmp/ipykernel_301897/1617722128.py:49: RuntimeWarning: invalid value encountered in log10\n",
      "  img = -2.5*np.log10(data[band] * (nanomaggies/beam).to_value(3631*u.Jy/u.arcsec**2))\n",
      "/tmp/ipykernel_301897/322829930.py:10: RuntimeWarning: invalid value encountered in log10\n",
      "  mass[idx] = 10**(a - b * 2.5 * np.log10(data[mass_map[1]]/data[mass_map[2]]))\n",
      "/tmp/ipykernel_301897/322829930.py:33: RuntimeWarning: invalid value encountered in log10\n",
      "  return np.median(mass, axis=0), np.std(np.log10(mass), axis=0)\n",
      "/tmp/ipykernel_301897/4000349774.py:140: RuntimeWarning: invalid value encountered in divide\n",
      "  theta = np.arccos(x/r)\n"
     ]
    },
    {
     "name": "stdout",
     "output_type": "stream",
     "text": [
      "  Isophote: 529.4 +- 316.2 => 6403 pix\n",
      "  Center at (247.68, 252.73) moved 4.383 pix\n",
      "  Isophote: 529.3 +- 314.5 => 6373 pix\n",
      "  Center at (247.71, 252.71) moved 0.03628 pix\n",
      "> Ellipse centered at (247.71, 252.71)\n",
      "  (a, b, theta_0) = (43.01 pix, 30.80 pix, 132.24 deg)\n",
      "> WARNING: pixel units\n",
      "  TODO: convert to inclination and PA\n",
      "- Downloading SPARC/output/maps/UGC09992_g.fits... (please be patient)\n",
      "http://astrobrowser.ft.uam.es/api/cutout?hipsbaseuri=https://alasky.cds.unistra.fr/SDSS/DR9/band-g&radeg=235.44939&decdeg=67.25426&radiusasec=80.19&pxsizeasec=0.40\n",
      "ERROR: could not download cutout (most likely, timeout) :^(\n",
      "- Downloading SPARC/output/maps/UGC09992_r.fits... (please be patient)\n",
      "http://astrobrowser.ft.uam.es/api/cutout?hipsbaseuri=https://alasky.cds.unistra.fr/SDSS/DR9/band-r&radeg=235.44939&decdeg=67.25426&radiusasec=80.19&pxsizeasec=0.40\n",
      "ERROR: could not download cutout (most likely, timeout) :^(\n",
      "- Downloading SPARC/output/maps/UGC09992_i.fits... (please be patient)\n",
      "http://astrobrowser.ft.uam.es/api/cutout?hipsbaseuri=https://alasky.cds.unistra.fr/SDSS/DR9/band-i&radeg=235.44939&decdeg=67.25426&radiusasec=80.19&pxsizeasec=0.40\n",
      "ERROR: could not download cutout (most likely, timeout) :^(\n",
      "- Downloading SPARC/output/maps/UGC10310_g.fits... (please be patient)\n",
      "http://astrobrowser.ft.uam.es/api/cutout?hipsbaseuri=https://alasky.cds.unistra.fr/SDSS/DR9/band-g&radeg=244.07458352836997&decdeg=47.04531357629&radiusasec=97.70&pxsizeasec=0.40\n"
     ]
    },
    {
     "name": "stderr",
     "output_type": "stream",
     "text": [
      "WARNING: File may have been truncated: actual file length (481122) is smaller than the expected size (483840) [astropy.io.fits.file]\n"
     ]
    },
    {
     "name": "stdout",
     "output_type": "stream",
     "text": [
      "  Saving \"SPARC/output/maps/UGC10310_g.fits\"\n",
      "- Downloading SPARC/output/maps/UGC10310_r.fits... (please be patient)\n",
      "http://astrobrowser.ft.uam.es/api/cutout?hipsbaseuri=https://alasky.cds.unistra.fr/SDSS/DR9/band-r&radeg=244.07458352836997&decdeg=47.04531357629&radiusasec=97.70&pxsizeasec=0.40\n",
      "  Saving \"SPARC/output/maps/UGC10310_r.fits\"\n",
      "- Downloading SPARC/output/maps/UGC10310_i.fits... (please be patient)\n",
      "http://astrobrowser.ft.uam.es/api/cutout?hipsbaseuri=https://alasky.cds.unistra.fr/SDSS/DR9/band-i&radeg=244.07458352836997&decdeg=47.04531357629&radiusasec=97.70&pxsizeasec=0.40\n",
      "  Saving \"SPARC/output/maps/UGC10310_i.fits\"\n"
     ]
    },
    {
     "name": "stderr",
     "output_type": "stream",
     "text": [
      "/tmp/ipykernel_301897/1617722128.py:49: RuntimeWarning: invalid value encountered in log10\n",
      "  img = -2.5*np.log10(data[band] * (nanomaggies/beam).to_value(3631*u.Jy/u.arcsec**2))\n",
      "/tmp/ipykernel_301897/322829930.py:10: RuntimeWarning: invalid value encountered in log10\n",
      "  mass[idx] = 10**(a - b * 2.5 * np.log10(data[mass_map[1]]/data[mass_map[2]]))\n",
      "/tmp/ipykernel_301897/322829930.py:33: RuntimeWarning: invalid value encountered in log10\n",
      "  return np.median(mass, axis=0), np.std(np.log10(mass), axis=0)\n"
     ]
    },
    {
     "name": "stdout",
     "output_type": "stream",
     "text": [
      "  Isophote: 23.24 +- 9.506 => 8026 pix\n",
      "  Center at (240.59, 253.28) moved 9.615 pix\n",
      "  Isophote: 23.51 +- 9.605 => 7941 pix\n",
      "  Center at (240.50, 253.38) moved 0.1296 pix\n",
      "> Ellipse centered at (240.50, 253.38)\n",
      "  (a, b, theta_0) = (29.84 pix, 22.49 pix, 150.95 deg)\n",
      "> WARNING: pixel units\n",
      "  TODO: convert to inclination and PA\n",
      "- Downloading SPARC/output/maps/UGC11455_g.fits... (please be patient)\n",
      "http://astrobrowser.ft.uam.es/api/cutout?hipsbaseuri=https://alasky.cds.unistra.fr/SDSS/DR9/band-g&radeg=292.48461015785&decdeg=72.11292714074&radiusasec=62.25&pxsizeasec=0.40\n",
      "ERROR: could not download cutout (most likely, timeout) :^(\n",
      "- Downloading SPARC/output/maps/UGC11455_r.fits... (please be patient)\n",
      "http://astrobrowser.ft.uam.es/api/cutout?hipsbaseuri=https://alasky.cds.unistra.fr/SDSS/DR9/band-r&radeg=292.48461015785&decdeg=72.11292714074&radiusasec=62.25&pxsizeasec=0.40\n",
      "ERROR: could not download cutout (most likely, timeout) :^(\n",
      "- Downloading SPARC/output/maps/UGC11455_i.fits... (please be patient)\n",
      "http://astrobrowser.ft.uam.es/api/cutout?hipsbaseuri=https://alasky.cds.unistra.fr/SDSS/DR9/band-i&radeg=292.48461015785&decdeg=72.11292714074&radiusasec=62.25&pxsizeasec=0.40\n",
      "ERROR: could not download cutout (most likely, timeout) :^(\n",
      "- Downloading SPARC/output/maps/UGC11557_g.fits... (please be patient)\n",
      "http://astrobrowser.ft.uam.es/api/cutout?hipsbaseuri=https://alasky.cds.unistra.fr/SDSS/DR9/band-g&radeg=306.0028549399&decdeg=60.1948373014&radiusasec=93.76&pxsizeasec=0.40\n"
     ]
    },
    {
     "name": "stderr",
     "output_type": "stream",
     "text": [
      "WARNING: File may have been truncated: actual file length (442802) is smaller than the expected size (443520) [astropy.io.fits.file]\n"
     ]
    },
    {
     "name": "stdout",
     "output_type": "stream",
     "text": [
      "  Saving \"SPARC/output/maps/UGC11557_g.fits\"\n",
      "- Downloading SPARC/output/maps/UGC11557_r.fits... (please be patient)\n",
      "http://astrobrowser.ft.uam.es/api/cutout?hipsbaseuri=https://alasky.cds.unistra.fr/SDSS/DR9/band-r&radeg=306.0028549399&decdeg=60.1948373014&radiusasec=93.76&pxsizeasec=0.40\n",
      "  Saving \"SPARC/output/maps/UGC11557_r.fits\"\n",
      "- Downloading SPARC/output/maps/UGC11557_i.fits... (please be patient)\n",
      "http://astrobrowser.ft.uam.es/api/cutout?hipsbaseuri=https://alasky.cds.unistra.fr/SDSS/DR9/band-i&radeg=306.0028549399&decdeg=60.1948373014&radiusasec=93.76&pxsizeasec=0.40\n",
      "  Saving \"SPARC/output/maps/UGC11557_i.fits\"\n"
     ]
    },
    {
     "name": "stderr",
     "output_type": "stream",
     "text": [
      "/tmp/ipykernel_301897/1617722128.py:49: RuntimeWarning: invalid value encountered in log10\n",
      "  img = -2.5*np.log10(data[band] * (nanomaggies/beam).to_value(3631*u.Jy/u.arcsec**2))\n",
      "/tmp/ipykernel_301897/322829930.py:10: RuntimeWarning: invalid value encountered in log10\n",
      "  mass[idx] = 10**(a - b * 2.5 * np.log10(data[mass_map[1]]/data[mass_map[2]]))\n",
      "/tmp/ipykernel_301897/322829930.py:33: RuntimeWarning: invalid value encountered in log10\n",
      "  return np.median(mass, axis=0), np.std(np.log10(mass), axis=0)\n"
     ]
    },
    {
     "name": "stdout",
     "output_type": "stream",
     "text": [
      "  Isophote: 59.12 +- 22.65 => 10120 pix\n",
      "  Center at (234.85, 234.45) moved 0.3546 pix\n",
      "> Ellipse centered at (234.85, 234.45)\n",
      "  (a, b, theta_0) = (57.87 pix, 28.73 pix, 172.93 deg)\n",
      "> WARNING: pixel units\n",
      "  TODO: convert to inclination and PA\n",
      "- Downloading SPARC/output/maps/UGC11820_g.fits... (please be patient)\n",
      "http://astrobrowser.ft.uam.es/api/cutout?hipsbaseuri=https://alasky.cds.unistra.fr/SDSS/DR9/band-g&radeg=327.36833&decdeg=14.23111&radiusasec=94.81&pxsizeasec=0.40\n"
     ]
    },
    {
     "name": "stderr",
     "output_type": "stream",
     "text": [
      "WARNING: File may have been truncated: actual file length (454130) is smaller than the expected size (455040) [astropy.io.fits.file]\n"
     ]
    },
    {
     "name": "stdout",
     "output_type": "stream",
     "text": [
      "  Saving \"SPARC/output/maps/UGC11820_g.fits\"\n",
      "- Downloading SPARC/output/maps/UGC11820_r.fits... (please be patient)\n",
      "http://astrobrowser.ft.uam.es/api/cutout?hipsbaseuri=https://alasky.cds.unistra.fr/SDSS/DR9/band-r&radeg=327.36833&decdeg=14.23111&radiusasec=94.81&pxsizeasec=0.40\n",
      "  Saving \"SPARC/output/maps/UGC11820_r.fits\"\n",
      "- Downloading SPARC/output/maps/UGC11820_i.fits... (please be patient)\n",
      "http://astrobrowser.ft.uam.es/api/cutout?hipsbaseuri=https://alasky.cds.unistra.fr/SDSS/DR9/band-i&radeg=327.36833&decdeg=14.23111&radiusasec=94.81&pxsizeasec=0.40\n",
      "  Saving \"SPARC/output/maps/UGC11820_i.fits\"\n"
     ]
    },
    {
     "name": "stderr",
     "output_type": "stream",
     "text": [
      "/tmp/ipykernel_301897/1617722128.py:49: RuntimeWarning: invalid value encountered in log10\n",
      "  img = -2.5*np.log10(data[band] * (nanomaggies/beam).to_value(3631*u.Jy/u.arcsec**2))\n",
      "/tmp/ipykernel_301897/322829930.py:10: RuntimeWarning: invalid value encountered in log10\n",
      "  mass[idx] = 10**(a - b * 2.5 * np.log10(data[mass_map[1]]/data[mass_map[2]]))\n",
      "/tmp/ipykernel_301897/322829930.py:33: RuntimeWarning: invalid value encountered in log10\n",
      "  return np.median(mass, axis=0), np.std(np.log10(mass), axis=0)\n"
     ]
    },
    {
     "name": "stdout",
     "output_type": "stream",
     "text": [
      "  Isophote: 47.41 +- 39.82 => 10008 pix\n",
      "  Center at (237.33, 236.06) moved 1.451 pix\n",
      "  Isophote: 47.37 +- 39.76 => 9882 pix\n",
      "  Center at (237.29, 236.19) moved 0.1382 pix\n",
      "> Ellipse centered at (237.29, 236.19)\n",
      "  (a, b, theta_0) = (27.56 pix, 21.78 pix, 163.50 deg)\n",
      "> WARNING: pixel units\n",
      "  TODO: convert to inclination and PA\n",
      "- Downloading SPARC/output/maps/UGC11914_g.fits... (please be patient)\n",
      "http://astrobrowser.ft.uam.es/api/cutout?hipsbaseuri=https://alasky.cds.unistra.fr/SDSS/DR9/band-g&radeg=331.96832694816&decdeg=31.35934230377&radiusasec=119.12&pxsizeasec=0.40\n"
     ]
    },
    {
     "name": "stderr",
     "output_type": "stream",
     "text": [
      "WARNING: File may have been truncated: actual file length (713312) is smaller than the expected size (714240) [astropy.io.fits.file]\n"
     ]
    },
    {
     "name": "stdout",
     "output_type": "stream",
     "text": [
      "  Saving \"SPARC/output/maps/UGC11914_g.fits\"\n",
      "- Downloading SPARC/output/maps/UGC11914_r.fits... (please be patient)\n",
      "http://astrobrowser.ft.uam.es/api/cutout?hipsbaseuri=https://alasky.cds.unistra.fr/SDSS/DR9/band-r&radeg=331.96832694816&decdeg=31.35934230377&radiusasec=119.12&pxsizeasec=0.40\n",
      "  Saving \"SPARC/output/maps/UGC11914_r.fits\"\n",
      "- Downloading SPARC/output/maps/UGC11914_i.fits... (please be patient)\n",
      "http://astrobrowser.ft.uam.es/api/cutout?hipsbaseuri=https://alasky.cds.unistra.fr/SDSS/DR9/band-i&radeg=331.96832694816&decdeg=31.35934230377&radiusasec=119.12&pxsizeasec=0.40\n",
      "  Saving \"SPARC/output/maps/UGC11914_i.fits\"\n"
     ]
    },
    {
     "name": "stderr",
     "output_type": "stream",
     "text": [
      "/tmp/ipykernel_301897/1617722128.py:49: RuntimeWarning: invalid value encountered in log10\n",
      "  img = -2.5*np.log10(data[band] * (nanomaggies/beam).to_value(3631*u.Jy/u.arcsec**2))\n",
      "/tmp/ipykernel_301897/322829930.py:10: RuntimeWarning: invalid value encountered in log10\n",
      "  mass[idx] = 10**(a - b * 2.5 * np.log10(data[mass_map[1]]/data[mass_map[2]]))\n",
      "/tmp/ipykernel_301897/322829930.py:33: RuntimeWarning: invalid value encountered in log10\n",
      "  return np.median(mass, axis=0), np.std(np.log10(mass), axis=0)\n",
      "/tmp/ipykernel_301897/4000349774.py:140: RuntimeWarning: invalid value encountered in divide\n",
      "  theta = np.arccos(x/r)\n"
     ]
    },
    {
     "name": "stdout",
     "output_type": "stream",
     "text": [
      "  Isophote: 1816 +- 813.6 => 8713 pix\n",
      "  Center at (297.20, 298.00) moved 0.8008 pix\n",
      "> Ellipse centered at (297.20, 298.00)\n",
      "  (a, b, theta_0) = (50.15 pix, 39.24 pix, 173.97 deg)\n",
      "> WARNING: pixel units\n",
      "  TODO: convert to inclination and PA\n",
      "- Downloading SPARC/output/maps/UGC12506_g.fits... (please be patient)\n",
      "http://astrobrowser.ft.uam.es/api/cutout?hipsbaseuri=https://alasky.cds.unistra.fr/SDSS/DR9/band-g&radeg=349.87705850479&decdeg=16.07478908974&radiusasec=60.53&pxsizeasec=0.40\n"
     ]
    },
    {
     "name": "stderr",
     "output_type": "stream",
     "text": [
      "WARNING: File may have been truncated: actual file length (186498) is smaller than the expected size (187200) [astropy.io.fits.file]\n"
     ]
    },
    {
     "name": "stdout",
     "output_type": "stream",
     "text": [
      "  Saving \"SPARC/output/maps/UGC12506_g.fits\"\n",
      "- Downloading SPARC/output/maps/UGC12506_r.fits... (please be patient)\n",
      "http://astrobrowser.ft.uam.es/api/cutout?hipsbaseuri=https://alasky.cds.unistra.fr/SDSS/DR9/band-r&radeg=349.87705850479&decdeg=16.07478908974&radiusasec=60.53&pxsizeasec=0.40\n",
      "  Saving \"SPARC/output/maps/UGC12506_r.fits\"\n",
      "- Downloading SPARC/output/maps/UGC12506_i.fits... (please be patient)\n",
      "http://astrobrowser.ft.uam.es/api/cutout?hipsbaseuri=https://alasky.cds.unistra.fr/SDSS/DR9/band-i&radeg=349.87705850479&decdeg=16.07478908974&radiusasec=60.53&pxsizeasec=0.40\n",
      "  Saving \"SPARC/output/maps/UGC12506_i.fits\"\n"
     ]
    },
    {
     "name": "stderr",
     "output_type": "stream",
     "text": [
      "/tmp/ipykernel_301897/1617722128.py:49: RuntimeWarning: invalid value encountered in log10\n",
      "  img = -2.5*np.log10(data[band] * (nanomaggies/beam).to_value(3631*u.Jy/u.arcsec**2))\n",
      "/tmp/ipykernel_301897/322829930.py:10: RuntimeWarning: invalid value encountered in log10\n",
      "  mass[idx] = 10**(a - b * 2.5 * np.log10(data[mass_map[1]]/data[mass_map[2]]))\n",
      "/tmp/ipykernel_301897/322829930.py:33: RuntimeWarning: invalid value encountered in log10\n",
      "  return np.median(mass, axis=0), np.std(np.log10(mass), axis=0)\n"
     ]
    },
    {
     "name": "stdout",
     "output_type": "stream",
     "text": [
      "  Isophote: 228.5 +- 178.8 => 3586 pix\n",
      "  Center at (150.92, 150.18) moved 1.439 pix\n",
      "  Isophote: 227.6 +- 178.6 => 3624 pix\n",
      "  Center at (150.94, 150.14) moved 0.04618 pix\n",
      "> Ellipse centered at (150.94, 150.14)\n",
      "  (a, b, theta_0) = (31.18 pix, 14.37 pix, 171.21 deg)\n",
      "> WARNING: pixel units\n",
      "  TODO: convert to inclination and PA\n",
      "- Downloading SPARC/output/maps/UGC12632_g.fits... (please be patient)\n",
      "http://astrobrowser.ft.uam.es/api/cutout?hipsbaseuri=https://alasky.cds.unistra.fr/SDSS/DR9/band-g&radeg=352.493915&decdeg=40.992218&radiusasec=204.36&pxsizeasec=0.40\n",
      "ERROR: could not download cutout (most likely, timeout) :^(\n",
      "- Downloading SPARC/output/maps/UGC12632_r.fits... (please be patient)\n",
      "http://astrobrowser.ft.uam.es/api/cutout?hipsbaseuri=https://alasky.cds.unistra.fr/SDSS/DR9/band-r&radeg=352.493915&decdeg=40.992218&radiusasec=204.36&pxsizeasec=0.40\n",
      "ERROR: could not download cutout (most likely, timeout) :^(\n",
      "- Downloading SPARC/output/maps/UGC12632_i.fits... (please be patient)\n",
      "http://astrobrowser.ft.uam.es/api/cutout?hipsbaseuri=https://alasky.cds.unistra.fr/SDSS/DR9/band-i&radeg=352.493915&decdeg=40.992218&radiusasec=204.36&pxsizeasec=0.40\n",
      "ERROR: could not download cutout (most likely, timeout) :^(\n",
      "- Downloading SPARC/output/maps/UGC12732_g.fits... (please be patient)\n",
      "http://astrobrowser.ft.uam.es/api/cutout?hipsbaseuri=https://alasky.cds.unistra.fr/SDSS/DR9/band-g&radeg=355.16608&decdeg=26.23642&radiusasec=123.76&pxsizeasec=0.40\n"
     ]
    },
    {
     "name": "stderr",
     "output_type": "stream",
     "text": [
      "WARNING: File may have been truncated: actual file length (769202) is smaller than the expected size (771840) [astropy.io.fits.file]\n"
     ]
    },
    {
     "name": "stdout",
     "output_type": "stream",
     "text": [
      "  Saving \"SPARC/output/maps/UGC12732_g.fits\"\n",
      "- Downloading SPARC/output/maps/UGC12732_r.fits... (please be patient)\n",
      "http://astrobrowser.ft.uam.es/api/cutout?hipsbaseuri=https://alasky.cds.unistra.fr/SDSS/DR9/band-r&radeg=355.16608&decdeg=26.23642&radiusasec=123.76&pxsizeasec=0.40\n",
      "  Saving \"SPARC/output/maps/UGC12732_r.fits\"\n",
      "- Downloading SPARC/output/maps/UGC12732_i.fits... (please be patient)\n",
      "http://astrobrowser.ft.uam.es/api/cutout?hipsbaseuri=https://alasky.cds.unistra.fr/SDSS/DR9/band-i&radeg=355.16608&decdeg=26.23642&radiusasec=123.76&pxsizeasec=0.40\n",
      "  Saving \"SPARC/output/maps/UGC12732_i.fits\"\n"
     ]
    },
    {
     "name": "stderr",
     "output_type": "stream",
     "text": [
      "/tmp/ipykernel_301897/1617722128.py:49: RuntimeWarning: invalid value encountered in log10\n",
      "  img = -2.5*np.log10(data[band] * (nanomaggies/beam).to_value(3631*u.Jy/u.arcsec**2))\n",
      "/tmp/ipykernel_301897/322829930.py:10: RuntimeWarning: invalid value encountered in log10\n",
      "  mass[idx] = 10**(a - b * 2.5 * np.log10(data[mass_map[1]]/data[mass_map[2]]))\n",
      "/tmp/ipykernel_301897/322829930.py:33: RuntimeWarning: invalid value encountered in log10\n",
      "  return np.median(mass, axis=0), np.std(np.log10(mass), axis=0)\n"
     ]
    },
    {
     "name": "stdout",
     "output_type": "stream",
     "text": [
      "  Isophote: 66.21 +- 47.81 => 16471 pix\n",
      "  Center at (309.58, 304.98) moved 4.516 pix\n",
      "  Isophote: 75.42 +- 56.46 => 16782 pix\n",
      "  Center at (309.23, 305.08) moved 0.3687 pix\n",
      "> Ellipse centered at (309.23, 305.08)\n",
      "  (a, b, theta_0) = (43.10 pix, 29.34 pix, 135.06 deg)\n",
      "> WARNING: pixel units\n",
      "  TODO: convert to inclination and PA\n",
      "- Downloading SPARC/output/maps/UGCA281_g.fits... (please be patient)\n",
      "http://astrobrowser.ft.uam.es/api/cutout?hipsbaseuri=https://alasky.cds.unistra.fr/SDSS/DR9/band-g&radeg=186.56539&decdeg=48.49398&radiusasec=249.84&pxsizeasec=0.40\n"
     ]
    },
    {
     "name": "stderr",
     "output_type": "stream",
     "text": [
      "WARNING: File may have been truncated: actual file length (3127880) is smaller than the expected size (3130560) [astropy.io.fits.file]\n"
     ]
    },
    {
     "name": "stdout",
     "output_type": "stream",
     "text": [
      "  Saving \"SPARC/output/maps/UGCA281_g.fits\"\n",
      "- Downloading SPARC/output/maps/UGCA281_r.fits... (please be patient)\n",
      "http://astrobrowser.ft.uam.es/api/cutout?hipsbaseuri=https://alasky.cds.unistra.fr/SDSS/DR9/band-r&radeg=186.56539&decdeg=48.49398&radiusasec=249.84&pxsizeasec=0.40\n",
      "  Saving \"SPARC/output/maps/UGCA281_r.fits\"\n",
      "- Downloading SPARC/output/maps/UGCA281_i.fits... (please be patient)\n",
      "http://astrobrowser.ft.uam.es/api/cutout?hipsbaseuri=https://alasky.cds.unistra.fr/SDSS/DR9/band-i&radeg=186.56539&decdeg=48.49398&radiusasec=249.84&pxsizeasec=0.40\n",
      "  Saving \"SPARC/output/maps/UGCA281_i.fits\"\n"
     ]
    },
    {
     "name": "stderr",
     "output_type": "stream",
     "text": [
      "/tmp/ipykernel_301897/1617722128.py:49: RuntimeWarning: invalid value encountered in log10\n",
      "  img = -2.5*np.log10(data[band] * (nanomaggies/beam).to_value(3631*u.Jy/u.arcsec**2))\n",
      "/tmp/ipykernel_301897/322829930.py:10: RuntimeWarning: invalid value encountered in log10\n",
      "  mass[idx] = 10**(a - b * 2.5 * np.log10(data[mass_map[1]]/data[mass_map[2]]))\n",
      "/tmp/ipykernel_301897/322829930.py:33: RuntimeWarning: invalid value encountered in log10\n",
      "  return np.median(mass, axis=0), np.std(np.log10(mass), axis=0)\n",
      "/tmp/ipykernel_301897/4000349774.py:140: RuntimeWarning: invalid value encountered in divide\n",
      "  theta = np.arccos(x/r)\n"
     ]
    },
    {
     "name": "stdout",
     "output_type": "stream",
     "text": [
      "  Isophote: 49.95 +- 49.44 => 126089 pix\n",
      "  Center at (622.63, 622.28) moved 3.606 pix\n",
      "  Isophote: 49.5 +- 48.99 => 126071 pix\n",
      "  Center at (622.63, 622.28) moved 0 pix\n",
      "> Ellipse centered at (622.63, 622.28)\n",
      "  (a, b, theta_0) = (119.79 pix, 48.49 pix, 171.06 deg)\n",
      "> WARNING: pixel units\n",
      "  TODO: convert to inclination and PA\n",
      "- Downloading SPARC/output/maps/UGCA442_g.fits... (please be patient)\n",
      "http://astrobrowser.ft.uam.es/api/cutout?hipsbaseuri=https://alasky.cds.unistra.fr/SDSS/DR9/band-g&radeg=355.9397875&decdeg=-31.9567694&radiusasec=223.81&pxsizeasec=0.40\n",
      "ERROR: could not download cutout (most likely, timeout) :^(\n",
      "- Downloading SPARC/output/maps/UGCA442_r.fits... (please be patient)\n",
      "http://astrobrowser.ft.uam.es/api/cutout?hipsbaseuri=https://alasky.cds.unistra.fr/SDSS/DR9/band-r&radeg=355.9397875&decdeg=-31.9567694&radiusasec=223.81&pxsizeasec=0.40\n",
      "ERROR: could not download cutout (most likely, timeout) :^(\n",
      "- Downloading SPARC/output/maps/UGCA442_i.fits... (please be patient)\n",
      "http://astrobrowser.ft.uam.es/api/cutout?hipsbaseuri=https://alasky.cds.unistra.fr/SDSS/DR9/band-i&radeg=355.9397875&decdeg=-31.9567694&radiusasec=223.81&pxsizeasec=0.40\n",
      "ERROR: could not download cutout (most likely, timeout) :^(\n",
      "- Downloading SPARC/output/maps/UGCA444_g.fits... (please be patient)\n",
      "http://astrobrowser.ft.uam.es/api/cutout?hipsbaseuri=https://alasky.cds.unistra.fr/SDSS/DR9/band-g&radeg=0.49125&decdeg=-15.46389&radiusasec=698.77&pxsizeasec=0.58\n",
      "ERROR: could not download cutout (most likely, timeout) :^(\n",
      "- Downloading SPARC/output/maps/UGCA444_r.fits... (please be patient)\n",
      "http://astrobrowser.ft.uam.es/api/cutout?hipsbaseuri=https://alasky.cds.unistra.fr/SDSS/DR9/band-r&radeg=0.49125&decdeg=-15.46389&radiusasec=698.77&pxsizeasec=0.58\n",
      "ERROR: could not download cutout (most likely, timeout) :^(\n",
      "- Downloading SPARC/output/maps/UGCA444_i.fits... (please be patient)\n",
      "http://astrobrowser.ft.uam.es/api/cutout?hipsbaseuri=https://alasky.cds.unistra.fr/SDSS/DR9/band-i&radeg=0.49125&decdeg=-15.46389&radiusasec=698.77&pxsizeasec=0.58\n",
      "ERROR: could not download cutout (most likely, timeout) :^(\n"
     ]
    }
   ],
   "source": [
    "for galaxy in SPARC_catalogue:\n",
    "    if np.ma.is_masked(galaxy['Galaxy']):\n",
    "        continue\n",
    "\n",
    "    # Cutouts\n",
    "    header, data = fectch_images(galaxy, SDSS_skymaps, fig_name=f\"{galaxy['Galaxy']}_cutouts\")\n",
    "    if header[next(iter(header))] is None:\n",
    "        continue\n",
    "\n",
    "    # Maps\n",
    "    surface_density_map, surface_density_err = estimate_stellar_surface_density(data, fig_name=f\"{galaxy['Galaxy']}_mass-to-light\")\n",
    "    hdr = header[next(iter(header))]\n",
    "    hdr['BUNIT'] = 'M_sun / pc^2'\n",
    "    hdr['COMMENT'] = 'M/L based on Garcia-Benito et al. (2019)'\n",
    "    wcs = WCS(hdr)\n",
    "    fits.PrimaryHDU(header=hdr, data=surface_density_map).writeto(\n",
    "        os.path.join(maps_dir, f\"{galaxy['Galaxy']}_surface_density.fits\"), overwrite=True, output_verify='fix')\n",
    "\n",
    "    # Profiles\n",
    "    ellipse = Ellipse(surface_density_map, fig_name=f\"{galaxy['Galaxy']}_ellipse\")\n",
    "    #if np.isnan(ellipse.theta_0):\n",
    "    #    continue\n",
    "    r_bins = {}\n",
    "    median_profile = {}\n",
    "    for band in data:\n",
    "        r_bins[band], median_profile[band] = ellipse.get_profile(data[band], fig_name=f\"{galaxy['Galaxy']}_{band}\")[:2]\n",
    "    r_mid = r_bins['g']\n",
    "    r_mid = (r_mid[1:] + r_mid[:-1]) / 2\n",
    "    \n",
    "    ra_mid = ellipse.x0 + r_mid * np.cos(ellipse.theta_0)\n",
    "    dec_mid = ellipse.y0 + r_mid * np.sin(ellipse.theta_0)\n",
    "    coord_mid = wcs.pixel_to_world(ra_mid, dec_mid)\n",
    "    coord_centre = wcs.pixel_to_world(ellipse.x0, ellipse.y0)\n",
    "    theta_mid = coord_centre.separation(coord_mid).to(u.arcsec)\n",
    "\n",
    "    profiles_table = QTable()\n",
    "    profiles_table.add_column(theta_mid, name='theta')\n",
    "    surface_density_profile, surface_density_profile_err = estimate_stellar_surface_density(median_profile, None, profiles_table)\n",
    "    profiles_table.add_column(surface_density_profile << u.Msun/u.pc**2, name='median')\n",
    "    profiles_table.add_column(surface_density_profile_err << u.dex, name='std')    \n",
    "    profiles_table.write(os.path.join(profiles_dir, f\"{galaxy['Galaxy']}_surface_density.csv\"), overwrite=True)\n",
    "    \n",
    "    # Plot median surface density and uncertainty\n",
    "\n",
    "    fig_name = f\"{galaxy['Galaxy']}_surface_density\"\n",
    "    fig = plt.figure(fig_name, figsize=(20, 5))\n",
    "    theta_disk = np.arcsin(galaxy['Rdisk'] / galaxy['D'])\n",
    "    '''\n",
    "    theta_disk = np.min(surface_density_map.shape) / 4\n",
    "    aper = EllipticalAperture((ellipse.isophote.x0, ellipse.isophote.y0),\n",
    "                              ellipse.isophote.sma,\n",
    "                              ellipse.isophote.sma * (1 - ellipse.isophote.eps),\n",
    "                              ellipse.isophote.pa)\n",
    "    aper2 = EllipticalAperture((ellipse.isophote.x0, ellipse.isophote.y0),\n",
    "                               theta_disk, theta_disk * (1 - ellipse.isophote.eps), ellipse.isophote.pa)\n",
    "    '''\n",
    "\n",
    "    ax = fig.add_subplot(141, projection=wcs)\n",
    "    ax.set_title('$\\Sigma_\\star$ [M$_\\odot$/pc$^2$]')\n",
    "    im = ax.imshow(surface_density_map, origin='lower', cmap='nipy_spectral', norm=colors.LogNorm(3, 3e3))\n",
    "    #aper.plot(ax, color='k')\n",
    "    #aper2.plot(ax, color='k', ls='--', lw=2)\n",
    "    ellipse.plot(ax, ellipse.a)\n",
    "    cb = plt.colorbar(im, ax=ax, shrink=.5)\n",
    "    \n",
    "    ax = fig.add_subplot(142, projection=wcs)\n",
    "    ax.set_title('uncertainty $\\Delta\\log_{10}\\Sigma_\\star$ [dex]')\n",
    "    im = ax.imshow(surface_density_err, cmap='Spectral_r', vmin=.05, vmax=.35)\n",
    "    #aper.plot(ax, color='k')\n",
    "    #aper2.plot(ax, color='k', ls='--', lw=2)\n",
    "    ellipse.plot(ax, ellipse.a)\n",
    "    cb = plt.colorbar(im, ax=ax, shrink=.5)\n",
    "    \n",
    "    ax = fig.add_subplot(143, position=[.55, .23, .4, .55])\n",
    "    ax.set_ylabel(r'$\\Sigma$ [M$_\\odot$ / pc$^2$]')\n",
    "    ax.set_xlabel(r'$R$ [arcsec]')\n",
    "    ax.set_yscale('log')\n",
    "    ra_pix = ellipse.x0 + ellipse.r_0.ravel() * np.cos(ellipse.theta_0)\n",
    "    dec_pix = ellipse.y0 + ellipse.r_0.ravel() * np.sin(ellipse.theta_0)\n",
    "    coord_pix = wcs.pixel_to_world(ra_pix, dec_pix)\n",
    "    theta_pix = coord_centre.separation(coord_pix)\n",
    "    #pixscale = wcs.proj_plane_pixel_scales()[0].to_value(u.arcsec)\n",
    "    #ax.plot(ellipse.r_0.ravel() * pixscale, surface_density_map.ravel(), 'k.', alpha=.05)\n",
    "    ax.plot(theta_pix.to_value(u.arcsec), surface_density_map.ravel(), 'c.', alpha=.05)\n",
    "    ax.plot(theta_mid.to_value(u.arcsec), surface_density_profile, 'r-+')\n",
    "    factor = 10**surface_density_profile_err\n",
    "    ax.fill_between(theta_mid.to_value(u.arcsec), surface_density_profile/factor, surface_density_profile*factor, color='k', alpha=.5)\n",
    "    ax.axvline(theta_disk.to_value(u.arcsec), c='k', ls=':')\n",
    "    ax.set_ylim(.3, 3e4)\n",
    "    ax.set_xlim(-.1*theta_disk.to_value(u.arcsec), 3*theta_disk.to_value(u.arcsec))\n",
    "    \n",
    "    fig.savefig(os.path.join(plots_dir, f\"{fig_name}.png\"), facecolor='white')\n",
    "    if not show_plots:\n",
    "        plt.close()\n"
   ]
  },
  {
   "cell_type": "code",
   "execution_count": 22,
   "id": "48cfad81-f21a-4936-8723-d5f7a721cdc0",
   "metadata": {},
   "outputs": [
    {
     "data": {
      "text/html": [
       "<div><i>QTable length=25</i>\n",
       "<table id=\"table140079031810656\" class=\"table-striped table-bordered table-condensed\">\n",
       "<thead><tr><th>theta</th><th>g and (g-r)</th><th>g and (g-i)</th><th>g and (r-i)</th><th>r and (g-r)</th><th>r and (g-i)</th><th>r and (r-i)</th><th>i and (g-r)</th><th>i and (g-i)</th><th>i and (r-i)</th><th>median</th><th>std</th></tr></thead>\n",
       "<thead><tr><th>arcsec</th><th>solMass / pc2</th><th>solMass / pc2</th><th>solMass / pc2</th><th>solMass / pc2</th><th>solMass / pc2</th><th>solMass / pc2</th><th>solMass / pc2</th><th>solMass / pc2</th><th>solMass / pc2</th><th>solMass / pc2</th><th>dex</th></tr></thead>\n",
       "<thead><tr><th>float64</th><th>float64</th><th>float64</th><th>float64</th><th>float64</th><th>float64</th><th>float64</th><th>float64</th><th>float64</th><th>float64</th><th>float64</th><th>float64</th></tr></thead>\n",
       "<tr><td>0.20000000006610544</td><td>44.6671334109143</td><td>6.784845875890111</td><td>0.27338174108629176</td><td>51.19593492272672</td><td>11.243741541147058</td><td>0.8774147472796263</td><td>26.00463071420302</td><td>6.924577579059447</td><td>0.7520031148777908</td><td>6.924577579059447</td><td>0.7757973852621529</td></tr>\n",
       "<tr><td>1.000000000087629</td><td>33.70350967120573</td><td>4.518360289591443</td><td>0.14623061157921718</td><td>38.58860409266156</td><td>7.661394997416895</td><td>0.502347280178696</td><td>18.850255452447428</td><td>4.599792276838024</td><td>0.4292929958832526</td><td>4.599792276838024</td><td>0.8279654499935379</td></tr>\n",
       "<tr><td>2.600000000052029</td><td>13.512856901793619</td><td>1.9064204198911416</td><td>0.07175141784659349</td><td>15.422220249339508</td><td>3.1780410076183205</td><td>0.23522507365474274</td><td>7.646636165003055</td><td>1.9325492095943513</td><td>0.20059071799807826</td><td>1.9325492095943513</td><td>0.7968052318708602</td></tr>\n",
       "<tr><td>5.000000000024732</td><td>7.919855674258005</td><td>0.7572842098029109</td><td>0.013451529495362068</td><td>9.045395999042299</td><td>1.3674217807284534</td><td>0.05566432873109324</td><td>3.976136158098725</td><td>0.7661501591959351</td><td>0.04721383057056722</td><td>0.7661501591959351</td><td>0.9702555234576102</td></tr>\n",
       "<tr><td>8.200000000051903</td><td>5.169968121628743</td><td>1.1972159627162118</td><td>0.10942157075819986</td><td>5.919289981240646</td><td>1.8182394121531944</td><td>0.27239936579703555</td><td>3.425571241990682</td><td>1.2239588463348232</td><td>0.23476542125152958</td><td>1.2239588463348232</td><td>0.5870494454992564</td></tr>\n",
       "<tr><td>12.199999999978658</td><td>4.495694581057858</td><td>1.4633383229558283</td><td>0.24211086674742233</td><td>5.1634613836318</td><td>2.088786386032484</td><td>0.5013528280248251</td><td>3.32395191627173</td><td>1.506852624355713</td><td>0.4356223684924446</td><td>1.506852624355713</td><td>0.4456197825968917</td></tr>\n",
       "<tr><td>...</td><td>...</td><td>...</td><td>...</td><td>...</td><td>...</td><td>...</td><td>...</td><td>...</td><td>...</td><td>...</td><td>...</td></tr>\n",
       "<tr><td>136.99999978497203</td><td>7.786730063057963</td><td>3.1076784790039174</td><td>0.48601843220735463</td><td>9.180466826947075</td><td>4.498896369849827</td><td>1.0237213232340185</td><td>6.344225958172324</td><td>3.3297536769116345</td><td>0.913939435400602</td><td>3.3297536769116345</td><td>0.427541215025786</td></tr>\n",
       "<tr><td>152.19999970217899</td><td>0.2376546014242728</td><td>5.964120522608913</td><td>3241.011519579409</td><td>0.275468535155993</td><td>3.615388525656721</td><td>544.4062150257586</td><td>0.6840552196239883</td><td>6.437295608498659</td><td>510.2564696181904</td><td>5.964120522608913</td><td>1.4484273225407058</td></tr>\n",
       "<tr><td>168.19999959456342</td><td>1.108292243227841</td><td>15.05479722645659</td><td>2137.7093897742106</td><td>1.2980707491232062</td><td>10.556978645433274</td><td>544.4062150257586</td><td>2.6729335714317015</td><td>16.41913410265622</td><td>510.2564696181904</td><td>15.05479722645659</td><td>1.1489538904519283</td></tr>\n",
       "<tr><td>184.99999945656998</td><td>1.108292243227841</td><td>15.05479722645659</td><td>2137.7093897742106</td><td>1.2980707491232062</td><td>10.556978645433274</td><td>544.4062150257586</td><td>2.6729335714317015</td><td>16.41913410265622</td><td>510.2564696181904</td><td>15.05479722645659</td><td>1.1489538904519283</td></tr>\n",
       "<tr><td>202.59999928165954</td><td>0.2376546014242728</td><td>5.964120522608913</td><td>3241.011519579409</td><td>0.275468535155993</td><td>3.615388525656721</td><td>544.4062150257586</td><td>0.6840552196239883</td><td>6.437295608498659</td><td>510.2564696181904</td><td>5.964120522608913</td><td>1.4484273225407058</td></tr>\n",
       "<tr><td>220.99999906241166</td><td>0.2376546014242728</td><td>5.964120522608913</td><td>3241.011519579409</td><td>0.275468535155993</td><td>3.615388525656721</td><td>544.4062150257586</td><td>0.6840552196239883</td><td>6.437295608498659</td><td>510.2564696181904</td><td>5.964120522608913</td><td>1.4484273225407058</td></tr>\n",
       "<tr><td>240.19999879027912</td><td>1.108292243227841</td><td>0.3474582649914823</td><td>0.038421818485918226</td><td>1.2980707491232062</td><td>0.520786195147754</td><td>0.09012644978772634</td><td>0.8307338027462703</td><td>0.36803559941284436</td><td>0.0796785450421569</td><td>0.36803559941284436</td><td>0.5155877490861418</td></tr>\n",
       "</table></div>"
      ],
      "text/plain": [
       "<QTable length=25>\n",
       "       theta           g and (g-r)        g and (g-i)         g and (r-i)         r and (g-r)     ...     i and (g-i)         i and (r-i)            median              std        \n",
       "       arcsec         solMass / pc2      solMass / pc2       solMass / pc2       solMass / pc2    ...    solMass / pc2       solMass / pc2       solMass / pc2           dex        \n",
       "      float64            float64            float64             float64             float64       ...       float64             float64             float64            float64      \n",
       "------------------- ------------------ ------------------ -------------------- ------------------ ... ------------------- ------------------- ------------------- ------------------\n",
       "0.20000000006610544   44.6671334109143  6.784845875890111  0.27338174108629176  51.19593492272672 ...   6.924577579059447  0.7520031148777908   6.924577579059447 0.7757973852621529\n",
       "  1.000000000087629  33.70350967120573  4.518360289591443  0.14623061157921718  38.58860409266156 ...   4.599792276838024  0.4292929958832526   4.599792276838024 0.8279654499935379\n",
       "  2.600000000052029 13.512856901793619 1.9064204198911416  0.07175141784659349 15.422220249339508 ...  1.9325492095943513 0.20059071799807826  1.9325492095943513 0.7968052318708602\n",
       "  5.000000000024732  7.919855674258005 0.7572842098029109 0.013451529495362068  9.045395999042299 ...  0.7661501591959351 0.04721383057056722  0.7661501591959351 0.9702555234576102\n",
       "  8.200000000051903  5.169968121628743 1.1972159627162118  0.10942157075819986  5.919289981240646 ...  1.2239588463348232 0.23476542125152958  1.2239588463348232 0.5870494454992564\n",
       " 12.199999999978658  4.495694581057858 1.4633383229558283  0.24211086674742233    5.1634613836318 ...   1.506852624355713  0.4356223684924446   1.506852624355713 0.4456197825968917\n",
       "                ...                ...                ...                  ...                ... ...                 ...                 ...                 ...                ...\n",
       " 136.99999978497203  7.786730063057963 3.1076784790039174  0.48601843220735463  9.180466826947075 ...  3.3297536769116345   0.913939435400602  3.3297536769116345  0.427541215025786\n",
       " 152.19999970217899 0.2376546014242728  5.964120522608913    3241.011519579409  0.275468535155993 ...   6.437295608498659   510.2564696181904   5.964120522608913 1.4484273225407058\n",
       " 168.19999959456342  1.108292243227841  15.05479722645659   2137.7093897742106 1.2980707491232062 ...   16.41913410265622   510.2564696181904   15.05479722645659 1.1489538904519283\n",
       " 184.99999945656998  1.108292243227841  15.05479722645659   2137.7093897742106 1.2980707491232062 ...   16.41913410265622   510.2564696181904   15.05479722645659 1.1489538904519283\n",
       " 202.59999928165954 0.2376546014242728  5.964120522608913    3241.011519579409  0.275468535155993 ...   6.437295608498659   510.2564696181904   5.964120522608913 1.4484273225407058\n",
       " 220.99999906241166 0.2376546014242728  5.964120522608913    3241.011519579409  0.275468535155993 ...   6.437295608498659   510.2564696181904   5.964120522608913 1.4484273225407058\n",
       " 240.19999879027912  1.108292243227841 0.3474582649914823 0.038421818485918226 1.2980707491232062 ... 0.36803559941284436  0.0796785450421569 0.36803559941284436 0.5155877490861418"
      ]
     },
     "execution_count": 22,
     "metadata": {},
     "output_type": "execute_result"
    }
   ],
   "source": [
    "profiles_table"
   ]
  },
  {
   "cell_type": "code",
   "execution_count": 19,
   "id": "129bd34d-fbae-4bc3-9558-406f5d767cc9",
   "metadata": {},
   "outputs": [
    {
     "data": {
      "text/plain": [
       "(4.999999999632745, <Quantity 5.>)"
      ]
     },
     "execution_count": 19,
     "metadata": {},
     "output_type": "execute_result"
    }
   ],
   "source": [
    "SkyCoord(0*u.deg, 60*u.deg).separation(SkyCoord(10*u.arcsec, 60*u.deg)).to_value(u.arcsec), 10*np.cos(60*u.deg)"
   ]
  },
  {
   "cell_type": "code",
   "execution_count": 20,
   "id": "3d3b62b2-4665-4e66-adce-d474204ce0ee",
   "metadata": {},
   "outputs": [
    {
     "data": {
      "text/plain": [
       "<SkyCoord (ICRS): (ra, dec) in deg\n",
       "    [(186.6699143 , 48.42464377), (186.66991453, 48.42475488),\n",
       "     (186.66991476, 48.42486599), (186.67014116, 48.53464367),\n",
       "     (186.58705708, 48.47968909)]>"
      ]
     },
     "execution_count": 20,
     "metadata": {},
     "output_type": "execute_result"
    }
   ],
   "source": [
    "wcs.array_index_to_world([0, 1, 2, 990, 495], [0, 0, 0, 0, 495])#.dec.to(u.arcsec)"
   ]
  },
  {
   "cell_type": "code",
   "execution_count": 21,
   "id": "d96dff8d-ffe7-43f9-b502-8fa08131728e",
   "metadata": {},
   "outputs": [
    {
     "ename": "NameError",
     "evalue": "name 'ra_bins' is not defined",
     "output_type": "error",
     "traceback": [
      "\u001b[0;31m---------------------------------------------------------------------------\u001b[0m",
      "\u001b[0;31mNameError\u001b[0m                                 Traceback (most recent call last)",
      "\u001b[0;32m/tmp/ipykernel_301897/479509535.py\u001b[0m in \u001b[0;36m<module>\u001b[0;34m\u001b[0m\n\u001b[0;32m----> 1\u001b[0;31m \u001b[0mwcs\u001b[0m\u001b[0;34m.\u001b[0m\u001b[0mpixel_to_world\u001b[0m\u001b[0;34m(\u001b[0m\u001b[0mra_bins\u001b[0m\u001b[0;34m,\u001b[0m \u001b[0mdec_bins\u001b[0m\u001b[0;34m)\u001b[0m\u001b[0;34m.\u001b[0m\u001b[0mdec\u001b[0m\u001b[0;34m.\u001b[0m\u001b[0mto_value\u001b[0m\u001b[0;34m(\u001b[0m\u001b[0mu\u001b[0m\u001b[0;34m.\u001b[0m\u001b[0marcsec\u001b[0m\u001b[0;34m)\u001b[0m\u001b[0;34m\u001b[0m\u001b[0;34m\u001b[0m\u001b[0m\n\u001b[0m",
      "\u001b[0;31mNameError\u001b[0m: name 'ra_bins' is not defined"
     ]
    }
   ],
   "source": [
    "wcs.pixel_to_world(ra_bins, dec_bins).dec.to_value(u.arcsec)"
   ]
  },
  {
   "cell_type": "code",
   "execution_count": null,
   "id": "0748cae5-9c65-45c5-b27a-852ff94a35d7",
   "metadata": {},
   "outputs": [],
   "source": [
    "theta_mid"
   ]
  },
  {
   "cell_type": "code",
   "execution_count": null,
   "id": "5cefa3fb-9b57-4163-b26d-fe8d8e613846",
   "metadata": {},
   "outputs": [],
   "source": [
    "wcs.array_index_to_world(indices[1], indices[0])"
   ]
  },
  {
   "cell_type": "markdown",
   "id": "d079810b-36ea-44e9-a90d-370b15ef5cad",
   "metadata": {},
   "source": [
    "# -- Old Ellipse classes"
   ]
  },
  {
   "cell_type": "code",
   "execution_count": null,
   "id": "60e451d3-56bf-4dbc-aefc-63a348e56da8",
   "metadata": {},
   "outputs": [],
   "source": [
    "class old_Ellipse(object):\n",
    "    \n",
    "    def __init__(self, data, fig_name=None):\n",
    "        self.y0, self.x0 = data.shape\n",
    "        self.x0 /= 2\n",
    "        self.y0 /= 2\n",
    "        n_bins = np.min(data.shape) - 1\n",
    "        theta = np.linspace(0, 2*np.pi, 361)\n",
    "        inv_r2 = np.geomspace((2 / n_bins)**2, 1, n_bins)\n",
    "        r = np.sqrt(1 / inv_r2)\n",
    "        y = self.y0 + r[:, np.newaxis] * np.cos(theta[np.newaxis, :]) # position angle refers to North\n",
    "        x = self.x0 - r[:, np.newaxis] * np.sin(theta[np.newaxis, :]) # couter-clockwise\n",
    "        surface_density_polar = data[y.astype(int), x.astype(int)]\n",
    "        surface_density_polar = np.where(surface_density_polar > 0, surface_density_polar, 0)\n",
    "\n",
    "        half_galaxy_radius_pix = n_bins // 8\n",
    "        inner_mean = np.nanmean(surface_density_polar[r < half_galaxy_radius_pix, :])\n",
    "        inner_median = np.nanmedian(surface_density_polar[r < half_galaxy_radius_pix, :])\n",
    "        #isophote = (surface_density_polar > inner_median) & (surface_density_polar < inner_mean)\n",
    "        #print(f'Isophote between {inner_median:.4g} and {inner_mean:.4g}')\n",
    "        #mu = (inner_median + inner_mean) / 2\n",
    "        #sigma = (inner_mean - inner_median) / 2\n",
    "        #isophote = np.exp(-.5*(surface_density_polar - mu)**2 / sigma**2)\n",
    "        isophote = np.fabs(surface_density_polar - inner_mean)\n",
    "        mad = np.nanmedian(isophote)\n",
    "        print(mad)\n",
    "        isophote /= mad\n",
    "        isophote = np.exp(-isophote**2)\n",
    "        #isophote = (r[:, np.newaxis] < half_galaxy_radius_pix) & (surface_density_polar > inner_mean)\n",
    "        #isophote[half_galaxy_radius_pix:] = False\n",
    "        isophote_radius = np.nanmean(np.where(isophote, r[:, np.newaxis], np.nan), axis=0)\n",
    "        mean_isophote_radius = np.nanmean(isophote_radius)\n",
    "        a = np.nansum(((isophote_radius-mean_isophote_radius)*np.sin(2*theta))[:-1]) / 180\n",
    "        b = np.nansum(((isophote_radius-mean_isophote_radius)*np.cos(2*theta))[:-1]) / 180\n",
    "        amplitude = np.sqrt(a**2 + b**2)\n",
    "        if a < 0:\n",
    "            self.position_angle = np.pi - np.arccos(b/amplitude) / 2\n",
    "        else:\n",
    "            self.position_angle = np.arccos(b/amplitude) / 2\n",
    "        print(f' A: {a/amplitude:.2f}, {-np.arcsin(a/amplitude)*180/np.pi:.2f}')\n",
    "        print(f' B: {b/amplitude:.2f}, {np.arccos(b/amplitude)*180/np.pi:.2f}')\n",
    "        print(f' theta, A, B: {self.position_angle*180/np.pi:.2f}, {-np.sin(2*self.position_angle):.2f}, {np.cos(2*self.position_angle):.2f} {fig_name}')\n",
    "        self.axis_ratio = (mean_isophote_radius + amplitude) / (mean_isophote_radius - amplitude)\n",
    "\n",
    "        if fig_name is not None:\n",
    "            fig, axes = new_figure(fig_name, nrows=1)\n",
    "            ax = axes[0, 0]\n",
    "            ax.set_title('$\\Sigma_\\star$ [M$_\\odot$/pc$^2$]')\n",
    "            ax.set_ylabel('radius [pix]')\n",
    "            #im = ax.imshow(surface_density_polar, origin='lower', interpolation='nearest', cmap='nipy_spectral', norm=colors.LogNorm(3, 3e3))\n",
    "            im = ax.imshow(isophote, origin='lower', interpolation='nearest')\n",
    "            #ax.contour(surface_density_polar, levels=[inner_median, inner_mean], colors=['k', 'k'])\n",
    "            #ax.contour(isophote)\n",
    "            ax.plot(isophote_radius, 'w--')\n",
    "            #ax.plot(mean_isophote_radius + a*np.sin(2*theta) + b*np.cos(2*theta), 'k--')\n",
    "            ax.plot(mean_isophote_radius + amplitude*np.cos(2*(theta-self.position_angle)), 'k--', label=f'(a/b, PA) = ({self.axis_ratio:.2f}, {self.position_angle*180/np.pi:.1f})')\n",
    "            a = half_galaxy_radius_pix\n",
    "            b = a/self.axis_ratio\n",
    "            amplitude = (self.axis_ratio - 1) / (self.axis_ratio + 1)\n",
    "            ax.plot((a+b)/2 * (1 + amplitude*np.cos(2*(theta-self.position_angle))), 'w--')\n",
    "            a = 2*half_galaxy_radius_pix\n",
    "            b = a/self.axis_ratio\n",
    "            amplitude = (self.axis_ratio - 1) / (self.axis_ratio + 1)\n",
    "            ax.plot((a+b)/2 * (1 + amplitude*np.cos(2*(theta-self.position_angle))), 'w--')\n",
    "            ax.axhline(half_galaxy_radius_pix, c='k', ls=':')\n",
    "            ax.axvline(self.position_angle*180/np.pi, c='k', ls=':')\n",
    "            ax.axvline(self.position_angle*180/np.pi +180, c='k', ls=':')\n",
    "            cb = plt.colorbar(im, ax=ax, shrink=.75)\n",
    "            ax.legend()\n",
    "            ax.set_xlabel('theta [deg]')\n",
    "            fig.savefig(os.path.join(plots_dir, f'{fig_name}.png'), facecolor='white')\n",
    "            if not show_plots:\n",
    "                plt.close()\n",
    "\n",
    "        # Deprojection / profiles:\n",
    "        x = np.arange(data.shape[1]) - self.x0\n",
    "        y = np.arange(data.shape[0]) - self.y0\n",
    "        r = np.sqrt((x**2)[np.newaxis, :] + (y**2)[:, np.newaxis])\n",
    "        r[r < 0.1] = .1\n",
    "        theta = np.where(x < 0, np.arccos(y[:, np.newaxis]/r), 2*np.pi - np.arccos(y[:, np.newaxis]/r))\n",
    "        theta -= self.position_angle\n",
    "        theta[theta < 0] += 2*np.pi\n",
    "        self.theta_0 = np.arctan(np.tan(theta) * self.axis_ratio)\n",
    "        self.theta_0[(theta >= np.pi/2) & (theta < 1.5*np.pi)] += np.pi\n",
    "        self.theta_0[self.theta_0 < 0] += 2*np.pi\n",
    "        self.r_0 = r / np.sqrt(np.cos(self.theta_0)**2 + (np.sin(self.theta_0) / self.axis_ratio)**2)\n",
    "        \n",
    "        '''\n",
    "        fig, axes = new_figure('kk', ncols=2)\n",
    "        ax = axes[0, 0]\n",
    "        im = ax.imshow(r_0, origin='lower', interpolation='nearest', cmap='nipy_spectral')\n",
    "        plt.colorbar(im, shrink=.75)\n",
    "        ax = axes[0, 1]\n",
    "        im = ax.imshow(theta_0, origin='lower', interpolation='nearest', cmap='hsv')\n",
    "        plt.colorbar(im, shrink=.75)\n",
    "        '''\n",
    "\n",
    "        \n",
    "    def plot(self, ax, radius, style='k--'):\n",
    "        theta = np.linspace(0, 2*np.pi, 361)\n",
    "        for a in np.atleast_1d(radius):\n",
    "            along_major_axis = a * np.cos(theta)\n",
    "            along_minor_axis = (a/self.axis_ratio) * np.sin(theta)\n",
    "            ra = self.x0 + along_major_axis * np.cos(self.position_angle + np.pi/2) + along_minor_axis *np.cos(self.position_angle + np.pi)\n",
    "            dec = self.y0 + along_major_axis * np.sin(self.position_angle + np.pi/2) + along_minor_axis *np.sin(self.position_angle + np.pi)\n",
    "            ax.plot(ra, dec, style)\n",
    "    \n",
    "    def get_profile(self, data, fig_name=None):\n",
    "        r_0_bins = np.arange(1 + np.sqrt(np.min(data.shape)/2))**2\n",
    "        r_0_mid = (r_0_bins[:-1] + r_0_bins[1:]) / 2\n",
    "        median_profile = np.empty(r_0_bins.size-1)\n",
    "        upper_profile = np.empty_like(median_profile)\n",
    "        lower_profile = np.empty_like(median_profile)\n",
    "        for i in range(r_0_bins.size-1):\n",
    "            r_inner = r_0_bins[i]\n",
    "            r_outer = r_0_bins[i+1]\n",
    "            try:\n",
    "                lower_profile[i], median_profile[i], upper_profile[i] = np.nanpercentile(\n",
    "                    data[(self.r_0 >= r_inner) & (self.r_0 <= r_outer)], [16, 50, 84])\n",
    "            except:\n",
    "                lower_profile[i], median_profile[i], upper_profile[i] = (np.nan, np.nan, np.nan)\n",
    "\n",
    "        if fig_name is not None:\n",
    "            fig, axes = new_figure(f'{fig_name}_profile', figsize=(16, 4), ncols=4, sharey=False, sharex=False,\n",
    "                                   gridspec_kw={'width_ratios': [1, 1, 1, 2]})\n",
    "            ax = axes[0, 0]\n",
    "            ax.set_title('data')\n",
    "            im = ax.imshow(data, origin='lower', interpolation='nearest', cmap='nipy_spectral', y=r, norm=colors.LogNorm())\n",
    "            cb = plt.colorbar(im, ax=ax, shrink=.5)\n",
    "            ax = axes[0, 1]\n",
    "            ax.set_title('model')\n",
    "            model = np.interp(self.r_0, r_0_mid, median_profile)\n",
    "            im = ax.imshow(model, origin='lower', interpolation='nearest', cmap='nipy_spectral', norm=colors.LogNorm())\n",
    "            cb = plt.colorbar(im, ax=ax, shrink=.5)\n",
    "            ax = axes[0, 2]\n",
    "            ax.set_title('residual')\n",
    "            residual = data-model\n",
    "            mad = np.nanmedian(np.fabs(residual))\n",
    "            im = ax.imshow(residual, origin='lower', interpolation='nearest', cmap='Spectral', norm=colors.Normalize(-5*mad, 5*mad))\n",
    "            cb = plt.colorbar(im, ax=ax, shrink=.5)\n",
    "            \n",
    "            ax = axes[0, 3]\n",
    "            ax.set_title('radial profile')\n",
    "            ax.plot(self.r_0.ravel(), data.ravel(), 'c.', alpha=.05)\n",
    "            ax.plot(r_0_mid, median_profile, 'r-+')\n",
    "            ax.fill_between(r_0_mid, lower_profile, upper_profile, color='k', alpha=.5)\n",
    "            #ax.set_ylim(-.1, .1)\n",
    "            ax.set_yscale('log')\n",
    "            fig.savefig(os.path.join(plots_dir, f\"{fig_name}_profile.png\"), facecolor='white')     \n",
    "            if not show_plots:\n",
    "                plt.close()\n",
    "        \n",
    "        return r_0_bins, median_profile, lower_profile, upper_profile\n",
    "\n",
    "#old_Ellipse(surface_density_map, 'kk')"
   ]
  },
  {
   "cell_type": "code",
   "execution_count": null,
   "id": "a2f92ed0-5760-4465-b6ed-51bc14e3dffb",
   "metadata": {},
   "outputs": [],
   "source": [
    "class Isophotes(object):\n",
    "    \n",
    "    def __init__(self, data, fig_name=None):\n",
    "        dx = data.shape[1] // 4\n",
    "        dy = data.shape[0] // 4\n",
    "        valid_data = np.where(data > 0, data, 0)\n",
    "        rms_data = np.sqrt(np.nanmean(valid_data[dy:3*dy, dx:3*dx]**2))\n",
    "        area = np.count_nonzero(valid_data[dy:3*dy, dx:3*dx] >= rms_data)\n",
    "        print(area, np.sqrt(area))\n",
    "        geometry = EllipseGeometry(x0=data.shape[1]/2, y0=data.shape[0]/2,\n",
    "                                   sma=np.sqrt(area), eps=1e-6, pa=0)\n",
    "        ellipse = Ellipse(valid_data, geometry, threshold=0)\n",
    "        self.isophote = ellipse.fit_isophote(sma=geometry.sma, nclip=3)\n",
    "        \n",
    "        x = np.arange(data.shape[1]) - self.isophote.x0\n",
    "        y = np.arange(data.shape[0]) - self.isophote.y0\n",
    "        r = np.sqrt((x**2)[np.newaxis, :] + (y**2)[:, np.newaxis])\n",
    "        r[r <= 0.] = 1e-6\n",
    "        theta = np.where(y[:, np.newaxis] >= 0, np.arccos(x[np.newaxis, :]/r), 2*np.pi - np.arccos(x[np.newaxis, :]/r))\n",
    "        theta -= self.isophote.pa\n",
    "        theta[theta < 0] += 2*np.pi\n",
    "        self.r_0 = r * np.sqrt(np.cos(theta)**2 + (np.sin(theta) / (1 - self.isophote.eps))**2)\n",
    "\n",
    "    \n",
    "    def get_profile(self, data, fig_name=None):\n",
    "        r_0_bins = np.arange(1, 1 + np.sqrt(np.min(data.shape)/2))**2\n",
    "        r_0_mid = (r_0_bins[:-1] + r_0_bins[1:]) / 2\n",
    "        median_profile = np.empty(r_0_bins.size-1)\n",
    "        upper_profile = np.empty_like(median_profile)\n",
    "        lower_profile = np.empty_like(median_profile)\n",
    "        #self.r_0 = np.zeros_like(data)\n",
    "        for i in range(r_0_bins.size-1):\n",
    "            r_inner = r_0_bins[i]\n",
    "            r_outer = r_0_bins[i+1]\n",
    "            aper = EllipticalAnnulus((self.isophote.x0, self.isophote.y0),\n",
    "                                     r_inner, r_outer,\n",
    "                                     r_outer * (1 - self.isophote.eps),\n",
    "                                     theta=self.isophote.pa)\n",
    "            mask = aper.to_mask(method='center').to_image(data.shape)\n",
    "            try:\n",
    "                lower_profile[i], median_profile[i], upper_profile[i] = np.nanpercentile(data[mask > 0], [16, 50, 84])\n",
    "            except:\n",
    "                lower_profile[i], median_profile[i], upper_profile[i] = (np.nan, np.nan, np.nan)\n",
    "\n",
    "        if fig_name is not None:\n",
    "            fig, axes = new_figure(f'{fig_name}_profile', figsize=(16, 4), ncols=4, sharey=False, sharex=False,\n",
    "                                   gridspec_kw={'width_ratios': [1, 1, 1, 2]})\n",
    "            ax = axes[0, 0]\n",
    "            ax.set_title('data')\n",
    "            im = ax.imshow(data, origin='lower', interpolation='nearest', cmap='nipy_spectral', norm=colors.LogNorm())\n",
    "            cb = plt.colorbar(im, ax=ax, shrink=.5)\n",
    "            \n",
    "            ax = axes[0, 1]\n",
    "            ax.set_title('model')\n",
    "            model = np.interp(self.r_0, r_0_mid, median_profile)\n",
    "            im = ax.imshow(model, origin='lower', interpolation='nearest', cmap='nipy_spectral', norm=im.norm)\n",
    "            cb = plt.colorbar(im, ax=ax, shrink=.5)\n",
    "            for i in range(r_0_bins.size-1):\n",
    "                r_inner = r_0_bins[i]\n",
    "                r_outer = r_0_bins[i+1]\n",
    "                aper = EllipticalAnnulus((self.isophote.x0, self.isophote.y0),\n",
    "                                         r_inner, r_outer,\n",
    "                                         r_outer * (1 - self.isophote.eps),\n",
    "                                         theta=self.isophote.pa)\n",
    "                aper.plot(color='white', axes=ax)\n",
    "            \n",
    "            ax = axes[0, 2]\n",
    "            ax.set_title('residual')\n",
    "            residual = data-model\n",
    "            mad = np.nanmedian(np.fabs(residual))\n",
    "            im = ax.imshow(residual, origin='lower', interpolation='nearest', cmap='Spectral', norm=colors.Normalize(-5*mad, 5*mad))\n",
    "            cb = plt.colorbar(im, ax=ax, shrink=.5)\n",
    "            \n",
    "            ax = axes[0, 3]\n",
    "            ax.set_title('radial profile')\n",
    "            ax.plot(self.r_0.ravel(), data.ravel(), 'c.', alpha=.05)\n",
    "            ax.plot(r_0_mid, median_profile, 'r-+')\n",
    "            ax.fill_between(r_0_mid, lower_profile, upper_profile, color='k', alpha=.5)\n",
    "            #ax.set_ylim(-.1, .1)\n",
    "            ax.set_yscale('log')\n",
    "            fig.savefig(os.path.join(plots_dir, f\"{fig_name}_profile.png\"), facecolor='white')     \n",
    "            if not show_plots:\n",
    "                plt.close()\n",
    "        \n",
    "        return r_0_bins, median_profile, lower_profile, upper_profile"
   ]
  }
 ],
 "metadata": {
  "kernelspec": {
   "display_name": "Python 3 (ipykernel)",
   "language": "python",
   "name": "python3"
  },
  "language_info": {
   "codemirror_mode": {
    "name": "ipython",
    "version": 3
   },
   "file_extension": ".py",
   "mimetype": "text/x-python",
   "name": "python",
   "nbconvert_exporter": "python",
   "pygments_lexer": "ipython3",
   "version": "3.8.10"
  }
 },
 "nbformat": 4,
 "nbformat_minor": 5
}
