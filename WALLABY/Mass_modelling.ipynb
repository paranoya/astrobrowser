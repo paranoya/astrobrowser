{
 "cells": [
  {
   "cell_type": "markdown",
   "id": "2cc06681-73a0-4f6d-b7a4-0ee71e3eaa84",
   "metadata": {},
   "source": [
    "# Mass modelling\n",
    "\n",
    "Read stellar surface density profiles and fit:\n",
    "- the angular diameter distance $D_A$\n",
    "- the parameters of the dark matter halo"
   ]
  },
  {
   "cell_type": "markdown",
   "id": "41ed600e-fa52-4ba8-8cf1-ca38e9edf1e8",
   "metadata": {},
   "source": [
    "# 1. Initialisation"
   ]
  },
  {
   "cell_type": "markdown",
   "id": "e1a0c2fc-41ee-468c-aa65-d8a5c988a893",
   "metadata": {},
   "source": [
    "External libraries"
   ]
  },
  {
   "cell_type": "code",
   "execution_count": null,
   "id": "61292891-5bd2-4ff5-96a7-0b8607b89eb3",
   "metadata": {},
   "outputs": [],
   "source": [
    "#%matplotlib ipympl\n",
    "import os\n",
    "import glob\n",
    "import numpy as np\n",
    "from matplotlib import pyplot as plt\n",
    "from matplotlib import colors\n",
    "from matplotlib.ticker import AutoMinorLocator\n",
    "from astropy.table import QTable\n",
    "from astropy import units as u\n",
    "from astropy import constants as c"
   ]
  },
  {
   "cell_type": "code",
   "execution_count": null,
   "id": "a3478502-66cf-459f-bf54-03a86d753428",
   "metadata": {},
   "outputs": [],
   "source": [
    "#%load_ext autoreload\n",
    "#%autoreload 2"
   ]
  },
  {
   "cell_type": "code",
   "execution_count": null,
   "id": "1a79a9b3-8073-4a9b-a708-a50d982161e7",
   "metadata": {},
   "outputs": [],
   "source": [
    "def new_figure(fig_name, figsize=(12, 8), nrows=1, ncols=1, sharex='col', sharey='row', gridspec_kw={'hspace': 0, 'wspace': 0}, suptitle=True):\n",
    "    plt.close(fig_name)\n",
    "    fig = plt.figure(fig_name, figsize=figsize, layout=\"constrained\")\n",
    "    axes = fig.subplots(nrows=nrows, ncols=ncols, squeeze=False,\n",
    "                        sharex=sharex, sharey=sharey,\n",
    "                        gridspec_kw=gridspec_kw\n",
    "                       )\n",
    "    #fig.set_tight_layout(True)\n",
    "    for ax in axes.flat:\n",
    "        ax.xaxis.set_minor_locator(AutoMinorLocator())\n",
    "        ax.yaxis.set_minor_locator(AutoMinorLocator())\n",
    "        ax.tick_params(which='both', bottom=True, top=True, left=True, right=True)\n",
    "        ax.tick_params(which='major', direction='inout', length=8, grid_alpha=.3)\n",
    "        ax.tick_params(which='minor', direction='in', length=2, grid_alpha=.1)\n",
    "        ax.grid(True, which='both')\n",
    "\n",
    "    if suptitle is True:\n",
    "        fig.suptitle(fig_name)\n",
    "    elif suptitle is not False and suptitle is not None:\n",
    "        fig.suptitle(suptitle)\n",
    "    \n",
    "    return fig, axes"
   ]
  },
  {
   "cell_type": "markdown",
   "id": "9ecaa2af-8391-4238-9a3a-c393567c0b83",
   "metadata": {},
   "source": [
    "## Directories"
   ]
  },
  {
   "cell_type": "code",
   "execution_count": null,
   "id": "c3663f56-74e8-49ad-a50b-9f7cec465a3b",
   "metadata": {},
   "outputs": [],
   "source": [
    "def test_dir(dir_name):\n",
    "    if not os.path.isdir(dir_name):\n",
    "        print(f'>> WARNING: Creating directory \"{dir_name}\"')\n",
    "        os.makedirs(dir_name)\n",
    "    return(dir_name)"
   ]
  },
  {
   "cell_type": "code",
   "execution_count": null,
   "id": "cebb84f6-4696-4791-91ff-abfce7fd0310",
   "metadata": {},
   "outputs": [],
   "source": [
    "input_dir = '.'\n",
    "output_dir = test_dir('output')\n",
    "maps_dir = test_dir(os.path.join(output_dir, 'maps'))\n",
    "plots_dir = test_dir(os.path.join(output_dir, 'plots'))\n",
    "profiles_dir = test_dir(os.path.join(output_dir, 'profiles'))\n",
    "params_dir = test_dir(os.path.join(output_dir, 'parameters'))"
   ]
  },
  {
   "cell_type": "markdown",
   "id": "5cb34410-067a-4475-814f-133b3eb485ec",
   "metadata": {},
   "source": [
    "# 2. Comparison to WALLABY"
   ]
  },
  {
   "cell_type": "markdown",
   "id": "40d8d9f7-b2e7-443b-956a-fe1e2a0aa712",
   "metadata": {},
   "source": [
    "## WALLABY catalogue"
   ]
  },
  {
   "cell_type": "code",
   "execution_count": null,
   "id": "dafeedcc-b28e-4c9c-b1c2-32c3045c0b7c",
   "metadata": {},
   "outputs": [],
   "source": [
    "WALLABY_catalogue = QTable.read('AS102_Derived_Catalogue_wallaby_pilot_dr1_kinmodel_cat_v01_5844.csv')"
   ]
  },
  {
   "cell_type": "code",
   "execution_count": null,
   "id": "89cc3f0b-1888-47f3-8cd2-c44f49192fda",
   "metadata": {},
   "outputs": [],
   "source": [
    "WALLABY_catalogue"
   ]
  },
  {
   "cell_type": "code",
   "execution_count": null,
   "id": "7a2f4018-877c-475f-9245-f6b3c6aa01ae",
   "metadata": {},
   "outputs": [],
   "source": [
    "H0 = 72\n",
    "\n",
    "for profiles_filename in glob.glob(os.path.join(profiles_dir, \"*\"))[:2]:\n",
    "    target_name = os.path.basename(profiles_filename).split('_')[0]\n",
    "    print(target_name)\n",
    "\n",
    "    # WALLABY\n",
    "    wallaby_row = WALLABY_catalogue[WALLABY_catalogue['name'] == target_name][0]\n",
    "    wallaby_theta = np.array(wallaby_row['rad'].split(','), dtype=float) << u.arcsec\n",
    "    wallaby_vrot = np.array(wallaby_row['vrot_model'].split(','), dtype=float) << u.km/u.s\n",
    "    wallaby_distance = wallaby_row['vsys_model'] / H0 << u.Mpc\n",
    "    reference_distance = u.Mpc\n",
    "    \n",
    "    # radial density profile\n",
    "    if not os.path.isfile(profiles_filename):\n",
    "        continue\n",
    "    profiles_table = QTable.read(profiles_filename)\n",
    "    theta = profiles_table['theta'] << u.arcsec\n",
    "    surface_density = profiles_table['median'] << u.Msun/u.pc**2\n",
    "    radius = np.sin(theta) * reference_distance\n",
    "\n",
    "    # inclination\n",
    "    params_filename = os.path.join(params_dir, f\"{target_name}_params.csv\")\n",
    "    if not os.path.isfile(params_filename):\n",
    "        continue\n",
    "    ra, dec, inclination, pa = np.loadtxt(params_filename)\n",
    "    if np.isnan(inclination):\n",
    "        continue\n",
    "    inclination *= u.deg\n",
    "    surface_density *= np.cos(inclination)\n",
    "\n",
    "    # encosed mass and rotation curve\n",
    "    theta_bins = np.linspace(0, theta[-1], 100)\n",
    "    theta_mid = (theta_bins[1:] +  theta_bins[:-1]) / 2\n",
    "    radius_bins = np.sin(theta_bins) * reference_distance\n",
    "    theta_bins = theta_bins[1:]\n",
    "    bin_area = np.pi * (radius_bins[1:]**2 - radius_bins[:-1]**2)\n",
    "    mass = np.cumsum(bin_area * np.interp(\n",
    "        theta_mid.value, theta.value, surface_density.value, left=surface_density[0].value))\n",
    "    mass = (mass*surface_density.unit).to(u.Msun)\n",
    "    vrot = np.sqrt(c.G*mass/radius_bins[1:]).to(u.km/u.s)\n",
    "    vrot_model = np.interp(wallaby_theta, theta_bins, vrot)\n",
    "    max_disk_factor = np.nanmin(wallaby_vrot / vrot_model)\n",
    "    max_disk = vrot_model * max_disk_factor\n",
    "    stars_model = vrot_model**2\n",
    "    \n",
    "    # dark matter\n",
    "    wallaby_dm = np.sqrt(wallaby_vrot**2 - max_disk**2)\n",
    "    wallaby_vmax_index = np.nanargmax(wallaby_dm)\n",
    "    wallaby_thetamax = wallaby_theta[wallaby_vmax_index]\n",
    "    wallaby_dm_max = wallaby_dm[wallaby_vmax_index]\n",
    "    hernquist_model_x = wallaby_theta / wallaby_thetamax\n",
    "    hernquist_model = ((2 * np.sqrt(hernquist_model_x) / (1 + hernquist_model_x)) * u.km/u.s)**2\n",
    "    hernquist_x = theta_bins / wallaby_thetamax\n",
    "    hernquist_vrot = (2 * np.sqrt(hernquist_x) / (1 + hernquist_x)) * u.km/u.s\n",
    "\n",
    "    # model fitting\n",
    "    hh = np.nansum(hernquist_model**2)\n",
    "    hs = np.nansum(hernquist_model * stars_model)\n",
    "    ss = np.nansum(stars_model**2)\n",
    "    wh = np.nansum(wallaby_vrot**2 * hernquist_model)\n",
    "    ws = np.nansum(wallaby_vrot**2 * stars_model)\n",
    "    denominator = hh*ss - hs*hs\n",
    "    hernquist_factor = (wh*ss - ws*hs) / denominator\n",
    "    stars_factor = (ws*hh - wh*hs) / denominator\n",
    "\n",
    "    # individual figures\n",
    "    fig_name = f'{target_name}_Vrot'\n",
    "    fig, axes = new_figure(fig_name)\n",
    "    ax = axes[0, 0]\n",
    "\n",
    "    '''\n",
    "    ax.plot(wallaby_theta, wallaby_vrot**2, 'ks', label=f'WALLABY ({wallaby_distance:.2f})')\n",
    "    ax.plot(wallaby_theta, wallaby_dm**2, 'k+', label=f'WALLABY ({wallaby_distance:.2f})')\n",
    "    ax.plot(wallaby_theta, max_disk**2, 'k--', label=f'stars ({max_disk_factor**2:.2f})')\n",
    "    ax.plot(wallaby_theta, wallaby_dm_max**2 * hernquist_model, 'k:', label=f'DM ({hernquist_factor:.2f})')\n",
    "    ax.plot(theta_bins, wallaby_dm_max**2 * hernquist_vrot**2, 'k:', label=f'DM ({hernquist_factor:.2f})')\n",
    "    ax.plot(theta_bins, max_disk_factor**2 * vrot**2, 'k--', label=f'stars ({max_disk_factor**2:.2f})')\n",
    "    #ax.plot(wallaby_theta, (hernquist_vrot*hernquist_factor)**2 + (vrot*vrot_factor)**2), 'k-', label=f'total ($\\\\chi^2 = ...)')\n",
    "    ax.axhline(wallaby_dm_max.value**2/2)\n",
    "    '''\n",
    "    '''\n",
    "    #ax.plot(theta_bins, vrot, 'k--', label=f'Stars (i={inclination:.2f})')\n",
    "    ax.plot(wallaby_theta, wallaby_vrot, 'k+', label=f'WALLABY ({wallaby_distance:.2f})')\n",
    "    ax.plot(wallaby_thetamax, wallaby_vrot[wallaby_vmax_index], 'ko')\n",
    "    ax.plot(theta_bins, vrot*max_disk_factor, 'k--', alpha=.2, label=f'maximum disk ({max_disk_factor**2:.2f} Mpc)')\n",
    "    ax.plot(theta_bins, vrot*vrot_factor, 'k--', label=f'best fit ({vrot_factor**2:.2f} Mpc)')\n",
    "    ax.plot(theta_bins, hernquist_vrot*hernquist_factor, 'k:', label=f'DM halo ({hernquist_factor:.2f} km/s)')\n",
    "    ax.plot(theta_bins, np.sqrt((hernquist_vrot*hernquist_factor)**2 + (vrot*vrot_factor)**2), 'k-', label=f'total ($\\\\chi^2 = ...)')\n",
    "    '''\n",
    "\n",
    "    #ax.set_ylabel(r'surface density $\\Sigma$ [M$_\\odot$/pc$^2$]')\n",
    "    #ax.set_ylim(.03, 3e4)\n",
    "    #ax.set_ylim(5, 500)\n",
    "    ax.set_yscale('log')\n",
    "    ax.legend()\n",
    "    \n",
    "    ax.set_xlabel(r'galactocentric distance $\\theta$ [arcsec]')\n",
    "    #ax.set_xlim(0, theta[2].value)\n",
    "\n",
    "    fig.savefig(os.path.join(plots_dir, f\"{fig_name}.png\"), facecolor='white')\n",
    "    #plt.close('all')\n"
   ]
  },
  {
   "cell_type": "code",
   "execution_count": null,
   "id": "ac356009-5022-4f1b-84a0-d7a5a3676043",
   "metadata": {},
   "outputs": [],
   "source": [
    "wallaby_dm_max**2/2"
   ]
  },
  {
   "cell_type": "markdown",
   "id": "a9500297-9949-4683-8232-c8f8bcf0fc27",
   "metadata": {},
   "source": [
    "# --- STOP"
   ]
  },
  {
   "cell_type": "code",
   "execution_count": null,
   "id": "a0261dcf-edb0-4a7b-8109-ae5e0c551a77",
   "metadata": {},
   "outputs": [],
   "source": [
    "raise BaseException(\"stop here\")"
   ]
  },
  {
   "cell_type": "markdown",
   "id": "994b0171-5140-4c24-befb-60bc51a57692",
   "metadata": {},
   "source": [
    "# 3. Comparison to SPARC"
   ]
  },
  {
   "cell_type": "code",
   "execution_count": null,
   "id": "2a6861bc-ee38-4c7e-b8f0-2c8889c42ab0",
   "metadata": {},
   "outputs": [],
   "source": [
    "for galaxy in SPARC_catalogue[:]:\n",
    "    # individual figures\n",
    "    fig_name = f'{galaxy[\"Galaxy\"]}_SPARC'\n",
    "    fig, axes = new_figure(fig_name)\n",
    "    ax = axes[0, 0]\n",
    "\n",
    "    ax.plot(theta, surface_density, 'k-+', label=f'This work (i={inclination:.2f})')\n",
    "    ax.plot(SPARC_theta, SPARC_stars, 'k:.', label=f'SPARC (i={median_i:.2f}, $\\\\Upsilon_{{bulge}}\\sim${median_bul:.2f}, $\\\\Upsilon_{{disk}}\\sim${median_disk:.2f})')\n",
    "    ax.fill_between(comparison_theta.to_value(u.arcsec),\n",
    "                   np.fmin(comparison_SPARC, comparison_us).to_value(u.Msun/u.pc**2),\n",
    "                   np.fmax(comparison_SPARC, comparison_us).to_value(u.Msun/u.pc**2),\n",
    "                   color='red', alpha=.2)\n",
    "    ax.legend(title=f'{galaxy[\"Galaxy\"]} (D={median_D:.2f})')\n",
    "    ax.set_yscale('log')\n",
    "    \n",
    "    fig.savefig(os.path.join(plots_dir, f\"{fig_name}.png\"), facecolor='white')\n",
    "    if not show_plots:\n",
    "        plt.close(fig_name)"
   ]
  },
  {
   "cell_type": "code",
   "execution_count": null,
   "id": "4b1536e8-7913-460b-91e7-1fd6032491d7",
   "metadata": {},
   "outputs": [],
   "source": [
    "x = (p50/comparison_surface_density_SPARC)[comparison_surface_density_SPARC > 10]\n",
    "x, np.nanmean(x), np.nanstd(x), np.log10(np.nanmean(x)), np.nanmean(np.log10(p84/p16)[comparison_surface_density_SPARC > 10]/2)"
   ]
  },
  {
   "cell_type": "code",
   "execution_count": null,
   "id": "a7a66b67-84f9-47dd-8ea5-27744f817d86",
   "metadata": {},
   "outputs": [],
   "source": [
    "print(galaxy)\n",
    "bins = np.where(SPARC_models['ID'] == galaxy['Galaxy'])\n",
    "SPARC_models[bins]"
   ]
  },
  {
   "cell_type": "code",
   "execution_count": null,
   "id": "27eead72-eca6-40b1-b69c-fd34ac0801ae",
   "metadata": {},
   "outputs": [],
   "source": [
    "SPARC_theta"
   ]
  },
  {
   "cell_type": "code",
   "execution_count": null,
   "id": "45db4f37-375d-4092-957f-d50de20d0fb5",
   "metadata": {},
   "outputs": [],
   "source": [
    "SPARC_stars"
   ]
  },
  {
   "cell_type": "code",
   "execution_count": null,
   "id": "03823181-42be-44c3-b94d-863ec6f6e3ef",
   "metadata": {},
   "outputs": [],
   "source": [
    "comparison_theta"
   ]
  },
  {
   "cell_type": "code",
   "execution_count": null,
   "id": "966cf5c3-6ef6-41cb-99c6-554d570d72e1",
   "metadata": {},
   "outputs": [],
   "source": [
    "theta[:np.argmin(surface_density[1:])]"
   ]
  },
  {
   "cell_type": "markdown",
   "id": "38e0d8cf-6f72-4b76-bf00-083e30c302a4",
   "metadata": {},
   "source": [
    "## Mass model"
   ]
  },
  {
   "cell_type": "code",
   "execution_count": null,
   "id": "b00e81c9-f7d8-4f60-9f69-58dd4cf42a8d",
   "metadata": {},
   "outputs": [],
   "source": [
    "for galaxy in SPARC_catalogue[100:101]:\n",
    "    if np.ma.is_masked(galaxy['Galaxy']):\n",
    "        continue\n",
    "\n",
    "    params_filename = os.path.join(params_dir, f\"{galaxy['Galaxy']}_params.csv\")\n",
    "    if not os.path.isfile(params_filename):\n",
    "        continue\n",
    "    ra, dec, inclination, pa = np.loadtxt(params_filename)\n",
    "    inclination *= u.deg\n",
    "    \n",
    "    profiles_filename = os.path.join(profiles_dir, f\"{galaxy['Galaxy']}_surface_density.csv\")\n",
    "    if not os.path.isfile(profiles_filename):\n",
    "        continue\n",
    "    \n",
    "    profiles_table = QTable.read(profiles_filename)\n",
    "    theta = profiles_table['theta'] << u.arcsec\n",
    "    surface_density = profiles_table['median'] << u.Msun/u.pc**2\n",
    "    surface_density *= np.cos(inclination)\n",
    " \n",
    "    # Mean surface density\n",
    "    theta_bins = np.geomspace(theta[0]/2, theta[-1]*2, theta.size*10)\n",
    "    theta_mid = (theta_bins[1:] + theta_bins[:-1]) / 2\n",
    "    bin_area = np.pi * (theta_bins[1:]**2 - theta_bins[:-1]**2)\n",
    "    bin_area[0] = np.pi * theta_bins[1]**2\n",
    "    mean_surface_density = np.cumsum(bin_area * np.interp(theta_mid, theta, surface_density, right=0))\n",
    "    mean_surface_density /= np.pi * theta_bins[1:]**2\n",
    "                                     \n",
    "    bins = np.where(SPARC_models['ID'] == galaxy['Galaxy'])\n",
    "    SPARC_D = SPARC_models[bins]['D'][0]\n",
    "    SPARC_R = SPARC_models[bins]['R']\n",
    "    SPARC_theta = ((SPARC_models[bins]['R'] / SPARC_D).to_value(u.dimensionless_unscaled) << u.radian).to(u.arcsec)\n",
    "    SPARC_obs = (SPARC_models[bins]['Vobs']**2 / SPARC_R / np.pi/c.G).to(u.Msun/u.pc**2)\n",
    "    SPARC_gas = (SPARC_models[bins]['Vgas']**2 / SPARC_R / np.pi/c.G).to(u.Msun/u.pc**2)\n",
    "    #SPARC_bul = (SPARC_models[bins]['Vbul']**2 / SPARC_R / np.pi/c.G).to(u.Msun/u.pc**2)\n",
    "    #SPARC_disk = (SPARC_models[bins]['Vdisk']**2 / SPARC_R / np.pi/c.G).to(u.Msun/u.pc**2)\n",
    "\n",
    "    mass_to_light_disk, mass_to_light_bul, SPARC_fit_D, SPARC_fit_inclination = np.loadtxt(\n",
    "        os.path.join(input_dir, 'model_fits', 'ByGalaxy', 'Table', f'{galaxy[\"Galaxy\"]}.mrt'),\n",
    "        usecols=(1, 3, 5, 7), unpack=True)\n",
    "    '''\n",
    "    print('disk', np.nanpercentile(mass_to_light_disk, [16, 50, 84]))\n",
    "    print('bul', np.nanpercentile(mass_to_light_bul, [16, 50, 84]))\n",
    "    print('D', np.nanpercentile(SPARC_fit_D, [16, 50, 84]))\n",
    "    print('i', np.nanpercentile(SPARC_fit_inclination, [16, 50, 84]))\n",
    "    '''\n",
    "    median_bul = np.nanmedian(mass_to_light_bul)\n",
    "    median_disk = np.nanmedian(mass_to_light_disk)\n",
    "    median_D = np.nanmedian(SPARC_fit_D)\n",
    "    median_i = np.nanmedian(SPARC_fit_inclination)\n",
    "    distance_rescaling = np.sqrt(median_D / SPARC_D)\n",
    "    SPARC_bul = SPARC_models[bins]['SBbul'] * median_bul*u.Msun/u.Lsun * distance_rescaling\n",
    "    SPARC_disk = SPARC_models[bins]['SBdisk'] * median_disk*u.Msun/u.Lsun * distance_rescaling\n",
    "    #SPARC_stars = (median_bul*SPARC_bul + median_disk*SPARC_disk) * distance_rescaling\n",
    "    SPARC_stars = SPARC_bul + SPARC_disk\n",
    "    \n",
    "    fig_name = f'{galaxy[\"Galaxy\"]}_mass_model'\n",
    "    fig, axes = new_figure(fig_name)\n",
    "    ax = axes[0, 0]\n",
    "\n",
    "    ax.plot(theta, surface_density, 'k-+', label=f'This work (i={inclination:.2f})')\n",
    "    ax.plot(SPARC_theta, SPARC_stars, 'k:.', label=f'SPARC (i={median_i:.2f}, $\\\\Upsilon_{{bulge}}\\sim${median_bul:.2f}, $\\\\Upsilon_{{disk}}\\sim${median_disk:.2f})')\n",
    "    '''\n",
    "    ax.plot(theta, surface_density, 'k-+', label=f'$\\\\Sigma_\\\\star$ (i={inclination:.2f})')\n",
    "    #ax.plot(theta_mid, mean_surface_density, 'k-', label=f'$\\\\bar\\\\Sigma_\\\\star$')\n",
    "    #ax.plot(SPARC_theta, SPARC_obs*distance_rescaling, 'bo', label=f'SPARC $V^2/\\pi GR$ (D={median_D:.2f})')\n",
    "    ax.plot(SPARC_theta, SPARC_stars, 'b--', label=f'SPARC $\\\\bar\\\\Sigma_\\\\star$ (i={median_i:.2f})')\n",
    "    ax.plot(SPARC_theta, SPARC_bul, 'r:', alpha=.5, label=f'$\\\\Upsilon_{{bulge}}\\sim${median_bul:.2f}')\n",
    "    ax.plot(SPARC_theta, SPARC_disk, 'b:', alpha=.5, label=f'$\\\\Upsilon_{{disk}}\\sim${median_disk:.2f}')\n",
    "    #ax.plot(SPARC_theta, median_bul*SPARC_bul*distance_rescaling, 'r:', alpha=.5, label=f'$\\\\Upsilon_{{bulge}}\\sim${median_bul:.2f}')\n",
    "    #ax.plot(SPARC_theta, median_disk*SPARC_disk*distance_rescaling, 'b:', alpha=.5, label=f'$\\\\Upsilon_{{disk}}\\sim${median_disk:.2f}')\n",
    "    #ax.plot(SPARC_theta, SPARC_gas*distance_rescaling, 'c--', alpha=.5, label='gas')\n",
    "    ax.plot(SPARC_theta, SPARC_stars/distance_rescaling, 'b--', alpha=.2, label=f'SPARC fiducial D={SPARC_D:.2f}')\n",
    "    '''\n",
    "\n",
    "    ax.legend(title=f'{galaxy[\"Galaxy\"]} (D={median_D:.2f} Mpc)')\n",
    "    ax.set_yscale('log')\n",
    "    ax.set_ylabel(r'surface density $\\Sigma$ [M$_\\odot$/pc$^2$]')\n",
    "    ax.set_xlabel(r'galactocentric distance $\\theta$ [arcsec]')\n",
    "    \n",
    "    fig.savefig(os.path.join(plots_dir, f\"{fig_name}.png\"), facecolor='white')\n",
    "    if not show_plots:\n",
    "        plt.close('all')\n"
   ]
  },
  {
   "cell_type": "code",
   "execution_count": null,
   "id": "8964ca88-a623-47e2-acf5-6e96c7987bf9",
   "metadata": {},
   "outputs": [],
   "source": []
  },
  {
   "cell_type": "code",
   "execution_count": null,
   "id": "00e531bd-b454-4c34-81f6-8c1cd6ba8595",
   "metadata": {},
   "outputs": [],
   "source": []
  }
 ],
 "metadata": {
  "kernelspec": {
   "display_name": "astrobrowser",
   "language": "python",
   "name": "astrobrowser"
  },
  "language_info": {
   "codemirror_mode": {
    "name": "ipython",
    "version": 3
   },
   "file_extension": ".py",
   "mimetype": "text/x-python",
   "name": "python",
   "nbconvert_exporter": "python",
   "pygments_lexer": "ipython3",
   "version": "3.12.11"
  }
 },
 "nbformat": 4,
 "nbformat_minor": 5
}
