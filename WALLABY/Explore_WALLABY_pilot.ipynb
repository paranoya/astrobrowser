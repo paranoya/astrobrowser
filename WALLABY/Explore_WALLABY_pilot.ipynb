{
 "cells": [
  {
   "cell_type": "markdown",
   "id": "2cc06681-73a0-4f6d-b7a4-0ee71e3eaa84",
   "metadata": {},
   "source": [
    "# Explore WALLABY pilot\n",
    "\n",
    "Explore some HiPS maps (PanStaRRS, Legacy Surveys) available for the galaxies with kinematic modelling in the WALLABY pilot data"
   ]
  },
  {
   "cell_type": "markdown",
   "id": "41ed600e-fa52-4ba8-8cf1-ca38e9edf1e8",
   "metadata": {},
   "source": [
    "# 1. Initialisation"
   ]
  },
  {
   "cell_type": "code",
   "execution_count": null,
   "id": "61292891-5bd2-4ff5-96a7-0b8607b89eb3",
   "metadata": {},
   "outputs": [],
   "source": [
    "%matplotlib ipympl\n",
    "import numpy as np\n",
    "from astropy.coordinates import SkyCoord\n",
    "from astropy.wcs import WCS\n",
    "from astropy.table import Table\n",
    "from astropy import units as u\n",
    "import astrobrowser\n",
    "from photutils.aperture import SkyEllipticalAperture\n",
    "import importlib"
   ]
  },
  {
   "cell_type": "markdown",
   "id": "a496e0d3-55b5-467d-bc3b-992fbd0af11e",
   "metadata": {},
   "source": [
    "## Read input catalogue"
   ]
  },
  {
   "cell_type": "code",
   "execution_count": null,
   "id": "00b6a76f-f702-4163-b15e-3ff74c352a8e",
   "metadata": {},
   "outputs": [],
   "source": [
    "WALLABY_catalogue = Table.read('AS102_Derived_Catalogue_wallaby_pilot_dr1_kinmodel_cat_v01_5844.csv')"
   ]
  },
  {
   "cell_type": "code",
   "execution_count": null,
   "id": "93999831-c2ea-4457-8830-47f8c25fd0bf",
   "metadata": {},
   "outputs": [],
   "source": [
    "WALLABY_catalogue"
   ]
  },
  {
   "cell_type": "code",
   "execution_count": null,
   "id": "6b5ec958-7483-40dd-ac83-3b8b55061596",
   "metadata": {},
   "outputs": [],
   "source": [
    "radius = []\n",
    "for radii in WALLABY_catalogue['rad']:\n",
    "    last_radius = float(radii.split(',')[-1])\n",
    "    radius.append(2*last_radius)"
   ]
  },
  {
   "cell_type": "code",
   "execution_count": null,
   "id": "9de6cba1-66cd-4d39-adb6-1ff66dd365b9",
   "metadata": {},
   "outputs": [],
   "source": [
    "catalogue = Table([WALLABY_catalogue['name'],\n",
    "                   WALLABY_catalogue['ra_model'],\n",
    "                   WALLABY_catalogue['dec_model'],\n",
    "                   radius,\n",
    "                   np.ones(len(radius))\n",
    "                  ], names=['ID', 'RA', 'DEC', 'RADIUS_ARCSEC', 'PIXEL_SIZE_ARCSEC'])"
   ]
  },
  {
   "cell_type": "code",
   "execution_count": null,
   "id": "6048648f-4b79-40a2-89e9-d4677caf4df1",
   "metadata": {},
   "outputs": [],
   "source": [
    "catalogue"
   ]
  },
  {
   "cell_type": "markdown",
   "id": "8096a7ad-38c3-451c-be6e-00bfc112351e",
   "metadata": {},
   "source": [
    "# 2. Explore available skymaps"
   ]
  },
  {
   "cell_type": "markdown",
   "id": "95d2a9ac-2395-40a1-af0d-dc9fec79b185",
   "metadata": {},
   "source": [
    "Select the maps for this galaxy:"
   ]
  },
  {
   "cell_type": "code",
   "execution_count": null,
   "id": "51af4748-4fbd-4d77-b2b9-5026f7a58b30",
   "metadata": {},
   "outputs": [],
   "source": [
    "#importlib.reload(astrobrowser)"
   ]
  },
  {
   "cell_type": "code",
   "execution_count": null,
   "id": "026a4310-d2d1-424e-a182-9f362ab80419",
   "metadata": {},
   "outputs": [],
   "source": [
    "#x = astrobrowser.DataExplorer(catalogue, 'CDS/P/PanSTARRS/DR1/r')"
   ]
  },
  {
   "cell_type": "code",
   "execution_count": null,
   "id": "2e6f40dc-20ef-47a6-9138-3b8265aed30d",
   "metadata": {},
   "outputs": [],
   "source": [
    "x = astrobrowser.DataExplorer(catalogue, 'CDS/P/DESI-Legacy-Surveys/DR10/r')"
   ]
  },
  {
   "cell_type": "code",
   "execution_count": null,
   "id": "f659a935-b303-4aae-a5a1-037efcb22b68",
   "metadata": {},
   "outputs": [],
   "source": [
    "galaxy = WALLABY_catalogue[x.galaxy_index]\n",
    "position = SkyCoord(galaxy['ra_model'], galaxy['dec_model'], unit='deg', frame='icrs')\n",
    "cos_i = np.cos(galaxy['inc_model'] * u.deg)\n",
    "theta = -galaxy['pa_model'] * u.deg\n",
    "#print(galaxy['inc_model'], cos_i, theta)\n",
    "for radius in galaxy['rad'].split(','):\n",
    "    r = float(radius) * u.arcsec\n",
    "    aperture = SkyEllipticalAperture(position, a=r, b=r*cos_i, theta=theta)\n",
    "    pixel_aperture = aperture.to_pixel(x.wcs)\n",
    "    #pixel_aperture.positions = [np.array(x.data.shape) / 2]  # dirty fix\n",
    "    pixel_aperture.plot(x.ax1)"
   ]
  },
  {
   "cell_type": "code",
   "execution_count": null,
   "id": "ab05c9f6-068e-4ec5-aa06-4572d5e1f521",
   "metadata": {},
   "outputs": [],
   "source": [
    "pixel_aperture.positions, aperture.positions, x.data.shape"
   ]
  },
  {
   "cell_type": "code",
   "execution_count": null,
   "id": "fa6baa5e-1622-4e83-b333-f8901270e499",
   "metadata": {},
   "outputs": [],
   "source": [
    "ra, dec = np.array(x.data.shape) / 2\n",
    "print(ra, dec, x.wcs.pixel_to_world(ra, dec), x.wcs.world_to_pixel(position))"
   ]
  },
  {
   "cell_type": "code",
   "execution_count": null,
   "id": "2cb22773-27d1-4862-8a82-a1a37e3b6a83",
   "metadata": {},
   "outputs": [],
   "source": [
    "aperture, galaxy['ra_model'], galaxy['dec_model'], galaxy['dec']"
   ]
  },
  {
   "cell_type": "code",
   "execution_count": null,
   "id": "9a03068d-e80a-493a-a5eb-10e8756db485",
   "metadata": {},
   "outputs": [],
   "source": [
    "WALLABY_catalogue[25]"
   ]
  },
  {
   "cell_type": "code",
   "execution_count": null,
   "id": "e943bd19-6c7a-4ad4-9d60-464484d9970a",
   "metadata": {},
   "outputs": [],
   "source": []
  }
 ],
 "metadata": {
  "kernelspec": {
   "display_name": "astrobrowser",
   "language": "python",
   "name": "astrobrowser"
  },
  "language_info": {
   "codemirror_mode": {
    "name": "ipython",
    "version": 3
   },
   "file_extension": ".py",
   "mimetype": "text/x-python",
   "name": "python",
   "nbconvert_exporter": "python",
   "pygments_lexer": "ipython3",
   "version": "3.12.11"
  }
 },
 "nbformat": 4,
 "nbformat_minor": 5
}
